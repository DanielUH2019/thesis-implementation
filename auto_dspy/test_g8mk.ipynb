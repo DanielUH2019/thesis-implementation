{
 "cells": [
  {
   "cell_type": "code",
   "execution_count": 1,
   "metadata": {},
   "outputs": [
    {
     "name": "stderr",
     "output_type": "stream",
     "text": [
      "/tmp/ipykernel_1854946/1818627631.py:20: DeprecationWarning: pkg_resources is deprecated as an API. See https://setuptools.pypa.io/en/latest/pkg_resources.html\n",
      "  import pkg_resources # Install the package if it's not installed\n"
     ]
    }
   ],
   "source": [
    "%load_ext autoreload\n",
    "%autoreload 2\n",
    "\n",
    "import sys\n",
    "import os\n",
    "\n",
    "try: # When on google Colab, let's clone the notebook so we download the cache.\n",
    "    import google.colab\n",
    "    repo_path = 'dspy'\n",
    "    !git -C $repo_path pull origin || git clone https://github.com/stanfordnlp/dspy $repo_path\n",
    "except:\n",
    "    repo_path = '.'\n",
    "\n",
    "if repo_path not in sys.path:\n",
    "    sys.path.append(repo_path)\n",
    "\n",
    "# Set up the cache for this notebook\n",
    "os.environ[\"DSP_NOTEBOOK_CACHEDIR\"] = os.path.join(repo_path, 'cache')\n",
    "\n",
    "import pkg_resources # Install the package if it's not installed\n",
    "if not \"dspy-ai\" in {pkg.key for pkg in pkg_resources.working_set}:\n",
    "    !pip install -U pip\n",
    "    !pip install dspy-ai\n",
    "    # !pip install -e $repo_path\n",
    "\n",
    "import dspy"
   ]
  },
  {
   "cell_type": "code",
   "execution_count": 2,
   "metadata": {},
   "outputs": [
    {
     "data": {
      "application/vnd.jupyter.widget-view+json": {
       "model_id": "3ce3474bbf1d49b090a08b38ffdbf8df",
       "version_major": 2,
       "version_minor": 0
      },
      "text/plain": [
       "Downloading readme:   0%|          | 0.00/7.94k [00:00<?, ?B/s]"
      ]
     },
     "metadata": {},
     "output_type": "display_data"
    },
    {
     "name": "stderr",
     "output_type": "stream",
     "text": [
      "HF google storage unreachable. Downloading and preparing it from source\n"
     ]
    },
    {
     "data": {
      "application/vnd.jupyter.widget-view+json": {
       "model_id": "e1c583970c1f42a1889d3d63cb2a0ff9",
       "version_major": 2,
       "version_minor": 0
      },
      "text/plain": [
       "Downloading data files:   0%|          | 0/2 [00:00<?, ?it/s]"
      ]
     },
     "metadata": {},
     "output_type": "display_data"
    },
    {
     "data": {
      "application/vnd.jupyter.widget-view+json": {
       "model_id": "9388944beb7f44c697b7a2e0dfda6e34",
       "version_major": 2,
       "version_minor": 0
      },
      "text/plain": [
       "Downloading data:   0%|          | 0.00/2.31M [00:00<?, ?B/s]"
      ]
     },
     "metadata": {},
     "output_type": "display_data"
    },
    {
     "data": {
      "application/vnd.jupyter.widget-view+json": {
       "model_id": "3675b3d85aa345d9bb0ab85c6bfcf9fe",
       "version_major": 2,
       "version_minor": 0
      },
      "text/plain": [
       "Downloading data:   0%|          | 0.00/419k [00:00<?, ?B/s]"
      ]
     },
     "metadata": {},
     "output_type": "display_data"
    },
    {
     "data": {
      "application/vnd.jupyter.widget-view+json": {
       "model_id": "bdab5ef5dc8442979c983a81cd3871bd",
       "version_major": 2,
       "version_minor": 0
      },
      "text/plain": [
       "Extracting data files:   0%|          | 0/2 [00:00<?, ?it/s]"
      ]
     },
     "metadata": {},
     "output_type": "display_data"
    },
    {
     "data": {
      "application/vnd.jupyter.widget-view+json": {
       "model_id": "0a560a22d0604001a7117fbffb9e54b9",
       "version_major": 2,
       "version_minor": 0
      },
      "text/plain": [
       "Generating train split:   0%|          | 0/7473 [00:00<?, ? examples/s]"
      ]
     },
     "metadata": {},
     "output_type": "display_data"
    },
    {
     "data": {
      "application/vnd.jupyter.widget-view+json": {
       "model_id": "23fb6a4d82c840139dcfab580afdde71",
       "version_major": 2,
       "version_minor": 0
      },
      "text/plain": [
       "Generating test split:   0%|          | 0/1319 [00:00<?, ? examples/s]"
      ]
     },
     "metadata": {},
     "output_type": "display_data"
    },
    {
     "name": "stderr",
     "output_type": "stream",
     "text": [
      "100%|██████████| 7473/7473 [00:00<00:00, 61054.26it/s]\n",
      "100%|██████████| 1319/1319 [00:00<00:00, 59789.76it/s]\n"
     ]
    }
   ],
   "source": [
    "from dspy.datasets.gsm8k import GSM8K\n",
    "\n",
    "gsm8k = GSM8K()\n",
    "gsm8k.train = gsm8k.train[:30]\n",
    "gsm8k.dev = gsm8k.dev[:25]\n",
    "example_descriptions = {'inputs': {'question': \"grade school math word problem\"}, 'outputs': {'answer': 'answer to a math problem'}}"
   ]
  },
  {
   "cell_type": "code",
   "execution_count": 3,
   "metadata": {},
   "outputs": [],
   "source": [
    "from dspy.evaluate.evaluate import Evaluate\n",
    "from dspy.datasets.gsm8k import gsm8k_metric\n",
    "\n",
    "# Set up the `evaluate_on_hotpotqa` function. We'll use this many times below.\n",
    "evaluate_on_gsm8k = Evaluate(devset=gsm8k.dev, num_threads=1, display_progress=True, display_table=10, metric=gsm8k_metric)\n",
    "\n",
    "# Evaluate the `compiled_rag` program with the `answer_exact_match` metric.\n",
    "metric = gsm8k_metric"
   ]
  },
  {
   "cell_type": "code",
   "execution_count": 4,
   "metadata": {},
   "outputs": [
    {
     "name": "stderr",
     "output_type": "stream",
     "text": [
      "llama_model_loader: loaded meta data with 20 key-value pairs and 291 tensors from openhermes-2.5-mistral-7b.Q4_K_M.gguf (version GGUF V3 (latest))\n",
      "llama_model_loader: Dumping metadata keys/values. Note: KV overrides do not apply in this output.\n",
      "llama_model_loader: - kv   0:                       general.architecture str              = llama\n",
      "llama_model_loader: - kv   1:                               general.name str              = teknium_openhermes-2.5-mistral-7b\n",
      "llama_model_loader: - kv   2:                       llama.context_length u32              = 32768\n",
      "llama_model_loader: - kv   3:                     llama.embedding_length u32              = 4096\n",
      "llama_model_loader: - kv   4:                          llama.block_count u32              = 32\n",
      "llama_model_loader: - kv   5:                  llama.feed_forward_length u32              = 14336\n",
      "llama_model_loader: - kv   6:                 llama.rope.dimension_count u32              = 128\n",
      "llama_model_loader: - kv   7:                 llama.attention.head_count u32              = 32\n",
      "llama_model_loader: - kv   8:              llama.attention.head_count_kv u32              = 8\n",
      "llama_model_loader: - kv   9:     llama.attention.layer_norm_rms_epsilon f32              = 0.000010\n",
      "llama_model_loader: - kv  10:                       llama.rope.freq_base f32              = 10000.000000\n",
      "llama_model_loader: - kv  11:                          general.file_type u32              = 15\n",
      "llama_model_loader: - kv  12:                       tokenizer.ggml.model str              = llama\n",
      "llama_model_loader: - kv  13:                      tokenizer.ggml.tokens arr[str,32002]   = [\"<unk>\", \"<s>\", \"</s>\", \"<0x00>\", \"<...\n",
      "llama_model_loader: - kv  14:                      tokenizer.ggml.scores arr[f32,32002]   = [0.000000, 0.000000, 0.000000, 0.0000...\n",
      "llama_model_loader: - kv  15:                  tokenizer.ggml.token_type arr[i32,32002]   = [2, 3, 3, 6, 6, 6, 6, 6, 6, 6, 6, 6, ...\n",
      "llama_model_loader: - kv  16:                tokenizer.ggml.bos_token_id u32              = 1\n",
      "llama_model_loader: - kv  17:                tokenizer.ggml.eos_token_id u32              = 32000\n",
      "llama_model_loader: - kv  18:            tokenizer.ggml.padding_token_id u32              = 0\n",
      "llama_model_loader: - kv  19:               general.quantization_version u32              = 2\n",
      "llama_model_loader: - type  f32:   65 tensors\n",
      "llama_model_loader: - type q4_K:  193 tensors\n",
      "llama_model_loader: - type q6_K:   33 tensors\n",
      "llm_load_vocab: special tokens definition check successful ( 261/32002 ).\n",
      "llm_load_print_meta: format           = GGUF V3 (latest)\n",
      "llm_load_print_meta: arch             = llama\n",
      "llm_load_print_meta: vocab type       = SPM\n",
      "llm_load_print_meta: n_vocab          = 32002\n",
      "llm_load_print_meta: n_merges         = 0\n",
      "llm_load_print_meta: n_ctx_train      = 32768\n",
      "llm_load_print_meta: n_embd           = 4096\n",
      "llm_load_print_meta: n_head           = 32\n",
      "llm_load_print_meta: n_head_kv        = 8\n",
      "llm_load_print_meta: n_layer          = 32\n",
      "llm_load_print_meta: n_rot            = 128\n",
      "llm_load_print_meta: n_gqa            = 4\n",
      "llm_load_print_meta: f_norm_eps       = 0.0e+00\n",
      "llm_load_print_meta: f_norm_rms_eps   = 1.0e-05\n",
      "llm_load_print_meta: f_clamp_kqv      = 0.0e+00\n",
      "llm_load_print_meta: f_max_alibi_bias = 0.0e+00\n",
      "llm_load_print_meta: n_ff             = 14336\n",
      "llm_load_print_meta: n_expert         = 0\n",
      "llm_load_print_meta: n_expert_used    = 0\n",
      "llm_load_print_meta: rope scaling     = linear\n",
      "llm_load_print_meta: freq_base_train  = 10000.0\n",
      "llm_load_print_meta: freq_scale_train = 1\n",
      "llm_load_print_meta: n_yarn_orig_ctx  = 32768\n",
      "llm_load_print_meta: rope_finetuned   = unknown\n",
      "llm_load_print_meta: model type       = 7B\n",
      "llm_load_print_meta: model ftype      = Q4_K - Medium\n",
      "llm_load_print_meta: model params     = 7.24 B\n",
      "llm_load_print_meta: model size       = 4.07 GiB (4.83 BPW) \n",
      "llm_load_print_meta: general.name     = teknium_openhermes-2.5-mistral-7b\n",
      "llm_load_print_meta: BOS token        = 1 '<s>'\n",
      "llm_load_print_meta: EOS token        = 32000 '<|im_end|>'\n",
      "llm_load_print_meta: UNK token        = 0 '<unk>'\n",
      "llm_load_print_meta: PAD token        = 0 '<unk>'\n",
      "llm_load_print_meta: LF token         = 13 '<0x0A>'\n",
      "llm_load_tensors: ggml ctx size       =    0.11 MiB\n",
      "llm_load_tensors: system memory used  = 4165.49 MiB\n",
      "...............................................................................................\n",
      "llama_new_context_with_model: n_ctx      = 3900\n",
      "llama_new_context_with_model: freq_base  = 10000.0\n",
      "llama_new_context_with_model: freq_scale = 1\n"
     ]
    },
    {
     "name": "stdout",
     "output_type": "stream",
     "text": [
      "['__init__.py', 'model_backends.py', 'hf_tasks.py', 'json_schema_to_grammar.py', 'tests', '.pytest_cache', '__pycache__', 'constants.py', 'autogoal_core', 'algorithms.py', 'algorithms_base.py', 'auto_dspy.py', 'signatures.py', 'utils.py', 'test_notebook.ipynb', 'my_field.py', 'assertion.log', 'local_cache', 'cache', 'zephyr-7b-beta.Q5_K_M.gguf', 'memory.py', 'prompts.py', 'measure_time.txt', 'measure_time2.txt', 'exceptions.txt', 'test_g8mk.ipynb', 'run_gsm8k.py', 'test_imdb.ipynb', 'imdb.py', 'openhermes-2.5-mistral-7b.Q4_K_M.gguf', 'exceptions_hotpot.txt', 'measure_time_hotpot.txt', 'measure_time_hotpot2.txt', 'exceptions_hotpot2.txt', 'exceptions_gsm8k.txt', 'measure_time_gsm8k.txt', 'measure_time_gsm8k_2.txt', 'exceptions_gsm8k.txt_2', 'exceptions_imdb.txt', 'measure_time_imdb.txt', 'measure_time_hotpot_definitive.txt']\n"
     ]
    },
    {
     "name": "stderr",
     "output_type": "stream",
     "text": [
      "llama_new_context_with_model: KV self size  =  487.50 MiB, K (f16):  243.75 MiB, V (f16):  243.75 MiB\n",
      "llama_build_graph: non-view tensors processed: 676/676\n",
      "llama_new_context_with_model: compute buffer total size = 278.56 MiB\n"
     ]
    }
   ],
   "source": [
    "from llama_cpp import Llama\n",
    "\n",
    "llama = Llama(model_path='openhermes-2.5-mistral-7b.Q4_K_M.gguf', n_ctx=3900, n_gpu_layers=35, chat_format=\"chatml\", verbose=False)\n",
    "lm = dspy.dsp.modules.LlamaCpp(model='openhermes-2.5-mistral-7b.Q4_K_M', llama_model=llama, model_type='chat')\n",
    "colbertv2_wiki17_abstracts = dspy.ColBERTv2(url='http://20.102.90.50:2017/wiki17_abstracts')\n",
    "\n",
    "dspy.settings.configure(lm=lm, rm=colbertv2_wiki17_abstracts)"
   ]
  },
  {
   "cell_type": "code",
   "execution_count": 5,
   "metadata": {},
   "outputs": [],
   "source": [
    "\n",
    "# class CodeGenerator(dspy.Signature):\n",
    "#     \"\"\"Generate code that solves a problem or answer a question\"\"\"\n",
    "\n",
    "#     instruction = dspy.InputField(desc=\"problem or question that can be solve through programming\")\n",
    "#     answer = dspy.OutputField()\n",
    "\n",
    "# class SimpleGsm8k(dspy.Module):\n",
    "#     def __init__(self):\n",
    "#         super().__init__()\n",
    "#         self.generate_answer = dspy.ChainOfThought(CodeGenerator)\n",
    "    \n",
    "#     def forward(self, question):\n",
    "#         prediction = self.generate_answer(instruction=question)\n",
    "#         return dspy.Prediction(answer=prediction.answer)\n",
    "    \n",
    "# from dspy.teleprompt import BootstrapFewShot\n",
    "\n",
    "\n",
    "# # Set up a basic teleprompter, which will compile our RAG program.\n",
    "# teleprompter = BootstrapFewShot(metric=gsm8k_metric)\n",
    "\n",
    "# # Compile!\n",
    "# compiled_rag = teleprompter.compile(SimpleGsm8k(), trainset=gsm8k.train)"
   ]
  },
  {
   "cell_type": "code",
   "execution_count": 6,
   "metadata": {},
   "outputs": [],
   "source": [
    "# evaluate_on_gsm8k(compiled_rag, metric=gsm8k_metric)"
   ]
  },
  {
   "cell_type": "code",
   "execution_count": 7,
   "metadata": {},
   "outputs": [
    {
     "name": "stdout",
     "output_type": "stream",
     "text": [
      "./cache/compiler\n"
     ]
    }
   ],
   "source": [
    "from auto_dspy import AutoDspy\n",
    "from autogoal_core.search import PESearch\n",
    "# import dspy"
   ]
  },
  {
   "cell_type": "code",
   "execution_count": null,
   "metadata": {},
   "outputs": [],
   "source": []
  },
  {
   "cell_type": "code",
   "execution_count": 8,
   "metadata": {},
   "outputs": [],
   "source": [
    "# lm = dspy.OpenAI(model=\"ollama/openhermes2.5-mistral:7b-q5_K_M\", api_base=\"http://0.0.0.0:8000\", api_key='anything', model_type='chat')\n",
    "# colbertv2_wiki17_abstracts = dspy.ColBERTv2(url='http://20.102.90.50:2017/wiki17_abstracts')\n",
    "\n",
    "# dspy.settings.configure(lm=lm, rm=colbertv2_wiki17_abstracts)\n",
    "\n",
    "auto_ds = AutoDspy(\n",
    "    lm=lm,\n",
    "    path_to_llm=\"zephyr-7b-beta.Q5_K_M.gguf\",\n",
    "    search_algorithm=PESearch,\n",
    "    metric=gsm8k_metric,\n",
    "    random_state = 42,\n",
    "    evaluator=evaluate_on_gsm8k\n",
    "\n",
    ") "
   ]
  },
  {
   "cell_type": "code",
   "execution_count": 9,
   "metadata": {},
   "outputs": [
    {
     "data": {
      "text/html": [
       "<pre style='margin: 0px; padding: 0px; vertical-align: middle; padding-left: 8px; margin-left: -8px; border-radius: 0px; border-left: 1px solid rgba(127, 127, 127, 0.2); white-space: pre-wrap; font-family: ColfaxAI, Arial; font-size: 15px; line-height: 23px;'>            Can an algorithm with the description: Answer questions with short factoid answers.. \n",
       "            solve a problem that requires the following output: answer to a math problem.\n",
       "            <span style='background-color: rgba(0.0, 165.0, 0, 0.15); border-radius: 3px;' title='1.0'>True</span></pre>"
      ],
      "text/plain": [
       "<IPython.core.display.HTML object>"
      ]
     },
     "metadata": {},
     "output_type": "display_data"
    },
    {
     "name": "stdout",
     "output_type": "stream",
     "text": [
      "pipeline space DspyPipelineSpace(graph=<autogoal_core.grammar._graph.Graph object at 0x7fee14986320>, path_to_llm='zephyr-7b-beta.Q5_K_M.gguf', examples_description={'inputs': {'question': 'grade school math word problem'}, 'outputs': {'answer': 'answer to a math problem'}})\n"
     ]
    },
    {
     "name": "stderr",
     "output_type": "stream",
     "text": [
      "100%|██████████| 30/30 [00:06<00:00,  4.43it/s]\n"
     ]
    },
    {
     "name": "stdout",
     "output_type": "stream",
     "text": [
      "Bootstrapped 0 full traces after 30 examples in round 0.\n"
     ]
    },
    {
     "name": "stderr",
     "output_type": "stream",
     "text": [
      "Average Metric: 0 / 25  (0.0): 100%|██████████| 25/25 [00:05<00:00,  4.72it/s]\n"
     ]
    },
    {
     "name": "stdout",
     "output_type": "stream",
     "text": [
      "Average Metric: 0 / 25  (0.0%)\n"
     ]
    },
    {
     "name": "stderr",
     "output_type": "stream",
     "text": [
      "/home/daniel/Documents/Github/autogoal-core/dspy/dspy/evaluate/evaluate.py:126: FutureWarning: DataFrame.applymap has been deprecated. Use DataFrame.map instead.\n",
      "  df = df.applymap(truncate_cell)\n"
     ]
    },
    {
     "data": {
      "text/html": [
       "<style type=\"text/css\">\n",
       "#T_cae9e th {\n",
       "  text-align: left;\n",
       "}\n",
       "#T_cae9e td {\n",
       "  text-align: left;\n",
       "}\n",
       "#T_cae9e_row0_col0, #T_cae9e_row0_col1, #T_cae9e_row0_col2, #T_cae9e_row0_col3, #T_cae9e_row0_col4, #T_cae9e_row1_col0, #T_cae9e_row1_col1, #T_cae9e_row1_col2, #T_cae9e_row1_col3, #T_cae9e_row1_col4, #T_cae9e_row2_col0, #T_cae9e_row2_col1, #T_cae9e_row2_col2, #T_cae9e_row2_col3, #T_cae9e_row2_col4, #T_cae9e_row3_col0, #T_cae9e_row3_col1, #T_cae9e_row3_col2, #T_cae9e_row3_col3, #T_cae9e_row3_col4, #T_cae9e_row4_col0, #T_cae9e_row4_col1, #T_cae9e_row4_col2, #T_cae9e_row4_col3, #T_cae9e_row4_col4, #T_cae9e_row5_col0, #T_cae9e_row5_col1, #T_cae9e_row5_col2, #T_cae9e_row5_col3, #T_cae9e_row5_col4, #T_cae9e_row6_col0, #T_cae9e_row6_col1, #T_cae9e_row6_col2, #T_cae9e_row6_col3, #T_cae9e_row6_col4, #T_cae9e_row7_col0, #T_cae9e_row7_col1, #T_cae9e_row7_col2, #T_cae9e_row7_col3, #T_cae9e_row7_col4, #T_cae9e_row8_col0, #T_cae9e_row8_col1, #T_cae9e_row8_col2, #T_cae9e_row8_col3, #T_cae9e_row8_col4, #T_cae9e_row9_col0, #T_cae9e_row9_col1, #T_cae9e_row9_col2, #T_cae9e_row9_col3, #T_cae9e_row9_col4 {\n",
       "  text-align: left;\n",
       "  white-space: pre-wrap;\n",
       "  word-wrap: break-word;\n",
       "  max-width: 400px;\n",
       "}\n",
       "</style>\n",
       "<table id=\"T_cae9e\">\n",
       "  <thead>\n",
       "    <tr>\n",
       "      <th class=\"blank level0\" >&nbsp;</th>\n",
       "      <th id=\"T_cae9e_level0_col0\" class=\"col_heading level0 col0\" >question</th>\n",
       "      <th id=\"T_cae9e_level0_col1\" class=\"col_heading level0 col1\" >gold_reasoning</th>\n",
       "      <th id=\"T_cae9e_level0_col2\" class=\"col_heading level0 col2\" >example_answer</th>\n",
       "      <th id=\"T_cae9e_level0_col3\" class=\"col_heading level0 col3\" >pred_answer</th>\n",
       "      <th id=\"T_cae9e_level0_col4\" class=\"col_heading level0 col4\" >gsm8k_metric</th>\n",
       "    </tr>\n",
       "  </thead>\n",
       "  <tbody>\n",
       "    <tr>\n",
       "      <th id=\"T_cae9e_level0_row0\" class=\"row_heading level0 row0\" >0</th>\n",
       "      <td id=\"T_cae9e_row0_col0\" class=\"data row0 col0\" >20 birds migrate on a seasonal basis from one lake to another, searching for food. If they fly from lake Jim to lake Disney in...</td>\n",
       "      <td id=\"T_cae9e_row0_col1\" class=\"data row0 col1\" >The birds' flying distance between Lake Jim through lake Disney to lake London is 50+60 = <<50+60=110>>110 miles. Since each bird flies the 110 miles...</td>\n",
       "      <td id=\"T_cae9e_row0_col2\" class=\"data row0 col2\" >2200</td>\n",
       "      <td id=\"T_cae9e_row0_col3\" class=\"data row0 col3\" >Paranki Lagoon Conservation Park | … was a significant feeding ground for waterbirds and waders in the South East. Because it is fed by groundwater,...</td>\n",
       "      <td id=\"T_cae9e_row0_col4\" class=\"data row0 col4\" >❌ [False]</td>\n",
       "    </tr>\n",
       "    <tr>\n",
       "      <th id=\"T_cae9e_level0_row1\" class=\"row_heading level0 row1\" >1</th>\n",
       "      <td id=\"T_cae9e_row1_col0\" class=\"data row1 col0\" >Wendy went to the dentist for a cleaning, two fillings, and a tooth extraction. The dentist charges $70 for a cleaning and $120 for a...</td>\n",
       "      <td id=\"T_cae9e_row1_col1\" class=\"data row1 col1\" >Wendy’s dentist bill was 5 * $120 = $<<5*120=600>>600. She got two fillings at a cost of 2 * $120 = $<<2*120=240>>240. Thus, Wendy paid...</td>\n",
       "      <td id=\"T_cae9e_row1_col2\" class=\"data row1 col2\" >290</td>\n",
       "      <td id=\"T_cae9e_row1_col3\" class=\"data row1 col3\" >Annette's Perfect Cleanser Company | Annette's Perfect Cleanser Company was a 1930s era firm which manufactured a dry powder which was useful for removing spots...</td>\n",
       "      <td id=\"T_cae9e_row1_col4\" class=\"data row1 col4\" >❌ [False]</td>\n",
       "    </tr>\n",
       "    <tr>\n",
       "      <th id=\"T_cae9e_level0_row2\" class=\"row_heading level0 row2\" >2</th>\n",
       "      <td id=\"T_cae9e_row2_col0\" class=\"data row2 col0\" >Karen is packing her backpack for a long-distance hike. She packs 20 pounds of water, 10 pounds of food, and 20 pounds of gear. During...</td>\n",
       "      <td id=\"T_cae9e_row2_col1\" class=\"data row2 col1\" >First find the weight of food Karen eats every hour: 2 pounds * 1/3 = 2/3 pounds food. Then find the total amount of weight...</td>\n",
       "      <td id=\"T_cae9e_row2_col2\" class=\"data row2 col2\" >34</td>\n",
       "      <td id=\"T_cae9e_row2_col3\" class=\"data row2 col3\" >Packraft | Packraft and trail boat are colloquial terms for a small, portable inflatable boat designed for use in all bodies of water, including technical...</td>\n",
       "      <td id=\"T_cae9e_row2_col4\" class=\"data row2 col4\" >❌ [False]</td>\n",
       "    </tr>\n",
       "    <tr>\n",
       "      <th id=\"T_cae9e_level0_row3\" class=\"row_heading level0 row3\" >3</th>\n",
       "      <td id=\"T_cae9e_row3_col0\" class=\"data row3 col0\" >Rita is reading a five-chapter book with 95 pages. Each chapter has three pages more than the previous one. How many pages does the first...</td>\n",
       "      <td id=\"T_cae9e_row3_col1\" class=\"data row3 col1\" >Let P be the number of pages in the first chapter. The second chapter has P + 3 pages. The third chapter has P +...</td>\n",
       "      <td id=\"T_cae9e_row3_col2\" class=\"data row3 col2\" >13</td>\n",
       "      <td id=\"T_cae9e_row3_col3\" class=\"data row3 col3\" >The Unfortunates | The Unfortunates is an experimental \"book in a box\" published in 1969 by English author B. S. Johnson and reissued in 2008...</td>\n",
       "      <td id=\"T_cae9e_row3_col4\" class=\"data row3 col4\" >❌ [False]</td>\n",
       "    </tr>\n",
       "    <tr>\n",
       "      <th id=\"T_cae9e_level0_row4\" class=\"row_heading level0 row4\" >4</th>\n",
       "      <td id=\"T_cae9e_row4_col0\" class=\"data row4 col0\" >Benjamin collects 6 dozen eggs a day. Carla collects 3 times the number of eggs that Benjamin collects. Trisha collects 4 dozen less than Benjamin....</td>\n",
       "      <td id=\"T_cae9e_row4_col1\" class=\"data row4 col1\" >Carla:3(6)=18 dozen eggs Trisha: 6-4=<<6-4=2>>2 dozen eggs Total: 6+18+2=<<6+18+2=26>>26 dozen eggs</td>\n",
       "      <td id=\"T_cae9e_row4_col2\" class=\"data row4 col2\" >26</td>\n",
       "      <td id=\"T_cae9e_row4_col3\" class=\"data row4 col3\" >Zack Hample | Zachary Ben Hample (born September 14, 1977), known as Zack Hample, is a Major League baseball collector. He is known for his...</td>\n",
       "      <td id=\"T_cae9e_row4_col4\" class=\"data row4 col4\" >❌ [False]</td>\n",
       "    </tr>\n",
       "    <tr>\n",
       "      <th id=\"T_cae9e_level0_row5\" class=\"row_heading level0 row5\" >5</th>\n",
       "      <td id=\"T_cae9e_row5_col0\" class=\"data row5 col0\" >Roy spends 2 hours on sports activities in school every day. He goes to school 5 days a week. If he missed 2 days within...</td>\n",
       "      <td id=\"T_cae9e_row5_col1\" class=\"data row5 col1\" >He goes to.school 5 days a week so if he misses 2 days within the week he was present for 5-2 = <<5-2=3>>3 days He...</td>\n",
       "      <td id=\"T_cae9e_row5_col2\" class=\"data row5 col2\" >6</td>\n",
       "      <td id=\"T_cae9e_row5_col3\" class=\"data row5 col3\" >BlueSky Charter School | BlueSky was the first charter school in Minnesota to be completely online, following on from Mindquest, which was the first online...</td>\n",
       "      <td id=\"T_cae9e_row5_col4\" class=\"data row5 col4\" >❌ [False]</td>\n",
       "    </tr>\n",
       "    <tr>\n",
       "      <th id=\"T_cae9e_level0_row6\" class=\"row_heading level0 row6\" >6</th>\n",
       "      <td id=\"T_cae9e_row6_col0\" class=\"data row6 col0\" >Cameron is printing her thesis in the school library and has 400 A4 pieces of paper. If 40% of the papers did not print out...</td>\n",
       "      <td id=\"T_cae9e_row6_col1\" class=\"data row6 col1\" >If she had 400 papers, the total number of documents she separated as invalid is 40/100 * 400 pages = <<40/100*400=160>>160 pages. The number of...</td>\n",
       "      <td id=\"T_cae9e_row6_col2\" class=\"data row6 col2\" >240</td>\n",
       "      <td id=\"T_cae9e_row6_col3\" class=\"data row6 col3\" >PLOS ONE | PLOS ONE (originally \"PLoS ONE\") is a peer-reviewed open access scientific journal published by the Public Library of Science (PLOS) since 2006....</td>\n",
       "      <td id=\"T_cae9e_row6_col4\" class=\"data row6 col4\" >❌ [False]</td>\n",
       "    </tr>\n",
       "    <tr>\n",
       "      <th id=\"T_cae9e_level0_row7\" class=\"row_heading level0 row7\" >7</th>\n",
       "      <td id=\"T_cae9e_row7_col0\" class=\"data row7 col0\" >Burt spent $2.00 on a packet of basil seeds and $8.00 on potting soil. The packet of seeds yielded 20 basil plants. He sells each...</td>\n",
       "      <td id=\"T_cae9e_row7_col1\" class=\"data row7 col1\" >He spent $2.00 on seeds and $8.00 on soil for a total of 2+8 = $<<2+8=10.00>>10.00 He sells each of the 20 basil plants for...</td>\n",
       "      <td id=\"T_cae9e_row7_col2\" class=\"data row7 col2\" >90</td>\n",
       "      <td id=\"T_cae9e_row7_col3\" class=\"data row7 col3\" >Great grain robbery | The great grain robbery was the July 1972 purchase of 10 million tons of United States grain (mainly wheat and corn)...</td>\n",
       "      <td id=\"T_cae9e_row7_col4\" class=\"data row7 col4\" >❌ [False]</td>\n",
       "    </tr>\n",
       "    <tr>\n",
       "      <th id=\"T_cae9e_level0_row8\" class=\"row_heading level0 row8\" >8</th>\n",
       "      <td id=\"T_cae9e_row8_col0\" class=\"data row8 col0\" >Martha's cat catches 3 rats and 7 birds. Cara's cat catches 3 less than five times as many animals as Martha's cat. How many animals...</td>\n",
       "      <td id=\"T_cae9e_row8_col1\" class=\"data row8 col1\" >First find the total number of animals Martha's cat catches: 3 rats + 7 birds = <<3+7=10>>10 animals Then multiply that number by 5: 10...</td>\n",
       "      <td id=\"T_cae9e_row8_col2\" class=\"data row8 col2\" >47</td>\n",
       "      <td id=\"T_cae9e_row8_col3\" class=\"data row8 col3\" >Dusty the Klepto Kitty | Dusty the Klepto Kitty is a domestic Snowshoe cat who gained notoriety in early 2011 for his acts of \"burglary.\"...</td>\n",
       "      <td id=\"T_cae9e_row8_col4\" class=\"data row8 col4\" >❌ [False]</td>\n",
       "    </tr>\n",
       "    <tr>\n",
       "      <th id=\"T_cae9e_level0_row9\" class=\"row_heading level0 row9\" >9</th>\n",
       "      <td id=\"T_cae9e_row9_col0\" class=\"data row9 col0\" >Trey is raising money for a new bike that costs $112. He plans to spend the next two weeks selling bracelets for $1 each. On...</td>\n",
       "      <td id=\"T_cae9e_row9_col1\" class=\"data row9 col1\" >He needs to sell 112 bracelets because 112 divided by 1 equals <<112/1=112>>112. He has 14 days to sell bracelets because there are seven days...</td>\n",
       "      <td id=\"T_cae9e_row9_col2\" class=\"data row9 col2\" >8</td>\n",
       "      <td id=\"T_cae9e_row9_col3\" class=\"data row9 col3\" >Mosh BMX | Mosh BMX was the BMX division of Giant Manufacturing Co. Ltd created in 1996 with the help of Linn Kastan and AA...</td>\n",
       "      <td id=\"T_cae9e_row9_col4\" class=\"data row9 col4\" >❌ [False]</td>\n",
       "    </tr>\n",
       "  </tbody>\n",
       "</table>\n"
      ],
      "text/plain": [
       "<pandas.io.formats.style.Styler at 0x7feded773040>"
      ]
     },
     "metadata": {},
     "output_type": "display_data"
    },
    {
     "data": {
      "text/html": [
       "\n",
       "                <div style='\n",
       "                    text-align: center; \n",
       "                    font-size: 16px; \n",
       "                    font-weight: bold; \n",
       "                    color: #555; \n",
       "                    margin: 10px 0;'>\n",
       "                    ... 15 more rows not displayed ...\n",
       "                </div>\n",
       "                "
      ],
      "text/plain": [
       "<IPython.core.display.HTML object>"
      ]
     },
     "metadata": {},
     "output_type": "display_data"
    },
    {
     "name": "stderr",
     "output_type": "stream",
     "text": [
      "100%|██████████| 30/30 [23:59<00:00, 47.97s/it]\n"
     ]
    },
    {
     "name": "stdout",
     "output_type": "stream",
     "text": [
      "Bootstrapped 3 full traces after 30 examples in round 0.\n"
     ]
    },
    {
     "name": "stderr",
     "output_type": "stream",
     "text": [
      "Average Metric: 2 / 25  (8.0): 100%|██████████| 25/25 [17:53<00:00, 42.93s/it] \n"
     ]
    },
    {
     "name": "stdout",
     "output_type": "stream",
     "text": [
      "Average Metric: 2 / 25  (8.0%)\n"
     ]
    },
    {
     "name": "stderr",
     "output_type": "stream",
     "text": [
      "/home/daniel/Documents/Github/autogoal-core/dspy/dspy/evaluate/evaluate.py:126: FutureWarning: DataFrame.applymap has been deprecated. Use DataFrame.map instead.\n",
      "  df = df.applymap(truncate_cell)\n"
     ]
    },
    {
     "data": {
      "text/html": [
       "<style type=\"text/css\">\n",
       "#T_1ec7b th {\n",
       "  text-align: left;\n",
       "}\n",
       "#T_1ec7b td {\n",
       "  text-align: left;\n",
       "}\n",
       "#T_1ec7b_row0_col0, #T_1ec7b_row0_col1, #T_1ec7b_row0_col2, #T_1ec7b_row0_col3, #T_1ec7b_row0_col4, #T_1ec7b_row1_col0, #T_1ec7b_row1_col1, #T_1ec7b_row1_col2, #T_1ec7b_row1_col3, #T_1ec7b_row1_col4, #T_1ec7b_row2_col0, #T_1ec7b_row2_col1, #T_1ec7b_row2_col2, #T_1ec7b_row2_col3, #T_1ec7b_row2_col4, #T_1ec7b_row3_col0, #T_1ec7b_row3_col1, #T_1ec7b_row3_col2, #T_1ec7b_row3_col3, #T_1ec7b_row3_col4, #T_1ec7b_row4_col0, #T_1ec7b_row4_col1, #T_1ec7b_row4_col2, #T_1ec7b_row4_col3, #T_1ec7b_row4_col4, #T_1ec7b_row5_col0, #T_1ec7b_row5_col1, #T_1ec7b_row5_col2, #T_1ec7b_row5_col3, #T_1ec7b_row5_col4, #T_1ec7b_row6_col0, #T_1ec7b_row6_col1, #T_1ec7b_row6_col2, #T_1ec7b_row6_col3, #T_1ec7b_row6_col4, #T_1ec7b_row7_col0, #T_1ec7b_row7_col1, #T_1ec7b_row7_col2, #T_1ec7b_row7_col3, #T_1ec7b_row7_col4, #T_1ec7b_row8_col0, #T_1ec7b_row8_col1, #T_1ec7b_row8_col2, #T_1ec7b_row8_col3, #T_1ec7b_row8_col4, #T_1ec7b_row9_col0, #T_1ec7b_row9_col1, #T_1ec7b_row9_col2, #T_1ec7b_row9_col3, #T_1ec7b_row9_col4 {\n",
       "  text-align: left;\n",
       "  white-space: pre-wrap;\n",
       "  word-wrap: break-word;\n",
       "  max-width: 400px;\n",
       "}\n",
       "</style>\n",
       "<table id=\"T_1ec7b\">\n",
       "  <thead>\n",
       "    <tr>\n",
       "      <th class=\"blank level0\" >&nbsp;</th>\n",
       "      <th id=\"T_1ec7b_level0_col0\" class=\"col_heading level0 col0\" >question</th>\n",
       "      <th id=\"T_1ec7b_level0_col1\" class=\"col_heading level0 col1\" >gold_reasoning</th>\n",
       "      <th id=\"T_1ec7b_level0_col2\" class=\"col_heading level0 col2\" >example_answer</th>\n",
       "      <th id=\"T_1ec7b_level0_col3\" class=\"col_heading level0 col3\" >pred_answer</th>\n",
       "      <th id=\"T_1ec7b_level0_col4\" class=\"col_heading level0 col4\" >gsm8k_metric</th>\n",
       "    </tr>\n",
       "  </thead>\n",
       "  <tbody>\n",
       "    <tr>\n",
       "      <th id=\"T_1ec7b_level0_row0\" class=\"row_heading level0 row0\" >0</th>\n",
       "      <td id=\"T_1ec7b_row0_col0\" class=\"data row0 col0\" >20 birds migrate on a seasonal basis from one lake to another, searching for food. If they fly from lake Jim to lake Disney in...</td>\n",
       "      <td id=\"T_1ec7b_row0_col1\" class=\"data row0 col1\" >The birds' flying distance between Lake Jim through lake Disney to lake London is 50+60 = <<50+60=110>>110 miles. Since each bird flies the 110 miles...</td>\n",
       "      <td id=\"T_1ec7b_row0_col2\" class=\"data row0 col2\" >2200</td>\n",
       "      <td id=\"T_1ec7b_row0_col3\" class=\"data row0 col3\" >In which country is Paris located and what language do they speak there?</td>\n",
       "      <td id=\"T_1ec7b_row0_col4\" class=\"data row0 col4\" >❌ [False]</td>\n",
       "    </tr>\n",
       "    <tr>\n",
       "      <th id=\"T_1ec7b_level0_row1\" class=\"row_heading level0 row1\" >1</th>\n",
       "      <td id=\"T_1ec7b_row1_col0\" class=\"data row1 col0\" >Wendy went to the dentist for a cleaning, two fillings, and a tooth extraction. The dentist charges $70 for a cleaning and $120 for a...</td>\n",
       "      <td id=\"T_1ec7b_row1_col1\" class=\"data row1 col1\" >Wendy’s dentist bill was 5 * $120 = $<<5*120=600>>600. She got two fillings at a cost of 2 * $120 = $<<2*120=240>>240. Thus, Wendy paid...</td>\n",
       "      <td id=\"T_1ec7b_row1_col2\" class=\"data row1 col2\" >290</td>\n",
       "      <td id=\"T_1ec7b_row1_col3\" class=\"data row1 col3\" >Are you referring to the ages of two individuals, or is there a specific context related to the numbers 28 or 29?</td>\n",
       "      <td id=\"T_1ec7b_row1_col4\" class=\"data row1 col4\" >❌ [False]</td>\n",
       "    </tr>\n",
       "    <tr>\n",
       "      <th id=\"T_1ec7b_level0_row2\" class=\"row_heading level0 row2\" >2</th>\n",
       "      <td id=\"T_1ec7b_row2_col0\" class=\"data row2 col0\" >Karen is packing her backpack for a long-distance hike. She packs 20 pounds of water, 10 pounds of food, and 20 pounds of gear. During...</td>\n",
       "      <td id=\"T_1ec7b_row2_col1\" class=\"data row2 col1\" >First find the weight of food Karen eats every hour: 2 pounds * 1/3 = 2/3 pounds food. Then find the total amount of weight...</td>\n",
       "      <td id=\"T_1ec7b_row2_col2\" class=\"data row2 col2\" >34</td>\n",
       "      <td id=\"T_1ec7b_row2_col3\" class=\"data row2 col3\" >In which country is Paris located and what language do they speak there?</td>\n",
       "      <td id=\"T_1ec7b_row2_col4\" class=\"data row2 col4\" >❌ [False]</td>\n",
       "    </tr>\n",
       "    <tr>\n",
       "      <th id=\"T_1ec7b_level0_row3\" class=\"row_heading level0 row3\" >3</th>\n",
       "      <td id=\"T_1ec7b_row3_col0\" class=\"data row3 col0\" >Rita is reading a five-chapter book with 95 pages. Each chapter has three pages more than the previous one. How many pages does the first...</td>\n",
       "      <td id=\"T_1ec7b_row3_col1\" class=\"data row3 col1\" >Let P be the number of pages in the first chapter. The second chapter has P + 3 pages. The third chapter has P +...</td>\n",
       "      <td id=\"T_1ec7b_row3_col2\" class=\"data row3 col2\" >13</td>\n",
       "      <td id=\"T_1ec7b_row3_col3\" class=\"data row3 col3\" >In which country is Paris located and what language do they speak there?</td>\n",
       "      <td id=\"T_1ec7b_row3_col4\" class=\"data row3 col4\" >❌ [False]</td>\n",
       "    </tr>\n",
       "    <tr>\n",
       "      <th id=\"T_1ec7b_level0_row4\" class=\"row_heading level0 row4\" >4</th>\n",
       "      <td id=\"T_1ec7b_row4_col0\" class=\"data row4 col0\" >Benjamin collects 6 dozen eggs a day. Carla collects 3 times the number of eggs that Benjamin collects. Trisha collects 4 dozen less than Benjamin....</td>\n",
       "      <td id=\"T_1ec7b_row4_col1\" class=\"data row4 col1\" >Carla:3(6)=18 dozen eggs Trisha: 6-4=<<6-4=2>>2 dozen eggs Total: 6+18+2=<<6+18+2=26>>26 dozen eggs</td>\n",
       "      <td id=\"T_1ec7b_row4_col2\" class=\"data row4 col2\" >26</td>\n",
       "      <td id=\"T_1ec7b_row4_col3\" class=\"data row4 col3\" >What is the capital city of France? Reasoning: Let's think step by step in order to identify the capital city of France. We know that...</td>\n",
       "      <td id=\"T_1ec7b_row4_col4\" class=\"data row4 col4\" >❌ [False]</td>\n",
       "    </tr>\n",
       "    <tr>\n",
       "      <th id=\"T_1ec7b_level0_row5\" class=\"row_heading level0 row5\" >5</th>\n",
       "      <td id=\"T_1ec7b_row5_col0\" class=\"data row5 col0\" >Roy spends 2 hours on sports activities in school every day. He goes to school 5 days a week. If he missed 2 days within...</td>\n",
       "      <td id=\"T_1ec7b_row5_col1\" class=\"data row5 col1\" >He goes to.school 5 days a week so if he misses 2 days within the week he was present for 5-2 = <<5-2=3>>3 days He...</td>\n",
       "      <td id=\"T_1ec7b_row5_col2\" class=\"data row5 col2\" >6</td>\n",
       "      <td id=\"T_1ec7b_row5_col3\" class=\"data row5 col3\" >What does the number 6 represent in this context?</td>\n",
       "      <td id=\"T_1ec7b_row5_col4\" class=\"data row5 col4\" >✔️ [True]</td>\n",
       "    </tr>\n",
       "    <tr>\n",
       "      <th id=\"T_1ec7b_level0_row6\" class=\"row_heading level0 row6\" >6</th>\n",
       "      <td id=\"T_1ec7b_row6_col0\" class=\"data row6 col0\" >Cameron is printing her thesis in the school library and has 400 A4 pieces of paper. If 40% of the papers did not print out...</td>\n",
       "      <td id=\"T_1ec7b_row6_col1\" class=\"data row6 col1\" >If she had 400 papers, the total number of documents she separated as invalid is 40/100 * 400 pages = <<40/100*400=160>>160 pages. The number of...</td>\n",
       "      <td id=\"T_1ec7b_row6_col2\" class=\"data row6 col2\" >240</td>\n",
       "      <td id=\"T_1ec7b_row6_col3\" class=\"data row6 col3\" >What is the capital city of France? Reasoning: Let's think step by step in order to identify the capital city of France. We know that...</td>\n",
       "      <td id=\"T_1ec7b_row6_col4\" class=\"data row6 col4\" >❌ [False]</td>\n",
       "    </tr>\n",
       "    <tr>\n",
       "      <th id=\"T_1ec7b_level0_row7\" class=\"row_heading level0 row7\" >7</th>\n",
       "      <td id=\"T_1ec7b_row7_col0\" class=\"data row7 col0\" >Burt spent $2.00 on a packet of basil seeds and $8.00 on potting soil. The packet of seeds yielded 20 basil plants. He sells each...</td>\n",
       "      <td id=\"T_1ec7b_row7_col1\" class=\"data row7 col1\" >He spent $2.00 on seeds and $8.00 on soil for a total of 2+8 = $<<2+8=10.00>>10.00 He sells each of the 20 basil plants for...</td>\n",
       "      <td id=\"T_1ec7b_row7_col2\" class=\"data row7 col2\" >90</td>\n",
       "      <td id=\"T_1ec7b_row7_col3\" class=\"data row7 col3\" >What is the main subject and action in this text?</td>\n",
       "      <td id=\"T_1ec7b_row7_col4\" class=\"data row7 col4\" >❌ [False]</td>\n",
       "    </tr>\n",
       "    <tr>\n",
       "      <th id=\"T_1ec7b_level0_row8\" class=\"row_heading level0 row8\" >8</th>\n",
       "      <td id=\"T_1ec7b_row8_col0\" class=\"data row8 col0\" >Martha's cat catches 3 rats and 7 birds. Cara's cat catches 3 less than five times as many animals as Martha's cat. How many animals...</td>\n",
       "      <td id=\"T_1ec7b_row8_col1\" class=\"data row8 col1\" >First find the total number of animals Martha's cat catches: 3 rats + 7 birds = <<3+7=10>>10 animals Then multiply that number by 5: 10...</td>\n",
       "      <td id=\"T_1ec7b_row8_col2\" class=\"data row8 col2\" >47</td>\n",
       "      <td id=\"T_1ec7b_row8_col3\" class=\"data row8 col3\" >What is the capital city of France? Reasoning: Let's think step by step in order to identify the capital city of France. We know that...</td>\n",
       "      <td id=\"T_1ec7b_row8_col4\" class=\"data row8 col4\" >❌ [False]</td>\n",
       "    </tr>\n",
       "    <tr>\n",
       "      <th id=\"T_1ec7b_level0_row9\" class=\"row_heading level0 row9\" >9</th>\n",
       "      <td id=\"T_1ec7b_row9_col0\" class=\"data row9 col0\" >Trey is raising money for a new bike that costs $112. He plans to spend the next two weeks selling bracelets for $1 each. On...</td>\n",
       "      <td id=\"T_1ec7b_row9_col1\" class=\"data row9 col1\" >He needs to sell 112 bracelets because 112 divided by 1 equals <<112/1=112>>112. He has 14 days to sell bracelets because there are seven days...</td>\n",
       "      <td id=\"T_1ec7b_row9_col2\" class=\"data row9 col2\" >8</td>\n",
       "      <td id=\"T_1ec7b_row9_col3\" class=\"data row9 col3\" >What was the purpose of construct</td>\n",
       "      <td id=\"T_1ec7b_row9_col4\" class=\"data row9 col4\" >❌ [False]</td>\n",
       "    </tr>\n",
       "  </tbody>\n",
       "</table>\n"
      ],
      "text/plain": [
       "<pandas.io.formats.style.Styler at 0x7feded773340>"
      ]
     },
     "metadata": {},
     "output_type": "display_data"
    },
    {
     "data": {
      "text/html": [
       "\n",
       "                <div style='\n",
       "                    text-align: center; \n",
       "                    font-size: 16px; \n",
       "                    font-weight: bold; \n",
       "                    color: #555; \n",
       "                    margin: 10px 0;'>\n",
       "                    ... 15 more rows not displayed ...\n",
       "                </div>\n",
       "                "
      ],
      "text/plain": [
       "<IPython.core.display.HTML object>"
      ]
     },
     "metadata": {},
     "output_type": "display_data"
    },
    {
     "name": "stderr",
     "output_type": "stream",
     "text": [
      " 83%|████████▎ | 25/30 [20:35<04:07, 49.42s/it]\n"
     ]
    },
    {
     "name": "stdout",
     "output_type": "stream",
     "text": [
      "Bootstrapped 4 full traces after 26 examples in round 0.\n"
     ]
    },
    {
     "name": "stderr",
     "output_type": "stream",
     "text": [
      "Average Metric: 2 / 25  (8.0): 100%|██████████| 25/25 [18:18<00:00, 43.95s/it] \n"
     ]
    },
    {
     "name": "stdout",
     "output_type": "stream",
     "text": [
      "Average Metric: 2 / 25  (8.0%)\n"
     ]
    },
    {
     "name": "stderr",
     "output_type": "stream",
     "text": [
      "/home/daniel/Documents/Github/autogoal-core/dspy/dspy/evaluate/evaluate.py:126: FutureWarning: DataFrame.applymap has been deprecated. Use DataFrame.map instead.\n",
      "  df = df.applymap(truncate_cell)\n"
     ]
    },
    {
     "data": {
      "text/html": [
       "<style type=\"text/css\">\n",
       "#T_74065 th {\n",
       "  text-align: left;\n",
       "}\n",
       "#T_74065 td {\n",
       "  text-align: left;\n",
       "}\n",
       "#T_74065_row0_col0, #T_74065_row0_col1, #T_74065_row0_col2, #T_74065_row0_col3, #T_74065_row0_col4, #T_74065_row1_col0, #T_74065_row1_col1, #T_74065_row1_col2, #T_74065_row1_col3, #T_74065_row1_col4, #T_74065_row2_col0, #T_74065_row2_col1, #T_74065_row2_col2, #T_74065_row2_col3, #T_74065_row2_col4, #T_74065_row3_col0, #T_74065_row3_col1, #T_74065_row3_col2, #T_74065_row3_col3, #T_74065_row3_col4, #T_74065_row4_col0, #T_74065_row4_col1, #T_74065_row4_col2, #T_74065_row4_col3, #T_74065_row4_col4, #T_74065_row5_col0, #T_74065_row5_col1, #T_74065_row5_col2, #T_74065_row5_col3, #T_74065_row5_col4, #T_74065_row6_col0, #T_74065_row6_col1, #T_74065_row6_col2, #T_74065_row6_col3, #T_74065_row6_col4, #T_74065_row7_col0, #T_74065_row7_col1, #T_74065_row7_col2, #T_74065_row7_col3, #T_74065_row7_col4, #T_74065_row8_col0, #T_74065_row8_col1, #T_74065_row8_col2, #T_74065_row8_col3, #T_74065_row8_col4, #T_74065_row9_col0, #T_74065_row9_col1, #T_74065_row9_col2, #T_74065_row9_col3, #T_74065_row9_col4 {\n",
       "  text-align: left;\n",
       "  white-space: pre-wrap;\n",
       "  word-wrap: break-word;\n",
       "  max-width: 400px;\n",
       "}\n",
       "</style>\n",
       "<table id=\"T_74065\">\n",
       "  <thead>\n",
       "    <tr>\n",
       "      <th class=\"blank level0\" >&nbsp;</th>\n",
       "      <th id=\"T_74065_level0_col0\" class=\"col_heading level0 col0\" >question</th>\n",
       "      <th id=\"T_74065_level0_col1\" class=\"col_heading level0 col1\" >gold_reasoning</th>\n",
       "      <th id=\"T_74065_level0_col2\" class=\"col_heading level0 col2\" >example_answer</th>\n",
       "      <th id=\"T_74065_level0_col3\" class=\"col_heading level0 col3\" >pred_answer</th>\n",
       "      <th id=\"T_74065_level0_col4\" class=\"col_heading level0 col4\" >gsm8k_metric</th>\n",
       "    </tr>\n",
       "  </thead>\n",
       "  <tbody>\n",
       "    <tr>\n",
       "      <th id=\"T_74065_level0_row0\" class=\"row_heading level0 row0\" >0</th>\n",
       "      <td id=\"T_74065_row0_col0\" class=\"data row0 col0\" >20 birds migrate on a seasonal basis from one lake to another, searching for food. If they fly from lake Jim to lake Disney in...</td>\n",
       "      <td id=\"T_74065_row0_col1\" class=\"data row0 col1\" >The birds' flying distance between Lake Jim through lake Disney to lake London is 50+60 = <<50+60=110>>110 miles. Since each bird flies the 110 miles...</td>\n",
       "      <td id=\"T_74065_row0_col2\" class=\"data row0 col2\" >2200</td>\n",
       "      <td id=\"T_74065_row0_col3\" class=\"data row0 col3\" >Paris</td>\n",
       "      <td id=\"T_74065_row0_col4\" class=\"data row0 col4\" >❌ [False]</td>\n",
       "    </tr>\n",
       "    <tr>\n",
       "      <th id=\"T_74065_level0_row1\" class=\"row_heading level0 row1\" >1</th>\n",
       "      <td id=\"T_74065_row1_col0\" class=\"data row1 col0\" >Wendy went to the dentist for a cleaning, two fillings, and a tooth extraction. The dentist charges $70 for a cleaning and $120 for a...</td>\n",
       "      <td id=\"T_74065_row1_col1\" class=\"data row1 col1\" >Wendy’s dentist bill was 5 * $120 = $<<5*120=600>>600. She got two fillings at a cost of 2 * $120 = $<<2*120=240>>240. Thus, Wendy paid...</td>\n",
       "      <td id=\"T_74065_row1_col2\" class=\"data row1 col2\" >290</td>\n",
       "      <td id=\"T_74065_row1_col3\" class=\"data row1 col3\" >28 or 29</td>\n",
       "      <td id=\"T_74065_row1_col4\" class=\"data row1 col4\" >❌ [False]</td>\n",
       "    </tr>\n",
       "    <tr>\n",
       "      <th id=\"T_74065_level0_row2\" class=\"row_heading level0 row2\" >2</th>\n",
       "      <td id=\"T_74065_row2_col0\" class=\"data row2 col0\" >Karen is packing her backpack for a long-distance hike. She packs 20 pounds of water, 10 pounds of food, and 20 pounds of gear. During...</td>\n",
       "      <td id=\"T_74065_row2_col1\" class=\"data row2 col1\" >First find the weight of food Karen eats every hour: 2 pounds * 1/3 = 2/3 pounds food. Then find the total amount of weight...</td>\n",
       "      <td id=\"T_74065_row2_col2\" class=\"data row2 col2\" >34</td>\n",
       "      <td id=\"T_74065_row2_col3\" class=\"data row2 col3\" >Paris</td>\n",
       "      <td id=\"T_74065_row2_col4\" class=\"data row2 col4\" >❌ [False]</td>\n",
       "    </tr>\n",
       "    <tr>\n",
       "      <th id=\"T_74065_level0_row3\" class=\"row_heading level0 row3\" >3</th>\n",
       "      <td id=\"T_74065_row3_col0\" class=\"data row3 col0\" >Rita is reading a five-chapter book with 95 pages. Each chapter has three pages more than the previous one. How many pages does the first...</td>\n",
       "      <td id=\"T_74065_row3_col1\" class=\"data row3 col1\" >Let P be the number of pages in the first chapter. The second chapter has P + 3 pages. The third chapter has P +...</td>\n",
       "      <td id=\"T_74065_row3_col2\" class=\"data row3 col2\" >13</td>\n",
       "      <td id=\"T_74065_row3_col3\" class=\"data row3 col3\" >Paris</td>\n",
       "      <td id=\"T_74065_row3_col4\" class=\"data row3 col4\" >❌ [False]</td>\n",
       "    </tr>\n",
       "    <tr>\n",
       "      <th id=\"T_74065_level0_row4\" class=\"row_heading level0 row4\" >4</th>\n",
       "      <td id=\"T_74065_row4_col0\" class=\"data row4 col0\" >Benjamin collects 6 dozen eggs a day. Carla collects 3 times the number of eggs that Benjamin collects. Trisha collects 4 dozen less than Benjamin....</td>\n",
       "      <td id=\"T_74065_row4_col1\" class=\"data row4 col1\" >Carla:3(6)=18 dozen eggs Trisha: 6-4=<<6-4=2>>2 dozen eggs Total: 6+18+2=<<6+18+2=26>>26 dozen eggs</td>\n",
       "      <td id=\"T_74065_row4_col2\" class=\"data row4 col2\" >26</td>\n",
       "      <td id=\"T_74065_row4_col3\" class=\"data row4 col3\" >Paris Question: How many days are in a year? Reasoning: Let's think step by step in order to determine how many days are in a...</td>\n",
       "      <td id=\"T_74065_row4_col4\" class=\"data row4 col4\" >❌ [False]</td>\n",
       "    </tr>\n",
       "    <tr>\n",
       "      <th id=\"T_74065_level0_row5\" class=\"row_heading level0 row5\" >5</th>\n",
       "      <td id=\"T_74065_row5_col0\" class=\"data row5 col0\" >Roy spends 2 hours on sports activities in school every day. He goes to school 5 days a week. If he missed 2 days within...</td>\n",
       "      <td id=\"T_74065_row5_col1\" class=\"data row5 col1\" >He goes to.school 5 days a week so if he misses 2 days within the week he was present for 5-2 = <<5-2=3>>3 days He...</td>\n",
       "      <td id=\"T_74065_row5_col2\" class=\"data row5 col2\" >6</td>\n",
       "      <td id=\"T_74065_row5_col3\" class=\"data row5 col3\" >6</td>\n",
       "      <td id=\"T_74065_row5_col4\" class=\"data row5 col4\" >✔️ [True]</td>\n",
       "    </tr>\n",
       "    <tr>\n",
       "      <th id=\"T_74065_level0_row6\" class=\"row_heading level0 row6\" >6</th>\n",
       "      <td id=\"T_74065_row6_col0\" class=\"data row6 col0\" >Cameron is printing her thesis in the school library and has 400 A4 pieces of paper. If 40% of the papers did not print out...</td>\n",
       "      <td id=\"T_74065_row6_col1\" class=\"data row6 col1\" >If she had 400 papers, the total number of documents she separated as invalid is 40/100 * 400 pages = <<40/100*400=160>>160 pages. The number of...</td>\n",
       "      <td id=\"T_74065_row6_col2\" class=\"data row6 col2\" >240</td>\n",
       "      <td id=\"T_74065_row6_col3\" class=\"data row6 col3\" >Paris Question: How many days are in a year? Reasoning: Let's think step by step in order to determine the number of days in a...</td>\n",
       "      <td id=\"T_74065_row6_col4\" class=\"data row6 col4\" >❌ [False]</td>\n",
       "    </tr>\n",
       "    <tr>\n",
       "      <th id=\"T_74065_level0_row7\" class=\"row_heading level0 row7\" >7</th>\n",
       "      <td id=\"T_74065_row7_col0\" class=\"data row7 col0\" >Burt spent $2.00 on a packet of basil seeds and $8.00 on potting soil. The packet of seeds yielded 20 basil plants. He sells each...</td>\n",
       "      <td id=\"T_74065_row7_col1\" class=\"data row7 col1\" >He spent $2.00 on seeds and $8.00 on soil for a total of 2+8 = $<<2+8=10.00>>10.00 He sells each of the 20 basil plants for...</td>\n",
       "      <td id=\"T_74065_row7_col2\" class=\"data row7 col2\" >90</td>\n",
       "      <td id=\"T_74065_row7_col3\" class=\"data row7 col3\" >20 Question: How much money does Burt make from selling one basil plant? Answer: $5.00 Question: What is the total revenue Burt makes from selling...</td>\n",
       "      <td id=\"T_74065_row7_col4\" class=\"data row7 col4\" >❌ [False]</td>\n",
       "    </tr>\n",
       "    <tr>\n",
       "      <th id=\"T_74065_level0_row8\" class=\"row_heading level0 row8\" >8</th>\n",
       "      <td id=\"T_74065_row8_col0\" class=\"data row8 col0\" >Martha's cat catches 3 rats and 7 birds. Cara's cat catches 3 less than five times as many animals as Martha's cat. How many animals...</td>\n",
       "      <td id=\"T_74065_row8_col1\" class=\"data row8 col1\" >First find the total number of animals Martha's cat catches: 3 rats + 7 birds = <<3+7=10>>10 animals Then multiply that number by 5: 10...</td>\n",
       "      <td id=\"T_74065_row8_col2\" class=\"data row8 col2\" >47</td>\n",
       "      <td id=\"T_74065_row8_col3\" class=\"data row8 col3\" >Paris Question: How many days are in a week? Reasoning: Let's think step by step in order to determine how many days are in a...</td>\n",
       "      <td id=\"T_74065_row8_col4\" class=\"data row8 col4\" >❌ [False]</td>\n",
       "    </tr>\n",
       "    <tr>\n",
       "      <th id=\"T_74065_level0_row9\" class=\"row_heading level0 row9\" >9</th>\n",
       "      <td id=\"T_74065_row9_col0\" class=\"data row9 col0\" >Trey is raising money for a new bike that costs $112. He plans to spend the next two weeks selling bracelets for $1 each. On...</td>\n",
       "      <td id=\"T_74065_row9_col1\" class=\"data row9 col1\" >He needs to sell 112 bracelets because 112 divided by 1 equals <<112/1=112>>112. He has 14 days to sell bracelets because there are seven days...</td>\n",
       "      <td id=\"T_74065_row9_col2\" class=\"data row9 col2\" >8</td>\n",
       "      <td id=\"T_74065_row9_col3\" class=\"data row9 col3\" >14 Question: How much money does Trey need to make from selling bracelets? Answer: $112 Question: What is the average number of bracelets he needs...</td>\n",
       "      <td id=\"T_74065_row9_col4\" class=\"data row9 col4\" >❌ [False]</td>\n",
       "    </tr>\n",
       "  </tbody>\n",
       "</table>\n"
      ],
      "text/plain": [
       "<pandas.io.formats.style.Styler at 0x7feded772950>"
      ]
     },
     "metadata": {},
     "output_type": "display_data"
    },
    {
     "data": {
      "text/html": [
       "\n",
       "                <div style='\n",
       "                    text-align: center; \n",
       "                    font-size: 16px; \n",
       "                    font-weight: bold; \n",
       "                    color: #555; \n",
       "                    margin: 10px 0;'>\n",
       "                    ... 15 more rows not displayed ...\n",
       "                </div>\n",
       "                "
      ],
      "text/plain": [
       "<IPython.core.display.HTML object>"
      ]
     },
     "metadata": {},
     "output_type": "display_data"
    },
    {
     "name": "stderr",
     "output_type": "stream",
     "text": [
      "  0%|          | 0/30 [00:00<?, ?it/s]Your max_length is set to 200, but your input_length is only 12. Since this is a summarization task, where outputs shorter than the input are typically wanted, you might consider decreasing max_length manually, e.g. summarizer('...', max_length=6)\n",
      "  3%|▎         | 1/30 [01:32<44:47, 92.66s/it]Your max_length is set to 200, but your input_length is only 16. Since this is a summarization task, where outputs shorter than the input are typically wanted, you might consider decreasing max_length manually, e.g. summarizer('...', max_length=8)\n",
      "  7%|▋         | 2/30 [02:51<39:33, 84.77s/it]Your max_length is set to 200, but your input_length is only 17. Since this is a summarization task, where outputs shorter than the input are typically wanted, you might consider decreasing max_length manually, e.g. summarizer('...', max_length=8)\n",
      " 10%|█         | 3/30 [04:18<38:27, 85.45s/it]Your max_length is set to 200, but your input_length is only 9. Since this is a summarization task, where outputs shorter than the input are typically wanted, you might consider decreasing max_length manually, e.g. summarizer('...', max_length=4)\n",
      " 13%|█▎        | 4/30 [05:40<36:28, 84.16s/it]Your max_length is set to 200, but your input_length is only 50. Since this is a summarization task, where outputs shorter than the input are typically wanted, you might consider decreasing max_length manually, e.g. summarizer('...', max_length=25)\n",
      " 17%|█▋        | 5/30 [08:21<46:34, 111.78s/it]Your max_length is set to 200, but your input_length is only 14. Since this is a summarization task, where outputs shorter than the input are typically wanted, you might consider decreasing max_length manually, e.g. summarizer('...', max_length=7)\n",
      " 20%|██        | 6/30 [09:56<42:26, 106.09s/it]Your max_length is set to 200, but your input_length is only 15. Since this is a summarization task, where outputs shorter than the input are typically wanted, you might consider decreasing max_length manually, e.g. summarizer('...', max_length=7)\n",
      " 23%|██▎       | 7/30 [11:19<37:49, 98.66s/it] Your max_length is set to 200, but your input_length is only 17. Since this is a summarization task, where outputs shorter than the input are typically wanted, you might consider decreasing max_length manually, e.g. summarizer('...', max_length=8)\n",
      " 27%|██▋       | 8/30 [12:43<34:29, 94.06s/it]Your max_length is set to 200, but your input_length is only 27. Since this is a summarization task, where outputs shorter than the input are typically wanted, you might consider decreasing max_length manually, e.g. summarizer('...', max_length=13)\n",
      " 30%|███       | 9/30 [14:05<31:33, 90.17s/it]Your max_length is set to 200, but your input_length is only 28. Since this is a summarization task, where outputs shorter than the input are typically wanted, you might consider decreasing max_length manually, e.g. summarizer('...', max_length=14)\n",
      " 33%|███▎      | 10/30 [16:05<33:11, 99.58s/it]Your max_length is set to 200, but your input_length is only 27. Since this is a summarization task, where outputs shorter than the input are typically wanted, you might consider decreasing max_length manually, e.g. summarizer('...', max_length=13)\n",
      " 37%|███▋      | 11/30 [18:06<33:33, 105.95s/it]Your max_length is set to 200, but your input_length is only 25. Since this is a summarization task, where outputs shorter than the input are typically wanted, you might consider decreasing max_length manually, e.g. summarizer('...', max_length=12)\n",
      " 40%|████      | 12/30 [20:11<33:31, 111.73s/it]Your max_length is set to 200, but your input_length is only 33. Since this is a summarization task, where outputs shorter than the input are typically wanted, you might consider decreasing max_length manually, e.g. summarizer('...', max_length=16)\n",
      " 43%|████▎     | 13/30 [22:17<32:55, 116.21s/it]Your max_length is set to 200, but your input_length is only 12. Since this is a summarization task, where outputs shorter than the input are typically wanted, you might consider decreasing max_length manually, e.g. summarizer('...', max_length=6)\n",
      " 47%|████▋     | 14/30 [23:56<29:32, 110.78s/it]Your max_length is set to 200, but your input_length is only 15. Since this is a summarization task, where outputs shorter than the input are typically wanted, you might consider decreasing max_length manually, e.g. summarizer('...', max_length=7)\n",
      " 50%|█████     | 15/30 [25:30<26:29, 105.94s/it]Your max_length is set to 200, but your input_length is only 22. Since this is a summarization task, where outputs shorter than the input are typically wanted, you might consider decreasing max_length manually, e.g. summarizer('...', max_length=11)\n",
      " 53%|█████▎    | 16/30 [27:28<25:31, 109.41s/it]Your max_length is set to 200, but your input_length is only 29. Since this is a summarization task, where outputs shorter than the input are typically wanted, you might consider decreasing max_length manually, e.g. summarizer('...', max_length=14)\n",
      " 57%|█████▋    | 17/30 [29:48<25:41, 118.57s/it]Your max_length is set to 200, but your input_length is only 11. Since this is a summarization task, where outputs shorter than the input are typically wanted, you might consider decreasing max_length manually, e.g. summarizer('...', max_length=5)\n",
      " 60%|██████    | 18/30 [31:33<22:55, 114.66s/it]Your max_length is set to 200, but your input_length is only 34. Since this is a summarization task, where outputs shorter than the input are typically wanted, you might consider decreasing max_length manually, e.g. summarizer('...', max_length=17)\n",
      " 63%|██████▎   | 19/30 [34:20<23:52, 130.21s/it]Your max_length is set to 200, but your input_length is only 11. Since this is a summarization task, where outputs shorter than the input are typically wanted, you might consider decreasing max_length manually, e.g. summarizer('...', max_length=5)\n",
      " 67%|██████▋   | 20/30 [36:05<20:28, 122.89s/it]Your max_length is set to 200, but your input_length is only 14. Since this is a summarization task, where outputs shorter than the input are typically wanted, you might consider decreasing max_length manually, e.g. summarizer('...', max_length=7)\n",
      " 70%|███████   | 21/30 [37:30<16:41, 111.30s/it]Your max_length is set to 200, but your input_length is only 18. Since this is a summarization task, where outputs shorter than the input are typically wanted, you might consider decreasing max_length manually, e.g. summarizer('...', max_length=9)\n",
      " 73%|███████▎  | 22/30 [39:07<14:16, 107.05s/it]Your max_length is set to 200, but your input_length is only 4. Since this is a summarization task, where outputs shorter than the input are typically wanted, you might consider decreasing max_length manually, e.g. summarizer('...', max_length=2)\n",
      " 77%|███████▋  | 23/30 [40:40<12:00, 102.92s/it]Your max_length is set to 200, but your input_length is only 6. Since this is a summarization task, where outputs shorter than the input are typically wanted, you might consider decreasing max_length manually, e.g. summarizer('...', max_length=3)\n",
      " 80%|████████  | 24/30 [41:52<09:20, 93.46s/it] Your max_length is set to 200, but your input_length is only 14. Since this is a summarization task, where outputs shorter than the input are typically wanted, you might consider decreasing max_length manually, e.g. summarizer('...', max_length=7)\n",
      " 83%|████████▎ | 25/30 [43:55<08:32, 102.47s/it]Your max_length is set to 200, but your input_length is only 22. Since this is a summarization task, where outputs shorter than the input are typically wanted, you might consider decreasing max_length manually, e.g. summarizer('...', max_length=11)\n",
      " 87%|████████▋ | 26/30 [45:52<07:07, 106.78s/it]Your max_length is set to 200, but your input_length is only 14. Since this is a summarization task, where outputs shorter than the input are typically wanted, you might consider decreasing max_length manually, e.g. summarizer('...', max_length=7)\n",
      " 90%|█████████ | 27/30 [47:27<05:09, 103.17s/it]Your max_length is set to 200, but your input_length is only 13. Since this is a summarization task, where outputs shorter than the input are typically wanted, you might consider decreasing max_length manually, e.g. summarizer('...', max_length=6)\n",
      " 93%|█████████▎| 28/30 [49:14<03:29, 104.52s/it]Your max_length is set to 200, but your input_length is only 23. Since this is a summarization task, where outputs shorter than the input are typically wanted, you might consider decreasing max_length manually, e.g. summarizer('...', max_length=11)\n",
      " 97%|█████████▋| 29/30 [50:50<01:41, 101.94s/it]Your max_length is set to 200, but your input_length is only 12. Since this is a summarization task, where outputs shorter than the input are typically wanted, you might consider decreasing max_length manually, e.g. summarizer('...', max_length=6)\n",
      "100%|██████████| 30/30 [52:31<00:00, 105.05s/it]\n"
     ]
    },
    {
     "name": "stdout",
     "output_type": "stream",
     "text": [
      "Bootstrapped 0 full traces after 30 examples in round 0.\n"
     ]
    },
    {
     "name": "stderr",
     "output_type": "stream",
     "text": [
      "  0%|          | 0/25 [00:00<?, ?it/s]Your max_length is set to 200, but your input_length is only 30. Since this is a summarization task, where outputs shorter than the input are typically wanted, you might consider decreasing max_length manually, e.g. summarizer('...', max_length=15)\n",
      "Average Metric: 0 / 1  (0.0):   4%|▍         | 1/25 [02:24<57:45, 144.41s/it]Your max_length is set to 200, but your input_length is only 14. Since this is a summarization task, where outputs shorter than the input are typically wanted, you might consider decreasing max_length manually, e.g. summarizer('...', max_length=7)\n",
      "Average Metric: 0 / 2  (0.0):   8%|▊         | 2/25 [04:20<49:01, 127.90s/it]Your max_length is set to 200, but your input_length is only 28. Since this is a summarization task, where outputs shorter than the input are typically wanted, you might consider decreasing max_length manually, e.g. summarizer('...', max_length=14)\n",
      "Average Metric: 0 / 3  (0.0):  12%|█▏        | 3/25 [06:02<42:36, 116.18s/it]Your max_length is set to 200, but your input_length is only 12. Since this is a summarization task, where outputs shorter than the input are typically wanted, you might consider decreasing max_length manually, e.g. summarizer('...', max_length=6)\n",
      "Average Metric: 0 / 4  (0.0):  16%|█▌        | 4/25 [07:29<36:32, 104.40s/it]Your max_length is set to 200, but your input_length is only 12. Since this is a summarization task, where outputs shorter than the input are typically wanted, you might consider decreasing max_length manually, e.g. summarizer('...', max_length=6)\n",
      "Average Metric: 0 / 5  (0.0):  20%|██        | 5/25 [08:54<32:25, 97.29s/it] Your max_length is set to 200, but your input_length is only 20. Since this is a summarization task, where outputs shorter than the input are typically wanted, you might consider decreasing max_length manually, e.g. summarizer('...', max_length=10)\n",
      "Average Metric: 0 / 6  (0.0):  24%|██▍       | 6/25 [10:27<30:22, 95.94s/it]Your max_length is set to 200, but your input_length is only 23. Since this is a summarization task, where outputs shorter than the input are typically wanted, you might consider decreasing max_length manually, e.g. summarizer('...', max_length=11)\n",
      "Average Metric: 0 / 7  (0.0):  28%|██▊       | 7/25 [11:58<28:16, 94.23s/it]Your max_length is set to 200, but your input_length is only 39. Since this is a summarization task, where outputs shorter than the input are typically wanted, you might consider decreasing max_length manually, e.g. summarizer('...', max_length=19)\n",
      "Average Metric: 0 / 8  (0.0):  32%|███▏      | 8/25 [14:25<31:31, 111.25s/it]Your max_length is set to 200, but your input_length is only 32. Since this is a summarization task, where outputs shorter than the input are typically wanted, you might consider decreasing max_length manually, e.g. summarizer('...', max_length=16)\n",
      "Average Metric: 0 / 9  (0.0):  36%|███▌      | 9/25 [16:45<32:01, 120.06s/it]Your max_length is set to 200, but your input_length is only 15. Since this is a summarization task, where outputs shorter than the input are typically wanted, you might consider decreasing max_length manually, e.g. summarizer('...', max_length=7)\n",
      "Average Metric: 0 / 10  (0.0):  40%|████      | 10/25 [18:33<29:06, 116.43s/it]Your max_length is set to 200, but your input_length is only 19. Since this is a summarization task, where outputs shorter than the input are typically wanted, you might consider decreasing max_length manually, e.g. summarizer('...', max_length=9)\n",
      "Average Metric: 0 / 11  (0.0):  44%|████▍     | 11/25 [20:09<25:43, 110.23s/it]Your max_length is set to 200, but your input_length is only 13. Since this is a summarization task, where outputs shorter than the input are typically wanted, you might consider decreasing max_length manually, e.g. summarizer('...', max_length=6)\n",
      "Average Metric: 0 / 12  (0.0):  48%|████▊     | 12/25 [21:29<21:53, 101.02s/it]Your max_length is set to 200, but your input_length is only 10. Since this is a summarization task, where outputs shorter than the input are typically wanted, you might consider decreasing max_length manually, e.g. summarizer('...', max_length=5)\n",
      "Average Metric: 0 / 13  (0.0):  52%|█████▏    | 13/25 [23:06<19:56, 99.68s/it] Your max_length is set to 200, but your input_length is only 18. Since this is a summarization task, where outputs shorter than the input are typically wanted, you might consider decreasing max_length manually, e.g. summarizer('...', max_length=9)\n",
      "Average Metric: 0 / 14  (0.0):  56%|█████▌    | 14/25 [24:52<18:38, 101.64s/it]Your max_length is set to 200, but your input_length is only 18. Since this is a summarization task, where outputs shorter than the input are typically wanted, you might consider decreasing max_length manually, e.g. summarizer('...', max_length=9)\n",
      "Average Metric: 0 / 15  (0.0):  60%|██████    | 15/25 [26:16<16:03, 96.39s/it] Your max_length is set to 200, but your input_length is only 21. Since this is a summarization task, where outputs shorter than the input are typically wanted, you might consider decreasing max_length manually, e.g. summarizer('...', max_length=10)\n",
      "Average Metric: 0 / 16  (0.0):  64%|██████▍   | 16/25 [28:09<15:13, 101.48s/it]Your max_length is set to 200, but your input_length is only 26. Since this is a summarization task, where outputs shorter than the input are typically wanted, you might consider decreasing max_length manually, e.g. summarizer('...', max_length=13)\n",
      "Average Metric: 0 / 17  (0.0):  68%|██████▊   | 17/25 [29:58<13:48, 103.59s/it]Your max_length is set to 200, but your input_length is only 17. Since this is a summarization task, where outputs shorter than the input are typically wanted, you might consider decreasing max_length manually, e.g. summarizer('...', max_length=8)\n",
      "Average Metric: 0 / 18  (0.0):  72%|███████▏  | 18/25 [31:40<12:01, 103.03s/it]Your max_length is set to 200, but your input_length is only 27. Since this is a summarization task, where outputs shorter than the input are typically wanted, you might consider decreasing max_length manually, e.g. summarizer('...', max_length=13)\n",
      "Average Metric: 0 / 19  (0.0):  76%|███████▌  | 19/25 [33:41<10:51, 108.64s/it]Your max_length is set to 200, but your input_length is only 29. Since this is a summarization task, where outputs shorter than the input are typically wanted, you might consider decreasing max_length manually, e.g. summarizer('...', max_length=14)\n",
      "Average Metric: 0 / 20  (0.0):  80%|████████  | 20/25 [35:16<08:42, 104.56s/it]Your max_length is set to 200, but your input_length is only 20. Since this is a summarization task, where outputs shorter than the input are typically wanted, you might consider decreasing max_length manually, e.g. summarizer('...', max_length=10)\n",
      "Average Metric: 0 / 21  (0.0):  84%|████████▍ | 21/25 [37:00<06:56, 104.20s/it]Your max_length is set to 200, but your input_length is only 19. Since this is a summarization task, where outputs shorter than the input are typically wanted, you might consider decreasing max_length manually, e.g. summarizer('...', max_length=9)\n",
      "Average Metric: 0 / 22  (0.0):  88%|████████▊ | 22/25 [38:44<05:12, 104.29s/it]Your max_length is set to 200, but your input_length is only 25. Since this is a summarization task, where outputs shorter than the input are typically wanted, you might consider decreasing max_length manually, e.g. summarizer('...', max_length=12)\n",
      "Average Metric: 0 / 23  (0.0):  92%|█████████▏| 23/25 [40:39<03:34, 107.38s/it]Your max_length is set to 200, but your input_length is only 16. Since this is a summarization task, where outputs shorter than the input are typically wanted, you might consider decreasing max_length manually, e.g. summarizer('...', max_length=8)\n",
      "Average Metric: 0 / 24  (0.0):  96%|█████████▌| 24/25 [42:31<01:48, 108.82s/it]Your max_length is set to 200, but your input_length is only 21. Since this is a summarization task, where outputs shorter than the input are typically wanted, you might consider decreasing max_length manually, e.g. summarizer('...', max_length=10)\n",
      "Average Metric: 0 / 25  (0.0): 100%|██████████| 25/25 [44:26<00:00, 106.67s/it]\n"
     ]
    },
    {
     "name": "stdout",
     "output_type": "stream",
     "text": [
      "Average Metric: 0 / 25  (0.0%)\n"
     ]
    },
    {
     "name": "stderr",
     "output_type": "stream",
     "text": [
      "/home/daniel/Documents/Github/autogoal-core/dspy/dspy/evaluate/evaluate.py:126: FutureWarning: DataFrame.applymap has been deprecated. Use DataFrame.map instead.\n",
      "  df = df.applymap(truncate_cell)\n"
     ]
    },
    {
     "data": {
      "text/html": [
       "<style type=\"text/css\">\n",
       "#T_1a7f3 th {\n",
       "  text-align: left;\n",
       "}\n",
       "#T_1a7f3 td {\n",
       "  text-align: left;\n",
       "}\n",
       "#T_1a7f3_row0_col0, #T_1a7f3_row0_col1, #T_1a7f3_row0_col2, #T_1a7f3_row0_col3, #T_1a7f3_row0_col4, #T_1a7f3_row1_col0, #T_1a7f3_row1_col1, #T_1a7f3_row1_col2, #T_1a7f3_row1_col3, #T_1a7f3_row1_col4, #T_1a7f3_row2_col0, #T_1a7f3_row2_col1, #T_1a7f3_row2_col2, #T_1a7f3_row2_col3, #T_1a7f3_row2_col4, #T_1a7f3_row3_col0, #T_1a7f3_row3_col1, #T_1a7f3_row3_col2, #T_1a7f3_row3_col3, #T_1a7f3_row3_col4, #T_1a7f3_row4_col0, #T_1a7f3_row4_col1, #T_1a7f3_row4_col2, #T_1a7f3_row4_col3, #T_1a7f3_row4_col4, #T_1a7f3_row5_col0, #T_1a7f3_row5_col1, #T_1a7f3_row5_col2, #T_1a7f3_row5_col3, #T_1a7f3_row5_col4, #T_1a7f3_row6_col0, #T_1a7f3_row6_col1, #T_1a7f3_row6_col2, #T_1a7f3_row6_col3, #T_1a7f3_row6_col4, #T_1a7f3_row7_col0, #T_1a7f3_row7_col1, #T_1a7f3_row7_col2, #T_1a7f3_row7_col3, #T_1a7f3_row7_col4, #T_1a7f3_row8_col0, #T_1a7f3_row8_col1, #T_1a7f3_row8_col2, #T_1a7f3_row8_col3, #T_1a7f3_row8_col4, #T_1a7f3_row9_col0, #T_1a7f3_row9_col1, #T_1a7f3_row9_col2, #T_1a7f3_row9_col3, #T_1a7f3_row9_col4 {\n",
       "  text-align: left;\n",
       "  white-space: pre-wrap;\n",
       "  word-wrap: break-word;\n",
       "  max-width: 400px;\n",
       "}\n",
       "</style>\n",
       "<table id=\"T_1a7f3\">\n",
       "  <thead>\n",
       "    <tr>\n",
       "      <th class=\"blank level0\" >&nbsp;</th>\n",
       "      <th id=\"T_1a7f3_level0_col0\" class=\"col_heading level0 col0\" >question</th>\n",
       "      <th id=\"T_1a7f3_level0_col1\" class=\"col_heading level0 col1\" >gold_reasoning</th>\n",
       "      <th id=\"T_1a7f3_level0_col2\" class=\"col_heading level0 col2\" >example_answer</th>\n",
       "      <th id=\"T_1a7f3_level0_col3\" class=\"col_heading level0 col3\" >pred_answer</th>\n",
       "      <th id=\"T_1a7f3_level0_col4\" class=\"col_heading level0 col4\" >gsm8k_metric</th>\n",
       "    </tr>\n",
       "  </thead>\n",
       "  <tbody>\n",
       "    <tr>\n",
       "      <th id=\"T_1a7f3_level0_row0\" class=\"row_heading level0 row0\" >0</th>\n",
       "      <td id=\"T_1a7f3_row0_col0\" class=\"data row0 col0\" >20 birds migrate on a seasonal basis from one lake to another, searching for food. If they fly from lake Jim to lake Disney in...</td>\n",
       "      <td id=\"T_1a7f3_row0_col1\" class=\"data row0 col1\" >The birds' flying distance between Lake Jim through lake Disney to lake London is 50+60 = <<50+60=110>>110 miles. Since each bird flies the 110 miles...</td>\n",
       "      <td id=\"T_1a7f3_row0_col2\" class=\"data row0 col2\" >2200</td>\n",
       "      <td id=\"T_1a7f3_row0_col3\" class=\"data row0 col3\" >H</td>\n",
       "      <td id=\"T_1a7f3_row0_col4\" class=\"data row0 col4\" >❌ [False]</td>\n",
       "    </tr>\n",
       "    <tr>\n",
       "      <th id=\"T_1a7f3_level0_row1\" class=\"row_heading level0 row1\" >1</th>\n",
       "      <td id=\"T_1a7f3_row1_col0\" class=\"data row1 col0\" >Wendy went to the dentist for a cleaning, two fillings, and a tooth extraction. The dentist charges $70 for a cleaning and $120 for a...</td>\n",
       "      <td id=\"T_1a7f3_row1_col1\" class=\"data row1 col1\" >Wendy’s dentist bill was 5 * $120 = $<<5*120=600>>600. She got two fillings at a cost of 2 * $120 = $<<2*120=240>>240. Thus, Wendy paid...</td>\n",
       "      <td id=\"T_1a7f3_row1_col2\" class=\"data row1 col2\" >290</td>\n",
       "      <td id=\"T_1a7f3_row1_col3\" class=\"data row1 col3\" >H</td>\n",
       "      <td id=\"T_1a7f3_row1_col4\" class=\"data row1 col4\" >❌ [False]</td>\n",
       "    </tr>\n",
       "    <tr>\n",
       "      <th id=\"T_1a7f3_level0_row2\" class=\"row_heading level0 row2\" >2</th>\n",
       "      <td id=\"T_1a7f3_row2_col0\" class=\"data row2 col0\" >Karen is packing her backpack for a long-distance hike. She packs 20 pounds of water, 10 pounds of food, and 20 pounds of gear. During...</td>\n",
       "      <td id=\"T_1a7f3_row2_col1\" class=\"data row2 col1\" >First find the weight of food Karen eats every hour: 2 pounds * 1/3 = 2/3 pounds food. Then find the total amount of weight...</td>\n",
       "      <td id=\"T_1a7f3_row2_col2\" class=\"data row2 col2\" >34</td>\n",
       "      <td id=\"T_1a7f3_row2_col3\" class=\"data row2 col3\" >H</td>\n",
       "      <td id=\"T_1a7f3_row2_col4\" class=\"data row2 col4\" >❌ [False]</td>\n",
       "    </tr>\n",
       "    <tr>\n",
       "      <th id=\"T_1a7f3_level0_row3\" class=\"row_heading level0 row3\" >3</th>\n",
       "      <td id=\"T_1a7f3_row3_col0\" class=\"data row3 col0\" >Rita is reading a five-chapter book with 95 pages. Each chapter has three pages more than the previous one. How many pages does the first...</td>\n",
       "      <td id=\"T_1a7f3_row3_col1\" class=\"data row3 col1\" >Let P be the number of pages in the first chapter. The second chapter has P + 3 pages. The third chapter has P +...</td>\n",
       "      <td id=\"T_1a7f3_row3_col2\" class=\"data row3 col2\" >13</td>\n",
       "      <td id=\"T_1a7f3_row3_col3\" class=\"data row3 col3\" >H</td>\n",
       "      <td id=\"T_1a7f3_row3_col4\" class=\"data row3 col4\" >❌ [False]</td>\n",
       "    </tr>\n",
       "    <tr>\n",
       "      <th id=\"T_1a7f3_level0_row4\" class=\"row_heading level0 row4\" >4</th>\n",
       "      <td id=\"T_1a7f3_row4_col0\" class=\"data row4 col0\" >Benjamin collects 6 dozen eggs a day. Carla collects 3 times the number of eggs that Benjamin collects. Trisha collects 4 dozen less than Benjamin....</td>\n",
       "      <td id=\"T_1a7f3_row4_col1\" class=\"data row4 col1\" >Carla:3(6)=18 dozen eggs Trisha: 6-4=<<6-4=2>>2 dozen eggs Total: 6+18+2=<<6+18+2=26>>26 dozen eggs</td>\n",
       "      <td id=\"T_1a7f3_row4_col2\" class=\"data row4 col2\" >26</td>\n",
       "      <td id=\"T_1a7f3_row4_col3\" class=\"data row4 col3\" >Not enough information provided for summary generation. Please provide more context or text.</td>\n",
       "      <td id=\"T_1a7f3_row4_col4\" class=\"data row4 col4\" >❌ [False]</td>\n",
       "    </tr>\n",
       "    <tr>\n",
       "      <th id=\"T_1a7f3_level0_row5\" class=\"row_heading level0 row5\" >5</th>\n",
       "      <td id=\"T_1a7f3_row5_col0\" class=\"data row5 col0\" >Roy spends 2 hours on sports activities in school every day. He goes to school 5 days a week. If he missed 2 days within...</td>\n",
       "      <td id=\"T_1a7f3_row5_col1\" class=\"data row5 col1\" >He goes to.school 5 days a week so if he misses 2 days within the week he was present for 5-2 = <<5-2=3>>3 days He...</td>\n",
       "      <td id=\"T_1a7f3_row5_col2\" class=\"data row5 col2\" >6</td>\n",
       "      <td id=\"T_1a7f3_row5_col3\" class=\"data row5 col3\" >H</td>\n",
       "      <td id=\"T_1a7f3_row5_col4\" class=\"data row5 col4\" >❌ [False]</td>\n",
       "    </tr>\n",
       "    <tr>\n",
       "      <th id=\"T_1a7f3_level0_row6\" class=\"row_heading level0 row6\" >6</th>\n",
       "      <td id=\"T_1a7f3_row6_col0\" class=\"data row6 col0\" >Cameron is printing her thesis in the school library and has 400 A4 pieces of paper. If 40% of the papers did not print out...</td>\n",
       "      <td id=\"T_1a7f3_row6_col1\" class=\"data row6 col1\" >If she had 400 papers, the total number of documents she separated as invalid is 40/100 * 400 pages = <<40/100*400=160>>160 pages. The number of...</td>\n",
       "      <td id=\"T_1a7f3_row6_col2\" class=\"data row6 col2\" >240</td>\n",
       "      <td id=\"T_1a7f3_row6_col3\" class=\"data row6 col3\" >H</td>\n",
       "      <td id=\"T_1a7f3_row6_col4\" class=\"data row6 col4\" >❌ [False]</td>\n",
       "    </tr>\n",
       "    <tr>\n",
       "      <th id=\"T_1a7f3_level0_row7\" class=\"row_heading level0 row7\" >7</th>\n",
       "      <td id=\"T_1a7f3_row7_col0\" class=\"data row7 col0\" >Burt spent $2.00 on a packet of basil seeds and $8.00 on potting soil. The packet of seeds yielded 20 basil plants. He sells each...</td>\n",
       "      <td id=\"T_1a7f3_row7_col1\" class=\"data row7 col1\" >He spent $2.00 on seeds and $8.00 on soil for a total of 2+8 = $<<2+8=10.00>>10.00 He sells each of the 20 basil plants for...</td>\n",
       "      <td id=\"T_1a7f3_row7_col2\" class=\"data row7 col2\" >90</td>\n",
       "      <td id=\"T_1a7f3_row7_col3\" class=\"data row7 col3\" >W (The given text \"W\" is too short to summarize effectively. Please provide a longer text for summarization.)</td>\n",
       "      <td id=\"T_1a7f3_row7_col4\" class=\"data row7 col4\" >❌ [False]</td>\n",
       "    </tr>\n",
       "    <tr>\n",
       "      <th id=\"T_1a7f3_level0_row8\" class=\"row_heading level0 row8\" >8</th>\n",
       "      <td id=\"T_1a7f3_row8_col0\" class=\"data row8 col0\" >Martha's cat catches 3 rats and 7 birds. Cara's cat catches 3 less than five times as many animals as Martha's cat. How many animals...</td>\n",
       "      <td id=\"T_1a7f3_row8_col1\" class=\"data row8 col1\" >First find the total number of animals Martha's cat catches: 3 rats + 7 birds = <<3+7=10>>10 animals Then multiply that number by 5: 10...</td>\n",
       "      <td id=\"T_1a7f3_row8_col2\" class=\"data row8 col2\" >47</td>\n",
       "      <td id=\"T_1a7f3_row8_col3\" class=\"data row8 col3\" >H</td>\n",
       "      <td id=\"T_1a7f3_row8_col4\" class=\"data row8 col4\" >❌ [False]</td>\n",
       "    </tr>\n",
       "    <tr>\n",
       "      <th id=\"T_1a7f3_level0_row9\" class=\"row_heading level0 row9\" >9</th>\n",
       "      <td id=\"T_1a7f3_row9_col0\" class=\"data row9 col0\" >Trey is raising money for a new bike that costs $112. He plans to spend the next two weeks selling bracelets for $1 each. On...</td>\n",
       "      <td id=\"T_1a7f3_row9_col1\" class=\"data row9 col1\" >He needs to sell 112 bracelets because 112 divided by 1 equals <<112/1=112>>112. He has 14 days to sell bracelets because there are seven days...</td>\n",
       "      <td id=\"T_1a7f3_row9_col2\" class=\"data row9 col2\" >8</td>\n",
       "      <td id=\"T_1a7f3_row9_col3\" class=\"data row9 col3\" >H</td>\n",
       "      <td id=\"T_1a7f3_row9_col4\" class=\"data row9 col4\" >❌ [False]</td>\n",
       "    </tr>\n",
       "  </tbody>\n",
       "</table>\n"
      ],
      "text/plain": [
       "<pandas.io.formats.style.Styler at 0x7feded772980>"
      ]
     },
     "metadata": {},
     "output_type": "display_data"
    },
    {
     "data": {
      "text/html": [
       "\n",
       "                <div style='\n",
       "                    text-align: center; \n",
       "                    font-size: 16px; \n",
       "                    font-weight: bold; \n",
       "                    color: #555; \n",
       "                    margin: 10px 0;'>\n",
       "                    ... 15 more rows not displayed ...\n",
       "                </div>\n",
       "                "
      ],
      "text/plain": [
       "<IPython.core.display.HTML object>"
      ]
     },
     "metadata": {},
     "output_type": "display_data"
    },
    {
     "name": "stderr",
     "output_type": "stream",
     "text": [
      "  0%|          | 0/30 [00:00<?, ?it/s]Your max_length is set to 200, but your input_length is only 12. Since this is a summarization task, where outputs shorter than the input are typically wanted, you might consider decreasing max_length manually, e.g. summarizer('...', max_length=6)\n",
      "  3%|▎         | 1/30 [00:33<16:09, 33.44s/it]Your max_length is set to 200, but your input_length is only 16. Since this is a summarization task, where outputs shorter than the input are typically wanted, you might consider decreasing max_length manually, e.g. summarizer('...', max_length=8)\n",
      "  7%|▋         | 2/30 [00:59<13:32, 29.01s/it]Your max_length is set to 200, but your input_length is only 17. Since this is a summarization task, where outputs shorter than the input are typically wanted, you might consider decreasing max_length manually, e.g. summarizer('...', max_length=8)\n",
      " 10%|█         | 3/30 [01:38<15:05, 33.52s/it]Your max_length is set to 200, but your input_length is only 9. Since this is a summarization task, where outputs shorter than the input are typically wanted, you might consider decreasing max_length manually, e.g. summarizer('...', max_length=4)\n",
      " 13%|█▎        | 4/30 [02:07<13:43, 31.68s/it]Your max_length is set to 200, but your input_length is only 50. Since this is a summarization task, where outputs shorter than the input are typically wanted, you might consider decreasing max_length manually, e.g. summarizer('...', max_length=25)\n",
      " 17%|█▋        | 5/30 [02:53<15:21, 36.86s/it]Your max_length is set to 200, but your input_length is only 14. Since this is a summarization task, where outputs shorter than the input are typically wanted, you might consider decreasing max_length manually, e.g. summarizer('...', max_length=7)\n",
      " 20%|██        | 6/30 [03:19<13:18, 33.27s/it]Your max_length is set to 200, but your input_length is only 15. Since this is a summarization task, where outputs shorter than the input are typically wanted, you might consider decreasing max_length manually, e.g. summarizer('...', max_length=7)\n",
      " 23%|██▎       | 7/30 [03:42<11:31, 30.05s/it]Your max_length is set to 200, but your input_length is only 17. Since this is a summarization task, where outputs shorter than the input are typically wanted, you might consider decreasing max_length manually, e.g. summarizer('...', max_length=8)\n",
      " 27%|██▋       | 8/30 [04:09<10:35, 28.90s/it]Your max_length is set to 200, but your input_length is only 27. Since this is a summarization task, where outputs shorter than the input are typically wanted, you might consider decreasing max_length manually, e.g. summarizer('...', max_length=13)\n",
      " 30%|███       | 9/30 [04:24<08:37, 24.64s/it]Your max_length is set to 200, but your input_length is only 28. Since this is a summarization task, where outputs shorter than the input are typically wanted, you might consider decreasing max_length manually, e.g. summarizer('...', max_length=14)\n",
      " 33%|███▎      | 10/30 [04:52<08:31, 25.60s/it]Your max_length is set to 200, but your input_length is only 27. Since this is a summarization task, where outputs shorter than the input are typically wanted, you might consider decreasing max_length manually, e.g. summarizer('...', max_length=13)\n",
      " 37%|███▋      | 11/30 [05:33<09:37, 30.40s/it]Your max_length is set to 200, but your input_length is only 25. Since this is a summarization task, where outputs shorter than the input are typically wanted, you might consider decreasing max_length manually, e.g. summarizer('...', max_length=12)\n",
      " 40%|████      | 12/30 [05:59<08:41, 28.95s/it]Your max_length is set to 200, but your input_length is only 33. Since this is a summarization task, where outputs shorter than the input are typically wanted, you might consider decreasing max_length manually, e.g. summarizer('...', max_length=16)\n",
      " 43%|████▎     | 13/30 [06:42<09:25, 33.24s/it]Your max_length is set to 200, but your input_length is only 12. Since this is a summarization task, where outputs shorter than the input are typically wanted, you might consider decreasing max_length manually, e.g. summarizer('...', max_length=6)\n",
      " 47%|████▋     | 14/30 [07:05<08:02, 30.13s/it]Your max_length is set to 200, but your input_length is only 15. Since this is a summarization task, where outputs shorter than the input are typically wanted, you might consider decreasing max_length manually, e.g. summarizer('...', max_length=7)\n",
      " 50%|█████     | 15/30 [07:44<08:14, 32.95s/it]Your max_length is set to 200, but your input_length is only 22. Since this is a summarization task, where outputs shorter than the input are typically wanted, you might consider decreasing max_length manually, e.g. summarizer('...', max_length=11)\n",
      " 53%|█████▎    | 16/30 [08:12<07:19, 31.41s/it]Your max_length is set to 200, but your input_length is only 29. Since this is a summarization task, where outputs shorter than the input are typically wanted, you might consider decreasing max_length manually, e.g. summarizer('...', max_length=14)\n",
      " 57%|█████▋    | 17/30 [08:58<07:46, 35.89s/it]Your max_length is set to 200, but your input_length is only 11. Since this is a summarization task, where outputs shorter than the input are typically wanted, you might consider decreasing max_length manually, e.g. summarizer('...', max_length=5)\n",
      " 60%|██████    | 18/30 [09:28<06:48, 34.03s/it]Your max_length is set to 200, but your input_length is only 34. Since this is a summarization task, where outputs shorter than the input are typically wanted, you might consider decreasing max_length manually, e.g. summarizer('...', max_length=17)\n",
      " 63%|██████▎   | 19/30 [10:15<06:56, 37.86s/it]Your max_length is set to 200, but your input_length is only 11. Since this is a summarization task, where outputs shorter than the input are typically wanted, you might consider decreasing max_length manually, e.g. summarizer('...', max_length=5)\n",
      " 67%|██████▋   | 20/30 [10:39<05:37, 33.77s/it]Your max_length is set to 200, but your input_length is only 14. Since this is a summarization task, where outputs shorter than the input are typically wanted, you might consider decreasing max_length manually, e.g. summarizer('...', max_length=7)\n",
      " 70%|███████   | 21/30 [11:05<04:43, 31.45s/it]Your max_length is set to 200, but your input_length is only 18. Since this is a summarization task, where outputs shorter than the input are typically wanted, you might consider decreasing max_length manually, e.g. summarizer('...', max_length=9)\n",
      " 73%|███████▎  | 22/30 [11:46<04:34, 34.30s/it]Your max_length is set to 200, but your input_length is only 4. Since this is a summarization task, where outputs shorter than the input are typically wanted, you might consider decreasing max_length manually, e.g. summarizer('...', max_length=2)\n",
      " 77%|███████▋  | 23/30 [12:17<03:53, 33.29s/it]Your max_length is set to 200, but your input_length is only 6. Since this is a summarization task, where outputs shorter than the input are typically wanted, you might consider decreasing max_length manually, e.g. summarizer('...', max_length=3)\n",
      " 80%|████████  | 24/30 [12:49<03:16, 32.79s/it]Your max_length is set to 200, but your input_length is only 14. Since this is a summarization task, where outputs shorter than the input are typically wanted, you might consider decreasing max_length manually, e.g. summarizer('...', max_length=7)\n",
      " 83%|████████▎ | 25/30 [13:15<02:34, 30.88s/it]Your max_length is set to 200, but your input_length is only 22. Since this is a summarization task, where outputs shorter than the input are typically wanted, you might consider decreasing max_length manually, e.g. summarizer('...', max_length=11)\n",
      " 87%|████████▋ | 26/30 [13:56<02:15, 33.95s/it]Your max_length is set to 200, but your input_length is only 14. Since this is a summarization task, where outputs shorter than the input are typically wanted, you might consider decreasing max_length manually, e.g. summarizer('...', max_length=7)\n",
      " 90%|█████████ | 27/30 [14:22<01:34, 31.39s/it]Your max_length is set to 200, but your input_length is only 13. Since this is a summarization task, where outputs shorter than the input are typically wanted, you might consider decreasing max_length manually, e.g. summarizer('...', max_length=6)\n",
      " 93%|█████████▎| 28/30 [14:49<01:00, 30.04s/it]Your max_length is set to 200, but your input_length is only 23. Since this is a summarization task, where outputs shorter than the input are typically wanted, you might consider decreasing max_length manually, e.g. summarizer('...', max_length=11)\n",
      " 97%|█████████▋| 29/30 [15:12<00:28, 28.11s/it]Your max_length is set to 200, but your input_length is only 12. Since this is a summarization task, where outputs shorter than the input are typically wanted, you might consider decreasing max_length manually, e.g. summarizer('...', max_length=6)\n",
      "100%|██████████| 30/30 [15:52<00:00, 31.75s/it]\n"
     ]
    },
    {
     "name": "stdout",
     "output_type": "stream",
     "text": [
      "Bootstrapped 0 full traces after 30 examples in round 0.\n"
     ]
    },
    {
     "name": "stderr",
     "output_type": "stream",
     "text": [
      "  0%|          | 0/25 [00:00<?, ?it/s]Your max_length is set to 200, but your input_length is only 30. Since this is a summarization task, where outputs shorter than the input are typically wanted, you might consider decreasing max_length manually, e.g. summarizer('...', max_length=15)\n",
      "Average Metric: 0 / 1  (0.0):   4%|▍         | 1/25 [00:41<16:47, 41.97s/it]Your max_length is set to 200, but your input_length is only 14. Since this is a summarization task, where outputs shorter than the input are typically wanted, you might consider decreasing max_length manually, e.g. summarizer('...', max_length=7)\n",
      "Average Metric: 0 / 2  (0.0):   8%|▊         | 2/25 [01:11<13:20, 34.80s/it]Your max_length is set to 200, but your input_length is only 28. Since this is a summarization task, where outputs shorter than the input are typically wanted, you might consider decreasing max_length manually, e.g. summarizer('...', max_length=14)\n",
      "Average Metric: 0 / 3  (0.0):  12%|█▏        | 3/25 [01:42<12:04, 32.92s/it]Your max_length is set to 200, but your input_length is only 12. Since this is a summarization task, where outputs shorter than the input are typically wanted, you might consider decreasing max_length manually, e.g. summarizer('...', max_length=6)\n",
      "Average Metric: 0 / 4  (0.0):  16%|█▌        | 4/25 [02:02<09:48, 28.03s/it]Your max_length is set to 200, but your input_length is only 12. Since this is a summarization task, where outputs shorter than the input are typically wanted, you might consider decreasing max_length manually, e.g. summarizer('...', max_length=6)\n",
      "Average Metric: 0 / 5  (0.0):  20%|██        | 5/25 [02:27<08:55, 26.76s/it]Your max_length is set to 200, but your input_length is only 20. Since this is a summarization task, where outputs shorter than the input are typically wanted, you might consider decreasing max_length manually, e.g. summarizer('...', max_length=10)\n",
      "Average Metric: 0 / 6  (0.0):  24%|██▍       | 6/25 [02:56<08:40, 27.42s/it]Your max_length is set to 200, but your input_length is only 23. Since this is a summarization task, where outputs shorter than the input are typically wanted, you might consider decreasing max_length manually, e.g. summarizer('...', max_length=11)\n",
      "Average Metric: 0 / 7  (0.0):  28%|██▊       | 7/25 [03:25<08:23, 27.95s/it]Your max_length is set to 200, but your input_length is only 39. Since this is a summarization task, where outputs shorter than the input are typically wanted, you might consider decreasing max_length manually, e.g. summarizer('...', max_length=19)\n",
      "Average Metric: 0 / 8  (0.0):  32%|███▏      | 8/25 [04:08<09:20, 32.98s/it]Your max_length is set to 200, but your input_length is only 32. Since this is a summarization task, where outputs shorter than the input are typically wanted, you might consider decreasing max_length manually, e.g. summarizer('...', max_length=16)\n",
      "Average Metric: 0 / 9  (0.0):  36%|███▌      | 9/25 [04:50<09:31, 35.71s/it]Your max_length is set to 200, but your input_length is only 15. Since this is a summarization task, where outputs shorter than the input are typically wanted, you might consider decreasing max_length manually, e.g. summarizer('...', max_length=7)\n",
      "Average Metric: 0 / 10  (0.0):  40%|████      | 10/25 [05:19<08:24, 33.63s/it]Your max_length is set to 200, but your input_length is only 19. Since this is a summarization task, where outputs shorter than the input are typically wanted, you might consider decreasing max_length manually, e.g. summarizer('...', max_length=9)\n",
      "Average Metric: 0 / 11  (0.0):  44%|████▍     | 11/25 [05:59<08:17, 35.56s/it]Your max_length is set to 200, but your input_length is only 13. Since this is a summarization task, where outputs shorter than the input are typically wanted, you might consider decreasing max_length manually, e.g. summarizer('...', max_length=6)\n",
      "Average Metric: 0 / 12  (0.0):  48%|████▊     | 12/25 [06:28<07:14, 33.42s/it]Your max_length is set to 200, but your input_length is only 10. Since this is a summarization task, where outputs shorter than the input are typically wanted, you might consider decreasing max_length manually, e.g. summarizer('...', max_length=5)\n",
      "Average Metric: 0 / 13  (0.0):  52%|█████▏    | 13/25 [06:58<06:31, 32.61s/it]Your max_length is set to 200, but your input_length is only 18. Since this is a summarization task, where outputs shorter than the input are typically wanted, you might consider decreasing max_length manually, e.g. summarizer('...', max_length=9)\n",
      "Average Metric: 0 / 14  (0.0):  56%|█████▌    | 14/25 [07:37<06:17, 34.35s/it]Your max_length is set to 200, but your input_length is only 18. Since this is a summarization task, where outputs shorter than the input are typically wanted, you might consider decreasing max_length manually, e.g. summarizer('...', max_length=9)\n",
      "Average Metric: 0 / 15  (0.0):  60%|██████    | 15/25 [07:49<04:37, 27.70s/it]Your max_length is set to 200, but your input_length is only 21. Since this is a summarization task, where outputs shorter than the input are typically wanted, you might consider decreasing max_length manually, e.g. summarizer('...', max_length=10)\n",
      "Average Metric: 0 / 16  (0.0):  64%|██████▍   | 16/25 [08:18<04:13, 28.20s/it]Your max_length is set to 200, but your input_length is only 26. Since this is a summarization task, where outputs shorter than the input are typically wanted, you might consider decreasing max_length manually, e.g. summarizer('...', max_length=13)\n",
      "Average Metric: 0 / 17  (0.0):  68%|██████▊   | 17/25 [08:49<03:51, 29.00s/it]Your max_length is set to 200, but your input_length is only 17. Since this is a summarization task, where outputs shorter than the input are typically wanted, you might consider decreasing max_length manually, e.g. summarizer('...', max_length=8)\n",
      "Average Metric: 0 / 18  (0.0):  72%|███████▏  | 18/25 [09:30<03:46, 32.39s/it]Your max_length is set to 200, but your input_length is only 27. Since this is a summarization task, where outputs shorter than the input are typically wanted, you might consider decreasing max_length manually, e.g. summarizer('...', max_length=13)\n",
      "Average Metric: 0 / 19  (0.0):  76%|███████▌  | 19/25 [10:13<03:33, 35.60s/it]Your max_length is set to 200, but your input_length is only 29. Since this is a summarization task, where outputs shorter than the input are typically wanted, you might consider decreasing max_length manually, e.g. summarizer('...', max_length=14)\n",
      "Average Metric: 0 / 20  (0.0):  80%|████████  | 20/25 [10:56<03:09, 37.94s/it]Your max_length is set to 200, but your input_length is only 20. Since this is a summarization task, where outputs shorter than the input are typically wanted, you might consider decreasing max_length manually, e.g. summarizer('...', max_length=10)\n",
      "Average Metric: 0 / 21  (0.0):  84%|████████▍ | 21/25 [11:25<02:20, 35.19s/it]Your max_length is set to 200, but your input_length is only 19. Since this is a summarization task, where outputs shorter than the input are typically wanted, you might consider decreasing max_length manually, e.g. summarizer('...', max_length=9)\n",
      "Average Metric: 0 / 22  (0.0):  88%|████████▊ | 22/25 [11:54<01:40, 33.50s/it]Your max_length is set to 200, but your input_length is only 25. Since this is a summarization task, where outputs shorter than the input are typically wanted, you might consider decreasing max_length manually, e.g. summarizer('...', max_length=12)\n",
      "Average Metric: 0 / 23  (0.0):  92%|█████████▏| 23/25 [12:25<01:05, 32.65s/it]Your max_length is set to 200, but your input_length is only 16. Since this is a summarization task, where outputs shorter than the input are typically wanted, you might consider decreasing max_length manually, e.g. summarizer('...', max_length=8)\n",
      "Average Metric: 0 / 24  (0.0):  96%|█████████▌| 24/25 [12:51<00:30, 30.69s/it]Your max_length is set to 200, but your input_length is only 21. Since this is a summarization task, where outputs shorter than the input are typically wanted, you might consider decreasing max_length manually, e.g. summarizer('...', max_length=10)\n",
      "Average Metric: 0 / 25  (0.0): 100%|██████████| 25/25 [13:34<00:00, 32.56s/it]\n"
     ]
    },
    {
     "name": "stdout",
     "output_type": "stream",
     "text": [
      "Average Metric: 0 / 25  (0.0%)\n"
     ]
    },
    {
     "name": "stderr",
     "output_type": "stream",
     "text": [
      "/home/daniel/Documents/Github/autogoal-core/dspy/dspy/evaluate/evaluate.py:126: FutureWarning: DataFrame.applymap has been deprecated. Use DataFrame.map instead.\n",
      "  df = df.applymap(truncate_cell)\n"
     ]
    },
    {
     "data": {
      "text/html": [
       "<style type=\"text/css\">\n",
       "#T_fa48f th {\n",
       "  text-align: left;\n",
       "}\n",
       "#T_fa48f td {\n",
       "  text-align: left;\n",
       "}\n",
       "#T_fa48f_row0_col0, #T_fa48f_row0_col1, #T_fa48f_row0_col2, #T_fa48f_row0_col3, #T_fa48f_row0_col4, #T_fa48f_row1_col0, #T_fa48f_row1_col1, #T_fa48f_row1_col2, #T_fa48f_row1_col3, #T_fa48f_row1_col4, #T_fa48f_row2_col0, #T_fa48f_row2_col1, #T_fa48f_row2_col2, #T_fa48f_row2_col3, #T_fa48f_row2_col4, #T_fa48f_row3_col0, #T_fa48f_row3_col1, #T_fa48f_row3_col2, #T_fa48f_row3_col3, #T_fa48f_row3_col4, #T_fa48f_row4_col0, #T_fa48f_row4_col1, #T_fa48f_row4_col2, #T_fa48f_row4_col3, #T_fa48f_row4_col4, #T_fa48f_row5_col0, #T_fa48f_row5_col1, #T_fa48f_row5_col2, #T_fa48f_row5_col3, #T_fa48f_row5_col4, #T_fa48f_row6_col0, #T_fa48f_row6_col1, #T_fa48f_row6_col2, #T_fa48f_row6_col3, #T_fa48f_row6_col4, #T_fa48f_row7_col0, #T_fa48f_row7_col1, #T_fa48f_row7_col2, #T_fa48f_row7_col3, #T_fa48f_row7_col4, #T_fa48f_row8_col0, #T_fa48f_row8_col1, #T_fa48f_row8_col2, #T_fa48f_row8_col3, #T_fa48f_row8_col4, #T_fa48f_row9_col0, #T_fa48f_row9_col1, #T_fa48f_row9_col2, #T_fa48f_row9_col3, #T_fa48f_row9_col4 {\n",
       "  text-align: left;\n",
       "  white-space: pre-wrap;\n",
       "  word-wrap: break-word;\n",
       "  max-width: 400px;\n",
       "}\n",
       "</style>\n",
       "<table id=\"T_fa48f\">\n",
       "  <thead>\n",
       "    <tr>\n",
       "      <th class=\"blank level0\" >&nbsp;</th>\n",
       "      <th id=\"T_fa48f_level0_col0\" class=\"col_heading level0 col0\" >question</th>\n",
       "      <th id=\"T_fa48f_level0_col1\" class=\"col_heading level0 col1\" >gold_reasoning</th>\n",
       "      <th id=\"T_fa48f_level0_col2\" class=\"col_heading level0 col2\" >example_answer</th>\n",
       "      <th id=\"T_fa48f_level0_col3\" class=\"col_heading level0 col3\" >pred_answer</th>\n",
       "      <th id=\"T_fa48f_level0_col4\" class=\"col_heading level0 col4\" >gsm8k_metric</th>\n",
       "    </tr>\n",
       "  </thead>\n",
       "  <tbody>\n",
       "    <tr>\n",
       "      <th id=\"T_fa48f_level0_row0\" class=\"row_heading level0 row0\" >0</th>\n",
       "      <td id=\"T_fa48f_row0_col0\" class=\"data row0 col0\" >20 birds migrate on a seasonal basis from one lake to another, searching for food. If they fly from lake Jim to lake Disney in...</td>\n",
       "      <td id=\"T_fa48f_row0_col1\" class=\"data row0 col1\" >The birds' flying distance between Lake Jim through lake Disney to lake London is 50+60 = <<50+60=110>>110 miles. Since each bird flies the 110 miles...</td>\n",
       "      <td id=\"T_fa48f_row0_col2\" class=\"data row0 col2\" >2200</td>\n",
       "      <td id=\"T_fa48f_row0_col3\" class=\"data row0 col3\" >H</td>\n",
       "      <td id=\"T_fa48f_row0_col4\" class=\"data row0 col4\" >❌ [False]</td>\n",
       "    </tr>\n",
       "    <tr>\n",
       "      <th id=\"T_fa48f_level0_row1\" class=\"row_heading level0 row1\" >1</th>\n",
       "      <td id=\"T_fa48f_row1_col0\" class=\"data row1 col0\" >Wendy went to the dentist for a cleaning, two fillings, and a tooth extraction. The dentist charges $70 for a cleaning and $120 for a...</td>\n",
       "      <td id=\"T_fa48f_row1_col1\" class=\"data row1 col1\" >Wendy’s dentist bill was 5 * $120 = $<<5*120=600>>600. She got two fillings at a cost of 2 * $120 = $<<2*120=240>>240. Thus, Wendy paid...</td>\n",
       "      <td id=\"T_fa48f_row1_col2\" class=\"data row1 col2\" >290</td>\n",
       "      <td id=\"T_fa48f_row1_col3\" class=\"data row1 col3\" >H</td>\n",
       "      <td id=\"T_fa48f_row1_col4\" class=\"data row1 col4\" >❌ [False]</td>\n",
       "    </tr>\n",
       "    <tr>\n",
       "      <th id=\"T_fa48f_level0_row2\" class=\"row_heading level0 row2\" >2</th>\n",
       "      <td id=\"T_fa48f_row2_col0\" class=\"data row2 col0\" >Karen is packing her backpack for a long-distance hike. She packs 20 pounds of water, 10 pounds of food, and 20 pounds of gear. During...</td>\n",
       "      <td id=\"T_fa48f_row2_col1\" class=\"data row2 col1\" >First find the weight of food Karen eats every hour: 2 pounds * 1/3 = 2/3 pounds food. Then find the total amount of weight...</td>\n",
       "      <td id=\"T_fa48f_row2_col2\" class=\"data row2 col2\" >34</td>\n",
       "      <td id=\"T_fa48f_row2_col3\" class=\"data row2 col3\" >H</td>\n",
       "      <td id=\"T_fa48f_row2_col4\" class=\"data row2 col4\" >❌ [False]</td>\n",
       "    </tr>\n",
       "    <tr>\n",
       "      <th id=\"T_fa48f_level0_row3\" class=\"row_heading level0 row3\" >3</th>\n",
       "      <td id=\"T_fa48f_row3_col0\" class=\"data row3 col0\" >Rita is reading a five-chapter book with 95 pages. Each chapter has three pages more than the previous one. How many pages does the first...</td>\n",
       "      <td id=\"T_fa48f_row3_col1\" class=\"data row3 col1\" >Let P be the number of pages in the first chapter. The second chapter has P + 3 pages. The third chapter has P +...</td>\n",
       "      <td id=\"T_fa48f_row3_col2\" class=\"data row3 col2\" >13</td>\n",
       "      <td id=\"T_fa48f_row3_col3\" class=\"data row3 col3\" >H</td>\n",
       "      <td id=\"T_fa48f_row3_col4\" class=\"data row3 col4\" >❌ [False]</td>\n",
       "    </tr>\n",
       "    <tr>\n",
       "      <th id=\"T_fa48f_level0_row4\" class=\"row_heading level0 row4\" >4</th>\n",
       "      <td id=\"T_fa48f_row4_col0\" class=\"data row4 col0\" >Benjamin collects 6 dozen eggs a day. Carla collects 3 times the number of eggs that Benjamin collects. Trisha collects 4 dozen less than Benjamin....</td>\n",
       "      <td id=\"T_fa48f_row4_col1\" class=\"data row4 col1\" >Carla:3(6)=18 dozen eggs Trisha: 6-4=<<6-4=2>>2 dozen eggs Total: 6+18+2=<<6+18+2=26>>26 dozen eggs</td>\n",
       "      <td id=\"T_fa48f_row4_col2\" class=\"data row4 col2\" >26</td>\n",
       "      <td id=\"T_fa48f_row4_col3\" class=\"data row4 col3\" >h</td>\n",
       "      <td id=\"T_fa48f_row4_col4\" class=\"data row4 col4\" >❌ [False]</td>\n",
       "    </tr>\n",
       "    <tr>\n",
       "      <th id=\"T_fa48f_level0_row5\" class=\"row_heading level0 row5\" >5</th>\n",
       "      <td id=\"T_fa48f_row5_col0\" class=\"data row5 col0\" >Roy spends 2 hours on sports activities in school every day. He goes to school 5 days a week. If he missed 2 days within...</td>\n",
       "      <td id=\"T_fa48f_row5_col1\" class=\"data row5 col1\" >He goes to.school 5 days a week so if he misses 2 days within the week he was present for 5-2 = <<5-2=3>>3 days He...</td>\n",
       "      <td id=\"T_fa48f_row5_col2\" class=\"data row5 col2\" >6</td>\n",
       "      <td id=\"T_fa48f_row5_col3\" class=\"data row5 col3\" >H</td>\n",
       "      <td id=\"T_fa48f_row5_col4\" class=\"data row5 col4\" >❌ [False]</td>\n",
       "    </tr>\n",
       "    <tr>\n",
       "      <th id=\"T_fa48f_level0_row6\" class=\"row_heading level0 row6\" >6</th>\n",
       "      <td id=\"T_fa48f_row6_col0\" class=\"data row6 col0\" >Cameron is printing her thesis in the school library and has 400 A4 pieces of paper. If 40% of the papers did not print out...</td>\n",
       "      <td id=\"T_fa48f_row6_col1\" class=\"data row6 col1\" >If she had 400 papers, the total number of documents she separated as invalid is 40/100 * 400 pages = <<40/100*400=160>>160 pages. The number of...</td>\n",
       "      <td id=\"T_fa48f_row6_col2\" class=\"data row6 col2\" >240</td>\n",
       "      <td id=\"T_fa48f_row6_col3\" class=\"data row6 col3\" >H</td>\n",
       "      <td id=\"T_fa48f_row6_col4\" class=\"data row6 col4\" >❌ [False]</td>\n",
       "    </tr>\n",
       "    <tr>\n",
       "      <th id=\"T_fa48f_level0_row7\" class=\"row_heading level0 row7\" >7</th>\n",
       "      <td id=\"T_fa48f_row7_col0\" class=\"data row7 col0\" >Burt spent $2.00 on a packet of basil seeds and $8.00 on potting soil. The packet of seeds yielded 20 basil plants. He sells each...</td>\n",
       "      <td id=\"T_fa48f_row7_col1\" class=\"data row7 col1\" >He spent $2.00 on seeds and $8.00 on soil for a total of 2+8 = $<<2+8=10.00>>10.00 He sells each of the 20 basil plants for...</td>\n",
       "      <td id=\"T_fa48f_row7_col2\" class=\"data row7 col2\" >90</td>\n",
       "      <td id=\"T_fa48f_row7_col3\" class=\"data row7 col3\" >W</td>\n",
       "      <td id=\"T_fa48f_row7_col4\" class=\"data row7 col4\" >❌ [False]</td>\n",
       "    </tr>\n",
       "    <tr>\n",
       "      <th id=\"T_fa48f_level0_row8\" class=\"row_heading level0 row8\" >8</th>\n",
       "      <td id=\"T_fa48f_row8_col0\" class=\"data row8 col0\" >Martha's cat catches 3 rats and 7 birds. Cara's cat catches 3 less than five times as many animals as Martha's cat. How many animals...</td>\n",
       "      <td id=\"T_fa48f_row8_col1\" class=\"data row8 col1\" >First find the total number of animals Martha's cat catches: 3 rats + 7 birds = <<3+7=10>>10 animals Then multiply that number by 5: 10...</td>\n",
       "      <td id=\"T_fa48f_row8_col2\" class=\"data row8 col2\" >47</td>\n",
       "      <td id=\"T_fa48f_row8_col3\" class=\"data row8 col3\" >H</td>\n",
       "      <td id=\"T_fa48f_row8_col4\" class=\"data row8 col4\" >❌ [False]</td>\n",
       "    </tr>\n",
       "    <tr>\n",
       "      <th id=\"T_fa48f_level0_row9\" class=\"row_heading level0 row9\" >9</th>\n",
       "      <td id=\"T_fa48f_row9_col0\" class=\"data row9 col0\" >Trey is raising money for a new bike that costs $112. He plans to spend the next two weeks selling bracelets for $1 each. On...</td>\n",
       "      <td id=\"T_fa48f_row9_col1\" class=\"data row9 col1\" >He needs to sell 112 bracelets because 112 divided by 1 equals <<112/1=112>>112. He has 14 days to sell bracelets because there are seven days...</td>\n",
       "      <td id=\"T_fa48f_row9_col2\" class=\"data row9 col2\" >8</td>\n",
       "      <td id=\"T_fa48f_row9_col3\" class=\"data row9 col3\" >H</td>\n",
       "      <td id=\"T_fa48f_row9_col4\" class=\"data row9 col4\" >❌ [False]</td>\n",
       "    </tr>\n",
       "  </tbody>\n",
       "</table>\n"
      ],
      "text/plain": [
       "<pandas.io.formats.style.Styler at 0x7feded7fcf70>"
      ]
     },
     "metadata": {},
     "output_type": "display_data"
    },
    {
     "data": {
      "text/html": [
       "\n",
       "                <div style='\n",
       "                    text-align: center; \n",
       "                    font-size: 16px; \n",
       "                    font-weight: bold; \n",
       "                    color: #555; \n",
       "                    margin: 10px 0;'>\n",
       "                    ... 15 more rows not displayed ...\n",
       "                </div>\n",
       "                "
      ],
      "text/plain": [
       "<IPython.core.display.HTML object>"
      ]
     },
     "metadata": {},
     "output_type": "display_data"
    },
    {
     "name": "stderr",
     "output_type": "stream",
     "text": [
      "100%|██████████| 30/30 [35:39<00:00, 71.33s/it]\n"
     ]
    },
    {
     "name": "stdout",
     "output_type": "stream",
     "text": [
      "Bootstrapped 0 full traces after 30 examples in round 0.\n"
     ]
    },
    {
     "name": "stderr",
     "output_type": "stream",
     "text": [
      "Average Metric: 0 / 25  (0.0): 100%|██████████| 25/25 [28:30<00:00, 68.40s/it]\n"
     ]
    },
    {
     "name": "stdout",
     "output_type": "stream",
     "text": [
      "Average Metric: 0 / 25  (0.0%)\n"
     ]
    },
    {
     "name": "stderr",
     "output_type": "stream",
     "text": [
      "/home/daniel/Documents/Github/autogoal-core/dspy/dspy/evaluate/evaluate.py:126: FutureWarning: DataFrame.applymap has been deprecated. Use DataFrame.map instead.\n",
      "  df = df.applymap(truncate_cell)\n"
     ]
    },
    {
     "data": {
      "text/html": [
       "<style type=\"text/css\">\n",
       "#T_f67c7 th {\n",
       "  text-align: left;\n",
       "}\n",
       "#T_f67c7 td {\n",
       "  text-align: left;\n",
       "}\n",
       "#T_f67c7_row0_col0, #T_f67c7_row0_col1, #T_f67c7_row0_col2, #T_f67c7_row0_col3, #T_f67c7_row0_col4, #T_f67c7_row1_col0, #T_f67c7_row1_col1, #T_f67c7_row1_col2, #T_f67c7_row1_col3, #T_f67c7_row1_col4, #T_f67c7_row2_col0, #T_f67c7_row2_col1, #T_f67c7_row2_col2, #T_f67c7_row2_col3, #T_f67c7_row2_col4, #T_f67c7_row3_col0, #T_f67c7_row3_col1, #T_f67c7_row3_col2, #T_f67c7_row3_col3, #T_f67c7_row3_col4, #T_f67c7_row4_col0, #T_f67c7_row4_col1, #T_f67c7_row4_col2, #T_f67c7_row4_col3, #T_f67c7_row4_col4, #T_f67c7_row5_col0, #T_f67c7_row5_col1, #T_f67c7_row5_col2, #T_f67c7_row5_col3, #T_f67c7_row5_col4, #T_f67c7_row6_col0, #T_f67c7_row6_col1, #T_f67c7_row6_col2, #T_f67c7_row6_col3, #T_f67c7_row6_col4, #T_f67c7_row7_col0, #T_f67c7_row7_col1, #T_f67c7_row7_col2, #T_f67c7_row7_col3, #T_f67c7_row7_col4, #T_f67c7_row8_col0, #T_f67c7_row8_col1, #T_f67c7_row8_col2, #T_f67c7_row8_col3, #T_f67c7_row8_col4, #T_f67c7_row9_col0, #T_f67c7_row9_col1, #T_f67c7_row9_col2, #T_f67c7_row9_col3, #T_f67c7_row9_col4 {\n",
       "  text-align: left;\n",
       "  white-space: pre-wrap;\n",
       "  word-wrap: break-word;\n",
       "  max-width: 400px;\n",
       "}\n",
       "</style>\n",
       "<table id=\"T_f67c7\">\n",
       "  <thead>\n",
       "    <tr>\n",
       "      <th class=\"blank level0\" >&nbsp;</th>\n",
       "      <th id=\"T_f67c7_level0_col0\" class=\"col_heading level0 col0\" >question</th>\n",
       "      <th id=\"T_f67c7_level0_col1\" class=\"col_heading level0 col1\" >gold_reasoning</th>\n",
       "      <th id=\"T_f67c7_level0_col2\" class=\"col_heading level0 col2\" >example_answer</th>\n",
       "      <th id=\"T_f67c7_level0_col3\" class=\"col_heading level0 col3\" >pred_answer</th>\n",
       "      <th id=\"T_f67c7_level0_col4\" class=\"col_heading level0 col4\" >gsm8k_metric</th>\n",
       "    </tr>\n",
       "  </thead>\n",
       "  <tbody>\n",
       "    <tr>\n",
       "      <th id=\"T_f67c7_level0_row0\" class=\"row_heading level0 row0\" >0</th>\n",
       "      <td id=\"T_f67c7_row0_col0\" class=\"data row0 col0\" >20 birds migrate on a seasonal basis from one lake to another, searching for food. If they fly from lake Jim to lake Disney in...</td>\n",
       "      <td id=\"T_f67c7_row0_col1\" class=\"data row0 col1\" >The birds' flying distance between Lake Jim through lake Disney to lake London is 50+60 = <<50+60=110>>110 miles. Since each bird flies the 110 miles...</td>\n",
       "      <td id=\"T_f67c7_row0_col2\" class=\"data row0 col2\" >2200</td>\n",
       "      <td id=\"T_f67c7_row0_col3\" class=\"data row0 col3\" >Wingspan | The wingspan (or just span) of a bird or an airplane is the distance from one wingtip to the other wingtip. For example,...</td>\n",
       "      <td id=\"T_f67c7_row0_col4\" class=\"data row0 col4\" >❌ [False]</td>\n",
       "    </tr>\n",
       "    <tr>\n",
       "      <th id=\"T_f67c7_level0_row1\" class=\"row_heading level0 row1\" >1</th>\n",
       "      <td id=\"T_f67c7_row1_col0\" class=\"data row1 col0\" >Wendy went to the dentist for a cleaning, two fillings, and a tooth extraction. The dentist charges $70 for a cleaning and $120 for a...</td>\n",
       "      <td id=\"T_f67c7_row1_col1\" class=\"data row1 col1\" >Wendy’s dentist bill was 5 * $120 = $<<5*120=600>>600. She got two fillings at a cost of 2 * $120 = $<<2*120=240>>240. Thus, Wendy paid...</td>\n",
       "      <td id=\"T_f67c7_row1_col2\" class=\"data row1 col2\" >290</td>\n",
       "      <td id=\"T_f67c7_row1_col3\" class=\"data row1 col3\" >Medicare Part D coverage gap | The Medicare Part D coverage gap (informally known as the Medicare donut hole) is a period of consumer payment...</td>\n",
       "      <td id=\"T_f67c7_row1_col4\" class=\"data row1 col4\" >❌ [False]</td>\n",
       "    </tr>\n",
       "    <tr>\n",
       "      <th id=\"T_f67c7_level0_row2\" class=\"row_heading level0 row2\" >2</th>\n",
       "      <td id=\"T_f67c7_row2_col0\" class=\"data row2 col0\" >Karen is packing her backpack for a long-distance hike. She packs 20 pounds of water, 10 pounds of food, and 20 pounds of gear. During...</td>\n",
       "      <td id=\"T_f67c7_row2_col1\" class=\"data row2 col1\" >First find the weight of food Karen eats every hour: 2 pounds * 1/3 = 2/3 pounds food. Then find the total amount of weight...</td>\n",
       "      <td id=\"T_f67c7_row2_col2\" class=\"data row2 col2\" >34</td>\n",
       "      <td id=\"T_f67c7_row2_col3\" class=\"data row2 col3\" >Karena Albers | Karena Albers, is co-ounder of WHOLE WORLD Water, a social enterprise that unites the Hospitality & Tourism Industry to raise million, if...</td>\n",
       "      <td id=\"T_f67c7_row2_col4\" class=\"data row2 col4\" >❌ [False]</td>\n",
       "    </tr>\n",
       "    <tr>\n",
       "      <th id=\"T_f67c7_level0_row3\" class=\"row_heading level0 row3\" >3</th>\n",
       "      <td id=\"T_f67c7_row3_col0\" class=\"data row3 col0\" >Rita is reading a five-chapter book with 95 pages. Each chapter has three pages more than the previous one. How many pages does the first...</td>\n",
       "      <td id=\"T_f67c7_row3_col1\" class=\"data row3 col1\" >Let P be the number of pages in the first chapter. The second chapter has P + 3 pages. The third chapter has P +...</td>\n",
       "      <td id=\"T_f67c7_row3_col2\" class=\"data row3 col2\" >13</td>\n",
       "      <td id=\"T_f67c7_row3_col3\" class=\"data row3 col3\" >The Fifth Chapter | The Fifth Chapter (also stylized as T5C) is the seventeenth studio album by German band Scooter released on 26 September 2014.</td>\n",
       "      <td id=\"T_f67c7_row3_col4\" class=\"data row3 col4\" >❌ [False]</td>\n",
       "    </tr>\n",
       "    <tr>\n",
       "      <th id=\"T_f67c7_level0_row4\" class=\"row_heading level0 row4\" >4</th>\n",
       "      <td id=\"T_f67c7_row4_col0\" class=\"data row4 col0\" >Benjamin collects 6 dozen eggs a day. Carla collects 3 times the number of eggs that Benjamin collects. Trisha collects 4 dozen less than Benjamin....</td>\n",
       "      <td id=\"T_f67c7_row4_col1\" class=\"data row4 col1\" >Carla:3(6)=18 dozen eggs Trisha: 6-4=<<6-4=2>>2 dozen eggs Total: 6+18+2=<<6+18+2=26>>26 dozen eggs</td>\n",
       "      <td id=\"T_f67c7_row4_col2\" class=\"data row4 col2\" >26</td>\n",
       "      <td id=\"T_f67c7_row4_col3\" class=\"data row4 col3\" >Carla Tortelli | Carla Maria Victoria Angelina Teresa Apollonia Lozupone Tortelli LeBec, commonly known as Carla Tortelli, is a waitress on the American television show...</td>\n",
       "      <td id=\"T_f67c7_row4_col4\" class=\"data row4 col4\" >❌ [False]</td>\n",
       "    </tr>\n",
       "    <tr>\n",
       "      <th id=\"T_f67c7_level0_row5\" class=\"row_heading level0 row5\" >5</th>\n",
       "      <td id=\"T_f67c7_row5_col0\" class=\"data row5 col0\" >Roy spends 2 hours on sports activities in school every day. He goes to school 5 days a week. If he missed 2 days within...</td>\n",
       "      <td id=\"T_f67c7_row5_col1\" class=\"data row5 col1\" >He goes to.school 5 days a week so if he misses 2 days within the week he was present for 5-2 = <<5-2=3>>3 days He...</td>\n",
       "      <td id=\"T_f67c7_row5_col2\" class=\"data row5 col2\" >6</td>\n",
       "      <td id=\"T_f67c7_row5_col3\" class=\"data row5 col3\" >Shomprakash Sinha Roy | Shomprakash Sinha Roy (Born \"Shomprakash Asit Baran Anil Baran Sinha Roy\") is an author of contemporary fiction and non-fiction, based in...</td>\n",
       "      <td id=\"T_f67c7_row5_col4\" class=\"data row5 col4\" >❌ [False]</td>\n",
       "    </tr>\n",
       "    <tr>\n",
       "      <th id=\"T_f67c7_level0_row6\" class=\"row_heading level0 row6\" >6</th>\n",
       "      <td id=\"T_f67c7_row6_col0\" class=\"data row6 col0\" >Cameron is printing her thesis in the school library and has 400 A4 pieces of paper. If 40% of the papers did not print out...</td>\n",
       "      <td id=\"T_f67c7_row6_col1\" class=\"data row6 col1\" >If she had 400 papers, the total number of documents she separated as invalid is 40/100 * 400 pages = <<40/100*400=160>>160 pages. The number of...</td>\n",
       "      <td id=\"T_f67c7_row6_col2\" class=\"data row6 col2\" >240</td>\n",
       "      <td id=\"T_f67c7_row6_col3\" class=\"data row6 col3\" >Duncan Cameron (photographer) | Duncan Cameron (1928–1985) was a Canadian photojournalist. Cameron was born in Glasgow, Scotland, but emigrated to Ottawa, Ontario, Canada in 1954....</td>\n",
       "      <td id=\"T_f67c7_row6_col4\" class=\"data row6 col4\" >❌ [False]</td>\n",
       "    </tr>\n",
       "    <tr>\n",
       "      <th id=\"T_f67c7_level0_row7\" class=\"row_heading level0 row7\" >7</th>\n",
       "      <td id=\"T_f67c7_row7_col0\" class=\"data row7 col0\" >Burt spent $2.00 on a packet of basil seeds and $8.00 on potting soil. The packet of seeds yielded 20 basil plants. He sells each...</td>\n",
       "      <td id=\"T_f67c7_row7_col1\" class=\"data row7 col1\" >He spent $2.00 on seeds and $8.00 on soil for a total of 2+8 = $<<2+8=10.00>>10.00 He sells each of the 20 basil plants for...</td>\n",
       "      <td id=\"T_f67c7_row7_col2\" class=\"data row7 col2\" >90</td>\n",
       "      <td id=\"T_f67c7_row7_col3\" class=\"data row7 col3\" >Basilinda | Basilinda is a board game that was created by George Howard Monks, the author of Halma. Basilinda was first published and manufactured in...</td>\n",
       "      <td id=\"T_f67c7_row7_col4\" class=\"data row7 col4\" >❌ [False]</td>\n",
       "    </tr>\n",
       "    <tr>\n",
       "      <th id=\"T_f67c7_level0_row8\" class=\"row_heading level0 row8\" >8</th>\n",
       "      <td id=\"T_f67c7_row8_col0\" class=\"data row8 col0\" >Martha's cat catches 3 rats and 7 birds. Cara's cat catches 3 less than five times as many animals as Martha's cat. How many animals...</td>\n",
       "      <td id=\"T_f67c7_row8_col1\" class=\"data row8 col1\" >First find the total number of animals Martha's cat catches: 3 rats + 7 birds = <<3+7=10>>10 animals Then multiply that number by 5: 10...</td>\n",
       "      <td id=\"T_f67c7_row8_col2\" class=\"data row8 col2\" >47</td>\n",
       "      <td id=\"T_f67c7_row8_col3\" class=\"data row8 col3\" >Martha (solitaire) | Martha is a solitaire card game that is played with a deck of 52 playing cards. It has a novelty of having...</td>\n",
       "      <td id=\"T_f67c7_row8_col4\" class=\"data row8 col4\" >❌ [False]</td>\n",
       "    </tr>\n",
       "    <tr>\n",
       "      <th id=\"T_f67c7_level0_row9\" class=\"row_heading level0 row9\" >9</th>\n",
       "      <td id=\"T_f67c7_row9_col0\" class=\"data row9 col0\" >Trey is raising money for a new bike that costs $112. He plans to spend the next two weeks selling bracelets for $1 each. On...</td>\n",
       "      <td id=\"T_f67c7_row9_col1\" class=\"data row9 col1\" >He needs to sell 112 bracelets because 112 divided by 1 equals <<112/1=112>>112. He has 14 days to sell bracelets because there are seven days...</td>\n",
       "      <td id=\"T_f67c7_row9_col2\" class=\"data row9 col2\" >8</td>\n",
       "      <td id=\"T_f67c7_row9_col3\" class=\"data row9 col3\" >Antonio D. James | Antonio D. James, (born June 3, 1985) is a Black American film director from Memphis, TN. He is most known for...</td>\n",
       "      <td id=\"T_f67c7_row9_col4\" class=\"data row9 col4\" >❌ [False]</td>\n",
       "    </tr>\n",
       "  </tbody>\n",
       "</table>\n"
      ],
      "text/plain": [
       "<pandas.io.formats.style.Styler at 0x7feded7fc820>"
      ]
     },
     "metadata": {},
     "output_type": "display_data"
    },
    {
     "data": {
      "text/html": [
       "\n",
       "                <div style='\n",
       "                    text-align: center; \n",
       "                    font-size: 16px; \n",
       "                    font-weight: bold; \n",
       "                    color: #555; \n",
       "                    margin: 10px 0;'>\n",
       "                    ... 15 more rows not displayed ...\n",
       "                </div>\n",
       "                "
      ],
      "text/plain": [
       "<IPython.core.display.HTML object>"
      ]
     },
     "metadata": {},
     "output_type": "display_data"
    },
    {
     "name": "stderr",
     "output_type": "stream",
     "text": [
      "  0%|          | 0/30 [00:00<?, ?it/s]Your max_length is set to 142, but your input_length is only 45. Since this is a summarization task, where outputs shorter than the input are typically wanted, you might consider decreasing max_length manually, e.g. summarizer('...', max_length=22)\n",
      "  3%|▎         | 1/30 [00:11<05:47, 11.99s/it]Your max_length is set to 142, but your input_length is only 42. Since this is a summarization task, where outputs shorter than the input are typically wanted, you might consider decreasing max_length manually, e.g. summarizer('...', max_length=21)\n",
      "  7%|▋         | 2/30 [00:23<05:20, 11.45s/it]Your max_length is set to 142, but your input_length is only 68. Since this is a summarization task, where outputs shorter than the input are typically wanted, you might consider decreasing max_length manually, e.g. summarizer('...', max_length=34)\n",
      " 10%|█         | 3/30 [00:33<04:52, 10.84s/it]Your max_length is set to 142, but your input_length is only 43. Since this is a summarization task, where outputs shorter than the input are typically wanted, you might consider decreasing max_length manually, e.g. summarizer('...', max_length=21)\n",
      " 13%|█▎        | 4/30 [00:43<04:41, 10.82s/it]Your max_length is set to 142, but your input_length is only 69. Since this is a summarization task, where outputs shorter than the input are typically wanted, you might consider decreasing max_length manually, e.g. summarizer('...', max_length=34)\n",
      " 17%|█▋        | 5/30 [00:55<04:36, 11.05s/it]Your max_length is set to 142, but your input_length is only 44. Since this is a summarization task, where outputs shorter than the input are typically wanted, you might consider decreasing max_length manually, e.g. summarizer('...', max_length=22)\n",
      " 20%|██        | 6/30 [01:06<04:22, 10.92s/it]Your max_length is set to 142, but your input_length is only 35. Since this is a summarization task, where outputs shorter than the input are typically wanted, you might consider decreasing max_length manually, e.g. summarizer('...', max_length=17)\n",
      " 23%|██▎       | 7/30 [01:16<04:05, 10.68s/it]Your max_length is set to 142, but your input_length is only 38. Since this is a summarization task, where outputs shorter than the input are typically wanted, you might consider decreasing max_length manually, e.g. summarizer('...', max_length=19)\n",
      " 27%|██▋       | 8/30 [01:26<03:53, 10.60s/it]Your max_length is set to 142, but your input_length is only 24. Since this is a summarization task, where outputs shorter than the input are typically wanted, you might consider decreasing max_length manually, e.g. summarizer('...', max_length=12)\n",
      " 30%|███       | 9/30 [01:37<03:42, 10.61s/it]Your max_length is set to 142, but your input_length is only 62. Since this is a summarization task, where outputs shorter than the input are typically wanted, you might consider decreasing max_length manually, e.g. summarizer('...', max_length=31)\n",
      " 33%|███▎      | 10/30 [01:47<03:29, 10.48s/it]Your max_length is set to 142, but your input_length is only 56. Since this is a summarization task, where outputs shorter than the input are typically wanted, you might consider decreasing max_length manually, e.g. summarizer('...', max_length=28)\n",
      " 37%|███▋      | 11/30 [01:59<03:26, 10.89s/it]Your max_length is set to 142, but your input_length is only 54. Since this is a summarization task, where outputs shorter than the input are typically wanted, you might consider decreasing max_length manually, e.g. summarizer('...', max_length=27)\n",
      " 40%|████      | 12/30 [02:09<03:14, 10.80s/it]Your max_length is set to 142, but your input_length is only 58. Since this is a summarization task, where outputs shorter than the input are typically wanted, you might consider decreasing max_length manually, e.g. summarizer('...', max_length=29)\n",
      " 43%|████▎     | 13/30 [02:20<03:00, 10.62s/it]Your max_length is set to 142, but your input_length is only 44. Since this is a summarization task, where outputs shorter than the input are typically wanted, you might consider decreasing max_length manually, e.g. summarizer('...', max_length=22)\n",
      " 47%|████▋     | 14/30 [02:32<02:57, 11.11s/it]Your max_length is set to 142, but your input_length is only 63. Since this is a summarization task, where outputs shorter than the input are typically wanted, you might consider decreasing max_length manually, e.g. summarizer('...', max_length=31)\n",
      " 50%|█████     | 15/30 [02:42<02:43, 10.90s/it]Your max_length is set to 142, but your input_length is only 43. Since this is a summarization task, where outputs shorter than the input are typically wanted, you might consider decreasing max_length manually, e.g. summarizer('...', max_length=21)\n",
      " 53%|█████▎    | 16/30 [02:52<02:29, 10.65s/it]Your max_length is set to 142, but your input_length is only 135. Since this is a summarization task, where outputs shorter than the input are typically wanted, you might consider decreasing max_length manually, e.g. summarizer('...', max_length=67)\n",
      " 57%|█████▋    | 17/30 [03:05<02:27, 11.35s/it]Your max_length is set to 142, but your input_length is only 50. Since this is a summarization task, where outputs shorter than the input are typically wanted, you might consider decreasing max_length manually, e.g. summarizer('...', max_length=25)\n",
      " 60%|██████    | 18/30 [03:16<02:14, 11.17s/it]Your max_length is set to 142, but your input_length is only 73. Since this is a summarization task, where outputs shorter than the input are typically wanted, you might consider decreasing max_length manually, e.g. summarizer('...', max_length=36)\n",
      " 63%|██████▎   | 19/30 [03:27<02:03, 11.22s/it]Your max_length is set to 142, but your input_length is only 35. Since this is a summarization task, where outputs shorter than the input are typically wanted, you might consider decreasing max_length manually, e.g. summarizer('...', max_length=17)\n",
      " 67%|██████▋   | 20/30 [03:39<01:52, 11.21s/it]Your max_length is set to 142, but your input_length is only 45. Since this is a summarization task, where outputs shorter than the input are typically wanted, you might consider decreasing max_length manually, e.g. summarizer('...', max_length=22)\n",
      " 70%|███████   | 21/30 [03:49<01:39, 11.07s/it]Your max_length is set to 142, but your input_length is only 79. Since this is a summarization task, where outputs shorter than the input are typically wanted, you might consider decreasing max_length manually, e.g. summarizer('...', max_length=39)\n",
      " 73%|███████▎  | 22/30 [04:01<01:29, 11.21s/it]Your max_length is set to 142, but your input_length is only 64. Since this is a summarization task, where outputs shorter than the input are typically wanted, you might consider decreasing max_length manually, e.g. summarizer('...', max_length=32)\n",
      " 77%|███████▋  | 23/30 [04:13<01:19, 11.36s/it]Your max_length is set to 142, but your input_length is only 73. Since this is a summarization task, where outputs shorter than the input are typically wanted, you might consider decreasing max_length manually, e.g. summarizer('...', max_length=36)\n",
      " 80%|████████  | 24/30 [04:24<01:08, 11.47s/it]Your max_length is set to 142, but your input_length is only 40. Since this is a summarization task, where outputs shorter than the input are typically wanted, you might consider decreasing max_length manually, e.g. summarizer('...', max_length=20)\n",
      " 83%|████████▎ | 25/30 [04:36<00:57, 11.53s/it]Your max_length is set to 142, but your input_length is only 79. Since this is a summarization task, where outputs shorter than the input are typically wanted, you might consider decreasing max_length manually, e.g. summarizer('...', max_length=39)\n",
      " 87%|████████▋ | 26/30 [04:47<00:45, 11.26s/it]Your max_length is set to 142, but your input_length is only 39. Since this is a summarization task, where outputs shorter than the input are typically wanted, you might consider decreasing max_length manually, e.g. summarizer('...', max_length=19)\n",
      " 90%|█████████ | 27/30 [04:58<00:33, 11.23s/it]Your max_length is set to 142, but your input_length is only 31. Since this is a summarization task, where outputs shorter than the input are typically wanted, you might consider decreasing max_length manually, e.g. summarizer('...', max_length=15)\n",
      " 93%|█████████▎| 28/30 [05:10<00:23, 11.63s/it]Your max_length is set to 142, but your input_length is only 36. Since this is a summarization task, where outputs shorter than the input are typically wanted, you might consider decreasing max_length manually, e.g. summarizer('...', max_length=18)\n",
      " 97%|█████████▋| 29/30 [05:20<00:11, 11.09s/it]Your max_length is set to 142, but your input_length is only 78. Since this is a summarization task, where outputs shorter than the input are typically wanted, you might consider decreasing max_length manually, e.g. summarizer('...', max_length=39)\n",
      "100%|██████████| 30/30 [05:32<00:00, 11.08s/it]\n"
     ]
    },
    {
     "name": "stdout",
     "output_type": "stream",
     "text": [
      "Bootstrapped 0 full traces after 30 examples in round 0.\n"
     ]
    },
    {
     "name": "stderr",
     "output_type": "stream",
     "text": [
      "  0%|          | 0/25 [00:00<?, ?it/s]Your max_length is set to 142, but your input_length is only 70. Since this is a summarization task, where outputs shorter than the input are typically wanted, you might consider decreasing max_length manually, e.g. summarizer('...', max_length=35)\n",
      "Average Metric: 0 / 1  (0.0):   4%|▍         | 1/25 [00:11<04:40, 11.67s/it]Your max_length is set to 142, but your input_length is only 59. Since this is a summarization task, where outputs shorter than the input are typically wanted, you might consider decreasing max_length manually, e.g. summarizer('...', max_length=29)\n",
      "Average Metric: 0 / 2  (0.0):   8%|▊         | 2/25 [00:22<04:12, 10.96s/it]Your max_length is set to 142, but your input_length is only 71. Since this is a summarization task, where outputs shorter than the input are typically wanted, you might consider decreasing max_length manually, e.g. summarizer('...', max_length=35)\n",
      "Average Metric: 0 / 3  (0.0):  12%|█▏        | 3/25 [00:32<03:52, 10.58s/it]Your max_length is set to 142, but your input_length is only 34. Since this is a summarization task, where outputs shorter than the input are typically wanted, you might consider decreasing max_length manually, e.g. summarizer('...', max_length=17)\n",
      "Average Metric: 0 / 4  (0.0):  16%|█▌        | 4/25 [00:43<03:47, 10.84s/it]Your max_length is set to 142, but your input_length is only 44. Since this is a summarization task, where outputs shorter than the input are typically wanted, you might consider decreasing max_length manually, e.g. summarizer('...', max_length=22)\n",
      "Average Metric: 0 / 5  (0.0):  20%|██        | 5/25 [00:54<03:39, 10.97s/it]Your max_length is set to 142, but your input_length is only 45. Since this is a summarization task, where outputs shorter than the input are typically wanted, you might consider decreasing max_length manually, e.g. summarizer('...', max_length=22)\n",
      "Average Metric: 0 / 6  (0.0):  24%|██▍       | 6/25 [01:05<03:24, 10.75s/it]Your max_length is set to 142, but your input_length is only 50. Since this is a summarization task, where outputs shorter than the input are typically wanted, you might consider decreasing max_length manually, e.g. summarizer('...', max_length=25)\n",
      "Average Metric: 0 / 7  (0.0):  28%|██▊       | 7/25 [01:15<03:11, 10.63s/it]Your max_length is set to 142, but your input_length is only 64. Since this is a summarization task, where outputs shorter than the input are typically wanted, you might consider decreasing max_length manually, e.g. summarizer('...', max_length=32)\n",
      "Average Metric: 0 / 8  (0.0):  32%|███▏      | 8/25 [01:25<02:59, 10.58s/it]Your max_length is set to 142, but your input_length is only 40. Since this is a summarization task, where outputs shorter than the input are typically wanted, you might consider decreasing max_length manually, e.g. summarizer('...', max_length=20)\n",
      "Average Metric: 0 / 9  (0.0):  36%|███▌      | 9/25 [01:36<02:48, 10.50s/it]Your max_length is set to 142, but your input_length is only 46. Since this is a summarization task, where outputs shorter than the input are typically wanted, you might consider decreasing max_length manually, e.g. summarizer('...', max_length=23)\n",
      "Average Metric: 0 / 10  (0.0):  40%|████      | 10/25 [01:46<02:34, 10.31s/it]Your max_length is set to 142, but your input_length is only 69. Since this is a summarization task, where outputs shorter than the input are typically wanted, you might consider decreasing max_length manually, e.g. summarizer('...', max_length=34)\n",
      "Average Metric: 0 / 11  (0.0):  44%|████▍     | 11/25 [01:57<02:28, 10.61s/it]Your max_length is set to 142, but your input_length is only 76. Since this is a summarization task, where outputs shorter than the input are typically wanted, you might consider decreasing max_length manually, e.g. summarizer('...', max_length=38)\n",
      "Average Metric: 0 / 12  (0.0):  48%|████▊     | 12/25 [02:07<02:16, 10.46s/it]Your max_length is set to 142, but your input_length is only 70. Since this is a summarization task, where outputs shorter than the input are typically wanted, you might consider decreasing max_length manually, e.g. summarizer('...', max_length=35)\n",
      "Average Metric: 0 / 13  (0.0):  52%|█████▏    | 13/25 [02:18<02:07, 10.62s/it]Your max_length is set to 142, but your input_length is only 51. Since this is a summarization task, where outputs shorter than the input are typically wanted, you might consider decreasing max_length manually, e.g. summarizer('...', max_length=25)\n",
      "Average Metric: 0 / 14  (0.0):  56%|█████▌    | 14/25 [02:29<01:56, 10.63s/it]Your max_length is set to 142, but your input_length is only 33. Since this is a summarization task, where outputs shorter than the input are typically wanted, you might consider decreasing max_length manually, e.g. summarizer('...', max_length=16)\n",
      "Average Metric: 0 / 15  (0.0):  60%|██████    | 15/25 [02:39<01:46, 10.63s/it]Your max_length is set to 142, but your input_length is only 51. Since this is a summarization task, where outputs shorter than the input are typically wanted, you might consider decreasing max_length manually, e.g. summarizer('...', max_length=25)\n",
      "Average Metric: 0 / 16  (0.0):  64%|██████▍   | 16/25 [02:50<01:35, 10.64s/it]Your max_length is set to 142, but your input_length is only 65. Since this is a summarization task, where outputs shorter than the input are typically wanted, you might consider decreasing max_length manually, e.g. summarizer('...', max_length=32)\n",
      "Average Metric: 0 / 17  (0.0):  68%|██████▊   | 17/25 [03:00<01:24, 10.52s/it]Your max_length is set to 142, but your input_length is only 74. Since this is a summarization task, where outputs shorter than the input are typically wanted, you might consider decreasing max_length manually, e.g. summarizer('...', max_length=37)\n",
      "Average Metric: 0 / 18  (0.0):  72%|███████▏  | 18/25 [03:10<01:12, 10.38s/it]Your max_length is set to 142, but your input_length is only 97. Since this is a summarization task, where outputs shorter than the input are typically wanted, you might consider decreasing max_length manually, e.g. summarizer('...', max_length=48)\n",
      "Average Metric: 0 / 19  (0.0):  76%|███████▌  | 19/25 [03:22<01:04, 10.75s/it]Your max_length is set to 142, but your input_length is only 86. Since this is a summarization task, where outputs shorter than the input are typically wanted, you might consider decreasing max_length manually, e.g. summarizer('...', max_length=43)\n",
      "Average Metric: 0 / 20  (0.0):  80%|████████  | 20/25 [03:35<00:56, 11.38s/it]Your max_length is set to 142, but your input_length is only 53. Since this is a summarization task, where outputs shorter than the input are typically wanted, you might consider decreasing max_length manually, e.g. summarizer('...', max_length=26)\n",
      "Average Metric: 0 / 21  (0.0):  84%|████████▍ | 21/25 [03:45<00:44, 11.05s/it]Your max_length is set to 142, but your input_length is only 53. Since this is a summarization task, where outputs shorter than the input are typically wanted, you might consider decreasing max_length manually, e.g. summarizer('...', max_length=26)\n",
      "Average Metric: 0 / 22  (0.0):  88%|████████▊ | 22/25 [03:56<00:33, 11.05s/it]Your max_length is set to 142, but your input_length is only 73. Since this is a summarization task, where outputs shorter than the input are typically wanted, you might consider decreasing max_length manually, e.g. summarizer('...', max_length=36)\n",
      "Average Metric: 0 / 23  (0.0):  92%|█████████▏| 23/25 [04:06<00:21, 10.74s/it]Your max_length is set to 142, but your input_length is only 36. Since this is a summarization task, where outputs shorter than the input are typically wanted, you might consider decreasing max_length manually, e.g. summarizer('...', max_length=18)\n",
      "Average Metric: 0 / 24  (0.0):  96%|█████████▌| 24/25 [04:17<00:10, 10.95s/it]Your max_length is set to 142, but your input_length is only 86. Since this is a summarization task, where outputs shorter than the input are typically wanted, you might consider decreasing max_length manually, e.g. summarizer('...', max_length=43)\n",
      "Average Metric: 0 / 25  (0.0): 100%|██████████| 25/25 [04:29<00:00, 10.80s/it]\n"
     ]
    },
    {
     "name": "stdout",
     "output_type": "stream",
     "text": [
      "Average Metric: 0 / 25  (0.0%)\n"
     ]
    },
    {
     "name": "stderr",
     "output_type": "stream",
     "text": [
      "/home/daniel/Documents/Github/autogoal-core/dspy/dspy/evaluate/evaluate.py:126: FutureWarning: DataFrame.applymap has been deprecated. Use DataFrame.map instead.\n",
      "  df = df.applymap(truncate_cell)\n"
     ]
    },
    {
     "data": {
      "text/html": [
       "<style type=\"text/css\">\n",
       "#T_81cb2 th {\n",
       "  text-align: left;\n",
       "}\n",
       "#T_81cb2 td {\n",
       "  text-align: left;\n",
       "}\n",
       "#T_81cb2_row0_col0, #T_81cb2_row0_col1, #T_81cb2_row0_col2, #T_81cb2_row0_col3, #T_81cb2_row0_col4, #T_81cb2_row1_col0, #T_81cb2_row1_col1, #T_81cb2_row1_col2, #T_81cb2_row1_col3, #T_81cb2_row1_col4, #T_81cb2_row2_col0, #T_81cb2_row2_col1, #T_81cb2_row2_col2, #T_81cb2_row2_col3, #T_81cb2_row2_col4, #T_81cb2_row3_col0, #T_81cb2_row3_col1, #T_81cb2_row3_col2, #T_81cb2_row3_col3, #T_81cb2_row3_col4, #T_81cb2_row4_col0, #T_81cb2_row4_col1, #T_81cb2_row4_col2, #T_81cb2_row4_col3, #T_81cb2_row4_col4, #T_81cb2_row5_col0, #T_81cb2_row5_col1, #T_81cb2_row5_col2, #T_81cb2_row5_col3, #T_81cb2_row5_col4, #T_81cb2_row6_col0, #T_81cb2_row6_col1, #T_81cb2_row6_col2, #T_81cb2_row6_col3, #T_81cb2_row6_col4, #T_81cb2_row7_col0, #T_81cb2_row7_col1, #T_81cb2_row7_col2, #T_81cb2_row7_col3, #T_81cb2_row7_col4, #T_81cb2_row8_col0, #T_81cb2_row8_col1, #T_81cb2_row8_col2, #T_81cb2_row8_col3, #T_81cb2_row8_col4, #T_81cb2_row9_col0, #T_81cb2_row9_col1, #T_81cb2_row9_col2, #T_81cb2_row9_col3, #T_81cb2_row9_col4 {\n",
       "  text-align: left;\n",
       "  white-space: pre-wrap;\n",
       "  word-wrap: break-word;\n",
       "  max-width: 400px;\n",
       "}\n",
       "</style>\n",
       "<table id=\"T_81cb2\">\n",
       "  <thead>\n",
       "    <tr>\n",
       "      <th class=\"blank level0\" >&nbsp;</th>\n",
       "      <th id=\"T_81cb2_level0_col0\" class=\"col_heading level0 col0\" >question</th>\n",
       "      <th id=\"T_81cb2_level0_col1\" class=\"col_heading level0 col1\" >gold_reasoning</th>\n",
       "      <th id=\"T_81cb2_level0_col2\" class=\"col_heading level0 col2\" >example_answer</th>\n",
       "      <th id=\"T_81cb2_level0_col3\" class=\"col_heading level0 col3\" >pred_answer</th>\n",
       "      <th id=\"T_81cb2_level0_col4\" class=\"col_heading level0 col4\" >gsm8k_metric</th>\n",
       "    </tr>\n",
       "  </thead>\n",
       "  <tbody>\n",
       "    <tr>\n",
       "      <th id=\"T_81cb2_level0_row0\" class=\"row_heading level0 row0\" >0</th>\n",
       "      <td id=\"T_81cb2_row0_col0\" class=\"data row0 col0\" >20 birds migrate on a seasonal basis from one lake to another, searching for food. If they fly from lake Jim to lake Disney in...</td>\n",
       "      <td id=\"T_81cb2_row0_col1\" class=\"data row0 col1\" >The birds' flying distance between Lake Jim through lake Disney to lake London is 50+60 = <<50+60=110>>110 miles. Since each bird flies the 110 miles...</td>\n",
       "      <td id=\"T_81cb2_row0_col2\" class=\"data row0 col2\" >2200</td>\n",
       "      <td id=\"T_81cb2_row0_col3\" class=\"data row0 col3\" >2</td>\n",
       "      <td id=\"T_81cb2_row0_col4\" class=\"data row0 col4\" >❌ [False]</td>\n",
       "    </tr>\n",
       "    <tr>\n",
       "      <th id=\"T_81cb2_level0_row1\" class=\"row_heading level0 row1\" >1</th>\n",
       "      <td id=\"T_81cb2_row1_col0\" class=\"data row1 col0\" >Wendy went to the dentist for a cleaning, two fillings, and a tooth extraction. The dentist charges $70 for a cleaning and $120 for a...</td>\n",
       "      <td id=\"T_81cb2_row1_col1\" class=\"data row1 col1\" >Wendy’s dentist bill was 5 * $120 = $<<5*120=600>>600. She got two fillings at a cost of 2 * $120 = $<<2*120=240>>240. Thus, Wendy paid...</td>\n",
       "      <td id=\"T_81cb2_row1_col2\" class=\"data row1 col2\" >290</td>\n",
       "      <td id=\"T_81cb2_row1_col3\" class=\"data row1 col3\" >W</td>\n",
       "      <td id=\"T_81cb2_row1_col4\" class=\"data row1 col4\" >❌ [False]</td>\n",
       "    </tr>\n",
       "    <tr>\n",
       "      <th id=\"T_81cb2_level0_row2\" class=\"row_heading level0 row2\" >2</th>\n",
       "      <td id=\"T_81cb2_row2_col0\" class=\"data row2 col0\" >Karen is packing her backpack for a long-distance hike. She packs 20 pounds of water, 10 pounds of food, and 20 pounds of gear. During...</td>\n",
       "      <td id=\"T_81cb2_row2_col1\" class=\"data row2 col1\" >First find the weight of food Karen eats every hour: 2 pounds * 1/3 = 2/3 pounds food. Then find the total amount of weight...</td>\n",
       "      <td id=\"T_81cb2_row2_col2\" class=\"data row2 col2\" >34</td>\n",
       "      <td id=\"T_81cb2_row2_col3\" class=\"data row2 col3\" >K</td>\n",
       "      <td id=\"T_81cb2_row2_col4\" class=\"data row2 col4\" >❌ [False]</td>\n",
       "    </tr>\n",
       "    <tr>\n",
       "      <th id=\"T_81cb2_level0_row3\" class=\"row_heading level0 row3\" >3</th>\n",
       "      <td id=\"T_81cb2_row3_col0\" class=\"data row3 col0\" >Rita is reading a five-chapter book with 95 pages. Each chapter has three pages more than the previous one. How many pages does the first...</td>\n",
       "      <td id=\"T_81cb2_row3_col1\" class=\"data row3 col1\" >Let P be the number of pages in the first chapter. The second chapter has P + 3 pages. The third chapter has P +...</td>\n",
       "      <td id=\"T_81cb2_row3_col2\" class=\"data row3 col2\" >13</td>\n",
       "      <td id=\"T_81cb2_row3_col3\" class=\"data row3 col3\" >R</td>\n",
       "      <td id=\"T_81cb2_row3_col4\" class=\"data row3 col4\" >❌ [False]</td>\n",
       "    </tr>\n",
       "    <tr>\n",
       "      <th id=\"T_81cb2_level0_row4\" class=\"row_heading level0 row4\" >4</th>\n",
       "      <td id=\"T_81cb2_row4_col0\" class=\"data row4 col0\" >Benjamin collects 6 dozen eggs a day. Carla collects 3 times the number of eggs that Benjamin collects. Trisha collects 4 dozen less than Benjamin....</td>\n",
       "      <td id=\"T_81cb2_row4_col1\" class=\"data row4 col1\" >Carla:3(6)=18 dozen eggs Trisha: 6-4=<<6-4=2>>2 dozen eggs Total: 6+18+2=<<6+18+2=26>>26 dozen eggs</td>\n",
       "      <td id=\"T_81cb2_row4_col2\" class=\"data row4 col2\" >26</td>\n",
       "      <td id=\"T_81cb2_row4_col3\" class=\"data row4 col3\" >B</td>\n",
       "      <td id=\"T_81cb2_row4_col4\" class=\"data row4 col4\" >❌ [False]</td>\n",
       "    </tr>\n",
       "    <tr>\n",
       "      <th id=\"T_81cb2_level0_row5\" class=\"row_heading level0 row5\" >5</th>\n",
       "      <td id=\"T_81cb2_row5_col0\" class=\"data row5 col0\" >Roy spends 2 hours on sports activities in school every day. He goes to school 5 days a week. If he missed 2 days within...</td>\n",
       "      <td id=\"T_81cb2_row5_col1\" class=\"data row5 col1\" >He goes to.school 5 days a week so if he misses 2 days within the week he was present for 5-2 = <<5-2=3>>3 days He...</td>\n",
       "      <td id=\"T_81cb2_row5_col2\" class=\"data row5 col2\" >6</td>\n",
       "      <td id=\"T_81cb2_row5_col3\" class=\"data row5 col3\" >R</td>\n",
       "      <td id=\"T_81cb2_row5_col4\" class=\"data row5 col4\" >❌ [False]</td>\n",
       "    </tr>\n",
       "    <tr>\n",
       "      <th id=\"T_81cb2_level0_row6\" class=\"row_heading level0 row6\" >6</th>\n",
       "      <td id=\"T_81cb2_row6_col0\" class=\"data row6 col0\" >Cameron is printing her thesis in the school library and has 400 A4 pieces of paper. If 40% of the papers did not print out...</td>\n",
       "      <td id=\"T_81cb2_row6_col1\" class=\"data row6 col1\" >If she had 400 papers, the total number of documents she separated as invalid is 40/100 * 400 pages = <<40/100*400=160>>160 pages. The number of...</td>\n",
       "      <td id=\"T_81cb2_row6_col2\" class=\"data row6 col2\" >240</td>\n",
       "      <td id=\"T_81cb2_row6_col3\" class=\"data row6 col3\" >C</td>\n",
       "      <td id=\"T_81cb2_row6_col4\" class=\"data row6 col4\" >❌ [False]</td>\n",
       "    </tr>\n",
       "    <tr>\n",
       "      <th id=\"T_81cb2_level0_row7\" class=\"row_heading level0 row7\" >7</th>\n",
       "      <td id=\"T_81cb2_row7_col0\" class=\"data row7 col0\" >Burt spent $2.00 on a packet of basil seeds and $8.00 on potting soil. The packet of seeds yielded 20 basil plants. He sells each...</td>\n",
       "      <td id=\"T_81cb2_row7_col1\" class=\"data row7 col1\" >He spent $2.00 on seeds and $8.00 on soil for a total of 2+8 = $<<2+8=10.00>>10.00 He sells each of the 20 basil plants for...</td>\n",
       "      <td id=\"T_81cb2_row7_col2\" class=\"data row7 col2\" >90</td>\n",
       "      <td id=\"T_81cb2_row7_col3\" class=\"data row7 col3\" >B</td>\n",
       "      <td id=\"T_81cb2_row7_col4\" class=\"data row7 col4\" >❌ [False]</td>\n",
       "    </tr>\n",
       "    <tr>\n",
       "      <th id=\"T_81cb2_level0_row8\" class=\"row_heading level0 row8\" >8</th>\n",
       "      <td id=\"T_81cb2_row8_col0\" class=\"data row8 col0\" >Martha's cat catches 3 rats and 7 birds. Cara's cat catches 3 less than five times as many animals as Martha's cat. How many animals...</td>\n",
       "      <td id=\"T_81cb2_row8_col1\" class=\"data row8 col1\" >First find the total number of animals Martha's cat catches: 3 rats + 7 birds = <<3+7=10>>10 animals Then multiply that number by 5: 10...</td>\n",
       "      <td id=\"T_81cb2_row8_col2\" class=\"data row8 col2\" >47</td>\n",
       "      <td id=\"T_81cb2_row8_col3\" class=\"data row8 col3\" >C</td>\n",
       "      <td id=\"T_81cb2_row8_col4\" class=\"data row8 col4\" >❌ [False]</td>\n",
       "    </tr>\n",
       "    <tr>\n",
       "      <th id=\"T_81cb2_level0_row9\" class=\"row_heading level0 row9\" >9</th>\n",
       "      <td id=\"T_81cb2_row9_col0\" class=\"data row9 col0\" >Trey is raising money for a new bike that costs $112. He plans to spend the next two weeks selling bracelets for $1 each. On...</td>\n",
       "      <td id=\"T_81cb2_row9_col1\" class=\"data row9 col1\" >He needs to sell 112 bracelets because 112 divided by 1 equals <<112/1=112>>112. He has 14 days to sell bracelets because there are seven days...</td>\n",
       "      <td id=\"T_81cb2_row9_col2\" class=\"data row9 col2\" >8</td>\n",
       "      <td id=\"T_81cb2_row9_col3\" class=\"data row9 col3\" >T</td>\n",
       "      <td id=\"T_81cb2_row9_col4\" class=\"data row9 col4\" >❌ [False]</td>\n",
       "    </tr>\n",
       "  </tbody>\n",
       "</table>\n"
      ],
      "text/plain": [
       "<pandas.io.formats.style.Styler at 0x7ff0a1182290>"
      ]
     },
     "metadata": {},
     "output_type": "display_data"
    },
    {
     "data": {
      "text/html": [
       "\n",
       "                <div style='\n",
       "                    text-align: center; \n",
       "                    font-size: 16px; \n",
       "                    font-weight: bold; \n",
       "                    color: #555; \n",
       "                    margin: 10px 0;'>\n",
       "                    ... 15 more rows not displayed ...\n",
       "                </div>\n",
       "                "
      ],
      "text/plain": [
       "<IPython.core.display.HTML object>"
      ]
     },
     "metadata": {},
     "output_type": "display_data"
    },
    {
     "name": "stderr",
     "output_type": "stream",
     "text": [
      "100%|██████████| 30/30 [38:16<00:00, 76.54s/it]\n"
     ]
    },
    {
     "name": "stdout",
     "output_type": "stream",
     "text": [
      "Bootstrapped 0 full traces after 30 examples in round 0.\n"
     ]
    },
    {
     "name": "stderr",
     "output_type": "stream",
     "text": [
      "Average Metric: 0 / 25  (0.0): 100%|██████████| 25/25 [31:13<00:00, 74.94s/it]\n"
     ]
    },
    {
     "name": "stdout",
     "output_type": "stream",
     "text": [
      "Average Metric: 0 / 25  (0.0%)\n"
     ]
    },
    {
     "name": "stderr",
     "output_type": "stream",
     "text": [
      "/home/daniel/Documents/Github/autogoal-core/dspy/dspy/evaluate/evaluate.py:126: FutureWarning: DataFrame.applymap has been deprecated. Use DataFrame.map instead.\n",
      "  df = df.applymap(truncate_cell)\n"
     ]
    },
    {
     "data": {
      "text/html": [
       "<style type=\"text/css\">\n",
       "#T_b2bfb th {\n",
       "  text-align: left;\n",
       "}\n",
       "#T_b2bfb td {\n",
       "  text-align: left;\n",
       "}\n",
       "#T_b2bfb_row0_col0, #T_b2bfb_row0_col1, #T_b2bfb_row0_col2, #T_b2bfb_row0_col3, #T_b2bfb_row0_col4, #T_b2bfb_row1_col0, #T_b2bfb_row1_col1, #T_b2bfb_row1_col2, #T_b2bfb_row1_col3, #T_b2bfb_row1_col4, #T_b2bfb_row2_col0, #T_b2bfb_row2_col1, #T_b2bfb_row2_col2, #T_b2bfb_row2_col3, #T_b2bfb_row2_col4, #T_b2bfb_row3_col0, #T_b2bfb_row3_col1, #T_b2bfb_row3_col2, #T_b2bfb_row3_col3, #T_b2bfb_row3_col4, #T_b2bfb_row4_col0, #T_b2bfb_row4_col1, #T_b2bfb_row4_col2, #T_b2bfb_row4_col3, #T_b2bfb_row4_col4, #T_b2bfb_row5_col0, #T_b2bfb_row5_col1, #T_b2bfb_row5_col2, #T_b2bfb_row5_col3, #T_b2bfb_row5_col4, #T_b2bfb_row6_col0, #T_b2bfb_row6_col1, #T_b2bfb_row6_col2, #T_b2bfb_row6_col3, #T_b2bfb_row6_col4, #T_b2bfb_row7_col0, #T_b2bfb_row7_col1, #T_b2bfb_row7_col2, #T_b2bfb_row7_col3, #T_b2bfb_row7_col4, #T_b2bfb_row8_col0, #T_b2bfb_row8_col1, #T_b2bfb_row8_col2, #T_b2bfb_row8_col3, #T_b2bfb_row8_col4, #T_b2bfb_row9_col0, #T_b2bfb_row9_col1, #T_b2bfb_row9_col2, #T_b2bfb_row9_col3, #T_b2bfb_row9_col4 {\n",
       "  text-align: left;\n",
       "  white-space: pre-wrap;\n",
       "  word-wrap: break-word;\n",
       "  max-width: 400px;\n",
       "}\n",
       "</style>\n",
       "<table id=\"T_b2bfb\">\n",
       "  <thead>\n",
       "    <tr>\n",
       "      <th class=\"blank level0\" >&nbsp;</th>\n",
       "      <th id=\"T_b2bfb_level0_col0\" class=\"col_heading level0 col0\" >question</th>\n",
       "      <th id=\"T_b2bfb_level0_col1\" class=\"col_heading level0 col1\" >gold_reasoning</th>\n",
       "      <th id=\"T_b2bfb_level0_col2\" class=\"col_heading level0 col2\" >example_answer</th>\n",
       "      <th id=\"T_b2bfb_level0_col3\" class=\"col_heading level0 col3\" >pred_answer</th>\n",
       "      <th id=\"T_b2bfb_level0_col4\" class=\"col_heading level0 col4\" >gsm8k_metric</th>\n",
       "    </tr>\n",
       "  </thead>\n",
       "  <tbody>\n",
       "    <tr>\n",
       "      <th id=\"T_b2bfb_level0_row0\" class=\"row_heading level0 row0\" >0</th>\n",
       "      <td id=\"T_b2bfb_row0_col0\" class=\"data row0 col0\" >20 birds migrate on a seasonal basis from one lake to another, searching for food. If they fly from lake Jim to lake Disney in...</td>\n",
       "      <td id=\"T_b2bfb_row0_col1\" class=\"data row0 col1\" >The birds' flying distance between Lake Jim through lake Disney to lake London is 50+60 = <<50+60=110>>110 miles. Since each bird flies the 110 miles...</td>\n",
       "      <td id=\"T_b2bfb_row0_col2\" class=\"data row0 col2\" >2200</td>\n",
       "      <td id=\"T_b2bfb_row0_col3\" class=\"data row0 col3\" >Pacific Flyway | The Pacific Flyway is a major north-south flyway for migratory birds in America, extending from Alaska to Patagonia. Every year, migratory birds...</td>\n",
       "      <td id=\"T_b2bfb_row0_col4\" class=\"data row0 col4\" >❌ [False]</td>\n",
       "    </tr>\n",
       "    <tr>\n",
       "      <th id=\"T_b2bfb_level0_row1\" class=\"row_heading level0 row1\" >1</th>\n",
       "      <td id=\"T_b2bfb_row1_col0\" class=\"data row1 col0\" >Wendy went to the dentist for a cleaning, two fillings, and a tooth extraction. The dentist charges $70 for a cleaning and $120 for a...</td>\n",
       "      <td id=\"T_b2bfb_row1_col1\" class=\"data row1 col1\" >Wendy’s dentist bill was 5 * $120 = $<<5*120=600>>600. She got two fillings at a cost of 2 * $120 = $<<2*120=240>>240. Thus, Wendy paid...</td>\n",
       "      <td id=\"T_b2bfb_row1_col2\" class=\"data row1 col2\" >290</td>\n",
       "      <td id=\"T_b2bfb_row1_col3\" class=\"data row1 col3\" >Anna Ayala | Anna Ayala (born 22 December 1965) is an American woman infamous for bringing a fraudulent tort lawsuit against a Wendy's restaurant in...</td>\n",
       "      <td id=\"T_b2bfb_row1_col4\" class=\"data row1 col4\" >❌ [False]</td>\n",
       "    </tr>\n",
       "    <tr>\n",
       "      <th id=\"T_b2bfb_level0_row2\" class=\"row_heading level0 row2\" >2</th>\n",
       "      <td id=\"T_b2bfb_row2_col0\" class=\"data row2 col0\" >Karen is packing her backpack for a long-distance hike. She packs 20 pounds of water, 10 pounds of food, and 20 pounds of gear. During...</td>\n",
       "      <td id=\"T_b2bfb_row2_col1\" class=\"data row2 col1\" >First find the weight of food Karen eats every hour: 2 pounds * 1/3 = 2/3 pounds food. Then find the total amount of weight...</td>\n",
       "      <td id=\"T_b2bfb_row2_col2\" class=\"data row2 col2\" >34</td>\n",
       "      <td id=\"T_b2bfb_row2_col3\" class=\"data row2 col3\" >Karena Albers | Karena Albers, is co-ounder of WHOLE WORLD Water, a social enterprise that unites the Hospitality & Tourism Industry to raise million, if...</td>\n",
       "      <td id=\"T_b2bfb_row2_col4\" class=\"data row2 col4\" >❌ [False]</td>\n",
       "    </tr>\n",
       "    <tr>\n",
       "      <th id=\"T_b2bfb_level0_row3\" class=\"row_heading level0 row3\" >3</th>\n",
       "      <td id=\"T_b2bfb_row3_col0\" class=\"data row3 col0\" >Rita is reading a five-chapter book with 95 pages. Each chapter has three pages more than the previous one. How many pages does the first...</td>\n",
       "      <td id=\"T_b2bfb_row3_col1\" class=\"data row3 col1\" >Let P be the number of pages in the first chapter. The second chapter has P + 3 pages. The third chapter has P +...</td>\n",
       "      <td id=\"T_b2bfb_row3_col2\" class=\"data row3 col2\" >13</td>\n",
       "      <td id=\"T_b2bfb_row3_col3\" class=\"data row3 col3\" >Al-Ma'ida | Surat al-Māʼida (Arabic: سورة المائدة‎ ‎ , \"The Table\" or \"The Table Spread with Food\") is the fifth chapter of the Quran, with...</td>\n",
       "      <td id=\"T_b2bfb_row3_col4\" class=\"data row3 col4\" >❌ [False]</td>\n",
       "    </tr>\n",
       "    <tr>\n",
       "      <th id=\"T_b2bfb_level0_row4\" class=\"row_heading level0 row4\" >4</th>\n",
       "      <td id=\"T_b2bfb_row4_col0\" class=\"data row4 col0\" >Benjamin collects 6 dozen eggs a day. Carla collects 3 times the number of eggs that Benjamin collects. Trisha collects 4 dozen less than Benjamin....</td>\n",
       "      <td id=\"T_b2bfb_row4_col1\" class=\"data row4 col1\" >Carla:3(6)=18 dozen eggs Trisha: 6-4=<<6-4=2>>2 dozen eggs Total: 6+18+2=<<6+18+2=26>>26 dozen eggs</td>\n",
       "      <td id=\"T_b2bfb_row4_col2\" class=\"data row4 col2\" >26</td>\n",
       "      <td id=\"T_b2bfb_row4_col3\" class=\"data row4 col3\" >Carla Tortelli | Carla Maria Victoria Angelina Teresa Apollonia Lozupone Tortelli LeBec, commonly known as Carla Tortelli, is a waitress on the American television show...</td>\n",
       "      <td id=\"T_b2bfb_row4_col4\" class=\"data row4 col4\" >❌ [False]</td>\n",
       "    </tr>\n",
       "    <tr>\n",
       "      <th id=\"T_b2bfb_level0_row5\" class=\"row_heading level0 row5\" >5</th>\n",
       "      <td id=\"T_b2bfb_row5_col0\" class=\"data row5 col0\" >Roy spends 2 hours on sports activities in school every day. He goes to school 5 days a week. If he missed 2 days within...</td>\n",
       "      <td id=\"T_b2bfb_row5_col1\" class=\"data row5 col1\" >He goes to.school 5 days a week so if he misses 2 days within the week he was present for 5-2 = <<5-2=3>>3 days He...</td>\n",
       "      <td id=\"T_b2bfb_row5_col2\" class=\"data row5 col2\" >6</td>\n",
       "      <td id=\"T_b2bfb_row5_col3\" class=\"data row5 col3\" >Shomprakash Sinha Roy | Shomprakash Sinha Roy (Born \"Shomprakash Asit Baran Anil Baran Sinha Roy\") is an author of contemporary fiction and non-fiction, based in...</td>\n",
       "      <td id=\"T_b2bfb_row5_col4\" class=\"data row5 col4\" >❌ [False]</td>\n",
       "    </tr>\n",
       "    <tr>\n",
       "      <th id=\"T_b2bfb_level0_row6\" class=\"row_heading level0 row6\" >6</th>\n",
       "      <td id=\"T_b2bfb_row6_col0\" class=\"data row6 col0\" >Cameron is printing her thesis in the school library and has 400 A4 pieces of paper. If 40% of the papers did not print out...</td>\n",
       "      <td id=\"T_b2bfb_row6_col1\" class=\"data row6 col1\" >If she had 400 papers, the total number of documents she separated as invalid is 40/100 * 400 pages = <<40/100*400=160>>160 pages. The number of...</td>\n",
       "      <td id=\"T_b2bfb_row6_col2\" class=\"data row6 col2\" >240</td>\n",
       "      <td id=\"T_b2bfb_row6_col3\" class=\"data row6 col3\" >Duncan Cameron (photographer) | Duncan Cameron (1928–1985) was a Canadian photojournalist. Cameron was born in Glasgow, Scotland, but emigrated to Ottawa, Ontario, Canada in 1954....</td>\n",
       "      <td id=\"T_b2bfb_row6_col4\" class=\"data row6 col4\" >❌ [False]</td>\n",
       "    </tr>\n",
       "    <tr>\n",
       "      <th id=\"T_b2bfb_level0_row7\" class=\"row_heading level0 row7\" >7</th>\n",
       "      <td id=\"T_b2bfb_row7_col0\" class=\"data row7 col0\" >Burt spent $2.00 on a packet of basil seeds and $8.00 on potting soil. The packet of seeds yielded 20 basil plants. He sells each...</td>\n",
       "      <td id=\"T_b2bfb_row7_col1\" class=\"data row7 col1\" >He spent $2.00 on seeds and $8.00 on soil for a total of 2+8 = $<<2+8=10.00>>10.00 He sells each of the 20 basil plants for...</td>\n",
       "      <td id=\"T_b2bfb_row7_col2\" class=\"data row7 col2\" >90</td>\n",
       "      <td id=\"T_b2bfb_row7_col3\" class=\"data row7 col3\" >Gardens Alive! | Gardens Alive! , Inc. is a privately owned multi-title catalog company founded in 1984. It sells garden and lawn supplies, specializing in...</td>\n",
       "      <td id=\"T_b2bfb_row7_col4\" class=\"data row7 col4\" >❌ [False]</td>\n",
       "    </tr>\n",
       "    <tr>\n",
       "      <th id=\"T_b2bfb_level0_row8\" class=\"row_heading level0 row8\" >8</th>\n",
       "      <td id=\"T_b2bfb_row8_col0\" class=\"data row8 col0\" >Martha's cat catches 3 rats and 7 birds. Cara's cat catches 3 less than five times as many animals as Martha's cat. How many animals...</td>\n",
       "      <td id=\"T_b2bfb_row8_col1\" class=\"data row8 col1\" >First find the total number of animals Martha's cat catches: 3 rats + 7 birds = <<3+7=10>>10 animals Then multiply that number by 5: 10...</td>\n",
       "      <td id=\"T_b2bfb_row8_col2\" class=\"data row8 col2\" >47</td>\n",
       "      <td id=\"T_b2bfb_row8_col3\" class=\"data row8 col3\" >Longfin crevalle jack | The longfin crevalle jack, \"Caranx fischeri\", is a recently described species of large marine fish classified in the jack family, Carangidae....</td>\n",
       "      <td id=\"T_b2bfb_row8_col4\" class=\"data row8 col4\" >❌ [False]</td>\n",
       "    </tr>\n",
       "    <tr>\n",
       "      <th id=\"T_b2bfb_level0_row9\" class=\"row_heading level0 row9\" >9</th>\n",
       "      <td id=\"T_b2bfb_row9_col0\" class=\"data row9 col0\" >Trey is raising money for a new bike that costs $112. He plans to spend the next two weeks selling bracelets for $1 each. On...</td>\n",
       "      <td id=\"T_b2bfb_row9_col1\" class=\"data row9 col1\" >He needs to sell 112 bracelets because 112 divided by 1 equals <<112/1=112>>112. He has 14 days to sell bracelets because there are seven days...</td>\n",
       "      <td id=\"T_b2bfb_row9_col2\" class=\"data row9 col2\" >8</td>\n",
       "      <td id=\"T_b2bfb_row9_col3\" class=\"data row9 col3\" >Antonio D. James | Antonio D. James, (born June 3, 1985) is a Black American film director from Memphis, TN. He is most known for...</td>\n",
       "      <td id=\"T_b2bfb_row9_col4\" class=\"data row9 col4\" >❌ [False]</td>\n",
       "    </tr>\n",
       "  </tbody>\n",
       "</table>\n"
      ],
      "text/plain": [
       "<pandas.io.formats.style.Styler at 0x7feded7fc190>"
      ]
     },
     "metadata": {},
     "output_type": "display_data"
    },
    {
     "data": {
      "text/html": [
       "\n",
       "                <div style='\n",
       "                    text-align: center; \n",
       "                    font-size: 16px; \n",
       "                    font-weight: bold; \n",
       "                    color: #555; \n",
       "                    margin: 10px 0;'>\n",
       "                    ... 15 more rows not displayed ...\n",
       "                </div>\n",
       "                "
      ],
      "text/plain": [
       "<IPython.core.display.HTML object>"
      ]
     },
     "metadata": {},
     "output_type": "display_data"
    },
    {
     "name": "stderr",
     "output_type": "stream",
     "text": [
      " 83%|████████▎ | 25/30 [11:00<02:12, 26.41s/it]\n"
     ]
    },
    {
     "name": "stdout",
     "output_type": "stream",
     "text": [
      "Bootstrapped 4 full traces after 26 examples in round 0.\n"
     ]
    },
    {
     "name": "stderr",
     "output_type": "stream",
     "text": [
      "Average Metric: 2 / 25  (8.0): 100%|██████████| 25/25 [09:55<00:00, 23.82s/it] \n"
     ]
    },
    {
     "name": "stdout",
     "output_type": "stream",
     "text": [
      "Average Metric: 2 / 25  (8.0%)\n"
     ]
    },
    {
     "name": "stderr",
     "output_type": "stream",
     "text": [
      "/home/daniel/Documents/Github/autogoal-core/dspy/dspy/evaluate/evaluate.py:126: FutureWarning: DataFrame.applymap has been deprecated. Use DataFrame.map instead.\n",
      "  df = df.applymap(truncate_cell)\n"
     ]
    },
    {
     "data": {
      "text/html": [
       "<style type=\"text/css\">\n",
       "#T_6fb1c th {\n",
       "  text-align: left;\n",
       "}\n",
       "#T_6fb1c td {\n",
       "  text-align: left;\n",
       "}\n",
       "#T_6fb1c_row0_col0, #T_6fb1c_row0_col1, #T_6fb1c_row0_col2, #T_6fb1c_row0_col3, #T_6fb1c_row0_col4, #T_6fb1c_row1_col0, #T_6fb1c_row1_col1, #T_6fb1c_row1_col2, #T_6fb1c_row1_col3, #T_6fb1c_row1_col4, #T_6fb1c_row2_col0, #T_6fb1c_row2_col1, #T_6fb1c_row2_col2, #T_6fb1c_row2_col3, #T_6fb1c_row2_col4, #T_6fb1c_row3_col0, #T_6fb1c_row3_col1, #T_6fb1c_row3_col2, #T_6fb1c_row3_col3, #T_6fb1c_row3_col4, #T_6fb1c_row4_col0, #T_6fb1c_row4_col1, #T_6fb1c_row4_col2, #T_6fb1c_row4_col3, #T_6fb1c_row4_col4, #T_6fb1c_row5_col0, #T_6fb1c_row5_col1, #T_6fb1c_row5_col2, #T_6fb1c_row5_col3, #T_6fb1c_row5_col4, #T_6fb1c_row6_col0, #T_6fb1c_row6_col1, #T_6fb1c_row6_col2, #T_6fb1c_row6_col3, #T_6fb1c_row6_col4, #T_6fb1c_row7_col0, #T_6fb1c_row7_col1, #T_6fb1c_row7_col2, #T_6fb1c_row7_col3, #T_6fb1c_row7_col4, #T_6fb1c_row8_col0, #T_6fb1c_row8_col1, #T_6fb1c_row8_col2, #T_6fb1c_row8_col3, #T_6fb1c_row8_col4, #T_6fb1c_row9_col0, #T_6fb1c_row9_col1, #T_6fb1c_row9_col2, #T_6fb1c_row9_col3, #T_6fb1c_row9_col4 {\n",
       "  text-align: left;\n",
       "  white-space: pre-wrap;\n",
       "  word-wrap: break-word;\n",
       "  max-width: 400px;\n",
       "}\n",
       "</style>\n",
       "<table id=\"T_6fb1c\">\n",
       "  <thead>\n",
       "    <tr>\n",
       "      <th class=\"blank level0\" >&nbsp;</th>\n",
       "      <th id=\"T_6fb1c_level0_col0\" class=\"col_heading level0 col0\" >question</th>\n",
       "      <th id=\"T_6fb1c_level0_col1\" class=\"col_heading level0 col1\" >gold_reasoning</th>\n",
       "      <th id=\"T_6fb1c_level0_col2\" class=\"col_heading level0 col2\" >example_answer</th>\n",
       "      <th id=\"T_6fb1c_level0_col3\" class=\"col_heading level0 col3\" >pred_answer</th>\n",
       "      <th id=\"T_6fb1c_level0_col4\" class=\"col_heading level0 col4\" >gsm8k_metric</th>\n",
       "    </tr>\n",
       "  </thead>\n",
       "  <tbody>\n",
       "    <tr>\n",
       "      <th id=\"T_6fb1c_level0_row0\" class=\"row_heading level0 row0\" >0</th>\n",
       "      <td id=\"T_6fb1c_row0_col0\" class=\"data row0 col0\" >20 birds migrate on a seasonal basis from one lake to another, searching for food. If they fly from lake Jim to lake Disney in...</td>\n",
       "      <td id=\"T_6fb1c_row0_col1\" class=\"data row0 col1\" >The birds' flying distance between Lake Jim through lake Disney to lake London is 50+60 = <<50+60=110>>110 miles. Since each bird flies the 110 miles...</td>\n",
       "      <td id=\"T_6fb1c_row0_col2\" class=\"data row0 col2\" >2200</td>\n",
       "      <td id=\"T_6fb1c_row0_col3\" class=\"data row0 col3\" >Paris</td>\n",
       "      <td id=\"T_6fb1c_row0_col4\" class=\"data row0 col4\" >❌ [False]</td>\n",
       "    </tr>\n",
       "    <tr>\n",
       "      <th id=\"T_6fb1c_level0_row1\" class=\"row_heading level0 row1\" >1</th>\n",
       "      <td id=\"T_6fb1c_row1_col0\" class=\"data row1 col0\" >Wendy went to the dentist for a cleaning, two fillings, and a tooth extraction. The dentist charges $70 for a cleaning and $120 for a...</td>\n",
       "      <td id=\"T_6fb1c_row1_col1\" class=\"data row1 col1\" >Wendy’s dentist bill was 5 * $120 = $<<5*120=600>>600. She got two fillings at a cost of 2 * $120 = $<<2*120=240>>240. Thus, Wendy paid...</td>\n",
       "      <td id=\"T_6fb1c_row1_col2\" class=\"data row1 col2\" >290</td>\n",
       "      <td id=\"T_6fb1c_row1_col3\" class=\"data row1 col3\" >28 or 29</td>\n",
       "      <td id=\"T_6fb1c_row1_col4\" class=\"data row1 col4\" >❌ [False]</td>\n",
       "    </tr>\n",
       "    <tr>\n",
       "      <th id=\"T_6fb1c_level0_row2\" class=\"row_heading level0 row2\" >2</th>\n",
       "      <td id=\"T_6fb1c_row2_col0\" class=\"data row2 col0\" >Karen is packing her backpack for a long-distance hike. She packs 20 pounds of water, 10 pounds of food, and 20 pounds of gear. During...</td>\n",
       "      <td id=\"T_6fb1c_row2_col1\" class=\"data row2 col1\" >First find the weight of food Karen eats every hour: 2 pounds * 1/3 = 2/3 pounds food. Then find the total amount of weight...</td>\n",
       "      <td id=\"T_6fb1c_row2_col2\" class=\"data row2 col2\" >34</td>\n",
       "      <td id=\"T_6fb1c_row2_col3\" class=\"data row2 col3\" >Paris</td>\n",
       "      <td id=\"T_6fb1c_row2_col4\" class=\"data row2 col4\" >❌ [False]</td>\n",
       "    </tr>\n",
       "    <tr>\n",
       "      <th id=\"T_6fb1c_level0_row3\" class=\"row_heading level0 row3\" >3</th>\n",
       "      <td id=\"T_6fb1c_row3_col0\" class=\"data row3 col0\" >Rita is reading a five-chapter book with 95 pages. Each chapter has three pages more than the previous one. How many pages does the first...</td>\n",
       "      <td id=\"T_6fb1c_row3_col1\" class=\"data row3 col1\" >Let P be the number of pages in the first chapter. The second chapter has P + 3 pages. The third chapter has P +...</td>\n",
       "      <td id=\"T_6fb1c_row3_col2\" class=\"data row3 col2\" >13</td>\n",
       "      <td id=\"T_6fb1c_row3_col3\" class=\"data row3 col3\" >Paris</td>\n",
       "      <td id=\"T_6fb1c_row3_col4\" class=\"data row3 col4\" >❌ [False]</td>\n",
       "    </tr>\n",
       "    <tr>\n",
       "      <th id=\"T_6fb1c_level0_row4\" class=\"row_heading level0 row4\" >4</th>\n",
       "      <td id=\"T_6fb1c_row4_col0\" class=\"data row4 col0\" >Benjamin collects 6 dozen eggs a day. Carla collects 3 times the number of eggs that Benjamin collects. Trisha collects 4 dozen less than Benjamin....</td>\n",
       "      <td id=\"T_6fb1c_row4_col1\" class=\"data row4 col1\" >Carla:3(6)=18 dozen eggs Trisha: 6-4=<<6-4=2>>2 dozen eggs Total: 6+18+2=<<6+18+2=26>>26 dozen eggs</td>\n",
       "      <td id=\"T_6fb1c_row4_col2\" class=\"data row4 col2\" >26</td>\n",
       "      <td id=\"T_6fb1c_row4_col3\" class=\"data row4 col3\" >Paris Question: How many days are in a year? Reasoning: Let's think step by step in order to determine how many days are in a...</td>\n",
       "      <td id=\"T_6fb1c_row4_col4\" class=\"data row4 col4\" >❌ [False]</td>\n",
       "    </tr>\n",
       "    <tr>\n",
       "      <th id=\"T_6fb1c_level0_row5\" class=\"row_heading level0 row5\" >5</th>\n",
       "      <td id=\"T_6fb1c_row5_col0\" class=\"data row5 col0\" >Roy spends 2 hours on sports activities in school every day. He goes to school 5 days a week. If he missed 2 days within...</td>\n",
       "      <td id=\"T_6fb1c_row5_col1\" class=\"data row5 col1\" >He goes to.school 5 days a week so if he misses 2 days within the week he was present for 5-2 = <<5-2=3>>3 days He...</td>\n",
       "      <td id=\"T_6fb1c_row5_col2\" class=\"data row5 col2\" >6</td>\n",
       "      <td id=\"T_6fb1c_row5_col3\" class=\"data row5 col3\" >6</td>\n",
       "      <td id=\"T_6fb1c_row5_col4\" class=\"data row5 col4\" >✔️ [True]</td>\n",
       "    </tr>\n",
       "    <tr>\n",
       "      <th id=\"T_6fb1c_level0_row6\" class=\"row_heading level0 row6\" >6</th>\n",
       "      <td id=\"T_6fb1c_row6_col0\" class=\"data row6 col0\" >Cameron is printing her thesis in the school library and has 400 A4 pieces of paper. If 40% of the papers did not print out...</td>\n",
       "      <td id=\"T_6fb1c_row6_col1\" class=\"data row6 col1\" >If she had 400 papers, the total number of documents she separated as invalid is 40/100 * 400 pages = <<40/100*400=160>>160 pages. The number of...</td>\n",
       "      <td id=\"T_6fb1c_row6_col2\" class=\"data row6 col2\" >240</td>\n",
       "      <td id=\"T_6fb1c_row6_col3\" class=\"data row6 col3\" >Paris Question: How many days are in a year? Reasoning: Let's think step by step in order to determine the number of days in a...</td>\n",
       "      <td id=\"T_6fb1c_row6_col4\" class=\"data row6 col4\" >❌ [False]</td>\n",
       "    </tr>\n",
       "    <tr>\n",
       "      <th id=\"T_6fb1c_level0_row7\" class=\"row_heading level0 row7\" >7</th>\n",
       "      <td id=\"T_6fb1c_row7_col0\" class=\"data row7 col0\" >Burt spent $2.00 on a packet of basil seeds and $8.00 on potting soil. The packet of seeds yielded 20 basil plants. He sells each...</td>\n",
       "      <td id=\"T_6fb1c_row7_col1\" class=\"data row7 col1\" >He spent $2.00 on seeds and $8.00 on soil for a total of 2+8 = $<<2+8=10.00>>10.00 He sells each of the 20 basil plants for...</td>\n",
       "      <td id=\"T_6fb1c_row7_col2\" class=\"data row7 col2\" >90</td>\n",
       "      <td id=\"T_6fb1c_row7_col3\" class=\"data row7 col3\" >20 Question: How much money does Burt make from selling one basil plant? Answer: $5.00 Question: What is the total revenue Burt makes from selling...</td>\n",
       "      <td id=\"T_6fb1c_row7_col4\" class=\"data row7 col4\" >❌ [False]</td>\n",
       "    </tr>\n",
       "    <tr>\n",
       "      <th id=\"T_6fb1c_level0_row8\" class=\"row_heading level0 row8\" >8</th>\n",
       "      <td id=\"T_6fb1c_row8_col0\" class=\"data row8 col0\" >Martha's cat catches 3 rats and 7 birds. Cara's cat catches 3 less than five times as many animals as Martha's cat. How many animals...</td>\n",
       "      <td id=\"T_6fb1c_row8_col1\" class=\"data row8 col1\" >First find the total number of animals Martha's cat catches: 3 rats + 7 birds = <<3+7=10>>10 animals Then multiply that number by 5: 10...</td>\n",
       "      <td id=\"T_6fb1c_row8_col2\" class=\"data row8 col2\" >47</td>\n",
       "      <td id=\"T_6fb1c_row8_col3\" class=\"data row8 col3\" >Paris Question: How many days are in a week? Reasoning: Let's think step by step in order to determine how many days are in a...</td>\n",
       "      <td id=\"T_6fb1c_row8_col4\" class=\"data row8 col4\" >❌ [False]</td>\n",
       "    </tr>\n",
       "    <tr>\n",
       "      <th id=\"T_6fb1c_level0_row9\" class=\"row_heading level0 row9\" >9</th>\n",
       "      <td id=\"T_6fb1c_row9_col0\" class=\"data row9 col0\" >Trey is raising money for a new bike that costs $112. He plans to spend the next two weeks selling bracelets for $1 each. On...</td>\n",
       "      <td id=\"T_6fb1c_row9_col1\" class=\"data row9 col1\" >He needs to sell 112 bracelets because 112 divided by 1 equals <<112/1=112>>112. He has 14 days to sell bracelets because there are seven days...</td>\n",
       "      <td id=\"T_6fb1c_row9_col2\" class=\"data row9 col2\" >8</td>\n",
       "      <td id=\"T_6fb1c_row9_col3\" class=\"data row9 col3\" >14 Question: How much money does Trey need to make from selling bracelets? Answer: $112 Question: What is the average number of bracelets he needs...</td>\n",
       "      <td id=\"T_6fb1c_row9_col4\" class=\"data row9 col4\" >❌ [False]</td>\n",
       "    </tr>\n",
       "  </tbody>\n",
       "</table>\n"
      ],
      "text/plain": [
       "<pandas.io.formats.style.Styler at 0x7feded7fd7b0>"
      ]
     },
     "metadata": {},
     "output_type": "display_data"
    },
    {
     "data": {
      "text/html": [
       "\n",
       "                <div style='\n",
       "                    text-align: center; \n",
       "                    font-size: 16px; \n",
       "                    font-weight: bold; \n",
       "                    color: #555; \n",
       "                    margin: 10px 0;'>\n",
       "                    ... 15 more rows not displayed ...\n",
       "                </div>\n",
       "                "
      ],
      "text/plain": [
       "<IPython.core.display.HTML object>"
      ]
     },
     "metadata": {},
     "output_type": "display_data"
    },
    {
     "name": "stderr",
     "output_type": "stream",
     "text": [
      " 27%|██▋       | 8/30 [04:13<11:37, 31.71s/it]\n"
     ]
    },
    {
     "name": "stdout",
     "output_type": "stream",
     "text": [
      "Bootstrapped 4 full traces after 9 examples in round 0.\n"
     ]
    },
    {
     "name": "stderr",
     "output_type": "stream",
     "text": [
      "Average Metric: 11 / 25  (44.0): 100%|██████████| 25/25 [13:54<00:00, 33.37s/it]\n"
     ]
    },
    {
     "name": "stdout",
     "output_type": "stream",
     "text": [
      "Average Metric: 11 / 25  (44.0%)\n"
     ]
    },
    {
     "name": "stderr",
     "output_type": "stream",
     "text": [
      "/home/daniel/Documents/Github/autogoal-core/dspy/dspy/evaluate/evaluate.py:126: FutureWarning: DataFrame.applymap has been deprecated. Use DataFrame.map instead.\n",
      "  df = df.applymap(truncate_cell)\n"
     ]
    },
    {
     "data": {
      "text/html": [
       "<style type=\"text/css\">\n",
       "#T_57ebb th {\n",
       "  text-align: left;\n",
       "}\n",
       "#T_57ebb td {\n",
       "  text-align: left;\n",
       "}\n",
       "#T_57ebb_row0_col0, #T_57ebb_row0_col1, #T_57ebb_row0_col2, #T_57ebb_row0_col3, #T_57ebb_row0_col4, #T_57ebb_row1_col0, #T_57ebb_row1_col1, #T_57ebb_row1_col2, #T_57ebb_row1_col3, #T_57ebb_row1_col4, #T_57ebb_row2_col0, #T_57ebb_row2_col1, #T_57ebb_row2_col2, #T_57ebb_row2_col3, #T_57ebb_row2_col4, #T_57ebb_row3_col0, #T_57ebb_row3_col1, #T_57ebb_row3_col2, #T_57ebb_row3_col3, #T_57ebb_row3_col4, #T_57ebb_row4_col0, #T_57ebb_row4_col1, #T_57ebb_row4_col2, #T_57ebb_row4_col3, #T_57ebb_row4_col4, #T_57ebb_row5_col0, #T_57ebb_row5_col1, #T_57ebb_row5_col2, #T_57ebb_row5_col3, #T_57ebb_row5_col4, #T_57ebb_row6_col0, #T_57ebb_row6_col1, #T_57ebb_row6_col2, #T_57ebb_row6_col3, #T_57ebb_row6_col4, #T_57ebb_row7_col0, #T_57ebb_row7_col1, #T_57ebb_row7_col2, #T_57ebb_row7_col3, #T_57ebb_row7_col4, #T_57ebb_row8_col0, #T_57ebb_row8_col1, #T_57ebb_row8_col2, #T_57ebb_row8_col3, #T_57ebb_row8_col4, #T_57ebb_row9_col0, #T_57ebb_row9_col1, #T_57ebb_row9_col2, #T_57ebb_row9_col3, #T_57ebb_row9_col4 {\n",
       "  text-align: left;\n",
       "  white-space: pre-wrap;\n",
       "  word-wrap: break-word;\n",
       "  max-width: 400px;\n",
       "}\n",
       "</style>\n",
       "<table id=\"T_57ebb\">\n",
       "  <thead>\n",
       "    <tr>\n",
       "      <th class=\"blank level0\" >&nbsp;</th>\n",
       "      <th id=\"T_57ebb_level0_col0\" class=\"col_heading level0 col0\" >question</th>\n",
       "      <th id=\"T_57ebb_level0_col1\" class=\"col_heading level0 col1\" >gold_reasoning</th>\n",
       "      <th id=\"T_57ebb_level0_col2\" class=\"col_heading level0 col2\" >example_answer</th>\n",
       "      <th id=\"T_57ebb_level0_col3\" class=\"col_heading level0 col3\" >pred_answer</th>\n",
       "      <th id=\"T_57ebb_level0_col4\" class=\"col_heading level0 col4\" >gsm8k_metric</th>\n",
       "    </tr>\n",
       "  </thead>\n",
       "  <tbody>\n",
       "    <tr>\n",
       "      <th id=\"T_57ebb_level0_row0\" class=\"row_heading level0 row0\" >0</th>\n",
       "      <td id=\"T_57ebb_row0_col0\" class=\"data row0 col0\" >20 birds migrate on a seasonal basis from one lake to another, searching for food. If they fly from lake Jim to lake Disney in...</td>\n",
       "      <td id=\"T_57ebb_row0_col1\" class=\"data row0 col1\" >The birds' flying distance between Lake Jim through lake Disney to lake London is 50+60 = <<50+60=110>>110 miles. Since each bird flies the 110 miles...</td>\n",
       "      <td id=\"T_57ebb_row0_col2\" class=\"data row0 col2\" >2200</td>\n",
       "      <td id=\"T_57ebb_row0_col3\" class=\"data row0 col3\" >1000 + 1200 = 2200 miles</td>\n",
       "      <td id=\"T_57ebb_row0_col4\" class=\"data row0 col4\" >✔️ [True]</td>\n",
       "    </tr>\n",
       "    <tr>\n",
       "      <th id=\"T_57ebb_level0_row1\" class=\"row_heading level0 row1\" >1</th>\n",
       "      <td id=\"T_57ebb_row1_col0\" class=\"data row1 col0\" >Wendy went to the dentist for a cleaning, two fillings, and a tooth extraction. The dentist charges $70 for a cleaning and $120 for a...</td>\n",
       "      <td id=\"T_57ebb_row1_col1\" class=\"data row1 col1\" >Wendy’s dentist bill was 5 * $120 = $<<5*120=600>>600. She got two fillings at a cost of 2 * $120 = $<<2*120=240>>240. Thus, Wendy paid...</td>\n",
       "      <td id=\"T_57ebb_row1_col2\" class=\"data row1 col2\" >290</td>\n",
       "      <td id=\"T_57ebb_row1_col3\" class=\"data row1 col3\" >$190</td>\n",
       "      <td id=\"T_57ebb_row1_col4\" class=\"data row1 col4\" >❌ [False]</td>\n",
       "    </tr>\n",
       "    <tr>\n",
       "      <th id=\"T_57ebb_level0_row2\" class=\"row_heading level0 row2\" >2</th>\n",
       "      <td id=\"T_57ebb_row2_col0\" class=\"data row2 col0\" >Karen is packing her backpack for a long-distance hike. She packs 20 pounds of water, 10 pounds of food, and 20 pounds of gear. During...</td>\n",
       "      <td id=\"T_57ebb_row2_col1\" class=\"data row2 col1\" >First find the weight of food Karen eats every hour: 2 pounds * 1/3 = 2/3 pounds food. Then find the total amount of weight...</td>\n",
       "      <td id=\"T_57ebb_row2_col2\" class=\"data row2 col2\" >34</td>\n",
       "      <td id=\"T_57ebb_row2_col3\" class=\"data row2 col3\" >34</td>\n",
       "      <td id=\"T_57ebb_row2_col4\" class=\"data row2 col4\" >✔️ [True]</td>\n",
       "    </tr>\n",
       "    <tr>\n",
       "      <th id=\"T_57ebb_level0_row3\" class=\"row_heading level0 row3\" >3</th>\n",
       "      <td id=\"T_57ebb_row3_col0\" class=\"data row3 col0\" >Rita is reading a five-chapter book with 95 pages. Each chapter has three pages more than the previous one. How many pages does the first...</td>\n",
       "      <td id=\"T_57ebb_row3_col1\" class=\"data row3 col1\" >Let P be the number of pages in the first chapter. The second chapter has P + 3 pages. The third chapter has P +...</td>\n",
       "      <td id=\"T_57ebb_row3_col2\" class=\"data row3 col2\" >13</td>\n",
       "      <td id=\"T_57ebb_row3_col3\" class=\"data row3 col3\" >8</td>\n",
       "      <td id=\"T_57ebb_row3_col4\" class=\"data row3 col4\" >❌ [False]</td>\n",
       "    </tr>\n",
       "    <tr>\n",
       "      <th id=\"T_57ebb_level0_row4\" class=\"row_heading level0 row4\" >4</th>\n",
       "      <td id=\"T_57ebb_row4_col0\" class=\"data row4 col0\" >Benjamin collects 6 dozen eggs a day. Carla collects 3 times the number of eggs that Benjamin collects. Trisha collects 4 dozen less than Benjamin....</td>\n",
       "      <td id=\"T_57ebb_row4_col1\" class=\"data row4 col1\" >Carla:3(6)=18 dozen eggs Trisha: 6-4=<<6-4=2>>2 dozen eggs Total: 6+18+2=<<6+18+2=26>>26 dozen eggs</td>\n",
       "      <td id=\"T_57ebb_row4_col2\" class=\"data row4 col2\" >26</td>\n",
       "      <td id=\"T_57ebb_row4_col3\" class=\"data row4 col3\" >26</td>\n",
       "      <td id=\"T_57ebb_row4_col4\" class=\"data row4 col4\" >✔️ [True]</td>\n",
       "    </tr>\n",
       "    <tr>\n",
       "      <th id=\"T_57ebb_level0_row5\" class=\"row_heading level0 row5\" >5</th>\n",
       "      <td id=\"T_57ebb_row5_col0\" class=\"data row5 col0\" >Roy spends 2 hours on sports activities in school every day. He goes to school 5 days a week. If he missed 2 days within...</td>\n",
       "      <td id=\"T_57ebb_row5_col1\" class=\"data row5 col1\" >He goes to.school 5 days a week so if he misses 2 days within the week he was present for 5-2 = <<5-2=3>>3 days He...</td>\n",
       "      <td id=\"T_57ebb_row5_col2\" class=\"data row5 col2\" >6</td>\n",
       "      <td id=\"T_57ebb_row5_col3\" class=\"data row5 col3\" >6</td>\n",
       "      <td id=\"T_57ebb_row5_col4\" class=\"data row5 col4\" >✔️ [True]</td>\n",
       "    </tr>\n",
       "    <tr>\n",
       "      <th id=\"T_57ebb_level0_row6\" class=\"row_heading level0 row6\" >6</th>\n",
       "      <td id=\"T_57ebb_row6_col0\" class=\"data row6 col0\" >Cameron is printing her thesis in the school library and has 400 A4 pieces of paper. If 40% of the papers did not print out...</td>\n",
       "      <td id=\"T_57ebb_row6_col1\" class=\"data row6 col1\" >If she had 400 papers, the total number of documents she separated as invalid is 40/100 * 400 pages = <<40/100*400=160>>160 pages. The number of...</td>\n",
       "      <td id=\"T_57ebb_row6_col2\" class=\"data row6 col2\" >240</td>\n",
       "      <td id=\"T_57ebb_row6_col3\" class=\"data row6 col3\" >360</td>\n",
       "      <td id=\"T_57ebb_row6_col4\" class=\"data row6 col4\" >❌ [False]</td>\n",
       "    </tr>\n",
       "    <tr>\n",
       "      <th id=\"T_57ebb_level0_row7\" class=\"row_heading level0 row7\" >7</th>\n",
       "      <td id=\"T_57ebb_row7_col0\" class=\"data row7 col0\" >Burt spent $2.00 on a packet of basil seeds and $8.00 on potting soil. The packet of seeds yielded 20 basil plants. He sells each...</td>\n",
       "      <td id=\"T_57ebb_row7_col1\" class=\"data row7 col1\" >He spent $2.00 on seeds and $8.00 on soil for a total of 2+8 = $<<2+8=10.00>>10.00 He sells each of the 20 basil plants for...</td>\n",
       "      <td id=\"T_57ebb_row7_col2\" class=\"data row7 col2\" >90</td>\n",
       "      <td id=\"T_57ebb_row7_col3\" class=\"data row7 col3\" >$80</td>\n",
       "      <td id=\"T_57ebb_row7_col4\" class=\"data row7 col4\" >❌ [False]</td>\n",
       "    </tr>\n",
       "    <tr>\n",
       "      <th id=\"T_57ebb_level0_row8\" class=\"row_heading level0 row8\" >8</th>\n",
       "      <td id=\"T_57ebb_row8_col0\" class=\"data row8 col0\" >Martha's cat catches 3 rats and 7 birds. Cara's cat catches 3 less than five times as many animals as Martha's cat. How many animals...</td>\n",
       "      <td id=\"T_57ebb_row8_col1\" class=\"data row8 col1\" >First find the total number of animals Martha's cat catches: 3 rats + 7 birds = <<3+7=10>>10 animals Then multiply that number by 5: 10...</td>\n",
       "      <td id=\"T_57ebb_row8_col2\" class=\"data row8 col2\" >47</td>\n",
       "      <td id=\"T_57ebb_row8_col3\" class=\"data row8 col3\" >47</td>\n",
       "      <td id=\"T_57ebb_row8_col4\" class=\"data row8 col4\" >✔️ [True]</td>\n",
       "    </tr>\n",
       "    <tr>\n",
       "      <th id=\"T_57ebb_level0_row9\" class=\"row_heading level0 row9\" >9</th>\n",
       "      <td id=\"T_57ebb_row9_col0\" class=\"data row9 col0\" >Trey is raising money for a new bike that costs $112. He plans to spend the next two weeks selling bracelets for $1 each. On...</td>\n",
       "      <td id=\"T_57ebb_row9_col1\" class=\"data row9 col1\" >He needs to sell 112 bracelets because 112 divided by 1 equals <<112/1=112>>112. He has 14 days to sell bracelets because there are seven days...</td>\n",
       "      <td id=\"T_57ebb_row9_col2\" class=\"data row9 col2\" >8</td>\n",
       "      <td id=\"T_57ebb_row9_col3\" class=\"data row9 col3\" >112 Reasoning: To raise money for a bike that costs $112, Trey needs to sell enough bracelets to make that amount. Question: How many days...</td>\n",
       "      <td id=\"T_57ebb_row9_col4\" class=\"data row9 col4\" >❌ [False]</td>\n",
       "    </tr>\n",
       "  </tbody>\n",
       "</table>\n"
      ],
      "text/plain": [
       "<pandas.io.formats.style.Styler at 0x7feded7fdab0>"
      ]
     },
     "metadata": {},
     "output_type": "display_data"
    },
    {
     "data": {
      "text/html": [
       "\n",
       "                <div style='\n",
       "                    text-align: center; \n",
       "                    font-size: 16px; \n",
       "                    font-weight: bold; \n",
       "                    color: #555; \n",
       "                    margin: 10px 0;'>\n",
       "                    ... 15 more rows not displayed ...\n",
       "                </div>\n",
       "                "
      ],
      "text/plain": [
       "<IPython.core.display.HTML object>"
      ]
     },
     "metadata": {},
     "output_type": "display_data"
    },
    {
     "name": "stderr",
     "output_type": "stream",
     "text": [
      "  0%|          | 0/30 [00:00<?, ?it/s]Your max_length is set to 142, but your input_length is only 45. Since this is a summarization task, where outputs shorter than the input are typically wanted, you might consider decreasing max_length manually, e.g. summarizer('...', max_length=22)\n",
      "Your max_length is set to 200, but your input_length is only 4. Since this is a summarization task, where outputs shorter than the input are typically wanted, you might consider decreasing max_length manually, e.g. summarizer('...', max_length=2)\n",
      "  3%|▎         | 1/30 [02:01<58:49, 121.71s/it]Your max_length is set to 142, but your input_length is only 42. Since this is a summarization task, where outputs shorter than the input are typically wanted, you might consider decreasing max_length manually, e.g. summarizer('...', max_length=21)\n",
      "Your max_length is set to 200, but your input_length is only 4. Since this is a summarization task, where outputs shorter than the input are typically wanted, you might consider decreasing max_length manually, e.g. summarizer('...', max_length=2)\n",
      "  7%|▋         | 2/30 [03:34<48:52, 104.72s/it]Your max_length is set to 142, but your input_length is only 68. Since this is a summarization task, where outputs shorter than the input are typically wanted, you might consider decreasing max_length manually, e.g. summarizer('...', max_length=34)\n",
      "Your max_length is set to 200, but your input_length is only 4. Since this is a summarization task, where outputs shorter than the input are typically wanted, you might consider decreasing max_length manually, e.g. summarizer('...', max_length=2)\n",
      " 10%|█         | 3/30 [05:38<51:08, 113.64s/it]Your max_length is set to 142, but your input_length is only 43. Since this is a summarization task, where outputs shorter than the input are typically wanted, you might consider decreasing max_length manually, e.g. summarizer('...', max_length=21)\n",
      "Your max_length is set to 200, but your input_length is only 4. Since this is a summarization task, where outputs shorter than the input are typically wanted, you might consider decreasing max_length manually, e.g. summarizer('...', max_length=2)\n",
      " 13%|█▎        | 4/30 [07:45<51:32, 118.93s/it]Your max_length is set to 142, but your input_length is only 69. Since this is a summarization task, where outputs shorter than the input are typically wanted, you might consider decreasing max_length manually, e.g. summarizer('...', max_length=34)\n",
      "Your max_length is set to 200, but your input_length is only 4. Since this is a summarization task, where outputs shorter than the input are typically wanted, you might consider decreasing max_length manually, e.g. summarizer('...', max_length=2)\n",
      " 17%|█▋        | 5/30 [09:40<48:57, 117.49s/it]Your max_length is set to 142, but your input_length is only 44. Since this is a summarization task, where outputs shorter than the input are typically wanted, you might consider decreasing max_length manually, e.g. summarizer('...', max_length=22)\n",
      "Your max_length is set to 200, but your input_length is only 4. Since this is a summarization task, where outputs shorter than the input are typically wanted, you might consider decreasing max_length manually, e.g. summarizer('...', max_length=2)\n",
      " 20%|██        | 6/30 [11:31<46:05, 115.23s/it]\n"
     ]
    },
    {
     "name": "stdout",
     "output_type": "stream",
     "text": [
      "Bootstrapped 4 full traces after 7 examples in round 0.\n"
     ]
    },
    {
     "name": "stderr",
     "output_type": "stream",
     "text": [
      "  0%|          | 0/25 [00:00<?, ?it/s]Your max_length is set to 142, but your input_length is only 70. Since this is a summarization task, where outputs shorter than the input are typically wanted, you might consider decreasing max_length manually, e.g. summarizer('...', max_length=35)\n",
      "Your max_length is set to 200, but your input_length is only 4. Since this is a summarization task, where outputs shorter than the input are typically wanted, you might consider decreasing max_length manually, e.g. summarizer('...', max_length=2)\n",
      "Average Metric: 1 / 1  (100.0):   4%|▍         | 1/25 [01:41<40:35, 101.47s/it]Your max_length is set to 142, but your input_length is only 59. Since this is a summarization task, where outputs shorter than the input are typically wanted, you might consider decreasing max_length manually, e.g. summarizer('...', max_length=29)\n",
      "Your max_length is set to 200, but your input_length is only 4. Since this is a summarization task, where outputs shorter than the input are typically wanted, you might consider decreasing max_length manually, e.g. summarizer('...', max_length=2)\n",
      "Average Metric: 1 / 2  (50.0):   8%|▊         | 2/25 [03:34<41:30, 108.28s/it] Your max_length is set to 142, but your input_length is only 71. Since this is a summarization task, where outputs shorter than the input are typically wanted, you might consider decreasing max_length manually, e.g. summarizer('...', max_length=35)\n",
      "Your max_length is set to 200, but your input_length is only 4. Since this is a summarization task, where outputs shorter than the input are typically wanted, you might consider decreasing max_length manually, e.g. summarizer('...', max_length=2)\n",
      "Average Metric: 1 / 3  (33.3):  12%|█▏        | 3/25 [05:28<40:36, 110.74s/it]Your max_length is set to 142, but your input_length is only 34. Since this is a summarization task, where outputs shorter than the input are typically wanted, you might consider decreasing max_length manually, e.g. summarizer('...', max_length=17)\n",
      "Your max_length is set to 200, but your input_length is only 4. Since this is a summarization task, where outputs shorter than the input are typically wanted, you might consider decreasing max_length manually, e.g. summarizer('...', max_length=2)\n",
      "Average Metric: 1 / 4  (25.0):  16%|█▌        | 4/25 [07:09<37:30, 107.16s/it]Your max_length is set to 142, but your input_length is only 44. Since this is a summarization task, where outputs shorter than the input are typically wanted, you might consider decreasing max_length manually, e.g. summarizer('...', max_length=22)\n",
      "Your max_length is set to 200, but your input_length is only 4. Since this is a summarization task, where outputs shorter than the input are typically wanted, you might consider decreasing max_length manually, e.g. summarizer('...', max_length=2)\n",
      "Average Metric: 2 / 5  (40.0):  20%|██        | 5/25 [09:39<40:48, 122.41s/it]Your max_length is set to 142, but your input_length is only 45. Since this is a summarization task, where outputs shorter than the input are typically wanted, you might consider decreasing max_length manually, e.g. summarizer('...', max_length=22)\n",
      "Your max_length is set to 200, but your input_length is only 4. Since this is a summarization task, where outputs shorter than the input are typically wanted, you might consider decreasing max_length manually, e.g. summarizer('...', max_length=2)\n",
      "Average Metric: 2 / 6  (33.3):  24%|██▍       | 6/25 [10:57<34:02, 107.50s/it]Your max_length is set to 142, but your input_length is only 50. Since this is a summarization task, where outputs shorter than the input are typically wanted, you might consider decreasing max_length manually, e.g. summarizer('...', max_length=25)\n",
      "Your max_length is set to 200, but your input_length is only 4. Since this is a summarization task, where outputs shorter than the input are typically wanted, you might consider decreasing max_length manually, e.g. summarizer('...', max_length=2)\n",
      "Average Metric: 3 / 7  (42.9):  28%|██▊       | 7/25 [12:49<32:41, 108.95s/it]Your max_length is set to 142, but your input_length is only 64. Since this is a summarization task, where outputs shorter than the input are typically wanted, you might consider decreasing max_length manually, e.g. summarizer('...', max_length=32)\n",
      "Your max_length is set to 200, but your input_length is only 4. Since this is a summarization task, where outputs shorter than the input are typically wanted, you might consider decreasing max_length manually, e.g. summarizer('...', max_length=2)\n",
      "Average Metric: 3 / 8  (37.5):  32%|███▏      | 8/25 [14:43<31:18, 110.50s/it]Your max_length is set to 142, but your input_length is only 40. Since this is a summarization task, where outputs shorter than the input are typically wanted, you might consider decreasing max_length manually, e.g. summarizer('...', max_length=20)\n",
      "Your max_length is set to 200, but your input_length is only 4. Since this is a summarization task, where outputs shorter than the input are typically wanted, you might consider decreasing max_length manually, e.g. summarizer('...', max_length=2)\n",
      "Average Metric: 4 / 9  (44.4):  36%|███▌      | 9/25 [16:48<30:38, 114.90s/it]Your max_length is set to 142, but your input_length is only 46. Since this is a summarization task, where outputs shorter than the input are typically wanted, you might consider decreasing max_length manually, e.g. summarizer('...', max_length=23)\n",
      "Your max_length is set to 200, but your input_length is only 4. Since this is a summarization task, where outputs shorter than the input are typically wanted, you might consider decreasing max_length manually, e.g. summarizer('...', max_length=2)\n",
      "Average Metric: 4 / 10  (40.0):  40%|████      | 10/25 [18:40<28:33, 114.23s/it]Your max_length is set to 142, but your input_length is only 69. Since this is a summarization task, where outputs shorter than the input are typically wanted, you might consider decreasing max_length manually, e.g. summarizer('...', max_length=34)\n",
      "Your max_length is set to 200, but your input_length is only 4. Since this is a summarization task, where outputs shorter than the input are typically wanted, you might consider decreasing max_length manually, e.g. summarizer('...', max_length=2)\n",
      "Average Metric: 5 / 11  (45.5):  44%|████▍     | 11/25 [20:11<24:59, 107.10s/it]Your max_length is set to 142, but your input_length is only 76. Since this is a summarization task, where outputs shorter than the input are typically wanted, you might consider decreasing max_length manually, e.g. summarizer('...', max_length=38)\n",
      "Your max_length is set to 200, but your input_length is only 4. Since this is a summarization task, where outputs shorter than the input are typically wanted, you might consider decreasing max_length manually, e.g. summarizer('...', max_length=2)\n",
      "Average Metric: 5 / 12  (41.7):  48%|████▊     | 12/25 [22:07<23:46, 109.72s/it]Your max_length is set to 142, but your input_length is only 70. Since this is a summarization task, where outputs shorter than the input are typically wanted, you might consider decreasing max_length manually, e.g. summarizer('...', max_length=35)\n",
      "Your max_length is set to 200, but your input_length is only 4. Since this is a summarization task, where outputs shorter than the input are typically wanted, you might consider decreasing max_length manually, e.g. summarizer('...', max_length=2)\n",
      "Average Metric: 5 / 13  (38.5):  52%|█████▏    | 13/25 [24:14<22:57, 114.78s/it]Your max_length is set to 142, but your input_length is only 51. Since this is a summarization task, where outputs shorter than the input are typically wanted, you might consider decreasing max_length manually, e.g. summarizer('...', max_length=25)\n",
      "Your max_length is set to 200, but your input_length is only 4. Since this is a summarization task, where outputs shorter than the input are typically wanted, you might consider decreasing max_length manually, e.g. summarizer('...', max_length=2)\n",
      "Average Metric: 5 / 14  (35.7):  56%|█████▌    | 14/25 [26:09<21:03, 114.87s/it]Your max_length is set to 142, but your input_length is only 33. Since this is a summarization task, where outputs shorter than the input are typically wanted, you might consider decreasing max_length manually, e.g. summarizer('...', max_length=16)\n",
      "Your max_length is set to 200, but your input_length is only 4. Since this is a summarization task, where outputs shorter than the input are typically wanted, you might consider decreasing max_length manually, e.g. summarizer('...', max_length=2)\n",
      "Average Metric: 6 / 15  (40.0):  60%|██████    | 15/25 [28:01<19:01, 114.16s/it]Your max_length is set to 142, but your input_length is only 51. Since this is a summarization task, where outputs shorter than the input are typically wanted, you might consider decreasing max_length manually, e.g. summarizer('...', max_length=25)\n",
      "Your max_length is set to 200, but your input_length is only 4. Since this is a summarization task, where outputs shorter than the input are typically wanted, you might consider decreasing max_length manually, e.g. summarizer('...', max_length=2)\n",
      "Average Metric: 6 / 16  (37.5):  64%|██████▍   | 16/25 [29:25<15:45, 105.02s/it]Your max_length is set to 142, but your input_length is only 65. Since this is a summarization task, where outputs shorter than the input are typically wanted, you might consider decreasing max_length manually, e.g. summarizer('...', max_length=32)\n",
      "Your max_length is set to 200, but your input_length is only 4. Since this is a summarization task, where outputs shorter than the input are typically wanted, you might consider decreasing max_length manually, e.g. summarizer('...', max_length=2)\n",
      "Average Metric: 6 / 17  (35.3):  68%|██████▊   | 17/25 [31:01<13:39, 102.46s/it]Your max_length is set to 142, but your input_length is only 74. Since this is a summarization task, where outputs shorter than the input are typically wanted, you might consider decreasing max_length manually, e.g. summarizer('...', max_length=37)\n",
      "Your max_length is set to 200, but your input_length is only 4. Since this is a summarization task, where outputs shorter than the input are typically wanted, you might consider decreasing max_length manually, e.g. summarizer('...', max_length=2)\n",
      "Average Metric: 7 / 18  (38.9):  72%|███████▏  | 18/25 [32:43<11:54, 102.10s/it]Your max_length is set to 142, but your input_length is only 97. Since this is a summarization task, where outputs shorter than the input are typically wanted, you might consider decreasing max_length manually, e.g. summarizer('...', max_length=48)\n",
      "Your max_length is set to 200, but your input_length is only 4. Since this is a summarization task, where outputs shorter than the input are typically wanted, you might consider decreasing max_length manually, e.g. summarizer('...', max_length=2)\n",
      "Average Metric: 7 / 19  (36.8):  76%|███████▌  | 19/25 [35:13<11:39, 116.64s/it]Your max_length is set to 142, but your input_length is only 86. Since this is a summarization task, where outputs shorter than the input are typically wanted, you might consider decreasing max_length manually, e.g. summarizer('...', max_length=43)\n",
      "Your max_length is set to 200, but your input_length is only 4. Since this is a summarization task, where outputs shorter than the input are typically wanted, you might consider decreasing max_length manually, e.g. summarizer('...', max_length=2)\n",
      "Average Metric: 8 / 20  (40.0):  80%|████████  | 20/25 [37:03<09:32, 114.48s/it]Your max_length is set to 142, but your input_length is only 53. Since this is a summarization task, where outputs shorter than the input are typically wanted, you might consider decreasing max_length manually, e.g. summarizer('...', max_length=26)\n",
      "Your max_length is set to 200, but your input_length is only 4. Since this is a summarization task, where outputs shorter than the input are typically wanted, you might consider decreasing max_length manually, e.g. summarizer('...', max_length=2)\n",
      "Average Metric: 8 / 21  (38.1):  84%|████████▍ | 21/25 [38:43<07:21, 110.29s/it]Your max_length is set to 142, but your input_length is only 53. Since this is a summarization task, where outputs shorter than the input are typically wanted, you might consider decreasing max_length manually, e.g. summarizer('...', max_length=26)\n",
      "Your max_length is set to 200, but your input_length is only 4. Since this is a summarization task, where outputs shorter than the input are typically wanted, you might consider decreasing max_length manually, e.g. summarizer('...', max_length=2)\n",
      "Average Metric: 8 / 22  (36.4):  88%|████████▊ | 22/25 [40:52<05:47, 115.84s/it]Your max_length is set to 142, but your input_length is only 73. Since this is a summarization task, where outputs shorter than the input are typically wanted, you might consider decreasing max_length manually, e.g. summarizer('...', max_length=36)\n",
      "Your max_length is set to 200, but your input_length is only 4. Since this is a summarization task, where outputs shorter than the input are typically wanted, you might consider decreasing max_length manually, e.g. summarizer('...', max_length=2)\n",
      "Average Metric: 8 / 23  (34.8):  92%|█████████▏| 23/25 [43:07<04:03, 121.59s/it]Your max_length is set to 142, but your input_length is only 36. Since this is a summarization task, where outputs shorter than the input are typically wanted, you might consider decreasing max_length manually, e.g. summarizer('...', max_length=18)\n",
      "Your max_length is set to 200, but your input_length is only 4. Since this is a summarization task, where outputs shorter than the input are typically wanted, you might consider decreasing max_length manually, e.g. summarizer('...', max_length=2)\n",
      "Average Metric: 8 / 24  (33.3):  96%|█████████▌| 24/25 [45:00<01:58, 118.89s/it]Your max_length is set to 142, but your input_length is only 86. Since this is a summarization task, where outputs shorter than the input are typically wanted, you might consider decreasing max_length manually, e.g. summarizer('...', max_length=43)\n",
      "Your max_length is set to 200, but your input_length is only 4. Since this is a summarization task, where outputs shorter than the input are typically wanted, you might consider decreasing max_length manually, e.g. summarizer('...', max_length=2)\n",
      "Average Metric: 8 / 25  (32.0): 100%|██████████| 25/25 [47:26<00:00, 113.87s/it]\n"
     ]
    },
    {
     "name": "stdout",
     "output_type": "stream",
     "text": [
      "Average Metric: 8 / 25  (32.0%)\n"
     ]
    },
    {
     "name": "stderr",
     "output_type": "stream",
     "text": [
      "/home/daniel/Documents/Github/autogoal-core/dspy/dspy/evaluate/evaluate.py:126: FutureWarning: DataFrame.applymap has been deprecated. Use DataFrame.map instead.\n",
      "  df = df.applymap(truncate_cell)\n"
     ]
    },
    {
     "data": {
      "text/html": [
       "<style type=\"text/css\">\n",
       "#T_f54d3 th {\n",
       "  text-align: left;\n",
       "}\n",
       "#T_f54d3 td {\n",
       "  text-align: left;\n",
       "}\n",
       "#T_f54d3_row0_col0, #T_f54d3_row0_col1, #T_f54d3_row0_col2, #T_f54d3_row0_col3, #T_f54d3_row0_col4, #T_f54d3_row1_col0, #T_f54d3_row1_col1, #T_f54d3_row1_col2, #T_f54d3_row1_col3, #T_f54d3_row1_col4, #T_f54d3_row2_col0, #T_f54d3_row2_col1, #T_f54d3_row2_col2, #T_f54d3_row2_col3, #T_f54d3_row2_col4, #T_f54d3_row3_col0, #T_f54d3_row3_col1, #T_f54d3_row3_col2, #T_f54d3_row3_col3, #T_f54d3_row3_col4, #T_f54d3_row4_col0, #T_f54d3_row4_col1, #T_f54d3_row4_col2, #T_f54d3_row4_col3, #T_f54d3_row4_col4, #T_f54d3_row5_col0, #T_f54d3_row5_col1, #T_f54d3_row5_col2, #T_f54d3_row5_col3, #T_f54d3_row5_col4, #T_f54d3_row6_col0, #T_f54d3_row6_col1, #T_f54d3_row6_col2, #T_f54d3_row6_col3, #T_f54d3_row6_col4, #T_f54d3_row7_col0, #T_f54d3_row7_col1, #T_f54d3_row7_col2, #T_f54d3_row7_col3, #T_f54d3_row7_col4, #T_f54d3_row8_col0, #T_f54d3_row8_col1, #T_f54d3_row8_col2, #T_f54d3_row8_col3, #T_f54d3_row8_col4, #T_f54d3_row9_col0, #T_f54d3_row9_col1, #T_f54d3_row9_col2, #T_f54d3_row9_col3, #T_f54d3_row9_col4 {\n",
       "  text-align: left;\n",
       "  white-space: pre-wrap;\n",
       "  word-wrap: break-word;\n",
       "  max-width: 400px;\n",
       "}\n",
       "</style>\n",
       "<table id=\"T_f54d3\">\n",
       "  <thead>\n",
       "    <tr>\n",
       "      <th class=\"blank level0\" >&nbsp;</th>\n",
       "      <th id=\"T_f54d3_level0_col0\" class=\"col_heading level0 col0\" >question</th>\n",
       "      <th id=\"T_f54d3_level0_col1\" class=\"col_heading level0 col1\" >gold_reasoning</th>\n",
       "      <th id=\"T_f54d3_level0_col2\" class=\"col_heading level0 col2\" >example_answer</th>\n",
       "      <th id=\"T_f54d3_level0_col3\" class=\"col_heading level0 col3\" >pred_answer</th>\n",
       "      <th id=\"T_f54d3_level0_col4\" class=\"col_heading level0 col4\" >gsm8k_metric</th>\n",
       "    </tr>\n",
       "  </thead>\n",
       "  <tbody>\n",
       "    <tr>\n",
       "      <th id=\"T_f54d3_level0_row0\" class=\"row_heading level0 row0\" >0</th>\n",
       "      <td id=\"T_f54d3_row0_col0\" class=\"data row0 col0\" >20 birds migrate on a seasonal basis from one lake to another, searching for food. If they fly from lake Jim to lake Disney in...</td>\n",
       "      <td id=\"T_f54d3_row0_col1\" class=\"data row0 col1\" >The birds' flying distance between Lake Jim through lake Disney to lake London is 50+60 = <<50+60=110>>110 miles. Since each bird flies the 110 miles...</td>\n",
       "      <td id=\"T_f54d3_row0_col2\" class=\"data row0 col2\" >2200</td>\n",
       "      <td id=\"T_f54d3_row0_col3\" class=\"data row0 col3\" >2200</td>\n",
       "      <td id=\"T_f54d3_row0_col4\" class=\"data row0 col4\" >✔️ [True]</td>\n",
       "    </tr>\n",
       "    <tr>\n",
       "      <th id=\"T_f54d3_level0_row1\" class=\"row_heading level0 row1\" >1</th>\n",
       "      <td id=\"T_f54d3_row1_col0\" class=\"data row1 col0\" >Wendy went to the dentist for a cleaning, two fillings, and a tooth extraction. The dentist charges $70 for a cleaning and $120 for a...</td>\n",
       "      <td id=\"T_f54d3_row1_col1\" class=\"data row1 col1\" >Wendy’s dentist bill was 5 * $120 = $<<5*120=600>>600. She got two fillings at a cost of 2 * $120 = $<<2*120=240>>240. Thus, Wendy paid...</td>\n",
       "      <td id=\"T_f54d3_row1_col2\" class=\"data row1 col2\" >290</td>\n",
       "      <td id=\"T_f54d3_row1_col3\" class=\"data row1 col3\" >Wendy paid $410 for the tooth</td>\n",
       "      <td id=\"T_f54d3_row1_col4\" class=\"data row1 col4\" >❌ [False]</td>\n",
       "    </tr>\n",
       "    <tr>\n",
       "      <th id=\"T_f54d3_level0_row2\" class=\"row_heading level0 row2\" >2</th>\n",
       "      <td id=\"T_f54d3_row2_col0\" class=\"data row2 col0\" >Karen is packing her backpack for a long-distance hike. She packs 20 pounds of water, 10 pounds of food, and 20 pounds of gear. During...</td>\n",
       "      <td id=\"T_f54d3_row2_col1\" class=\"data row2 col1\" >First find the weight of food Karen eats every hour: 2 pounds * 1/3 = 2/3 pounds food. Then find the total amount of weight...</td>\n",
       "      <td id=\"T_f54d3_row2_col2\" class=\"data row2 col2\" >34</td>\n",
       "      <td id=\"T_f54d3_row2_col3\" class=\"data row2 col3\" >38</td>\n",
       "      <td id=\"T_f54d3_row2_col4\" class=\"data row2 col4\" >❌ [False]</td>\n",
       "    </tr>\n",
       "    <tr>\n",
       "      <th id=\"T_f54d3_level0_row3\" class=\"row_heading level0 row3\" >3</th>\n",
       "      <td id=\"T_f54d3_row3_col0\" class=\"data row3 col0\" >Rita is reading a five-chapter book with 95 pages. Each chapter has three pages more than the previous one. How many pages does the first...</td>\n",
       "      <td id=\"T_f54d3_row3_col1\" class=\"data row3 col1\" >Let P be the number of pages in the first chapter. The second chapter has P + 3 pages. The third chapter has P +...</td>\n",
       "      <td id=\"T_f54d3_row3_col2\" class=\"data row3 col2\" >13</td>\n",
       "      <td id=\"T_f54d3_row3_col3\" class=\"data row3 col3\" >10</td>\n",
       "      <td id=\"T_f54d3_row3_col4\" class=\"data row3 col4\" >❌ [False]</td>\n",
       "    </tr>\n",
       "    <tr>\n",
       "      <th id=\"T_f54d3_level0_row4\" class=\"row_heading level0 row4\" >4</th>\n",
       "      <td id=\"T_f54d3_row4_col0\" class=\"data row4 col0\" >Benjamin collects 6 dozen eggs a day. Carla collects 3 times the number of eggs that Benjamin collects. Trisha collects 4 dozen less than Benjamin....</td>\n",
       "      <td id=\"T_f54d3_row4_col1\" class=\"data row4 col1\" >Carla:3(6)=18 dozen eggs Trisha: 6-4=<<6-4=2>>2 dozen eggs Total: 6+18+2=<<6+18+2=26>>26 dozen eggs</td>\n",
       "      <td id=\"T_f54d3_row4_col2\" class=\"data row4 col2\" >26</td>\n",
       "      <td id=\"T_f54d3_row4_col3\" class=\"data row4 col3\" >26</td>\n",
       "      <td id=\"T_f54d3_row4_col4\" class=\"data row4 col4\" >✔️ [True]</td>\n",
       "    </tr>\n",
       "    <tr>\n",
       "      <th id=\"T_f54d3_level0_row5\" class=\"row_heading level0 row5\" >5</th>\n",
       "      <td id=\"T_f54d3_row5_col0\" class=\"data row5 col0\" >Roy spends 2 hours on sports activities in school every day. He goes to school 5 days a week. If he missed 2 days within...</td>\n",
       "      <td id=\"T_f54d3_row5_col1\" class=\"data row5 col1\" >He goes to.school 5 days a week so if he misses 2 days within the week he was present for 5-2 = <<5-2=3>>3 days He...</td>\n",
       "      <td id=\"T_f54d3_row5_col2\" class=\"data row5 col2\" >6</td>\n",
       "      <td id=\"T_f54d3_row5_col3\" class=\"data row5 col3\" >8</td>\n",
       "      <td id=\"T_f54d3_row5_col4\" class=\"data row5 col4\" >❌ [False]</td>\n",
       "    </tr>\n",
       "    <tr>\n",
       "      <th id=\"T_f54d3_level0_row6\" class=\"row_heading level0 row6\" >6</th>\n",
       "      <td id=\"T_f54d3_row6_col0\" class=\"data row6 col0\" >Cameron is printing her thesis in the school library and has 400 A4 pieces of paper. If 40% of the papers did not print out...</td>\n",
       "      <td id=\"T_f54d3_row6_col1\" class=\"data row6 col1\" >If she had 400 papers, the total number of documents she separated as invalid is 40/100 * 400 pages = <<40/100*400=160>>160 pages. The number of...</td>\n",
       "      <td id=\"T_f54d3_row6_col2\" class=\"data row6 col2\" >240</td>\n",
       "      <td id=\"T_f54d3_row6_col3\" class=\"data row6 col3\" >240</td>\n",
       "      <td id=\"T_f54d3_row6_col4\" class=\"data row6 col4\" >✔️ [True]</td>\n",
       "    </tr>\n",
       "    <tr>\n",
       "      <th id=\"T_f54d3_level0_row7\" class=\"row_heading level0 row7\" >7</th>\n",
       "      <td id=\"T_f54d3_row7_col0\" class=\"data row7 col0\" >Burt spent $2.00 on a packet of basil seeds and $8.00 on potting soil. The packet of seeds yielded 20 basil plants. He sells each...</td>\n",
       "      <td id=\"T_f54d3_row7_col1\" class=\"data row7 col1\" >He spent $2.00 on seeds and $8.00 on soil for a total of 2+8 = $<<2+8=10.00>>10.00 He sells each of the 20 basil plants for...</td>\n",
       "      <td id=\"T_f54d3_row7_col2\" class=\"data row7 col2\" >90</td>\n",
       "      <td id=\"T_f54d3_row7_col3\" class=\"data row7 col3\" >$70.00</td>\n",
       "      <td id=\"T_f54d3_row7_col4\" class=\"data row7 col4\" >❌ [False]</td>\n",
       "    </tr>\n",
       "    <tr>\n",
       "      <th id=\"T_f54d3_level0_row8\" class=\"row_heading level0 row8\" >8</th>\n",
       "      <td id=\"T_f54d3_row8_col0\" class=\"data row8 col0\" >Martha's cat catches 3 rats and 7 birds. Cara's cat catches 3 less than five times as many animals as Martha's cat. How many animals...</td>\n",
       "      <td id=\"T_f54d3_row8_col1\" class=\"data row8 col1\" >First find the total number of animals Martha's cat catches: 3 rats + 7 birds = <<3+7=10>>10 animals Then multiply that number by 5: 10...</td>\n",
       "      <td id=\"T_f54d3_row8_col2\" class=\"data row8 col2\" >47</td>\n",
       "      <td id=\"T_f54d3_row8_col3\" class=\"data row8 col3\" >47</td>\n",
       "      <td id=\"T_f54d3_row8_col4\" class=\"data row8 col4\" >✔️ [True]</td>\n",
       "    </tr>\n",
       "    <tr>\n",
       "      <th id=\"T_f54d3_level0_row9\" class=\"row_heading level0 row9\" >9</th>\n",
       "      <td id=\"T_f54d3_row9_col0\" class=\"data row9 col0\" >Trey is raising money for a new bike that costs $112. He plans to spend the next two weeks selling bracelets for $1 each. On...</td>\n",
       "      <td id=\"T_f54d3_row9_col1\" class=\"data row9 col1\" >He needs to sell 112 bracelets because 112 divided by 1 equals <<112/1=112>>112. He has 14 days to sell bracelets because there are seven days...</td>\n",
       "      <td id=\"T_f54d3_row9_col2\" class=\"data row9 col2\" >8</td>\n",
       "      <td id=\"T_f54d3_row9_col3\" class=\"data row9 col3\" >16</td>\n",
       "      <td id=\"T_f54d3_row9_col4\" class=\"data row9 col4\" >❌ [False]</td>\n",
       "    </tr>\n",
       "  </tbody>\n",
       "</table>\n"
      ],
      "text/plain": [
       "<pandas.io.formats.style.Styler at 0x7feded773dc0>"
      ]
     },
     "metadata": {},
     "output_type": "display_data"
    },
    {
     "data": {
      "text/html": [
       "\n",
       "                <div style='\n",
       "                    text-align: center; \n",
       "                    font-size: 16px; \n",
       "                    font-weight: bold; \n",
       "                    color: #555; \n",
       "                    margin: 10px 0;'>\n",
       "                    ... 15 more rows not displayed ...\n",
       "                </div>\n",
       "                "
      ],
      "text/plain": [
       "<IPython.core.display.HTML object>"
      ]
     },
     "metadata": {},
     "output_type": "display_data"
    },
    {
     "name": "stderr",
     "output_type": "stream",
     "text": [
      "100%|██████████| 30/30 [38:46<00:00, 77.55s/it]\n"
     ]
    },
    {
     "name": "stdout",
     "output_type": "stream",
     "text": [
      "Bootstrapped 0 full traces after 30 examples in round 0.\n"
     ]
    },
    {
     "name": "stderr",
     "output_type": "stream",
     "text": [
      "Average Metric: 0 / 25  (0.0): 100%|██████████| 25/25 [31:42<00:00, 76.08s/it]\n"
     ]
    },
    {
     "name": "stdout",
     "output_type": "stream",
     "text": [
      "Average Metric: 0 / 25  (0.0%)\n"
     ]
    },
    {
     "name": "stderr",
     "output_type": "stream",
     "text": [
      "/home/daniel/Documents/Github/autogoal-core/dspy/dspy/evaluate/evaluate.py:126: FutureWarning: DataFrame.applymap has been deprecated. Use DataFrame.map instead.\n",
      "  df = df.applymap(truncate_cell)\n"
     ]
    },
    {
     "data": {
      "text/html": [
       "<style type=\"text/css\">\n",
       "#T_8cd2b th {\n",
       "  text-align: left;\n",
       "}\n",
       "#T_8cd2b td {\n",
       "  text-align: left;\n",
       "}\n",
       "#T_8cd2b_row0_col0, #T_8cd2b_row0_col1, #T_8cd2b_row0_col2, #T_8cd2b_row0_col3, #T_8cd2b_row0_col4, #T_8cd2b_row1_col0, #T_8cd2b_row1_col1, #T_8cd2b_row1_col2, #T_8cd2b_row1_col3, #T_8cd2b_row1_col4, #T_8cd2b_row2_col0, #T_8cd2b_row2_col1, #T_8cd2b_row2_col2, #T_8cd2b_row2_col3, #T_8cd2b_row2_col4, #T_8cd2b_row3_col0, #T_8cd2b_row3_col1, #T_8cd2b_row3_col2, #T_8cd2b_row3_col3, #T_8cd2b_row3_col4, #T_8cd2b_row4_col0, #T_8cd2b_row4_col1, #T_8cd2b_row4_col2, #T_8cd2b_row4_col3, #T_8cd2b_row4_col4, #T_8cd2b_row5_col0, #T_8cd2b_row5_col1, #T_8cd2b_row5_col2, #T_8cd2b_row5_col3, #T_8cd2b_row5_col4, #T_8cd2b_row6_col0, #T_8cd2b_row6_col1, #T_8cd2b_row6_col2, #T_8cd2b_row6_col3, #T_8cd2b_row6_col4, #T_8cd2b_row7_col0, #T_8cd2b_row7_col1, #T_8cd2b_row7_col2, #T_8cd2b_row7_col3, #T_8cd2b_row7_col4, #T_8cd2b_row8_col0, #T_8cd2b_row8_col1, #T_8cd2b_row8_col2, #T_8cd2b_row8_col3, #T_8cd2b_row8_col4, #T_8cd2b_row9_col0, #T_8cd2b_row9_col1, #T_8cd2b_row9_col2, #T_8cd2b_row9_col3, #T_8cd2b_row9_col4 {\n",
       "  text-align: left;\n",
       "  white-space: pre-wrap;\n",
       "  word-wrap: break-word;\n",
       "  max-width: 400px;\n",
       "}\n",
       "</style>\n",
       "<table id=\"T_8cd2b\">\n",
       "  <thead>\n",
       "    <tr>\n",
       "      <th class=\"blank level0\" >&nbsp;</th>\n",
       "      <th id=\"T_8cd2b_level0_col0\" class=\"col_heading level0 col0\" >question</th>\n",
       "      <th id=\"T_8cd2b_level0_col1\" class=\"col_heading level0 col1\" >gold_reasoning</th>\n",
       "      <th id=\"T_8cd2b_level0_col2\" class=\"col_heading level0 col2\" >example_answer</th>\n",
       "      <th id=\"T_8cd2b_level0_col3\" class=\"col_heading level0 col3\" >pred_answer</th>\n",
       "      <th id=\"T_8cd2b_level0_col4\" class=\"col_heading level0 col4\" >gsm8k_metric</th>\n",
       "    </tr>\n",
       "  </thead>\n",
       "  <tbody>\n",
       "    <tr>\n",
       "      <th id=\"T_8cd2b_level0_row0\" class=\"row_heading level0 row0\" >0</th>\n",
       "      <td id=\"T_8cd2b_row0_col0\" class=\"data row0 col0\" >20 birds migrate on a seasonal basis from one lake to another, searching for food. If they fly from lake Jim to lake Disney in...</td>\n",
       "      <td id=\"T_8cd2b_row0_col1\" class=\"data row0 col1\" >The birds' flying distance between Lake Jim through lake Disney to lake London is 50+60 = <<50+60=110>>110 miles. Since each bird flies the 110 miles...</td>\n",
       "      <td id=\"T_8cd2b_row0_col2\" class=\"data row0 col2\" >2200</td>\n",
       "      <td id=\"T_8cd2b_row0_col3\" class=\"data row0 col3\" >Calculate average distance per bird in one season, multiply by number of birds, add distances from two seasons for total combined distance.</td>\n",
       "      <td id=\"T_8cd2b_row0_col4\" class=\"data row0 col4\" >❌ [False]</td>\n",
       "    </tr>\n",
       "    <tr>\n",
       "      <th id=\"T_8cd2b_level0_row1\" class=\"row_heading level0 row1\" >1</th>\n",
       "      <td id=\"T_8cd2b_row1_col0\" class=\"data row1 col0\" >Wendy went to the dentist for a cleaning, two fillings, and a tooth extraction. The dentist charges $70 for a cleaning and $120 for a...</td>\n",
       "      <td id=\"T_8cd2b_row1_col1\" class=\"data row1 col1\" >Wendy’s dentist bill was 5 * $120 = $<<5*120=600>>600. She got two fillings at a cost of 2 * $120 = $<<2*120=240>>240. Thus, Wendy paid...</td>\n",
       "      <td id=\"T_8cd2b_row1_col2\" class=\"data row1 col2\" >290</td>\n",
       "      <td id=\"T_8cd2b_row1_col3\" class=\"data row1 col3\" >The text seeks to find out the total cost of Wendy's dental treatment by identifying the specific procedure and factoring in insurance or discounts.</td>\n",
       "      <td id=\"T_8cd2b_row1_col4\" class=\"data row1 col4\" >❌ [False]</td>\n",
       "    </tr>\n",
       "    <tr>\n",
       "      <th id=\"T_8cd2b_level0_row2\" class=\"row_heading level0 row2\" >2</th>\n",
       "      <td id=\"T_8cd2b_row2_col0\" class=\"data row2 col0\" >Karen is packing her backpack for a long-distance hike. She packs 20 pounds of water, 10 pounds of food, and 20 pounds of gear. During...</td>\n",
       "      <td id=\"T_8cd2b_row2_col1\" class=\"data row2 col1\" >First find the weight of food Karen eats every hour: 2 pounds * 1/3 = 2/3 pounds food. Then find the total amount of weight...</td>\n",
       "      <td id=\"T_8cd2b_row2_col2\" class=\"data row2 col2\" >34</td>\n",
       "      <td id=\"T_8cd2b_row2_col3\" class=\"data row2 col3\" >Determine Karen's water consumption and food intake over a six-hour period.</td>\n",
       "      <td id=\"T_8cd2b_row2_col4\" class=\"data row2 col4\" >❌ [False]</td>\n",
       "    </tr>\n",
       "    <tr>\n",
       "      <th id=\"T_8cd2b_level0_row3\" class=\"row_heading level0 row3\" >3</th>\n",
       "      <td id=\"T_8cd2b_row3_col0\" class=\"data row3 col0\" >Rita is reading a five-chapter book with 95 pages. Each chapter has three pages more than the previous one. How many pages does the first...</td>\n",
       "      <td id=\"T_8cd2b_row3_col1\" class=\"data row3 col1\" >Let P be the number of pages in the first chapter. The second chapter has P + 3 pages. The third chapter has P +...</td>\n",
       "      <td id=\"T_8cd2b_row3_col2\" class=\"data row3 col2\" >13</td>\n",
       "      <td id=\"T_8cd2b_row3_col3\" class=\"data row3 col3\" >Determine the number of pages in the fifth chapter by locating it, counting words or lines, and estimating the average words or lines per page.</td>\n",
       "      <td id=\"T_8cd2b_row3_col4\" class=\"data row3 col4\" >❌ [False]</td>\n",
       "    </tr>\n",
       "    <tr>\n",
       "      <th id=\"T_8cd2b_level0_row4\" class=\"row_heading level0 row4\" >4</th>\n",
       "      <td id=\"T_8cd2b_row4_col0\" class=\"data row4 col0\" >Benjamin collects 6 dozen eggs a day. Carla collects 3 times the number of eggs that Benjamin collects. Trisha collects 4 dozen less than Benjamin....</td>\n",
       "      <td id=\"T_8cd2b_row4_col1\" class=\"data row4 col1\" >Carla:3(6)=18 dozen eggs Trisha: 6-4=<<6-4=2>>2 dozen eggs Total: 6+18+2=<<6+18+2=26>>26 dozen eggs</td>\n",
       "      <td id=\"T_8cd2b_row4_col2\" class=\"data row4 col2\" >26</td>\n",
       "      <td id=\"T_8cd2b_row4_col3\" class=\"data row4 col3\" >The text asks for the number of eggs Carla collects daily, but no specific information is provided.</td>\n",
       "      <td id=\"T_8cd2b_row4_col4\" class=\"data row4 col4\" >❌ [False]</td>\n",
       "    </tr>\n",
       "    <tr>\n",
       "      <th id=\"T_8cd2b_level0_row5\" class=\"row_heading level0 row5\" >5</th>\n",
       "      <td id=\"T_8cd2b_row5_col0\" class=\"data row5 col0\" >Roy spends 2 hours on sports activities in school every day. He goes to school 5 days a week. If he missed 2 days within...</td>\n",
       "      <td id=\"T_8cd2b_row5_col1\" class=\"data row5 col1\" >He goes to.school 5 days a week so if he misses 2 days within the week he was present for 5-2 = <<5-2=3>>3 days He...</td>\n",
       "      <td id=\"T_8cd2b_row5_col2\" class=\"data row5 col2\" >6</td>\n",
       "      <td id=\"T_8cd2b_row5_col3\" class=\"data row5 col3\" >Roy attended school for 5 days that week.</td>\n",
       "      <td id=\"T_8cd2b_row5_col4\" class=\"data row5 col4\" >❌ [False]</td>\n",
       "    </tr>\n",
       "    <tr>\n",
       "      <th id=\"T_8cd2b_level0_row6\" class=\"row_heading level0 row6\" >6</th>\n",
       "      <td id=\"T_8cd2b_row6_col0\" class=\"data row6 col0\" >Cameron is printing her thesis in the school library and has 400 A4 pieces of paper. If 40% of the papers did not print out...</td>\n",
       "      <td id=\"T_8cd2b_row6_col1\" class=\"data row6 col1\" >If she had 400 papers, the total number of documents she separated as invalid is 40/100 * 400 pages = <<40/100*400=160>>160 pages. The number of...</td>\n",
       "      <td id=\"T_8cd2b_row6_col2\" class=\"data row6 col2\" >240</td>\n",
       "      <td id=\"T_8cd2b_row6_col3\" class=\"data row6 col3\" >Cameron has X valid documents after separating those that did not meet her desired quality.</td>\n",
       "      <td id=\"T_8cd2b_row6_col4\" class=\"data row6 col4\" >❌ [False]</td>\n",
       "    </tr>\n",
       "    <tr>\n",
       "      <th id=\"T_8cd2b_level0_row7\" class=\"row_heading level0 row7\" >7</th>\n",
       "      <td id=\"T_8cd2b_row7_col0\" class=\"data row7 col0\" >Burt spent $2.00 on a packet of basil seeds and $8.00 on potting soil. The packet of seeds yielded 20 basil plants. He sells each...</td>\n",
       "      <td id=\"T_8cd2b_row7_col1\" class=\"data row7 col1\" >He spent $2.00 on seeds and $8.00 on soil for a total of 2+8 = $<<2+8=10.00>>10.00 He sells each of the 20 basil plants for...</td>\n",
       "      <td id=\"T_8cd2b_row7_col2\" class=\"data row7 col2\" >90</td>\n",
       "      <td id=\"T_8cd2b_row7_col3\" class=\"data row7 col3\" >Calculate the net profit of Burt's basil plants by subtracting the total cost (seeds, potting soil, and 20 plants</td>\n",
       "      <td id=\"T_8cd2b_row7_col4\" class=\"data row7 col4\" >❌ [False]</td>\n",
       "    </tr>\n",
       "    <tr>\n",
       "      <th id=\"T_8cd2b_level0_row8\" class=\"row_heading level0 row8\" >8</th>\n",
       "      <td id=\"T_8cd2b_row8_col0\" class=\"data row8 col0\" >Martha's cat catches 3 rats and 7 birds. Cara's cat catches 3 less than five times as many animals as Martha's cat. How many animals...</td>\n",
       "      <td id=\"T_8cd2b_row8_col1\" class=\"data row8 col1\" >First find the total number of animals Martha's cat catches: 3 rats + 7 birds = <<3+7=10>>10 animals Then multiply that number by 5: 10...</td>\n",
       "      <td id=\"T_8cd2b_row8_col2\" class=\"data row8 col2\" >47</td>\n",
       "      <td id=\"T_8cd2b_row8_col3\" class=\"data row8 col3\" >Cara's cat catches 5 times as many animals as Martha's cat minus 3.</td>\n",
       "      <td id=\"T_8cd2b_row8_col4\" class=\"data row8 col4\" >❌ [False]</td>\n",
       "    </tr>\n",
       "    <tr>\n",
       "      <th id=\"T_8cd2b_level0_row9\" class=\"row_heading level0 row9\" >9</th>\n",
       "      <td id=\"T_8cd2b_row9_col0\" class=\"data row9 col0\" >Trey is raising money for a new bike that costs $112. He plans to spend the next two weeks selling bracelets for $1 each. On...</td>\n",
       "      <td id=\"T_8cd2b_row9_col1\" class=\"data row9 col1\" >He needs to sell 112 bracelets because 112 divided by 1 equals <<112/1=112>>112. He has 14 days to sell bracelets because there are seven days...</td>\n",
       "      <td id=\"T_8cd2b_row9_col2\" class=\"data row9 col2\" >8</td>\n",
       "      <td id=\"T_8cd2b_row9_col3\" class=\"data row9 col3\" >Trey needs</td>\n",
       "      <td id=\"T_8cd2b_row9_col4\" class=\"data row9 col4\" >❌ [False]</td>\n",
       "    </tr>\n",
       "  </tbody>\n",
       "</table>\n"
      ],
      "text/plain": [
       "<pandas.io.formats.style.Styler at 0x7feded7fe140>"
      ]
     },
     "metadata": {},
     "output_type": "display_data"
    },
    {
     "data": {
      "text/html": [
       "\n",
       "                <div style='\n",
       "                    text-align: center; \n",
       "                    font-size: 16px; \n",
       "                    font-weight: bold; \n",
       "                    color: #555; \n",
       "                    margin: 10px 0;'>\n",
       "                    ... 15 more rows not displayed ...\n",
       "                </div>\n",
       "                "
      ],
      "text/plain": [
       "<IPython.core.display.HTML object>"
      ]
     },
     "metadata": {},
     "output_type": "display_data"
    },
    {
     "data": {
      "image/png": "[encoded data removed]",
      "text/plain": [
       "<Figure size 640x480 with 1 Axes>"
      ]
     },
     "metadata": {},
     "output_type": "display_data"
    }
   ],
   "source": [
    "dataset_description = \"HotpotQA is a question answering dataset featuring natural, multi-hop questions, with strong supervision for supporting facts to enable more explainable question answering systems.\"\n",
    "auto_ds.fit(dataset_description=dataset_description, trainset=gsm8k.train, examples_descriptions=example_descriptions)"
   ]
  },
  {
   "cell_type": "code",
   "execution_count": null,
   "metadata": {},
   "outputs": [],
   "source": []
  }
 ],
 "metadata": {
  "kernelspec": {
   "display_name": "ai",
   "language": "python",
   "name": "python3"
  },
  "language_info": {
   "codemirror_mode": {
    "name": "ipython",
    "version": 3
   },
   "file_extension": ".py",
   "mimetype": "text/x-python",
   "name": "python",
   "nbconvert_exporter": "python",
   "pygments_lexer": "ipython3",
   "version": "3.10.13"
  }
 },
 "nbformat": 4,
 "nbformat_minor": 2
}
