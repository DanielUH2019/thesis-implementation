{
 "cells": [
  {
   "cell_type": "code",
   "execution_count": 5,
   "metadata": {},
   "outputs": [
    {
     "name": "stderr",
     "output_type": "stream",
     "text": [
      "/tmp/ipykernel_332696/1818627631.py:20: DeprecationWarning: pkg_resources is deprecated as an API. See https://setuptools.pypa.io/en/latest/pkg_resources.html\n",
      "  import pkg_resources # Install the package if it's not installed\n"
     ]
    }
   ],
   "source": [
    "%load_ext autoreload\n",
    "%autoreload 2\n",
    "\n",
    "import sys\n",
    "import os\n",
    "\n",
    "try: # When on google Colab, let's clone the notebook so we download the cache.\n",
    "    import google.colab\n",
    "    repo_path = 'dspy'\n",
    "    !git -C $repo_path pull origin || git clone https://github.com/stanfordnlp/dspy $repo_path\n",
    "except:\n",
    "    repo_path = '.'\n",
    "\n",
    "if repo_path not in sys.path:\n",
    "    sys.path.append(repo_path)\n",
    "\n",
    "# Set up the cache for this notebook\n",
    "os.environ[\"DSP_NOTEBOOK_CACHEDIR\"] = os.path.join(repo_path, 'cache')\n",
    "\n",
    "import pkg_resources # Install the package if it's not installed\n",
    "if not \"dspy-ai\" in {pkg.key for pkg in pkg_resources.working_set}:\n",
    "    !pip install -U pip\n",
    "    !pip install dspy-ai\n",
    "    # !pip install -e $repo_path\n",
    "\n",
    "import dspy"
   ]
  },
  {
   "cell_type": "code",
   "execution_count": 2,
   "metadata": {},
   "outputs": [
    {
     "name": "stdout",
     "output_type": "stream",
     "text": [
      "./cache/compiler\n"
     ]
    }
   ],
   "source": [
    "from auto_dspy import AutoDspy\n",
    "from autogoal_core.search import PESearch\n",
    "# import dspy\n"
   ]
  },
  {
   "cell_type": "code",
   "execution_count": 1,
   "metadata": {},
   "outputs": [
    {
     "data": {
      "text/plain": [
       "(20, 30)"
      ]
     },
     "execution_count": 1,
     "metadata": {},
     "output_type": "execute_result"
    }
   ],
   "source": [
    "from dspy.datasets import HotPotQA\n",
    "\n",
    "# Load the dataset.\n",
    "dataset = HotPotQA(train_seed=1, train_size=20, eval_seed=2023, dev_size=30, test_size=0)\n",
    "\n",
    "# Tell DSPy that the 'question' field is the input. Any other fields are labels and/or metadata.\n",
    "trainset = [x.with_inputs('question') for x in dataset.train]\n",
    "devset = [x.with_inputs('question') for x in dataset.dev]\n",
    "example_descriptions = {'inputs': {'question': \"open-domain question that might require varying hops of reasoning to answer\"}, 'outputs': {'answer': 'answer to a question'}}\n",
    "\n",
    "len(trainset), len(devset)"
   ]
  },
  {
   "cell_type": "code",
   "execution_count": 2,
   "metadata": {},
   "outputs": [
    {
     "data": {
      "text/plain": [
       "Example({'question': 'Are both Cangzhou and Qionghai in the Hebei province of China?', 'answer': 'no', 'gold_titles': {'Cangzhou', 'Qionghai'}}) (input_keys=None)"
      ]
     },
     "execution_count": 2,
     "metadata": {},
     "output_type": "execute_result"
    }
   ],
   "source": [
    "dataset.dev[0]\n",
    "\n"
   ]
  },
  {
   "cell_type": "code",
   "execution_count": 14,
   "metadata": {},
   "outputs": [
    {
     "data": {
      "application/vnd.jupyter.widget-view+json": {
       "model_id": "6ed05dcb779a495b8af71126f2f86628",
       "version_major": 2,
       "version_minor": 0
      },
      "text/plain": [
       "Downloading builder script:   0%|          | 0.00/5.67k [00:00<?, ?B/s]"
      ]
     },
     "metadata": {},
     "output_type": "display_data"
    },
    {
     "data": {
      "text/plain": [
       "{'exact_match': 0.0}"
      ]
     },
     "execution_count": 14,
     "metadata": {},
     "output_type": "execute_result"
    }
   ],
   "source": [
    "from transformers import pipeline\n",
    "import evaluate\n",
    "colbertv2_wiki17_abstracts = dspy.ColBERTv2(url='http://20.102.90.50:2017/wiki17_abstracts')\n",
    "dspy.settings.configure(rm=colbertv2_wiki17_abstracts)\n",
    "retrieve = dspy.Retrieve()\n",
    "p = pipeline(\"question-answering\", model=\"distilbert-base-cased-distilled-squad\")\n",
    "result = p(question=\"What is a good example of a question answering dataset?\",  context='hey')\n",
    "contexts = [retrieve(x).passages for x in dataset.dev]\n",
    "predicted_answers = [p(question=x['question'], context=contexts[i][0])['answer'] for i, x in enumerate(dataset.dev)]\n",
    "answers = [x['answer'] for x in dataset.dev]\n",
    "\n",
    "acc = evaluate.load('exact_match').compute(references=answers, predictions=predicted_answers)\n",
    "\n",
    "acc\n"
   ]
  },
  {
   "cell_type": "code",
   "execution_count": 4,
   "metadata": {},
   "outputs": [],
   "source": [
    "\n",
    "from dspy.evaluate.evaluate import Evaluate\n",
    "\n",
    "def validate_context_and_answer(example, pred, trace=None):\n",
    "    answer_EM = dspy.evaluate.answer_exact_match(example, pred)\n",
    "    # answer_PM = dspy.evaluate.answer_passage_match(example, pred)\n",
    "    return answer_EM\n",
    "\n",
    "# Set up the `evaluate_on_hotpotqa` function. We'll use this many times below.\n",
    "evaluate_on_hotpotqa = Evaluate(devset=devset, num_threads=1, display_progress=True, display_table=10, metric=dspy.evaluate.answer_exact_match)"
   ]
  },
  {
   "cell_type": "code",
   "execution_count": 5,
   "metadata": {},
   "outputs": [
    {
     "name": "stderr",
     "output_type": "stream",
     "text": [
      "llama_model_loader: loaded meta data with 20 key-value pairs and 291 tensors from openhermes-2.5-mistral-7b.Q4_K_M.gguf (version GGUF V3 (latest))\n",
      "llama_model_loader: Dumping metadata keys/values. Note: KV overrides do not apply in this output.\n",
      "llama_model_loader: - kv   0:                       general.architecture str              = llama\n",
      "llama_model_loader: - kv   1:                               general.name str              = teknium_openhermes-2.5-mistral-7b\n",
      "llama_model_loader: - kv   2:                       llama.context_length u32              = 32768\n",
      "llama_model_loader: - kv   3:                     llama.embedding_length u32              = 4096\n",
      "llama_model_loader: - kv   4:                          llama.block_count u32              = 32\n",
      "llama_model_loader: - kv   5:                  llama.feed_forward_length u32              = 14336\n",
      "llama_model_loader: - kv   6:                 llama.rope.dimension_count u32              = 128\n",
      "llama_model_loader: - kv   7:                 llama.attention.head_count u32              = 32\n",
      "llama_model_loader: - kv   8:              llama.attention.head_count_kv u32              = 8\n",
      "llama_model_loader: - kv   9:     llama.attention.layer_norm_rms_epsilon f32              = 0.000010\n",
      "llama_model_loader: - kv  10:                       llama.rope.freq_base f32              = 10000.000000\n",
      "llama_model_loader: - kv  11:                          general.file_type u32              = 15\n",
      "llama_model_loader: - kv  12:                       tokenizer.ggml.model str              = llama\n",
      "llama_model_loader: - kv  13:                      tokenizer.ggml.tokens arr[str,32002]   = [\"<unk>\", \"<s>\", \"</s>\", \"<0x00>\", \"<...\n",
      "llama_model_loader: - kv  14:                      tokenizer.ggml.scores arr[f32,32002]   = [0.000000, 0.000000, 0.000000, 0.0000...\n",
      "llama_model_loader: - kv  15:                  tokenizer.ggml.token_type arr[i32,32002]   = [2, 3, 3, 6, 6, 6, 6, 6, 6, 6, 6, 6, ...\n",
      "llama_model_loader: - kv  16:                tokenizer.ggml.bos_token_id u32              = 1\n",
      "llama_model_loader: - kv  17:                tokenizer.ggml.eos_token_id u32              = 32000\n",
      "llama_model_loader: - kv  18:            tokenizer.ggml.padding_token_id u32              = 0\n",
      "llama_model_loader: - kv  19:               general.quantization_version u32              = 2\n",
      "llama_model_loader: - type  f32:   65 tensors\n",
      "llama_model_loader: - type q4_K:  193 tensors\n",
      "llama_model_loader: - type q6_K:   33 tensors\n",
      "llm_load_vocab: special tokens definition check successful ( 261/32002 ).\n",
      "llm_load_print_meta: format           = GGUF V3 (latest)\n",
      "llm_load_print_meta: arch             = llama\n",
      "llm_load_print_meta: vocab type       = SPM\n",
      "llm_load_print_meta: n_vocab          = 32002\n",
      "llm_load_print_meta: n_merges         = 0\n",
      "llm_load_print_meta: n_ctx_train      = 32768\n",
      "llm_load_print_meta: n_embd           = 4096\n",
      "llm_load_print_meta: n_head           = 32\n",
      "llm_load_print_meta: n_head_kv        = 8\n",
      "llm_load_print_meta: n_layer          = 32\n",
      "llm_load_print_meta: n_rot            = 128\n",
      "llm_load_print_meta: n_gqa            = 4\n",
      "llm_load_print_meta: f_norm_eps       = 0.0e+00\n",
      "llm_load_print_meta: f_norm_rms_eps   = 1.0e-05\n",
      "llm_load_print_meta: f_clamp_kqv      = 0.0e+00\n",
      "llm_load_print_meta: f_max_alibi_bias = 0.0e+00\n",
      "llm_load_print_meta: n_ff             = 14336\n",
      "llm_load_print_meta: n_expert         = 0\n",
      "llm_load_print_meta: n_expert_used    = 0\n",
      "llm_load_print_meta: rope scaling     = linear\n",
      "llm_load_print_meta: freq_base_train  = 10000.0\n",
      "llm_load_print_meta: freq_scale_train = 1\n",
      "llm_load_print_meta: n_yarn_orig_ctx  = 32768\n",
      "llm_load_print_meta: rope_finetuned   = unknown\n",
      "llm_load_print_meta: model type       = 7B\n",
      "llm_load_print_meta: model ftype      = Q4_K - Medium\n",
      "llm_load_print_meta: model params     = 7.24 B\n",
      "llm_load_print_meta: model size       = 4.07 GiB (4.83 BPW) \n",
      "llm_load_print_meta: general.name     = teknium_openhermes-2.5-mistral-7b\n",
      "llm_load_print_meta: BOS token        = 1 '<s>'\n",
      "llm_load_print_meta: EOS token        = 32000 '<|im_end|>'\n",
      "llm_load_print_meta: UNK token        = 0 '<unk>'\n",
      "llm_load_print_meta: PAD token        = 0 '<unk>'\n",
      "llm_load_print_meta: LF token         = 13 '<0x0A>'\n",
      "llm_load_tensors: ggml ctx size       =    0.11 MiB\n",
      "llm_load_tensors: system memory used  = 4165.49 MiB\n",
      "...............................................................................................\n",
      "llama_new_context_with_model: n_ctx      = 3900\n",
      "llama_new_context_with_model: freq_base  = 10000.0\n",
      "llama_new_context_with_model: freq_scale = 1\n"
     ]
    },
    {
     "name": "stdout",
     "output_type": "stream",
     "text": [
      "['__init__.py', 'model_backends.py', 'hf_tasks.py', 'json_schema_to_grammar.py', 'tests', '.pytest_cache', '__pycache__', 'constants.py', 'autogoal_core', 'algorithms.py', 'algorithms_base.py', 'auto_dspy.py', 'signatures.py', 'utils.py', 'test_notebook.ipynb', 'my_field.py', 'assertion.log', 'local_cache', 'cache', 'zephyr-7b-beta.Q5_K_M.gguf', 'memory.py', 'prompts.py', 'measure_time.txt', 'measure_time2.txt', 'exceptions.txt', 'test_g8mk.ipynb', 'run_gsm8k.py', 'test_imdb.ipynb', 'imdb.py', 'openhermes-2.5-mistral-7b.Q4_K_M.gguf', 'exceptions_hotpot.txt', 'measure_time_hotpot.txt', 'measure_time_hotpot2.txt', 'exceptions_hotpot2.txt', 'exceptions_gsm8k.txt', 'measure_time_gsm8k.txt', 'measure_time_gsm8k_2.txt', 'exceptions_gsm8k.txt_2', 'exceptions_imdb.txt', 'measure_time_imdb.txt']\n"
     ]
    },
    {
     "name": "stderr",
     "output_type": "stream",
     "text": [
      "llama_new_context_with_model: KV self size  =  487.50 MiB, K (f16):  243.75 MiB, V (f16):  243.75 MiB\n",
      "llama_build_graph: non-view tensors processed: 676/676\n",
      "llama_new_context_with_model: compute buffer total size = 278.56 MiB\n"
     ]
    }
   ],
   "source": [
    "# lm = dspy.OpenAI(model=\"ollama/openhermes2.5-mistral:7b-q5_K_M\", api_base=\"http://0.0.0.0:8000\", api_key='anything', model_type='chat')\n",
    "from llama_cpp import Llama\n",
    "\n",
    "llama = Llama(model_path='openhermes-2.5-mistral-7b.Q4_K_M.gguf', n_ctx=3900, n_gpu_layers=35, chat_format=\"chatml\", verbose=False)\n",
    "lm = dspy.dsp.modules.LlamaCpp(model='openhermes-2.5-mistral-7b.Q4_K_M', llama_model=llama, model_type='chat')\n",
    "colbertv2_wiki17_abstracts = dspy.ColBERTv2(url='http://20.102.90.50:2017/wiki17_abstracts')\n",
    "\n",
    "dspy.settings.configure(lm=lm, rm=colbertv2_wiki17_abstracts)\n",
    "\n",
    "auto_ds = AutoDspy(\n",
    "    lm=lm,\n",
    "    path_to_llm=\"zephyr-7b-beta.Q5_K_M.gguf\",\n",
    "    search_algorithm=PESearch,\n",
    "    metric=validate_context_and_answer,\n",
    "    random_state = 42,\n",
    "    evaluator=evaluate_on_hotpotqa\n",
    "\n",
    ") "
   ]
  },
  {
   "cell_type": "code",
   "execution_count": 6,
   "metadata": {},
   "outputs": [
    {
     "data": {
      "text/html": [
       "<pre style='margin: 0px; padding: 0px; vertical-align: middle; padding-left: 8px; margin-left: -8px; border-radius: 0px; border-left: 1px solid rgba(127, 127, 127, 0.2); white-space: pre-wrap; font-family: ColfaxAI, Arial; font-size: 15px; line-height: 23px;'>            Can an algorithm with the description: Answer questions with short factoid answers.. \n",
       "            solve a problem that requires the following output: answer to a question.\n",
       "            <span style='background-color: rgba(0.0, 165.0, 0, 0.15); border-radius: 3px;' title='1.0'>True</span></pre>"
      ],
      "text/plain": [
       "<IPython.core.display.HTML object>"
      ]
     },
     "metadata": {},
     "output_type": "display_data"
    },
    {
     "name": "stdout",
     "output_type": "stream",
     "text": [
      "pipeline space DspyPipelineSpace(graph=<autogoal_core.grammar._graph.Graph object at 0x7f777866d3c0>, path_to_llm='zephyr-7b-beta.Q5_K_M.gguf', examples_description={'inputs': {'question': 'open-domain question that might require varying hops of reasoning to answer'}, 'outputs': {'answer': 'answer to a question'}})\n"
     ]
    },
    {
     "name": "stderr",
     "output_type": "stream",
     "text": [
      "  5%|▌         | 1/20 [00:01<00:30,  1.63s/it]"
     ]
    },
    {
     "name": "stdout",
     "output_type": "stream",
     "text": [
      "Failed to run or to evaluate example Example({'question': 'which  American actor was Candace Kita  guest starred with ', 'answer': 'Bill Murray'}) (input_keys={'question'}) with <function validate_context_and_answer at 0x7f78bab491b0> due to list index out of range.\n"
     ]
    },
    {
     "name": "stderr",
     "output_type": "stream",
     "text": [
      "100%|██████████| 20/20 [00:15<00:00,  1.32it/s]\n"
     ]
    },
    {
     "name": "stdout",
     "output_type": "stream",
     "text": [
      "Bootstrapped 0 full traces after 20 examples in round 0.\n"
     ]
    },
    {
     "name": "stderr",
     "output_type": "stream",
     "text": [
      "Average Metric: 0 / 30  (0.0): 100%|██████████| 30/30 [00:21<00:00,  1.41it/s]\n"
     ]
    },
    {
     "name": "stdout",
     "output_type": "stream",
     "text": [
      "Average Metric: 0 / 30  (0.0%)\n"
     ]
    },
    {
     "name": "stderr",
     "output_type": "stream",
     "text": [
      "/home/daniel/Documents/Github/autogoal-core/dspy/dspy/evaluate/evaluate.py:126: FutureWarning: DataFrame.applymap has been deprecated. Use DataFrame.map instead.\n",
      "  df = df.applymap(truncate_cell)\n"
     ]
    },
    {
     "data": {
      "text/html": [
       "<style type=\"text/css\">\n",
       "#T_240b5 th {\n",
       "  text-align: left;\n",
       "}\n",
       "#T_240b5 td {\n",
       "  text-align: left;\n",
       "}\n",
       "#T_240b5_row0_col0, #T_240b5_row0_col1, #T_240b5_row0_col2, #T_240b5_row0_col3, #T_240b5_row0_col4, #T_240b5_row1_col0, #T_240b5_row1_col1, #T_240b5_row1_col2, #T_240b5_row1_col3, #T_240b5_row1_col4, #T_240b5_row2_col0, #T_240b5_row2_col1, #T_240b5_row2_col2, #T_240b5_row2_col3, #T_240b5_row2_col4, #T_240b5_row3_col0, #T_240b5_row3_col1, #T_240b5_row3_col2, #T_240b5_row3_col3, #T_240b5_row3_col4, #T_240b5_row4_col0, #T_240b5_row4_col1, #T_240b5_row4_col2, #T_240b5_row4_col3, #T_240b5_row4_col4, #T_240b5_row5_col0, #T_240b5_row5_col1, #T_240b5_row5_col2, #T_240b5_row5_col3, #T_240b5_row5_col4, #T_240b5_row6_col0, #T_240b5_row6_col1, #T_240b5_row6_col2, #T_240b5_row6_col3, #T_240b5_row6_col4, #T_240b5_row7_col0, #T_240b5_row7_col1, #T_240b5_row7_col2, #T_240b5_row7_col3, #T_240b5_row7_col4, #T_240b5_row8_col0, #T_240b5_row8_col1, #T_240b5_row8_col2, #T_240b5_row8_col3, #T_240b5_row8_col4, #T_240b5_row9_col0, #T_240b5_row9_col1, #T_240b5_row9_col2, #T_240b5_row9_col3, #T_240b5_row9_col4 {\n",
       "  text-align: left;\n",
       "  white-space: pre-wrap;\n",
       "  word-wrap: break-word;\n",
       "  max-width: 400px;\n",
       "}\n",
       "</style>\n",
       "<table id=\"T_240b5\">\n",
       "  <thead>\n",
       "    <tr>\n",
       "      <th class=\"blank level0\" >&nbsp;</th>\n",
       "      <th id=\"T_240b5_level0_col0\" class=\"col_heading level0 col0\" >question</th>\n",
       "      <th id=\"T_240b5_level0_col1\" class=\"col_heading level0 col1\" >example_answer</th>\n",
       "      <th id=\"T_240b5_level0_col2\" class=\"col_heading level0 col2\" >gold_titles</th>\n",
       "      <th id=\"T_240b5_level0_col3\" class=\"col_heading level0 col3\" >pred_answer</th>\n",
       "      <th id=\"T_240b5_level0_col4\" class=\"col_heading level0 col4\" >validate_context_and_answer</th>\n",
       "    </tr>\n",
       "  </thead>\n",
       "  <tbody>\n",
       "    <tr>\n",
       "      <th id=\"T_240b5_level0_row0\" class=\"row_heading level0 row0\" >0</th>\n",
       "      <td id=\"T_240b5_row0_col0\" class=\"data row0 col0\" >Are both Cangzhou and Qionghai in the Hebei province of China?</td>\n",
       "      <td id=\"T_240b5_row0_col1\" class=\"data row0 col1\" >no</td>\n",
       "      <td id=\"T_240b5_row0_col2\" class=\"data row0 col2\" >{'Qionghai', 'Cangzhou'}</td>\n",
       "      <td id=\"T_240b5_row0_col3\" class=\"data row0 col3\" >A</td>\n",
       "      <td id=\"T_240b5_row0_col4\" class=\"data row0 col4\" >❌ [False]</td>\n",
       "    </tr>\n",
       "    <tr>\n",
       "      <th id=\"T_240b5_level0_row1\" class=\"row_heading level0 row1\" >1</th>\n",
       "      <td id=\"T_240b5_row1_col0\" class=\"data row1 col0\" >Who conducts the draft in which Marc-Andre Fleury was drafted to the Vegas Golden Knights for the 2017-18 season?</td>\n",
       "      <td id=\"T_240b5_row1_col1\" class=\"data row1 col1\" >National Hockey League</td>\n",
       "      <td id=\"T_240b5_row1_col2\" class=\"data row1 col2\" >{'2017–18 Pittsburgh Penguins season', '2017 NHL Expansion Draft'}</td>\n",
       "      <td id=\"T_240b5_row1_col3\" class=\"data row1 col3\" >W</td>\n",
       "      <td id=\"T_240b5_row1_col4\" class=\"data row1 col4\" >❌ [False]</td>\n",
       "    </tr>\n",
       "    <tr>\n",
       "      <th id=\"T_240b5_level0_row2\" class=\"row_heading level0 row2\" >2</th>\n",
       "      <td id=\"T_240b5_row2_col0\" class=\"data row2 col0\" >The Wings entered a new era, following the retirement of which Canadian retired professional ice hockey player and current general manager of the Tampa Bay...</td>\n",
       "      <td id=\"T_240b5_row2_col1\" class=\"data row2 col1\" >Steve Yzerman</td>\n",
       "      <td id=\"T_240b5_row2_col2\" class=\"data row2 col2\" >{'2006–07 Detroit Red Wings season', 'Steve Yzerman'}</td>\n",
       "      <td id=\"T_240b5_row2_col3\" class=\"data row2 col3\" >C</td>\n",
       "      <td id=\"T_240b5_row2_col4\" class=\"data row2 col4\" >❌ [False]</td>\n",
       "    </tr>\n",
       "    <tr>\n",
       "      <th id=\"T_240b5_level0_row3\" class=\"row_heading level0 row3\" >3</th>\n",
       "      <td id=\"T_240b5_row3_col0\" class=\"data row3 col0\" >What river is near the Crichton Collegiate Church?</td>\n",
       "      <td id=\"T_240b5_row3_col1\" class=\"data row3 col1\" >the River Tyne</td>\n",
       "      <td id=\"T_240b5_row3_col2\" class=\"data row3 col2\" >{'Crichton Castle', 'Crichton Collegiate Church'}</td>\n",
       "      <td id=\"T_240b5_row3_col3\" class=\"data row3 col3\" >r</td>\n",
       "      <td id=\"T_240b5_row3_col4\" class=\"data row3 col4\" >❌ [False]</td>\n",
       "    </tr>\n",
       "    <tr>\n",
       "      <th id=\"T_240b5_level0_row4\" class=\"row_heading level0 row4\" >4</th>\n",
       "      <td id=\"T_240b5_row4_col0\" class=\"data row4 col0\" >In the 10th Century A.D. Ealhswith had a son called Æthelweard by which English king?</td>\n",
       "      <td id=\"T_240b5_row4_col1\" class=\"data row4 col1\" >King Alfred the Great</td>\n",
       "      <td id=\"T_240b5_row4_col2\" class=\"data row4 col2\" >{'Ealhswith', 'Æthelweard (son of Alfred)'}</td>\n",
       "      <td id=\"T_240b5_row4_col3\" class=\"data row4 col3\" >k</td>\n",
       "      <td id=\"T_240b5_row4_col4\" class=\"data row4 col4\" >❌ [False]</td>\n",
       "    </tr>\n",
       "    <tr>\n",
       "      <th id=\"T_240b5_level0_row5\" class=\"row_heading level0 row5\" >5</th>\n",
       "      <td id=\"T_240b5_row5_col0\" class=\"data row5 col0\" >The Newark Airport Exchange is at the northern edge of an airport that is operated by whom?</td>\n",
       "      <td id=\"T_240b5_row5_col1\" class=\"data row5 col1\" >Port Authority of New York and New Jersey</td>\n",
       "      <td id=\"T_240b5_row5_col2\" class=\"data row5 col2\" >{'Newark Liberty International Airport', 'Newark Airport Interchange'}</td>\n",
       "      <td id=\"T_240b5_row5_col3\" class=\"data row5 col3\" >w</td>\n",
       "      <td id=\"T_240b5_row5_col4\" class=\"data row5 col4\" >❌ [False]</td>\n",
       "    </tr>\n",
       "    <tr>\n",
       "      <th id=\"T_240b5_level0_row6\" class=\"row_heading level0 row6\" >6</th>\n",
       "      <td id=\"T_240b5_row6_col0\" class=\"data row6 col0\" >Where did an event take place resulting in a win during a domestic double due to the action of a Peruvian footballer known for his...</td>\n",
       "      <td id=\"T_240b5_row6_col1\" class=\"data row6 col1\" >Bundesliga</td>\n",
       "      <td id=\"T_240b5_row6_col2\" class=\"data row6 col2\" >{'Claudio Pizarro', '2005–06 FC Bayern Munich season'}</td>\n",
       "      <td id=\"T_240b5_row6_col3\" class=\"data row6 col3\" >W</td>\n",
       "      <td id=\"T_240b5_row6_col4\" class=\"data row6 col4\" >❌ [False]</td>\n",
       "    </tr>\n",
       "    <tr>\n",
       "      <th id=\"T_240b5_level0_row7\" class=\"row_heading level0 row7\" >7</th>\n",
       "      <td id=\"T_240b5_row7_col0\" class=\"data row7 col0\" >Are both Chico Municipal Airport and William R. Fairchild International Airport in California?</td>\n",
       "      <td id=\"T_240b5_row7_col1\" class=\"data row7 col1\" >no</td>\n",
       "      <td id=\"T_240b5_row7_col2\" class=\"data row7 col2\" >{'William R. Fairchild International Airport', 'Chico Municipal Airport'}</td>\n",
       "      <td id=\"T_240b5_row7_col3\" class=\"data row7 col3\" >A</td>\n",
       "      <td id=\"T_240b5_row7_col4\" class=\"data row7 col4\" >❌ [False]</td>\n",
       "    </tr>\n",
       "    <tr>\n",
       "      <th id=\"T_240b5_level0_row8\" class=\"row_heading level0 row8\" >8</th>\n",
       "      <td id=\"T_240b5_row8_col0\" class=\"data row8 col0\" >In which Maine county is Fort Pownall located?</td>\n",
       "      <td id=\"T_240b5_row8_col1\" class=\"data row8 col1\" >Waldo County, Maine</td>\n",
       "      <td id=\"T_240b5_row8_col2\" class=\"data row8 col2\" >{'Stockton Springs, Maine', 'Fort Pownall'}</td>\n",
       "      <td id=\"T_240b5_row8_col3\" class=\"data row8 col3\" >M</td>\n",
       "      <td id=\"T_240b5_row8_col4\" class=\"data row8 col4\" >❌ [False]</td>\n",
       "    </tr>\n",
       "    <tr>\n",
       "      <th id=\"T_240b5_level0_row9\" class=\"row_heading level0 row9\" >9</th>\n",
       "      <td id=\"T_240b5_row9_col0\" class=\"data row9 col0\" >Which 90s rock band has more recently reformed, Gene or The Afghan Whigs?</td>\n",
       "      <td id=\"T_240b5_row9_col1\" class=\"data row9 col1\" >The Afghan Whigs</td>\n",
       "      <td id=\"T_240b5_row9_col2\" class=\"data row9 col2\" >{'Gene (band)', 'The Afghan Whigs'}</td>\n",
       "      <td id=\"T_240b5_row9_col3\" class=\"data row9 col3\" >G</td>\n",
       "      <td id=\"T_240b5_row9_col4\" class=\"data row9 col4\" >❌ [False]</td>\n",
       "    </tr>\n",
       "  </tbody>\n",
       "</table>\n"
      ],
      "text/plain": [
       "<pandas.io.formats.style.Styler at 0x7f75ef3ac640>"
      ]
     },
     "metadata": {},
     "output_type": "display_data"
    },
    {
     "data": {
      "text/html": [
       "\n",
       "                <div style='\n",
       "                    text-align: center; \n",
       "                    font-size: 16px; \n",
       "                    font-weight: bold; \n",
       "                    color: #555; \n",
       "                    margin: 10px 0;'>\n",
       "                    ... 20 more rows not displayed ...\n",
       "                </div>\n",
       "                "
      ],
      "text/plain": [
       "<IPython.core.display.HTML object>"
      ]
     },
     "metadata": {},
     "output_type": "display_data"
    },
    {
     "name": "stderr",
     "output_type": "stream",
     "text": [
      "  0%|          | 0/20 [00:00<?, ?it/s]Your max_length is set to 142, but your input_length is only 15. Since this is a summarization task, where outputs shorter than the input are typically wanted, you might consider decreasing max_length manually, e.g. summarizer('...', max_length=7)\n",
      "  5%|▌         | 1/20 [00:09<02:58,  9.40s/it]Your max_length is set to 142, but your input_length is only 16. Since this is a summarization task, where outputs shorter than the input are typically wanted, you might consider decreasing max_length manually, e.g. summarizer('...', max_length=8)\n",
      " 10%|█         | 2/20 [00:17<02:36,  8.68s/it]Your max_length is set to 142, but your input_length is only 19. Since this is a summarization task, where outputs shorter than the input are typically wanted, you might consider decreasing max_length manually, e.g. summarizer('...', max_length=9)\n",
      " 15%|█▌        | 3/20 [00:25<02:18,  8.16s/it]Your max_length is set to 142, but your input_length is only 23. Since this is a summarization task, where outputs shorter than the input are typically wanted, you might consider decreasing max_length manually, e.g. summarizer('...', max_length=11)\n",
      " 20%|██        | 4/20 [00:33<02:10,  8.15s/it]Your max_length is set to 142, but your input_length is only 21. Since this is a summarization task, where outputs shorter than the input are typically wanted, you might consider decreasing max_length manually, e.g. summarizer('...', max_length=10)\n",
      " 25%|██▌       | 5/20 [00:40<01:56,  7.79s/it]Your max_length is set to 142, but your input_length is only 19. Since this is a summarization task, where outputs shorter than the input are typically wanted, you might consider decreasing max_length manually, e.g. summarizer('...', max_length=9)\n",
      " 30%|███       | 6/20 [00:49<01:53,  8.11s/it]Your max_length is set to 142, but your input_length is only 17. Since this is a summarization task, where outputs shorter than the input are typically wanted, you might consider decreasing max_length manually, e.g. summarizer('...', max_length=8)\n",
      " 35%|███▌      | 7/20 [00:56<01:40,  7.74s/it]Your max_length is set to 142, but your input_length is only 28. Since this is a summarization task, where outputs shorter than the input are typically wanted, you might consider decreasing max_length manually, e.g. summarizer('...', max_length=14)\n",
      " 40%|████      | 8/20 [01:03<01:32,  7.73s/it]Your max_length is set to 142, but your input_length is only 16. Since this is a summarization task, where outputs shorter than the input are typically wanted, you might consider decreasing max_length manually, e.g. summarizer('...', max_length=8)\n",
      " 45%|████▌     | 9/20 [01:11<01:24,  7.68s/it]Your max_length is set to 142, but your input_length is only 43. Since this is a summarization task, where outputs shorter than the input are typically wanted, you might consider decreasing max_length manually, e.g. summarizer('...', max_length=21)\n",
      " 50%|█████     | 10/20 [01:18<01:15,  7.51s/it]Your max_length is set to 142, but your input_length is only 34. Since this is a summarization task, where outputs shorter than the input are typically wanted, you might consider decreasing max_length manually, e.g. summarizer('...', max_length=17)\n",
      " 55%|█████▌    | 11/20 [01:25<01:06,  7.40s/it]Your max_length is set to 142, but your input_length is only 22. Since this is a summarization task, where outputs shorter than the input are typically wanted, you might consider decreasing max_length manually, e.g. summarizer('...', max_length=11)\n",
      " 60%|██████    | 12/20 [01:33<00:59,  7.47s/it]Your max_length is set to 142, but your input_length is only 26. Since this is a summarization task, where outputs shorter than the input are typically wanted, you might consider decreasing max_length manually, e.g. summarizer('...', max_length=13)\n",
      " 65%|██████▌   | 13/20 [01:40<00:51,  7.32s/it]Your max_length is set to 142, but your input_length is only 28. Since this is a summarization task, where outputs shorter than the input are typically wanted, you might consider decreasing max_length manually, e.g. summarizer('...', max_length=14)\n",
      " 70%|███████   | 14/20 [01:47<00:44,  7.39s/it]Your max_length is set to 142, but your input_length is only 34. Since this is a summarization task, where outputs shorter than the input are typically wanted, you might consider decreasing max_length manually, e.g. summarizer('...', max_length=17)\n",
      " 75%|███████▌  | 15/20 [01:55<00:37,  7.43s/it]Your max_length is set to 142, but your input_length is only 26. Since this is a summarization task, where outputs shorter than the input are typically wanted, you might consider decreasing max_length manually, e.g. summarizer('...', max_length=13)\n",
      " 80%|████████  | 16/20 [02:03<00:31,  7.79s/it]Your max_length is set to 142, but your input_length is only 19. Since this is a summarization task, where outputs shorter than the input are typically wanted, you might consider decreasing max_length manually, e.g. summarizer('...', max_length=9)\n",
      " 85%|████████▌ | 17/20 [02:10<00:22,  7.49s/it]Your max_length is set to 142, but your input_length is only 23. Since this is a summarization task, where outputs shorter than the input are typically wanted, you might consider decreasing max_length manually, e.g. summarizer('...', max_length=11)\n",
      " 90%|█████████ | 18/20 [02:17<00:14,  7.34s/it]Your max_length is set to 142, but your input_length is only 18. Since this is a summarization task, where outputs shorter than the input are typically wanted, you might consider decreasing max_length manually, e.g. summarizer('...', max_length=9)\n",
      " 95%|█████████▌| 19/20 [02:25<00:07,  7.42s/it]Your max_length is set to 142, but your input_length is only 27. Since this is a summarization task, where outputs shorter than the input are typically wanted, you might consider decreasing max_length manually, e.g. summarizer('...', max_length=13)\n",
      "100%|██████████| 20/20 [02:34<00:00,  7.75s/it]\n"
     ]
    },
    {
     "name": "stdout",
     "output_type": "stream",
     "text": [
      "Bootstrapped 0 full traces after 20 examples in round 0.\n"
     ]
    },
    {
     "name": "stderr",
     "output_type": "stream",
     "text": [
      "  0%|          | 0/30 [00:00<?, ?it/s]Your max_length is set to 142, but your input_length is only 20. Since this is a summarization task, where outputs shorter than the input are typically wanted, you might consider decreasing max_length manually, e.g. summarizer('...', max_length=10)\n",
      "Average Metric: 0 / 1  (0.0):   3%|▎         | 1/30 [00:09<04:38,  9.60s/it]Your max_length is set to 142, but your input_length is only 27. Since this is a summarization task, where outputs shorter than the input are typically wanted, you might consider decreasing max_length manually, e.g. summarizer('...', max_length=13)\n",
      "Average Metric: 0 / 2  (0.0):   7%|▋         | 2/30 [00:18<04:10,  8.95s/it]Your max_length is set to 142, but your input_length is only 38. Since this is a summarization task, where outputs shorter than the input are typically wanted, you might consider decreasing max_length manually, e.g. summarizer('...', max_length=19)\n",
      "Average Metric: 0 / 3  (0.0):  10%|█         | 3/30 [00:26<03:48,  8.48s/it]Your max_length is set to 142, but your input_length is only 14. Since this is a summarization task, where outputs shorter than the input are typically wanted, you might consider decreasing max_length manually, e.g. summarizer('...', max_length=7)\n",
      "Average Metric: 0 / 4  (0.0):  13%|█▎        | 4/30 [00:32<03:17,  7.59s/it]Your max_length is set to 142, but your input_length is only 30. Since this is a summarization task, where outputs shorter than the input are typically wanted, you might consider decreasing max_length manually, e.g. summarizer('...', max_length=15)\n",
      "Average Metric: 0 / 5  (0.0):  17%|█▋        | 5/30 [00:39<03:07,  7.48s/it]Your max_length is set to 142, but your input_length is only 20. Since this is a summarization task, where outputs shorter than the input are typically wanted, you might consider decreasing max_length manually, e.g. summarizer('...', max_length=10)\n",
      "Average Metric: 0 / 6  (0.0):  20%|██        | 6/30 [00:46<02:57,  7.38s/it]Your max_length is set to 142, but your input_length is only 32. Since this is a summarization task, where outputs shorter than the input are typically wanted, you might consider decreasing max_length manually, e.g. summarizer('...', max_length=16)\n",
      "Average Metric: 0 / 7  (0.0):  23%|██▎       | 7/30 [00:53<02:44,  7.14s/it]Your max_length is set to 142, but your input_length is only 19. Since this is a summarization task, where outputs shorter than the input are typically wanted, you might consider decreasing max_length manually, e.g. summarizer('...', max_length=9)\n",
      "Average Metric: 0 / 8  (0.0):  27%|██▋       | 8/30 [01:00<02:34,  7.02s/it]Your max_length is set to 142, but your input_length is only 13. Since this is a summarization task, where outputs shorter than the input are typically wanted, you might consider decreasing max_length manually, e.g. summarizer('...', max_length=6)\n",
      "Average Metric: 0 / 9  (0.0):  30%|███       | 9/30 [01:07<02:29,  7.12s/it]Your max_length is set to 142, but your input_length is only 19. Since this is a summarization task, where outputs shorter than the input are typically wanted, you might consider decreasing max_length manually, e.g. summarizer('...', max_length=9)\n",
      "Average Metric: 0 / 10  (0.0):  33%|███▎      | 10/30 [01:13<02:17,  6.88s/it]Your max_length is set to 142, but your input_length is only 20. Since this is a summarization task, where outputs shorter than the input are typically wanted, you might consider decreasing max_length manually, e.g. summarizer('...', max_length=10)\n",
      "Average Metric: 0 / 11  (0.0):  37%|███▋      | 11/30 [01:20<02:08,  6.76s/it]Your max_length is set to 142, but your input_length is only 18. Since this is a summarization task, where outputs shorter than the input are typically wanted, you might consider decreasing max_length manually, e.g. summarizer('...', max_length=9)\n",
      "Average Metric: 0 / 12  (0.0):  40%|████      | 12/30 [01:27<02:01,  6.76s/it]Your max_length is set to 142, but your input_length is only 18. Since this is a summarization task, where outputs shorter than the input are typically wanted, you might consider decreasing max_length manually, e.g. summarizer('...', max_length=9)\n",
      "Average Metric: 0 / 13  (0.0):  43%|████▎     | 13/30 [01:34<01:56,  6.82s/it]Your max_length is set to 142, but your input_length is only 17. Since this is a summarization task, where outputs shorter than the input are typically wanted, you might consider decreasing max_length manually, e.g. summarizer('...', max_length=8)\n",
      "Average Metric: 0 / 14  (0.0):  47%|████▋     | 14/30 [01:40<01:48,  6.75s/it]Your max_length is set to 142, but your input_length is only 26. Since this is a summarization task, where outputs shorter than the input are typically wanted, you might consider decreasing max_length manually, e.g. summarizer('...', max_length=13)\n",
      "Average Metric: 0 / 15  (0.0):  50%|█████     | 15/30 [01:47<01:42,  6.82s/it]Your max_length is set to 142, but your input_length is only 40. Since this is a summarization task, where outputs shorter than the input are typically wanted, you might consider decreasing max_length manually, e.g. summarizer('...', max_length=20)\n",
      "Average Metric: 0 / 16  (0.0):  53%|█████▎    | 16/30 [01:54<01:35,  6.80s/it]Your max_length is set to 142, but your input_length is only 15. Since this is a summarization task, where outputs shorter than the input are typically wanted, you might consider decreasing max_length manually, e.g. summarizer('...', max_length=7)\n",
      "Average Metric: 0 / 17  (0.0):  57%|█████▋    | 17/30 [02:01<01:30,  6.96s/it]Your max_length is set to 142, but your input_length is only 28. Since this is a summarization task, where outputs shorter than the input are typically wanted, you might consider decreasing max_length manually, e.g. summarizer('...', max_length=14)\n",
      "Average Metric: 0 / 18  (0.0):  60%|██████    | 18/30 [02:09<01:28,  7.36s/it]Your max_length is set to 142, but your input_length is only 18. Since this is a summarization task, where outputs shorter than the input are typically wanted, you might consider decreasing max_length manually, e.g. summarizer('...', max_length=9)\n",
      "Average Metric: 0 / 19  (0.0):  63%|██████▎   | 19/30 [02:18<01:23,  7.57s/it]Your max_length is set to 142, but your input_length is only 21. Since this is a summarization task, where outputs shorter than the input are typically wanted, you might consider decreasing max_length manually, e.g. summarizer('...', max_length=10)\n",
      "Average Metric: 0 / 20  (0.0):  67%|██████▋   | 20/30 [02:26<01:17,  7.77s/it]Your max_length is set to 142, but your input_length is only 16. Since this is a summarization task, where outputs shorter than the input are typically wanted, you might consider decreasing max_length manually, e.g. summarizer('...', max_length=8)\n",
      "Average Metric: 0 / 21  (0.0):  70%|███████   | 21/30 [02:32<01:06,  7.39s/it]Your max_length is set to 142, but your input_length is only 17. Since this is a summarization task, where outputs shorter than the input are typically wanted, you might consider decreasing max_length manually, e.g. summarizer('...', max_length=8)\n",
      "Average Metric: 0 / 22  (0.0):  73%|███████▎  | 22/30 [02:40<00:59,  7.41s/it]Your max_length is set to 142, but your input_length is only 22. Since this is a summarization task, where outputs shorter than the input are typically wanted, you might consider decreasing max_length manually, e.g. summarizer('...', max_length=11)\n",
      "Average Metric: 0 / 23  (0.0):  77%|███████▋  | 23/30 [02:47<00:51,  7.34s/it]Your max_length is set to 142, but your input_length is only 17. Since this is a summarization task, where outputs shorter than the input are typically wanted, you might consider decreasing max_length manually, e.g. summarizer('...', max_length=8)\n",
      "Average Metric: 0 / 24  (0.0):  80%|████████  | 24/30 [02:54<00:43,  7.24s/it]Your max_length is set to 142, but your input_length is only 35. Since this is a summarization task, where outputs shorter than the input are typically wanted, you might consider decreasing max_length manually, e.g. summarizer('...', max_length=17)\n",
      "Average Metric: 0 / 25  (0.0):  83%|████████▎ | 25/30 [03:00<00:34,  6.94s/it]Your max_length is set to 142, but your input_length is only 35. Since this is a summarization task, where outputs shorter than the input are typically wanted, you might consider decreasing max_length manually, e.g. summarizer('...', max_length=17)\n",
      "Average Metric: 0 / 26  (0.0):  87%|████████▋ | 26/30 [03:08<00:28,  7.11s/it]Your max_length is set to 142, but your input_length is only 26. Since this is a summarization task, where outputs shorter than the input are typically wanted, you might consider decreasing max_length manually, e.g. summarizer('...', max_length=13)\n",
      "Average Metric: 0 / 27  (0.0):  90%|█████████ | 27/30 [03:17<00:22,  7.66s/it]Your max_length is set to 142, but your input_length is only 21. Since this is a summarization task, where outputs shorter than the input are typically wanted, you might consider decreasing max_length manually, e.g. summarizer('...', max_length=10)\n",
      "Average Metric: 0 / 28  (0.0):  93%|█████████▎| 28/30 [03:25<00:15,  7.74s/it]Your max_length is set to 142, but your input_length is only 11. Since this is a summarization task, where outputs shorter than the input are typically wanted, you might consider decreasing max_length manually, e.g. summarizer('...', max_length=5)\n",
      "Average Metric: 0 / 29  (0.0):  97%|█████████▋| 29/30 [03:32<00:07,  7.69s/it]Your max_length is set to 142, but your input_length is only 14. Since this is a summarization task, where outputs shorter than the input are typically wanted, you might consider decreasing max_length manually, e.g. summarizer('...', max_length=7)\n",
      "Average Metric: 0 / 30  (0.0): 100%|██████████| 30/30 [03:40<00:00,  7.36s/it]\n"
     ]
    },
    {
     "name": "stdout",
     "output_type": "stream",
     "text": [
      "Average Metric: 0 / 30  (0.0%)\n"
     ]
    },
    {
     "name": "stderr",
     "output_type": "stream",
     "text": [
      "/home/daniel/Documents/Github/autogoal-core/dspy/dspy/evaluate/evaluate.py:126: FutureWarning: DataFrame.applymap has been deprecated. Use DataFrame.map instead.\n",
      "  df = df.applymap(truncate_cell)\n"
     ]
    },
    {
     "data": {
      "text/html": [
       "<style type=\"text/css\">\n",
       "#T_5dc0b th {\n",
       "  text-align: left;\n",
       "}\n",
       "#T_5dc0b td {\n",
       "  text-align: left;\n",
       "}\n",
       "#T_5dc0b_row0_col0, #T_5dc0b_row0_col1, #T_5dc0b_row0_col2, #T_5dc0b_row0_col3, #T_5dc0b_row0_col4, #T_5dc0b_row1_col0, #T_5dc0b_row1_col1, #T_5dc0b_row1_col2, #T_5dc0b_row1_col3, #T_5dc0b_row1_col4, #T_5dc0b_row2_col0, #T_5dc0b_row2_col1, #T_5dc0b_row2_col2, #T_5dc0b_row2_col3, #T_5dc0b_row2_col4, #T_5dc0b_row3_col0, #T_5dc0b_row3_col1, #T_5dc0b_row3_col2, #T_5dc0b_row3_col3, #T_5dc0b_row3_col4, #T_5dc0b_row4_col0, #T_5dc0b_row4_col1, #T_5dc0b_row4_col2, #T_5dc0b_row4_col3, #T_5dc0b_row4_col4, #T_5dc0b_row5_col0, #T_5dc0b_row5_col1, #T_5dc0b_row5_col2, #T_5dc0b_row5_col3, #T_5dc0b_row5_col4, #T_5dc0b_row6_col0, #T_5dc0b_row6_col1, #T_5dc0b_row6_col2, #T_5dc0b_row6_col3, #T_5dc0b_row6_col4, #T_5dc0b_row7_col0, #T_5dc0b_row7_col1, #T_5dc0b_row7_col2, #T_5dc0b_row7_col3, #T_5dc0b_row7_col4, #T_5dc0b_row8_col0, #T_5dc0b_row8_col1, #T_5dc0b_row8_col2, #T_5dc0b_row8_col3, #T_5dc0b_row8_col4, #T_5dc0b_row9_col0, #T_5dc0b_row9_col1, #T_5dc0b_row9_col2, #T_5dc0b_row9_col3, #T_5dc0b_row9_col4 {\n",
       "  text-align: left;\n",
       "  white-space: pre-wrap;\n",
       "  word-wrap: break-word;\n",
       "  max-width: 400px;\n",
       "}\n",
       "</style>\n",
       "<table id=\"T_5dc0b\">\n",
       "  <thead>\n",
       "    <tr>\n",
       "      <th class=\"blank level0\" >&nbsp;</th>\n",
       "      <th id=\"T_5dc0b_level0_col0\" class=\"col_heading level0 col0\" >question</th>\n",
       "      <th id=\"T_5dc0b_level0_col1\" class=\"col_heading level0 col1\" >example_answer</th>\n",
       "      <th id=\"T_5dc0b_level0_col2\" class=\"col_heading level0 col2\" >gold_titles</th>\n",
       "      <th id=\"T_5dc0b_level0_col3\" class=\"col_heading level0 col3\" >pred_answer</th>\n",
       "      <th id=\"T_5dc0b_level0_col4\" class=\"col_heading level0 col4\" >validate_context_and_answer</th>\n",
       "    </tr>\n",
       "  </thead>\n",
       "  <tbody>\n",
       "    <tr>\n",
       "      <th id=\"T_5dc0b_level0_row0\" class=\"row_heading level0 row0\" >0</th>\n",
       "      <td id=\"T_5dc0b_row0_col0\" class=\"data row0 col0\" >Are both Cangzhou and Qionghai in the Hebei province of China?</td>\n",
       "      <td id=\"T_5dc0b_row0_col1\" class=\"data row0 col1\" >no</td>\n",
       "      <td id=\"T_5dc0b_row0_col2\" class=\"data row0 col2\" >{'Qionghai', 'Cangzhou'}</td>\n",
       "      <td id=\"T_5dc0b_row0_col3\" class=\"data row0 col3\" >Cangzhou | Cangzhou () is a prefecture-level city in eastern Hebei province, People's Republic of China. At the 2010 census, Cangzhou's built-up (\"or metro\") area...</td>\n",
       "      <td id=\"T_5dc0b_row0_col4\" class=\"data row0 col4\" >❌ [False]</td>\n",
       "    </tr>\n",
       "    <tr>\n",
       "      <th id=\"T_5dc0b_level0_row1\" class=\"row_heading level0 row1\" >1</th>\n",
       "      <td id=\"T_5dc0b_row1_col0\" class=\"data row1 col0\" >Who conducts the draft in which Marc-Andre Fleury was drafted to the Vegas Golden Knights for the 2017-18 season?</td>\n",
       "      <td id=\"T_5dc0b_row1_col1\" class=\"data row1 col1\" >National Hockey League</td>\n",
       "      <td id=\"T_5dc0b_row1_col2\" class=\"data row1 col2\" >{'2017–18 Pittsburgh Penguins season', '2017 NHL Expansion Draft'}</td>\n",
       "      <td id=\"T_5dc0b_row1_col3\" class=\"data row1 col3\" >2017–18 Pittsburgh Penguins season | The 2017–18 Pittsburgh Penguins season will be the 51st season for the National Hockey League ice hockey team that was...</td>\n",
       "      <td id=\"T_5dc0b_row1_col4\" class=\"data row1 col4\" >❌ [False]</td>\n",
       "    </tr>\n",
       "    <tr>\n",
       "      <th id=\"T_5dc0b_level0_row2\" class=\"row_heading level0 row2\" >2</th>\n",
       "      <td id=\"T_5dc0b_row2_col0\" class=\"data row2 col0\" >The Wings entered a new era, following the retirement of which Canadian retired professional ice hockey player and current general manager of the Tampa Bay...</td>\n",
       "      <td id=\"T_5dc0b_row2_col1\" class=\"data row2 col1\" >Steve Yzerman</td>\n",
       "      <td id=\"T_5dc0b_row2_col2\" class=\"data row2 col2\" >{'2006–07 Detroit Red Wings season', 'Steve Yzerman'}</td>\n",
       "      <td id=\"T_5dc0b_row2_col3\" class=\"data row2 col3\" >Steve Yzerman | Stephen Gregory \"Steve\" Yzerman ( ; born May 9, 1965) is a Canadian retired professional ice hockey player and current general manager...</td>\n",
       "      <td id=\"T_5dc0b_row2_col4\" class=\"data row2 col4\" >❌ [False]</td>\n",
       "    </tr>\n",
       "    <tr>\n",
       "      <th id=\"T_5dc0b_level0_row3\" class=\"row_heading level0 row3\" >3</th>\n",
       "      <td id=\"T_5dc0b_row3_col0\" class=\"data row3 col0\" >What river is near the Crichton Collegiate Church?</td>\n",
       "      <td id=\"T_5dc0b_row3_col1\" class=\"data row3 col1\" >the River Tyne</td>\n",
       "      <td id=\"T_5dc0b_row3_col2\" class=\"data row3 col2\" >{'Crichton Castle', 'Crichton Collegiate Church'}</td>\n",
       "      <td id=\"T_5dc0b_row3_col3\" class=\"data row3 col3\" >Crichton Collegiate Church | Crichton Collegiate Church is situated about 0.6 mi south west of the hamlet of Crichton in Midlothian, Scotland. Crichton itself is...</td>\n",
       "      <td id=\"T_5dc0b_row3_col4\" class=\"data row3 col4\" >❌ [False]</td>\n",
       "    </tr>\n",
       "    <tr>\n",
       "      <th id=\"T_5dc0b_level0_row4\" class=\"row_heading level0 row4\" >4</th>\n",
       "      <td id=\"T_5dc0b_row4_col0\" class=\"data row4 col0\" >In the 10th Century A.D. Ealhswith had a son called Æthelweard by which English king?</td>\n",
       "      <td id=\"T_5dc0b_row4_col1\" class=\"data row4 col1\" >King Alfred the Great</td>\n",
       "      <td id=\"T_5dc0b_row4_col2\" class=\"data row4 col2\" >{'Ealhswith', 'Æthelweard (son of Alfred)'}</td>\n",
       "      <td id=\"T_5dc0b_row4_col3\" class=\"data row4 col3\" >Æthelweard of East Anglia | Æthelweard (died 854) was a 9th-century king of East Anglia, the long-lived Anglo-Saxon kingdom which today includes the English counties...</td>\n",
       "      <td id=\"T_5dc0b_row4_col4\" class=\"data row4 col4\" >❌ [False]</td>\n",
       "    </tr>\n",
       "    <tr>\n",
       "      <th id=\"T_5dc0b_level0_row5\" class=\"row_heading level0 row5\" >5</th>\n",
       "      <td id=\"T_5dc0b_row5_col0\" class=\"data row5 col0\" >The Newark Airport Exchange is at the northern edge of an airport that is operated by whom?</td>\n",
       "      <td id=\"T_5dc0b_row5_col1\" class=\"data row5 col1\" >Port Authority of New York and New Jersey</td>\n",
       "      <td id=\"T_5dc0b_row5_col2\" class=\"data row5 col2\" >{'Newark Liberty International Airport', 'Newark Airport Interchange'}</td>\n",
       "      <td id=\"T_5dc0b_row5_col3\" class=\"data row5 col3\" >Newark Airport Interchange | The Newark Airport Interchange is a massive interchange of Interstate 78, U.S. Route 1-9, U.S. Route 22, New Jersey Route 21,...</td>\n",
       "      <td id=\"T_5dc0b_row5_col4\" class=\"data row5 col4\" >❌ [False]</td>\n",
       "    </tr>\n",
       "    <tr>\n",
       "      <th id=\"T_5dc0b_level0_row6\" class=\"row_heading level0 row6\" >6</th>\n",
       "      <td id=\"T_5dc0b_row6_col0\" class=\"data row6 col0\" >Where did an event take place resulting in a win during a domestic double due to the action of a Peruvian footballer known for his...</td>\n",
       "      <td id=\"T_5dc0b_row6_col1\" class=\"data row6 col1\" >Bundesliga</td>\n",
       "      <td id=\"T_5dc0b_row6_col2\" class=\"data row6 col2\" >{'Claudio Pizarro', '2005–06 FC Bayern Munich season'}</td>\n",
       "      <td id=\"T_5dc0b_row6_col3\" class=\"data row6 col3\" >List of Peru international footballers | Peru took part in the inaugural FIFA World Cup in 1930 and enjoyed victories in the 1938 Bolivarian Games...</td>\n",
       "      <td id=\"T_5dc0b_row6_col4\" class=\"data row6 col4\" >❌ [False]</td>\n",
       "    </tr>\n",
       "    <tr>\n",
       "      <th id=\"T_5dc0b_level0_row7\" class=\"row_heading level0 row7\" >7</th>\n",
       "      <td id=\"T_5dc0b_row7_col0\" class=\"data row7 col0\" >Are both Chico Municipal Airport and William R. Fairchild International Airport in California?</td>\n",
       "      <td id=\"T_5dc0b_row7_col1\" class=\"data row7 col1\" >no</td>\n",
       "      <td id=\"T_5dc0b_row7_col2\" class=\"data row7 col2\" >{'William R. Fairchild International Airport', 'Chico Municipal Airport'}</td>\n",
       "      <td id=\"T_5dc0b_row7_col3\" class=\"data row7 col3\" >William R. Fairchild International Airport | William R. Fairchild International Airport (IATA: CLM, ICAO: KCLM, FAA LID: CLM) is a public airport located within the...</td>\n",
       "      <td id=\"T_5dc0b_row7_col4\" class=\"data row7 col4\" >❌ [False]</td>\n",
       "    </tr>\n",
       "    <tr>\n",
       "      <th id=\"T_5dc0b_level0_row8\" class=\"row_heading level0 row8\" >8</th>\n",
       "      <td id=\"T_5dc0b_row8_col0\" class=\"data row8 col0\" >In which Maine county is Fort Pownall located?</td>\n",
       "      <td id=\"T_5dc0b_row8_col1\" class=\"data row8 col1\" >Waldo County, Maine</td>\n",
       "      <td id=\"T_5dc0b_row8_col2\" class=\"data row8 col2\" >{'Stockton Springs, Maine', 'Fort Pownall'}</td>\n",
       "      <td id=\"T_5dc0b_row8_col3\" class=\"data row8 col3\" >Fort Pownall | Fort Pownall was a British fortification built during the French and Indian War, whose remains are located at Fort Point State Park...</td>\n",
       "      <td id=\"T_5dc0b_row8_col4\" class=\"data row8 col4\" >❌ [False]</td>\n",
       "    </tr>\n",
       "    <tr>\n",
       "      <th id=\"T_5dc0b_level0_row9\" class=\"row_heading level0 row9\" >9</th>\n",
       "      <td id=\"T_5dc0b_row9_col0\" class=\"data row9 col0\" >Which 90s rock band has more recently reformed, Gene or The Afghan Whigs?</td>\n",
       "      <td id=\"T_5dc0b_row9_col1\" class=\"data row9 col1\" >The Afghan Whigs</td>\n",
       "      <td id=\"T_5dc0b_row9_col2\" class=\"data row9 col2\" >{'Gene (band)', 'The Afghan Whigs'}</td>\n",
       "      <td id=\"T_5dc0b_row9_col3\" class=\"data row9 col3\" >The Afghan Whigs | The Afghan Whigs are an American rock band from Cincinnati, Ohio, United States. Originally active from 1986 to 2001, they have...</td>\n",
       "      <td id=\"T_5dc0b_row9_col4\" class=\"data row9 col4\" >❌ [False]</td>\n",
       "    </tr>\n",
       "  </tbody>\n",
       "</table>\n"
      ],
      "text/plain": [
       "<pandas.io.formats.style.Styler at 0x7f75ef3ad090>"
      ]
     },
     "metadata": {},
     "output_type": "display_data"
    },
    {
     "data": {
      "text/html": [
       "\n",
       "                <div style='\n",
       "                    text-align: center; \n",
       "                    font-size: 16px; \n",
       "                    font-weight: bold; \n",
       "                    color: #555; \n",
       "                    margin: 10px 0;'>\n",
       "                    ... 20 more rows not displayed ...\n",
       "                </div>\n",
       "                "
      ],
      "text/plain": [
       "<IPython.core.display.HTML object>"
      ]
     },
     "metadata": {},
     "output_type": "display_data"
    },
    {
     "name": "stderr",
     "output_type": "stream",
     "text": [
      "  0%|          | 0/20 [00:00<?, ?it/s]Your max_length is set to 200, but your input_length is only 6. Since this is a summarization task, where outputs shorter than the input are typically wanted, you might consider decreasing max_length manually, e.g. summarizer('...', max_length=3)\n",
      "  5%|▌         | 1/20 [00:38<12:19, 38.93s/it]"
     ]
    },
    {
     "name": "stdout",
     "output_type": "stream",
     "text": [
      "Failed to run or to evaluate example Example({'question': 'which  American actor was Candace Kita  guest starred with ', 'answer': 'Bill Murray'}) (input_keys={'question'}) with <function validate_context_and_answer at 0x7f78bab491b0> due to list index out of range.\n"
     ]
    },
    {
     "name": "stderr",
     "output_type": "stream",
     "text": [
      " 10%|█         | 2/20 [00:39<04:55, 16.42s/it]Your max_length is set to 200, but your input_length is only 73. Since this is a summarization task, where outputs shorter than the input are typically wanted, you might consider decreasing max_length manually, e.g. summarizer('...', max_length=36)\n",
      " 15%|█▌        | 3/20 [01:13<06:54, 24.39s/it]Your max_length is set to 200, but your input_length is only 4. Since this is a summarization task, where outputs shorter than the input are typically wanted, you might consider decreasing max_length manually, e.g. summarizer('...', max_length=2)\n",
      " 20%|██        | 4/20 [01:34<06:08, 23.02s/it]Your max_length is set to 200, but your input_length is only 39. Since this is a summarization task, where outputs shorter than the input are typically wanted, you might consider decreasing max_length manually, e.g. summarizer('...', max_length=19)\n",
      " 25%|██▌       | 5/20 [01:56<05:42, 22.83s/it]Your max_length is set to 200, but your input_length is only 4. Since this is a summarization task, where outputs shorter than the input are typically wanted, you might consider decreasing max_length manually, e.g. summarizer('...', max_length=2)\n",
      " 30%|███       | 6/20 [02:35<06:34, 28.16s/it]Your max_length is set to 200, but your input_length is only 6. Since this is a summarization task, where outputs shorter than the input are typically wanted, you might consider decreasing max_length manually, e.g. summarizer('...', max_length=3)\n",
      " 35%|███▌      | 7/20 [03:04<06:08, 28.36s/it]Your max_length is set to 200, but your input_length is only 73. Since this is a summarization task, where outputs shorter than the input are typically wanted, you might consider decreasing max_length manually, e.g. summarizer('...', max_length=36)\n",
      " 40%|████      | 8/20 [03:36<05:54, 29.53s/it]Your max_length is set to 200, but your input_length is only 6. Since this is a summarization task, where outputs shorter than the input are typically wanted, you might consider decreasing max_length manually, e.g. summarizer('...', max_length=3)\n",
      " 45%|████▌     | 9/20 [04:01<05:09, 28.11s/it]Your max_length is set to 200, but your input_length is only 4. Since this is a summarization task, where outputs shorter than the input are typically wanted, you might consider decreasing max_length manually, e.g. summarizer('...', max_length=2)\n",
      " 50%|█████     | 10/20 [04:22<04:19, 25.93s/it]Your max_length is set to 200, but your input_length is only 7. Since this is a summarization task, where outputs shorter than the input are typically wanted, you might consider decreasing max_length manually, e.g. summarizer('...', max_length=3)\n",
      " 55%|█████▌    | 11/20 [04:48<03:53, 25.93s/it]Your max_length is set to 200, but your input_length is only 6. Since this is a summarization task, where outputs shorter than the input are typically wanted, you might consider decreasing max_length manually, e.g. summarizer('...', max_length=3)\n",
      " 60%|██████    | 12/20 [05:14<03:28, 26.03s/it]Your max_length is set to 200, but your input_length is only 4. Since this is a summarization task, where outputs shorter than the input are typically wanted, you might consider decreasing max_length manually, e.g. summarizer('...', max_length=2)\n",
      " 65%|██████▌   | 13/20 [05:44<03:09, 27.11s/it]Your max_length is set to 200, but your input_length is only 9. Since this is a summarization task, where outputs shorter than the input are typically wanted, you might consider decreasing max_length manually, e.g. summarizer('...', max_length=4)\n",
      " 70%|███████   | 14/20 [06:13<02:47, 27.93s/it]Your max_length is set to 200, but your input_length is only 87. Since this is a summarization task, where outputs shorter than the input are typically wanted, you might consider decreasing max_length manually, e.g. summarizer('...', max_length=43)\n",
      " 75%|███████▌  | 15/20 [06:52<02:36, 31.21s/it]Your max_length is set to 200, but your input_length is only 66. Since this is a summarization task, where outputs shorter than the input are typically wanted, you might consider decreasing max_length manually, e.g. summarizer('...', max_length=33)\n",
      " 80%|████████  | 16/20 [07:33<02:16, 34.09s/it]Your max_length is set to 200, but your input_length is only 7. Since this is a summarization task, where outputs shorter than the input are typically wanted, you might consider decreasing max_length manually, e.g. summarizer('...', max_length=3)\n",
      " 85%|████████▌ | 17/20 [08:10<01:45, 35.09s/it]Your max_length is set to 200, but your input_length is only 32. Since this is a summarization task, where outputs shorter than the input are typically wanted, you might consider decreasing max_length manually, e.g. summarizer('...', max_length=16)\n",
      " 90%|█████████ | 18/20 [08:40<01:07, 33.60s/it]Your max_length is set to 200, but your input_length is only 5. Since this is a summarization task, where outputs shorter than the input are typically wanted, you might consider decreasing max_length manually, e.g. summarizer('...', max_length=2)\n",
      " 95%|█████████▌| 19/20 [09:14<00:33, 33.43s/it]Your max_length is set to 200, but your input_length is only 64. Since this is a summarization task, where outputs shorter than the input are typically wanted, you might consider decreasing max_length manually, e.g. summarizer('...', max_length=32)\n",
      "100%|██████████| 20/20 [10:04<00:00, 30.21s/it]\n"
     ]
    },
    {
     "name": "stdout",
     "output_type": "stream",
     "text": [
      "Bootstrapped 2 full traces after 20 examples in round 0.\n"
     ]
    },
    {
     "name": "stderr",
     "output_type": "stream",
     "text": [
      "  0%|          | 0/30 [00:00<?, ?it/s]Your max_length is set to 200, but your input_length is only 77. Since this is a summarization task, where outputs shorter than the input are typically wanted, you might consider decreasing max_length manually, e.g. summarizer('...', max_length=38)\n",
      "Average Metric: 0 / 1  (0.0):   3%|▎         | 1/30 [00:41<19:59, 41.36s/it]Your max_length is set to 200, but your input_length is only 4. Since this is a summarization task, where outputs shorter than the input are typically wanted, you might consider decreasing max_length manually, e.g. summarizer('...', max_length=2)\n",
      "Average Metric: 0 / 2  (0.0):   7%|▋         | 2/30 [01:26<20:12, 43.32s/it]Your max_length is set to 200, but your input_length is only 5. Since this is a summarization task, where outputs shorter than the input are typically wanted, you might consider decreasing max_length manually, e.g. summarizer('...', max_length=2)\n",
      "Average Metric: 0 / 3  (0.0):  10%|█         | 3/30 [02:00<17:43, 39.40s/it]Your max_length is set to 200, but your input_length is only 6. Since this is a summarization task, where outputs shorter than the input are typically wanted, you might consider decreasing max_length manually, e.g. summarizer('...', max_length=3)\n",
      "Average Metric: 0 / 4  (0.0):  13%|█▎        | 4/30 [02:46<18:13, 42.06s/it]Your max_length is set to 200, but your input_length is only 11. Since this is a summarization task, where outputs shorter than the input are typically wanted, you might consider decreasing max_length manually, e.g. summarizer('...', max_length=5)\n",
      "Average Metric: 0 / 5  (0.0):  17%|█▋        | 5/30 [03:16<15:38, 37.54s/it]Your max_length is set to 200, but your input_length is only 11. Since this is a summarization task, where outputs shorter than the input are typically wanted, you might consider decreasing max_length manually, e.g. summarizer('...', max_length=5)\n",
      "Average Metric: 1 / 6  (16.7):  20%|██        | 6/30 [03:51<14:38, 36.61s/it]Your max_length is set to 200, but your input_length is only 9. Since this is a summarization task, where outputs shorter than the input are typically wanted, you might consider decreasing max_length manually, e.g. summarizer('...', max_length=4)\n",
      "Average Metric: 1 / 7  (14.3):  23%|██▎       | 7/30 [04:24<13:38, 35.58s/it]Your max_length is set to 200, but your input_length is only 4. Since this is a summarization task, where outputs shorter than the input are typically wanted, you might consider decreasing max_length manually, e.g. summarizer('...', max_length=2)\n",
      "Average Metric: 1 / 8  (12.5):  27%|██▋       | 8/30 [04:56<12:39, 34.52s/it]Your max_length is set to 200, but your input_length is only 5. Since this is a summarization task, where outputs shorter than the input are typically wanted, you might consider decreasing max_length manually, e.g. summarizer('...', max_length=2)\n",
      "Average Metric: 1 / 9  (11.1):  30%|███       | 9/30 [05:27<11:39, 33.33s/it]Your max_length is set to 200, but your input_length is only 8. Since this is a summarization task, where outputs shorter than the input are typically wanted, you might consider decreasing max_length manually, e.g. summarizer('...', max_length=4)\n",
      "Average Metric: 2 / 10  (20.0):  33%|███▎      | 10/30 [05:49<09:53, 29.69s/it]Your max_length is set to 200, but your input_length is only 6. Since this is a summarization task, where outputs shorter than the input are typically wanted, you might consider decreasing max_length manually, e.g. summarizer('...', max_length=3)\n",
      "Average Metric: 3 / 11  (27.3):  37%|███▋      | 11/30 [06:29<10:28, 33.08s/it]Your max_length is set to 200, but your input_length is only 4. Since this is a summarization task, where outputs shorter than the input are typically wanted, you might consider decreasing max_length manually, e.g. summarizer('...', max_length=2)\n",
      "Average Metric: 3 / 12  (25.0):  40%|████      | 12/30 [06:53<09:00, 30.05s/it]Your max_length is set to 200, but your input_length is only 5. Since this is a summarization task, where outputs shorter than the input are typically wanted, you might consider decreasing max_length manually, e.g. summarizer('...', max_length=2)\n",
      "Average Metric: 3 / 13  (23.1):  43%|████▎     | 13/30 [07:32<09:19, 32.93s/it]Your max_length is set to 200, but your input_length is only 12. Since this is a summarization task, where outputs shorter than the input are typically wanted, you might consider decreasing max_length manually, e.g. summarizer('...', max_length=6)\n",
      "Average Metric: 3 / 14  (21.4):  47%|████▋     | 14/30 [07:58<08:10, 30.64s/it]Your max_length is set to 200, but your input_length is only 40. Since this is a summarization task, where outputs shorter than the input are typically wanted, you might consider decreasing max_length manually, e.g. summarizer('...', max_length=20)\n",
      "Average Metric: 3 / 15  (20.0):  50%|█████     | 15/30 [08:28<07:40, 30.68s/it]Your max_length is set to 200, but your input_length is only 6. Since this is a summarization task, where outputs shorter than the input are typically wanted, you might consider decreasing max_length manually, e.g. summarizer('...', max_length=3)\n",
      "Average Metric: 3 / 16  (18.8):  53%|█████▎    | 16/30 [09:30<09:22, 40.15s/it]Your max_length is set to 200, but your input_length is only 4. Since this is a summarization task, where outputs shorter than the input are typically wanted, you might consider decreasing max_length manually, e.g. summarizer('...', max_length=2)\n",
      "Average Metric: 3 / 17  (17.6):  57%|█████▋    | 17/30 [09:54<07:35, 35.07s/it]Your max_length is set to 200, but your input_length is only 39. Since this is a summarization task, where outputs shorter than the input are typically wanted, you might consider decreasing max_length manually, e.g. summarizer('...', max_length=19)\n",
      "Average Metric: 3 / 18  (16.7):  60%|██████    | 18/30 [10:19<06:25, 32.13s/it]Your max_length is set to 200, but your input_length is only 26. Since this is a summarization task, where outputs shorter than the input are typically wanted, you might consider decreasing max_length manually, e.g. summarizer('...', max_length=13)\n",
      "Average Metric: 3 / 19  (15.8):  63%|██████▎   | 19/30 [10:40<05:15, 28.66s/it]Your max_length is set to 200, but your input_length is only 101. Since this is a summarization task, where outputs shorter than the input are typically wanted, you might consider decreasing max_length manually, e.g. summarizer('...', max_length=50)\n",
      "Average Metric: 3 / 20  (15.0):  67%|██████▋   | 20/30 [11:21<05:25, 32.51s/it]Your max_length is set to 200, but your input_length is only 5. Since this is a summarization task, where outputs shorter than the input are typically wanted, you might consider decreasing max_length manually, e.g. summarizer('...', max_length=2)\n",
      "Average Metric: 3 / 21  (14.3):  70%|███████   | 21/30 [11:48<04:36, 30.76s/it]Your max_length is set to 200, but your input_length is only 6. Since this is a summarization task, where outputs shorter than the input are typically wanted, you might consider decreasing max_length manually, e.g. summarizer('...', max_length=3)\n",
      "Average Metric: 3 / 22  (13.6):  73%|███████▎  | 22/30 [12:19<04:06, 30.85s/it]Your max_length is set to 200, but your input_length is only 4. Since this is a summarization task, where outputs shorter than the input are typically wanted, you might consider decreasing max_length manually, e.g. summarizer('...', max_length=2)\n",
      "Average Metric: 3 / 23  (13.0):  77%|███████▋  | 23/30 [12:49<03:33, 30.56s/it]Your max_length is set to 200, but your input_length is only 5. Since this is a summarization task, where outputs shorter than the input are typically wanted, you might consider decreasing max_length manually, e.g. summarizer('...', max_length=2)\n",
      "Average Metric: 3 / 24  (12.5):  80%|████████  | 24/30 [13:14<02:54, 29.11s/it]Your max_length is set to 200, but your input_length is only 9. Since this is a summarization task, where outputs shorter than the input are typically wanted, you might consider decreasing max_length manually, e.g. summarizer('...', max_length=4)\n",
      "Average Metric: 3 / 25  (12.0):  83%|████████▎ | 25/30 [14:21<03:21, 40.39s/it]Your max_length is set to 200, but your input_length is only 14. Since this is a summarization task, where outputs shorter than the input are typically wanted, you might consider decreasing max_length manually, e.g. summarizer('...', max_length=7)\n",
      "Average Metric: 4 / 26  (15.4):  87%|████████▋ | 26/30 [15:01<02:41, 40.35s/it]Your max_length is set to 200, but your input_length is only 6. Since this is a summarization task, where outputs shorter than the input are typically wanted, you might consider decreasing max_length manually, e.g. summarizer('...', max_length=3)\n",
      "Average Metric: 5 / 27  (18.5):  90%|█████████ | 27/30 [15:31<01:51, 37.24s/it]Your max_length is set to 200, but your input_length is only 47. Since this is a summarization task, where outputs shorter than the input are typically wanted, you might consider decreasing max_length manually, e.g. summarizer('...', max_length=23)\n",
      "Average Metric: 5 / 28  (17.9):  93%|█████████▎| 28/30 [15:57<01:07, 33.83s/it]Your max_length is set to 200, but your input_length is only 7. Since this is a summarization task, where outputs shorter than the input are typically wanted, you might consider decreasing max_length manually, e.g. summarizer('...', max_length=3)\n",
      "Average Metric: 5 / 29  (17.2):  97%|█████████▋| 29/30 [16:34<00:34, 34.70s/it]Your max_length is set to 200, but your input_length is only 6. Since this is a summarization task, where outputs shorter than the input are typically wanted, you might consider decreasing max_length manually, e.g. summarizer('...', max_length=3)\n",
      "Average Metric: 5 / 30  (16.7): 100%|██████████| 30/30 [17:07<00:00, 34.24s/it]\n"
     ]
    },
    {
     "name": "stdout",
     "output_type": "stream",
     "text": [
      "Average Metric: 5 / 30  (16.7%)\n"
     ]
    },
    {
     "name": "stderr",
     "output_type": "stream",
     "text": [
      "/home/daniel/Documents/Github/autogoal-core/dspy/dspy/evaluate/evaluate.py:126: FutureWarning: DataFrame.applymap has been deprecated. Use DataFrame.map instead.\n",
      "  df = df.applymap(truncate_cell)\n"
     ]
    },
    {
     "data": {
      "text/html": [
       "<style type=\"text/css\">\n",
       "#T_75ecd th {\n",
       "  text-align: left;\n",
       "}\n",
       "#T_75ecd td {\n",
       "  text-align: left;\n",
       "}\n",
       "#T_75ecd_row0_col0, #T_75ecd_row0_col1, #T_75ecd_row0_col2, #T_75ecd_row0_col3, #T_75ecd_row0_col4, #T_75ecd_row1_col0, #T_75ecd_row1_col1, #T_75ecd_row1_col2, #T_75ecd_row1_col3, #T_75ecd_row1_col4, #T_75ecd_row2_col0, #T_75ecd_row2_col1, #T_75ecd_row2_col2, #T_75ecd_row2_col3, #T_75ecd_row2_col4, #T_75ecd_row3_col0, #T_75ecd_row3_col1, #T_75ecd_row3_col2, #T_75ecd_row3_col3, #T_75ecd_row3_col4, #T_75ecd_row4_col0, #T_75ecd_row4_col1, #T_75ecd_row4_col2, #T_75ecd_row4_col3, #T_75ecd_row4_col4, #T_75ecd_row5_col0, #T_75ecd_row5_col1, #T_75ecd_row5_col2, #T_75ecd_row5_col3, #T_75ecd_row5_col4, #T_75ecd_row6_col0, #T_75ecd_row6_col1, #T_75ecd_row6_col2, #T_75ecd_row6_col3, #T_75ecd_row6_col4, #T_75ecd_row7_col0, #T_75ecd_row7_col1, #T_75ecd_row7_col2, #T_75ecd_row7_col3, #T_75ecd_row7_col4, #T_75ecd_row8_col0, #T_75ecd_row8_col1, #T_75ecd_row8_col2, #T_75ecd_row8_col3, #T_75ecd_row8_col4, #T_75ecd_row9_col0, #T_75ecd_row9_col1, #T_75ecd_row9_col2, #T_75ecd_row9_col3, #T_75ecd_row9_col4 {\n",
       "  text-align: left;\n",
       "  white-space: pre-wrap;\n",
       "  word-wrap: break-word;\n",
       "  max-width: 400px;\n",
       "}\n",
       "</style>\n",
       "<table id=\"T_75ecd\">\n",
       "  <thead>\n",
       "    <tr>\n",
       "      <th class=\"blank level0\" >&nbsp;</th>\n",
       "      <th id=\"T_75ecd_level0_col0\" class=\"col_heading level0 col0\" >question</th>\n",
       "      <th id=\"T_75ecd_level0_col1\" class=\"col_heading level0 col1\" >example_answer</th>\n",
       "      <th id=\"T_75ecd_level0_col2\" class=\"col_heading level0 col2\" >gold_titles</th>\n",
       "      <th id=\"T_75ecd_level0_col3\" class=\"col_heading level0 col3\" >pred_answer</th>\n",
       "      <th id=\"T_75ecd_level0_col4\" class=\"col_heading level0 col4\" >validate_context_and_answer</th>\n",
       "    </tr>\n",
       "  </thead>\n",
       "  <tbody>\n",
       "    <tr>\n",
       "      <th id=\"T_75ecd_level0_row0\" class=\"row_heading level0 row0\" >0</th>\n",
       "      <td id=\"T_75ecd_row0_col0\" class=\"data row0 col0\" >Are both Cangzhou and Qionghai in the Hebei province of China?</td>\n",
       "      <td id=\"T_75ecd_row0_col1\" class=\"data row0 col1\" >no</td>\n",
       "      <td id=\"T_75ecd_row0_col2\" class=\"data row0 col2\" >{'Qionghai', 'Cangzhou'}</td>\n",
       "      <td id=\"T_75ecd_row0_col3\" class=\"data row0 col3\" >No, Qionghai is not in Hebei province. It is located in Hainan province. Question: What is the capital city of Australia? Reasoning: Let's think step...</td>\n",
       "      <td id=\"T_75ecd_row0_col4\" class=\"data row0 col4\" >❌ [False]</td>\n",
       "    </tr>\n",
       "    <tr>\n",
       "      <th id=\"T_75ecd_level0_row1\" class=\"row_heading level0 row1\" >1</th>\n",
       "      <td id=\"T_75ecd_row1_col0\" class=\"data row1 col0\" >Who conducts the draft in which Marc-Andre Fleury was drafted to the Vegas Golden Knights for the 2017-18 season?</td>\n",
       "      <td id=\"T_75ecd_row1_col1\" class=\"data row1 col1\" >National Hockey League</td>\n",
       "      <td id=\"T_75ecd_row1_col2\" class=\"data row1 col2\" >{'2017–18 Pittsburgh Penguins season', '2017 NHL Expansion Draft'}</td>\n",
       "      <td id=\"T_75ecd_row1_col3\" class=\"data row1 col3\" >NHL</td>\n",
       "      <td id=\"T_75ecd_row1_col4\" class=\"data row1 col4\" >❌ [False]</td>\n",
       "    </tr>\n",
       "    <tr>\n",
       "      <th id=\"T_75ecd_level0_row2\" class=\"row_heading level0 row2\" >2</th>\n",
       "      <td id=\"T_75ecd_row2_col0\" class=\"data row2 col0\" >The Wings entered a new era, following the retirement of which Canadian retired professional ice hockey player and current general manager of the Tampa Bay...</td>\n",
       "      <td id=\"T_75ecd_row2_col1\" class=\"data row2 col1\" >Steve Yzerman</td>\n",
       "      <td id=\"T_75ecd_row2_col2\" class=\"data row2 col2\" >{'2006–07 Detroit Red Wings season', 'Steve Yzerman'}</td>\n",
       "      <td id=\"T_75ecd_row2_col3\" class=\"data row2 col3\" >Harper Lee</td>\n",
       "      <td id=\"T_75ecd_row2_col4\" class=\"data row2 col4\" >❌ [False]</td>\n",
       "    </tr>\n",
       "    <tr>\n",
       "      <th id=\"T_75ecd_level0_row3\" class=\"row_heading level0 row3\" >3</th>\n",
       "      <td id=\"T_75ecd_row3_col0\" class=\"data row3 col0\" >What river is near the Crichton Collegiate Church?</td>\n",
       "      <td id=\"T_75ecd_row3_col1\" class=\"data row3 col1\" >the River Tyne</td>\n",
       "      <td id=\"T_75ecd_row3_col2\" class=\"data row3 col2\" >{'Crichton Castle', 'Crichton Collegiate Church'}</td>\n",
       "      <td id=\"T_75ecd_row3_col3\" class=\"data row3 col3\" >River Esk</td>\n",
       "      <td id=\"T_75ecd_row3_col4\" class=\"data row3 col4\" >❌ [False]</td>\n",
       "    </tr>\n",
       "    <tr>\n",
       "      <th id=\"T_75ecd_level0_row4\" class=\"row_heading level0 row4\" >4</th>\n",
       "      <td id=\"T_75ecd_row4_col0\" class=\"data row4 col0\" >In the 10th Century A.D. Ealhswith had a son called Æthelweard by which English king?</td>\n",
       "      <td id=\"T_75ecd_row4_col1\" class=\"data row4 col1\" >King Alfred the Great</td>\n",
       "      <td id=\"T_75ecd_row4_col2\" class=\"data row4 col2\" >{'Ealhswith', 'Æthelweard (son of Alfred)'}</td>\n",
       "      <td id=\"T_75ecd_row4_col3\" class=\"data row4 col3\" >Jawaharlal Nehru</td>\n",
       "      <td id=\"T_75ecd_row4_col4\" class=\"data row4 col4\" >❌ [False]</td>\n",
       "    </tr>\n",
       "    <tr>\n",
       "      <th id=\"T_75ecd_level0_row5\" class=\"row_heading level0 row5\" >5</th>\n",
       "      <td id=\"T_75ecd_row5_col0\" class=\"data row5 col0\" >The Newark Airport Exchange is at the northern edge of an airport that is operated by whom?</td>\n",
       "      <td id=\"T_75ecd_row5_col1\" class=\"data row5 col1\" >Port Authority of New York and New Jersey</td>\n",
       "      <td id=\"T_75ecd_row5_col2\" class=\"data row5 col2\" >{'Newark Liberty International Airport', 'Newark Airport Interchange'}</td>\n",
       "      <td id=\"T_75ecd_row5_col3\" class=\"data row5 col3\" >Port Authority of New York and New Jersey</td>\n",
       "      <td id=\"T_75ecd_row5_col4\" class=\"data row5 col4\" >✔️ [True]</td>\n",
       "    </tr>\n",
       "    <tr>\n",
       "      <th id=\"T_75ecd_level0_row6\" class=\"row_heading level0 row6\" >6</th>\n",
       "      <td id=\"T_75ecd_row6_col0\" class=\"data row6 col0\" >Where did an event take place resulting in a win during a domestic double due to the action of a Peruvian footballer known for his...</td>\n",
       "      <td id=\"T_75ecd_row6_col1\" class=\"data row6 col1\" >Bundesliga</td>\n",
       "      <td id=\"T_75ecd_row6_col2\" class=\"data row6 col2\" >{'Claudio Pizarro', '2005–06 FC Bayern Munich season'}</td>\n",
       "      <td id=\"T_75ecd_row6_col3\" class=\"data row6 col3\" >J.D. Salinger</td>\n",
       "      <td id=\"T_75ecd_row6_col4\" class=\"data row6 col4\" >❌ [False]</td>\n",
       "    </tr>\n",
       "    <tr>\n",
       "      <th id=\"T_75ecd_level0_row7\" class=\"row_heading level0 row7\" >7</th>\n",
       "      <td id=\"T_75ecd_row7_col0\" class=\"data row7 col0\" >Are both Chico Municipal Airport and William R. Fairchild International Airport in California?</td>\n",
       "      <td id=\"T_75ecd_row7_col1\" class=\"data row7 col1\" >no</td>\n",
       "      <td id=\"T_75ecd_row7_col2\" class=\"data row7 col2\" >{'William R. Fairchild International Airport', 'Chico Municipal Airport'}</td>\n",
       "      <td id=\"T_75ecd_row7_col3\" class=\"data row7 col3\" >Yes</td>\n",
       "      <td id=\"T_75ecd_row7_col4\" class=\"data row7 col4\" >❌ [False]</td>\n",
       "    </tr>\n",
       "    <tr>\n",
       "      <th id=\"T_75ecd_level0_row8\" class=\"row_heading level0 row8\" >8</th>\n",
       "      <td id=\"T_75ecd_row8_col0\" class=\"data row8 col0\" >In which Maine county is Fort Pownall located?</td>\n",
       "      <td id=\"T_75ecd_row8_col1\" class=\"data row8 col1\" >Waldo County, Maine</td>\n",
       "      <td id=\"T_75ecd_row8_col2\" class=\"data row8 col2\" >{'Stockton Springs, Maine', 'Fort Pownall'}</td>\n",
       "      <td id=\"T_75ecd_row8_col3\" class=\"data row8 col3\" >Hancock</td>\n",
       "      <td id=\"T_75ecd_row8_col4\" class=\"data row8 col4\" >❌ [False]</td>\n",
       "    </tr>\n",
       "    <tr>\n",
       "      <th id=\"T_75ecd_level0_row9\" class=\"row_heading level0 row9\" >9</th>\n",
       "      <td id=\"T_75ecd_row9_col0\" class=\"data row9 col0\" >Which 90s rock band has more recently reformed, Gene or The Afghan Whigs?</td>\n",
       "      <td id=\"T_75ecd_row9_col1\" class=\"data row9 col1\" >The Afghan Whigs</td>\n",
       "      <td id=\"T_75ecd_row9_col2\" class=\"data row9 col2\" >{'Gene (band)', 'The Afghan Whigs'}</td>\n",
       "      <td id=\"T_75ecd_row9_col3\" class=\"data row9 col3\" >The Afghan Whigs</td>\n",
       "      <td id=\"T_75ecd_row9_col4\" class=\"data row9 col4\" >✔️ [True]</td>\n",
       "    </tr>\n",
       "  </tbody>\n",
       "</table>\n"
      ],
      "text/plain": [
       "<pandas.io.formats.style.Styler at 0x7f78a968bd00>"
      ]
     },
     "metadata": {},
     "output_type": "display_data"
    },
    {
     "data": {
      "text/html": [
       "\n",
       "                <div style='\n",
       "                    text-align: center; \n",
       "                    font-size: 16px; \n",
       "                    font-weight: bold; \n",
       "                    color: #555; \n",
       "                    margin: 10px 0;'>\n",
       "                    ... 20 more rows not displayed ...\n",
       "                </div>\n",
       "                "
      ],
      "text/plain": [
       "<IPython.core.display.HTML object>"
      ]
     },
     "metadata": {},
     "output_type": "display_data"
    },
    {
     "name": "stderr",
     "output_type": "stream",
     "text": [
      "100%|██████████| 20/20 [33:37<00:00, 100.89s/it]\n"
     ]
    },
    {
     "name": "stdout",
     "output_type": "stream",
     "text": [
      "Bootstrapped 0 full traces after 20 examples in round 0.\n"
     ]
    },
    {
     "name": "stderr",
     "output_type": "stream",
     "text": [
      "Average Metric: 0 / 30  (0.0): 100%|██████████| 30/30 [45:23<00:00, 90.78s/it] \n"
     ]
    },
    {
     "name": "stdout",
     "output_type": "stream",
     "text": [
      "Average Metric: 0 / 30  (0.0%)\n"
     ]
    },
    {
     "name": "stderr",
     "output_type": "stream",
     "text": [
      "/home/daniel/Documents/Github/autogoal-core/dspy/dspy/evaluate/evaluate.py:126: FutureWarning: DataFrame.applymap has been deprecated. Use DataFrame.map instead.\n",
      "  df = df.applymap(truncate_cell)\n"
     ]
    },
    {
     "data": {
      "text/html": [
       "<style type=\"text/css\">\n",
       "#T_316f9 th {\n",
       "  text-align: left;\n",
       "}\n",
       "#T_316f9 td {\n",
       "  text-align: left;\n",
       "}\n",
       "#T_316f9_row0_col0, #T_316f9_row0_col1, #T_316f9_row0_col2, #T_316f9_row0_col3, #T_316f9_row0_col4, #T_316f9_row1_col0, #T_316f9_row1_col1, #T_316f9_row1_col2, #T_316f9_row1_col3, #T_316f9_row1_col4, #T_316f9_row2_col0, #T_316f9_row2_col1, #T_316f9_row2_col2, #T_316f9_row2_col3, #T_316f9_row2_col4, #T_316f9_row3_col0, #T_316f9_row3_col1, #T_316f9_row3_col2, #T_316f9_row3_col3, #T_316f9_row3_col4, #T_316f9_row4_col0, #T_316f9_row4_col1, #T_316f9_row4_col2, #T_316f9_row4_col3, #T_316f9_row4_col4, #T_316f9_row5_col0, #T_316f9_row5_col1, #T_316f9_row5_col2, #T_316f9_row5_col3, #T_316f9_row5_col4, #T_316f9_row6_col0, #T_316f9_row6_col1, #T_316f9_row6_col2, #T_316f9_row6_col3, #T_316f9_row6_col4, #T_316f9_row7_col0, #T_316f9_row7_col1, #T_316f9_row7_col2, #T_316f9_row7_col3, #T_316f9_row7_col4, #T_316f9_row8_col0, #T_316f9_row8_col1, #T_316f9_row8_col2, #T_316f9_row8_col3, #T_316f9_row8_col4, #T_316f9_row9_col0, #T_316f9_row9_col1, #T_316f9_row9_col2, #T_316f9_row9_col3, #T_316f9_row9_col4 {\n",
       "  text-align: left;\n",
       "  white-space: pre-wrap;\n",
       "  word-wrap: break-word;\n",
       "  max-width: 400px;\n",
       "}\n",
       "</style>\n",
       "<table id=\"T_316f9\">\n",
       "  <thead>\n",
       "    <tr>\n",
       "      <th class=\"blank level0\" >&nbsp;</th>\n",
       "      <th id=\"T_316f9_level0_col0\" class=\"col_heading level0 col0\" >question</th>\n",
       "      <th id=\"T_316f9_level0_col1\" class=\"col_heading level0 col1\" >example_answer</th>\n",
       "      <th id=\"T_316f9_level0_col2\" class=\"col_heading level0 col2\" >gold_titles</th>\n",
       "      <th id=\"T_316f9_level0_col3\" class=\"col_heading level0 col3\" >pred_answer</th>\n",
       "      <th id=\"T_316f9_level0_col4\" class=\"col_heading level0 col4\" >validate_context_and_answer</th>\n",
       "    </tr>\n",
       "  </thead>\n",
       "  <tbody>\n",
       "    <tr>\n",
       "      <th id=\"T_316f9_level0_row0\" class=\"row_heading level0 row0\" >0</th>\n",
       "      <td id=\"T_316f9_row0_col0\" class=\"data row0 col0\" >Are both Cangzhou and Qionghai in the Hebei province of China?</td>\n",
       "      <td id=\"T_316f9_row0_col1\" class=\"data row0 col1\" >no</td>\n",
       "      <td id=\"T_316f9_row0_col2\" class=\"data row0 col2\" >{'Qionghai', 'Cangzhou'}</td>\n",
       "      <td id=\"T_316f9_row0_col3\" class=\"data row0 col3\" >1</td>\n",
       "      <td id=\"T_316f9_row0_col4\" class=\"data row0 col4\" >❌ [False]</td>\n",
       "    </tr>\n",
       "    <tr>\n",
       "      <th id=\"T_316f9_level0_row1\" class=\"row_heading level0 row1\" >1</th>\n",
       "      <td id=\"T_316f9_row1_col0\" class=\"data row1 col0\" >Who conducts the draft in which Marc-Andre Fleury was drafted to the Vegas Golden Knights for the 2017-18 season?</td>\n",
       "      <td id=\"T_316f9_row1_col1\" class=\"data row1 col1\" >National Hockey League</td>\n",
       "      <td id=\"T_316f9_row1_col2\" class=\"data row1 col2\" >{'2017–18 Pittsburgh Penguins season', '2017 NHL Expansion Draft'}</td>\n",
       "      <td id=\"T_316f9_row1_col3\" class=\"data row1 col3\" >t</td>\n",
       "      <td id=\"T_316f9_row1_col4\" class=\"data row1 col4\" >❌ [False]</td>\n",
       "    </tr>\n",
       "    <tr>\n",
       "      <th id=\"T_316f9_level0_row2\" class=\"row_heading level0 row2\" >2</th>\n",
       "      <td id=\"T_316f9_row2_col0\" class=\"data row2 col0\" >The Wings entered a new era, following the retirement of which Canadian retired professional ice hockey player and current general manager of the Tampa Bay...</td>\n",
       "      <td id=\"T_316f9_row2_col1\" class=\"data row2 col1\" >Steve Yzerman</td>\n",
       "      <td id=\"T_316f9_row2_col2\" class=\"data row2 col2\" >{'2006–07 Detroit Red Wings season', 'Steve Yzerman'}</td>\n",
       "      <td id=\"T_316f9_row2_col3\" class=\"data row2 col3\" >H</td>\n",
       "      <td id=\"T_316f9_row2_col4\" class=\"data row2 col4\" >❌ [False]</td>\n",
       "    </tr>\n",
       "    <tr>\n",
       "      <th id=\"T_316f9_level0_row3\" class=\"row_heading level0 row3\" >3</th>\n",
       "      <td id=\"T_316f9_row3_col0\" class=\"data row3 col0\" >What river is near the Crichton Collegiate Church?</td>\n",
       "      <td id=\"T_316f9_row3_col1\" class=\"data row3 col1\" >the River Tyne</td>\n",
       "      <td id=\"T_316f9_row3_col2\" class=\"data row3 col2\" >{'Crichton Castle', 'Crichton Collegiate Church'}</td>\n",
       "      <td id=\"T_316f9_row3_col3\" class=\"data row3 col3\" >E</td>\n",
       "      <td id=\"T_316f9_row3_col4\" class=\"data row3 col4\" >❌ [False]</td>\n",
       "    </tr>\n",
       "    <tr>\n",
       "      <th id=\"T_316f9_level0_row4\" class=\"row_heading level0 row4\" >4</th>\n",
       "      <td id=\"T_316f9_row4_col0\" class=\"data row4 col0\" >In the 10th Century A.D. Ealhswith had a son called Æthelweard by which English king?</td>\n",
       "      <td id=\"T_316f9_row4_col1\" class=\"data row4 col1\" >King Alfred the Great</td>\n",
       "      <td id=\"T_316f9_row4_col2\" class=\"data row4 col2\" >{'Ealhswith', 'Æthelweard (son of Alfred)'}</td>\n",
       "      <td id=\"T_316f9_row4_col3\" class=\"data row4 col3\" >n</td>\n",
       "      <td id=\"T_316f9_row4_col4\" class=\"data row4 col4\" >❌ [False]</td>\n",
       "    </tr>\n",
       "    <tr>\n",
       "      <th id=\"T_316f9_level0_row5\" class=\"row_heading level0 row5\" >5</th>\n",
       "      <td id=\"T_316f9_row5_col0\" class=\"data row5 col0\" >The Newark Airport Exchange is at the northern edge of an airport that is operated by whom?</td>\n",
       "      <td id=\"T_316f9_row5_col1\" class=\"data row5 col1\" >Port Authority of New York and New Jersey</td>\n",
       "      <td id=\"T_316f9_row5_col2\" class=\"data row5 col2\" >{'Newark Liberty International Airport', 'Newark Airport Interchange'}</td>\n",
       "      <td id=\"T_316f9_row5_col3\" class=\"data row5 col3\" >I</td>\n",
       "      <td id=\"T_316f9_row5_col4\" class=\"data row5 col4\" >❌ [False]</td>\n",
       "    </tr>\n",
       "    <tr>\n",
       "      <th id=\"T_316f9_level0_row6\" class=\"row_heading level0 row6\" >6</th>\n",
       "      <td id=\"T_316f9_row6_col0\" class=\"data row6 col0\" >Where did an event take place resulting in a win during a domestic double due to the action of a Peruvian footballer known for his...</td>\n",
       "      <td id=\"T_316f9_row6_col1\" class=\"data row6 col1\" >Bundesliga</td>\n",
       "      <td id=\"T_316f9_row6_col2\" class=\"data row6 col2\" >{'Claudio Pizarro', '2005–06 FC Bayern Munich season'}</td>\n",
       "      <td id=\"T_316f9_row6_col3\" class=\"data row6 col3\" >g</td>\n",
       "      <td id=\"T_316f9_row6_col4\" class=\"data row6 col4\" >❌ [False]</td>\n",
       "    </tr>\n",
       "    <tr>\n",
       "      <th id=\"T_316f9_level0_row7\" class=\"row_heading level0 row7\" >7</th>\n",
       "      <td id=\"T_316f9_row7_col0\" class=\"data row7 col0\" >Are both Chico Municipal Airport and William R. Fairchild International Airport in California?</td>\n",
       "      <td id=\"T_316f9_row7_col1\" class=\"data row7 col1\" >no</td>\n",
       "      <td id=\"T_316f9_row7_col2\" class=\"data row7 col2\" >{'William R. Fairchild International Airport', 'Chico Municipal Airport'}</td>\n",
       "      <td id=\"T_316f9_row7_col3\" class=\"data row7 col3\" >C</td>\n",
       "      <td id=\"T_316f9_row7_col4\" class=\"data row7 col4\" >❌ [False]</td>\n",
       "    </tr>\n",
       "    <tr>\n",
       "      <th id=\"T_316f9_level0_row8\" class=\"row_heading level0 row8\" >8</th>\n",
       "      <td id=\"T_316f9_row8_col0\" class=\"data row8 col0\" >In which Maine county is Fort Pownall located?</td>\n",
       "      <td id=\"T_316f9_row8_col1\" class=\"data row8 col1\" >Waldo County, Maine</td>\n",
       "      <td id=\"T_316f9_row8_col2\" class=\"data row8 col2\" >{'Stockton Springs, Maine', 'Fort Pownall'}</td>\n",
       "      <td id=\"T_316f9_row8_col3\" class=\"data row8 col3\" >A</td>\n",
       "      <td id=\"T_316f9_row8_col4\" class=\"data row8 col4\" >❌ [False]</td>\n",
       "    </tr>\n",
       "    <tr>\n",
       "      <th id=\"T_316f9_level0_row9\" class=\"row_heading level0 row9\" >9</th>\n",
       "      <td id=\"T_316f9_row9_col0\" class=\"data row9 col0\" >Which 90s rock band has more recently reformed, Gene or The Afghan Whigs?</td>\n",
       "      <td id=\"T_316f9_row9_col1\" class=\"data row9 col1\" >The Afghan Whigs</td>\n",
       "      <td id=\"T_316f9_row9_col2\" class=\"data row9 col2\" >{'Gene (band)', 'The Afghan Whigs'}</td>\n",
       "      <td id=\"T_316f9_row9_col3\" class=\"data row9 col3\" >R</td>\n",
       "      <td id=\"T_316f9_row9_col4\" class=\"data row9 col4\" >❌ [False]</td>\n",
       "    </tr>\n",
       "  </tbody>\n",
       "</table>\n"
      ],
      "text/plain": [
       "<pandas.io.formats.style.Styler at 0x7f75ef3ae1d0>"
      ]
     },
     "metadata": {},
     "output_type": "display_data"
    },
    {
     "data": {
      "text/html": [
       "\n",
       "                <div style='\n",
       "                    text-align: center; \n",
       "                    font-size: 16px; \n",
       "                    font-weight: bold; \n",
       "                    color: #555; \n",
       "                    margin: 10px 0;'>\n",
       "                    ... 20 more rows not displayed ...\n",
       "                </div>\n",
       "                "
      ],
      "text/plain": [
       "<IPython.core.display.HTML object>"
      ]
     },
     "metadata": {},
     "output_type": "display_data"
    },
    {
     "name": "stderr",
     "output_type": "stream",
     "text": [
      "100%|██████████| 20/20 [09:52<00:00, 29.63s/it]\n"
     ]
    },
    {
     "name": "stdout",
     "output_type": "stream",
     "text": [
      "Bootstrapped 0 full traces after 20 examples in round 0.\n"
     ]
    },
    {
     "name": "stderr",
     "output_type": "stream",
     "text": [
      "Average Metric: 0 / 30  (0.0): 100%|██████████| 30/30 [11:24<00:00, 22.83s/it]\n"
     ]
    },
    {
     "name": "stdout",
     "output_type": "stream",
     "text": [
      "Average Metric: 0 / 30  (0.0%)\n"
     ]
    },
    {
     "name": "stderr",
     "output_type": "stream",
     "text": [
      "/home/daniel/Documents/Github/autogoal-core/dspy/dspy/evaluate/evaluate.py:126: FutureWarning: DataFrame.applymap has been deprecated. Use DataFrame.map instead.\n",
      "  df = df.applymap(truncate_cell)\n"
     ]
    },
    {
     "data": {
      "text/html": [
       "<style type=\"text/css\">\n",
       "#T_e4d95 th {\n",
       "  text-align: left;\n",
       "}\n",
       "#T_e4d95 td {\n",
       "  text-align: left;\n",
       "}\n",
       "#T_e4d95_row0_col0, #T_e4d95_row0_col1, #T_e4d95_row0_col2, #T_e4d95_row0_col3, #T_e4d95_row0_col4, #T_e4d95_row1_col0, #T_e4d95_row1_col1, #T_e4d95_row1_col2, #T_e4d95_row1_col3, #T_e4d95_row1_col4, #T_e4d95_row2_col0, #T_e4d95_row2_col1, #T_e4d95_row2_col2, #T_e4d95_row2_col3, #T_e4d95_row2_col4, #T_e4d95_row3_col0, #T_e4d95_row3_col1, #T_e4d95_row3_col2, #T_e4d95_row3_col3, #T_e4d95_row3_col4, #T_e4d95_row4_col0, #T_e4d95_row4_col1, #T_e4d95_row4_col2, #T_e4d95_row4_col3, #T_e4d95_row4_col4, #T_e4d95_row5_col0, #T_e4d95_row5_col1, #T_e4d95_row5_col2, #T_e4d95_row5_col3, #T_e4d95_row5_col4, #T_e4d95_row6_col0, #T_e4d95_row6_col1, #T_e4d95_row6_col2, #T_e4d95_row6_col3, #T_e4d95_row6_col4, #T_e4d95_row7_col0, #T_e4d95_row7_col1, #T_e4d95_row7_col2, #T_e4d95_row7_col3, #T_e4d95_row7_col4, #T_e4d95_row8_col0, #T_e4d95_row8_col1, #T_e4d95_row8_col2, #T_e4d95_row8_col3, #T_e4d95_row8_col4, #T_e4d95_row9_col0, #T_e4d95_row9_col1, #T_e4d95_row9_col2, #T_e4d95_row9_col3, #T_e4d95_row9_col4 {\n",
       "  text-align: left;\n",
       "  white-space: pre-wrap;\n",
       "  word-wrap: break-word;\n",
       "  max-width: 400px;\n",
       "}\n",
       "</style>\n",
       "<table id=\"T_e4d95\">\n",
       "  <thead>\n",
       "    <tr>\n",
       "      <th class=\"blank level0\" >&nbsp;</th>\n",
       "      <th id=\"T_e4d95_level0_col0\" class=\"col_heading level0 col0\" >question</th>\n",
       "      <th id=\"T_e4d95_level0_col1\" class=\"col_heading level0 col1\" >example_answer</th>\n",
       "      <th id=\"T_e4d95_level0_col2\" class=\"col_heading level0 col2\" >gold_titles</th>\n",
       "      <th id=\"T_e4d95_level0_col3\" class=\"col_heading level0 col3\" >pred_answer</th>\n",
       "      <th id=\"T_e4d95_level0_col4\" class=\"col_heading level0 col4\" >validate_context_and_answer</th>\n",
       "    </tr>\n",
       "  </thead>\n",
       "  <tbody>\n",
       "    <tr>\n",
       "      <th id=\"T_e4d95_level0_row0\" class=\"row_heading level0 row0\" >0</th>\n",
       "      <td id=\"T_e4d95_row0_col0\" class=\"data row0 col0\" >Are both Cangzhou and Qionghai in the Hebei province of China?</td>\n",
       "      <td id=\"T_e4d95_row0_col1\" class=\"data row0 col1\" >no</td>\n",
       "      <td id=\"T_e4d95_row0_col2\" class=\"data row0 col2\" >{'Qionghai', 'Cangzhou'}</td>\n",
       "      <td id=\"T_e4d95_row0_col3\" class=\"data row0 col3\" >What is the population of Cangzhou's built-up area as per the 2010 census?</td>\n",
       "      <td id=\"T_e4d95_row0_col4\" class=\"data row0 col4\" >❌ [False]</td>\n",
       "    </tr>\n",
       "    <tr>\n",
       "      <th id=\"T_e4d95_level0_row1\" class=\"row_heading level0 row1\" >1</th>\n",
       "      <td id=\"T_e4d95_row1_col0\" class=\"data row1 col0\" >Who conducts the draft in which Marc-Andre Fleury was drafted to the Vegas Golden Knights for the 2017-18 season?</td>\n",
       "      <td id=\"T_e4d95_row1_col1\" class=\"data row1 col1\" >National Hockey League</td>\n",
       "      <td id=\"T_e4d95_row1_col2\" class=\"data row1 col2\" >{'2017–18 Pittsburgh Penguins season', '2017 NHL Expansion Draft'}</td>\n",
       "      <td id=\"T_e4d95_row1_col3\" class=\"data row1 col3\" >What significant change occurred in the Pittsburgh Penguins team for the 2017-18 season?</td>\n",
       "      <td id=\"T_e4d95_row1_col4\" class=\"data row1 col4\" >❌ [False]</td>\n",
       "    </tr>\n",
       "    <tr>\n",
       "      <th id=\"T_e4d95_level0_row2\" class=\"row_heading level0 row2\" >2</th>\n",
       "      <td id=\"T_e4d95_row2_col0\" class=\"data row2 col0\" >The Wings entered a new era, following the retirement of which Canadian retired professional ice hockey player and current general manager of the Tampa Bay...</td>\n",
       "      <td id=\"T_e4d95_row2_col1\" class=\"data row2 col1\" >Steve Yzerman</td>\n",
       "      <td id=\"T_e4d95_row2_col2\" class=\"data row2 col2\" >{'2006–07 Detroit Red Wings season', 'Steve Yzerman'}</td>\n",
       "      <td id=\"T_e4d95_row2_col3\" class=\"data row2 col3\" >What are some notable achievements and recognitions of Steve Yzerman throughout his ice hockey career?</td>\n",
       "      <td id=\"T_e4d95_row2_col4\" class=\"data row2 col4\" >❌ [False]</td>\n",
       "    </tr>\n",
       "    <tr>\n",
       "      <th id=\"T_e4d95_level0_row3\" class=\"row_heading level0 row3\" >3</th>\n",
       "      <td id=\"T_e4d95_row3_col0\" class=\"data row3 col0\" >What river is near the Crichton Collegiate Church?</td>\n",
       "      <td id=\"T_e4d95_row3_col1\" class=\"data row3 col1\" >the River Tyne</td>\n",
       "      <td id=\"T_e4d95_row3_col2\" class=\"data row3 col2\" >{'Crichton Castle', 'Crichton Collegiate Church'}</td>\n",
       "      <td id=\"T_e4d95_row3_col3\" class=\"data row3 col3\" >What is the nearest hamlet, town, and city to Crichton Collegiate Church, and how can one reach the church from these locations?</td>\n",
       "      <td id=\"T_e4d95_row3_col4\" class=\"data row3 col4\" >❌ [False]</td>\n",
       "    </tr>\n",
       "    <tr>\n",
       "      <th id=\"T_e4d95_level0_row4\" class=\"row_heading level0 row4\" >4</th>\n",
       "      <td id=\"T_e4d95_row4_col0\" class=\"data row4 col0\" >In the 10th Century A.D. Ealhswith had a son called Æthelweard by which English king?</td>\n",
       "      <td id=\"T_e4d95_row4_col1\" class=\"data row4 col1\" >King Alfred the Great</td>\n",
       "      <td id=\"T_e4d95_row4_col2\" class=\"data row4 col2\" >{'Ealhswith', 'Æthelweard (son of Alfred)'}</td>\n",
       "      <td id=\"T_e4d95_row4_col3\" class=\"data row4 col3\" >What is known about Æthelweard's reign and his regnal dates?</td>\n",
       "      <td id=\"T_e4d95_row4_col4\" class=\"data row4 col4\" >❌ [False]</td>\n",
       "    </tr>\n",
       "    <tr>\n",
       "      <th id=\"T_e4d95_level0_row5\" class=\"row_heading level0 row5\" >5</th>\n",
       "      <td id=\"T_e4d95_row5_col0\" class=\"data row5 col0\" >The Newark Airport Exchange is at the northern edge of an airport that is operated by whom?</td>\n",
       "      <td id=\"T_e4d95_row5_col1\" class=\"data row5 col1\" >Port Authority of New York and New Jersey</td>\n",
       "      <td id=\"T_e4d95_row5_col2\" class=\"data row5 col2\" >{'Newark Liberty International Airport', 'Newark Airport Interchange'}</td>\n",
       "      <td id=\"T_e4d95_row5_col3\" class=\"data row5 col3\" >What are the different routes involved in the Newark Airport Interchange?</td>\n",
       "      <td id=\"T_e4d95_row5_col4\" class=\"data row5 col4\" >❌ [False]</td>\n",
       "    </tr>\n",
       "    <tr>\n",
       "      <th id=\"T_e4d95_level0_row6\" class=\"row_heading level0 row6\" >6</th>\n",
       "      <td id=\"T_e4d95_row6_col0\" class=\"data row6 col0\" >Where did an event take place resulting in a win during a domestic double due to the action of a Peruvian footballer known for his...</td>\n",
       "      <td id=\"T_e4d95_row6_col1\" class=\"data row6 col1\" >Bundesliga</td>\n",
       "      <td id=\"T_e4d95_row6_col2\" class=\"data row6 col2\" >{'Claudio Pizarro', '2005–06 FC Bayern Munich season'}</td>\n",
       "      <td id=\"T_e4d95_row6_col3\" class=\"data row6 col3\" >What were the key contributions of Juan Valdivieso, Teodoro Fernández, and Alejandro Villanueva during Peru's victories in the 1938 Bolivarian</td>\n",
       "      <td id=\"T_e4d95_row6_col4\" class=\"data row6 col4\" >❌ [False]</td>\n",
       "    </tr>\n",
       "    <tr>\n",
       "      <th id=\"T_e4d95_level0_row7\" class=\"row_heading level0 row7\" >7</th>\n",
       "      <td id=\"T_e4d95_row7_col0\" class=\"data row7 col0\" >Are both Chico Municipal Airport and William R. Fairchild International Airport in California?</td>\n",
       "      <td id=\"T_e4d95_row7_col1\" class=\"data row7 col1\" >no</td>\n",
       "      <td id=\"T_e4d95_row7_col2\" class=\"data row7 col2\" >{'William R. Fairchild International Airport', 'Chico Municipal Airport'}</td>\n",
       "      <td id=\"T_e4d95_row7_col3\" class=\"data row7 col3\" >What are the IATA and ICAO codes for William R. Fairchild International Airport?</td>\n",
       "      <td id=\"T_e4d95_row7_col4\" class=\"data row7 col4\" >❌ [False]</td>\n",
       "    </tr>\n",
       "    <tr>\n",
       "      <th id=\"T_e4d95_level0_row8\" class=\"row_heading level0 row8\" >8</th>\n",
       "      <td id=\"T_e4d95_row8_col0\" class=\"data row8 col0\" >In which Maine county is Fort Pownall located?</td>\n",
       "      <td id=\"T_e4d95_row8_col1\" class=\"data row8 col1\" >Waldo County, Maine</td>\n",
       "      <td id=\"T_e4d95_row8_col2\" class=\"data row8 col2\" >{'Stockton Springs, Maine', 'Fort Pownall'}</td>\n",
       "      <td id=\"T_e4d95_row8_col3\" class=\"data row8 col3\" >What events led to the destruction of Fort P</td>\n",
       "      <td id=\"T_e4d95_row8_col4\" class=\"data row8 col4\" >❌ [False]</td>\n",
       "    </tr>\n",
       "    <tr>\n",
       "      <th id=\"T_e4d95_level0_row9\" class=\"row_heading level0 row9\" >9</th>\n",
       "      <td id=\"T_e4d95_row9_col0\" class=\"data row9 col0\" >Which 90s rock band has more recently reformed, Gene or The Afghan Whigs?</td>\n",
       "      <td id=\"T_e4d95_row9_col1\" class=\"data row9 col1\" >The Afghan Whigs</td>\n",
       "      <td id=\"T_e4d95_row9_col2\" class=\"data row9 col2\" >{'Gene (band)', 'The Afghan Whigs'}</td>\n",
       "      <td id=\"T_e4d95_row9_col3\" class=\"data row9 col3\" >What were the key influences and changes in The Afghan Whigs' sound and image that contributed to their success during the 1990s?</td>\n",
       "      <td id=\"T_e4d95_row9_col4\" class=\"data row9 col4\" >❌ [False]</td>\n",
       "    </tr>\n",
       "  </tbody>\n",
       "</table>\n"
      ],
      "text/plain": [
       "<pandas.io.formats.style.Styler at 0x7f75ef3ad7b0>"
      ]
     },
     "metadata": {},
     "output_type": "display_data"
    },
    {
     "data": {
      "text/html": [
       "\n",
       "                <div style='\n",
       "                    text-align: center; \n",
       "                    font-size: 16px; \n",
       "                    font-weight: bold; \n",
       "                    color: #555; \n",
       "                    margin: 10px 0;'>\n",
       "                    ... 20 more rows not displayed ...\n",
       "                </div>\n",
       "                "
      ],
      "text/plain": [
       "<IPython.core.display.HTML object>"
      ]
     },
     "metadata": {},
     "output_type": "display_data"
    },
    {
     "name": "stderr",
     "output_type": "stream",
     "text": [
      "100%|██████████| 20/20 [00:03<00:00,  5.24it/s]\n"
     ]
    },
    {
     "name": "stdout",
     "output_type": "stream",
     "text": [
      "Bootstrapped 0 full traces after 20 examples in round 0.\n"
     ]
    },
    {
     "name": "stderr",
     "output_type": "stream",
     "text": [
      "Average Metric: 0 / 30  (0.0): 100%|██████████| 30/30 [00:05<00:00,  5.00it/s]\n"
     ]
    },
    {
     "name": "stdout",
     "output_type": "stream",
     "text": [
      "Average Metric: 0 / 30  (0.0%)\n"
     ]
    },
    {
     "name": "stderr",
     "output_type": "stream",
     "text": [
      "/home/daniel/Documents/Github/autogoal-core/dspy/dspy/evaluate/evaluate.py:126: FutureWarning: DataFrame.applymap has been deprecated. Use DataFrame.map instead.\n",
      "  df = df.applymap(truncate_cell)\n"
     ]
    },
    {
     "data": {
      "text/html": [
       "<style type=\"text/css\">\n",
       "#T_0e0cc th {\n",
       "  text-align: left;\n",
       "}\n",
       "#T_0e0cc td {\n",
       "  text-align: left;\n",
       "}\n",
       "#T_0e0cc_row0_col0, #T_0e0cc_row0_col1, #T_0e0cc_row0_col2, #T_0e0cc_row0_col3, #T_0e0cc_row0_col4, #T_0e0cc_row1_col0, #T_0e0cc_row1_col1, #T_0e0cc_row1_col2, #T_0e0cc_row1_col3, #T_0e0cc_row1_col4, #T_0e0cc_row2_col0, #T_0e0cc_row2_col1, #T_0e0cc_row2_col2, #T_0e0cc_row2_col3, #T_0e0cc_row2_col4, #T_0e0cc_row3_col0, #T_0e0cc_row3_col1, #T_0e0cc_row3_col2, #T_0e0cc_row3_col3, #T_0e0cc_row3_col4, #T_0e0cc_row4_col0, #T_0e0cc_row4_col1, #T_0e0cc_row4_col2, #T_0e0cc_row4_col3, #T_0e0cc_row4_col4, #T_0e0cc_row5_col0, #T_0e0cc_row5_col1, #T_0e0cc_row5_col2, #T_0e0cc_row5_col3, #T_0e0cc_row5_col4, #T_0e0cc_row6_col0, #T_0e0cc_row6_col1, #T_0e0cc_row6_col2, #T_0e0cc_row6_col3, #T_0e0cc_row6_col4, #T_0e0cc_row7_col0, #T_0e0cc_row7_col1, #T_0e0cc_row7_col2, #T_0e0cc_row7_col3, #T_0e0cc_row7_col4, #T_0e0cc_row8_col0, #T_0e0cc_row8_col1, #T_0e0cc_row8_col2, #T_0e0cc_row8_col3, #T_0e0cc_row8_col4, #T_0e0cc_row9_col0, #T_0e0cc_row9_col1, #T_0e0cc_row9_col2, #T_0e0cc_row9_col3, #T_0e0cc_row9_col4 {\n",
       "  text-align: left;\n",
       "  white-space: pre-wrap;\n",
       "  word-wrap: break-word;\n",
       "  max-width: 400px;\n",
       "}\n",
       "</style>\n",
       "<table id=\"T_0e0cc\">\n",
       "  <thead>\n",
       "    <tr>\n",
       "      <th class=\"blank level0\" >&nbsp;</th>\n",
       "      <th id=\"T_0e0cc_level0_col0\" class=\"col_heading level0 col0\" >question</th>\n",
       "      <th id=\"T_0e0cc_level0_col1\" class=\"col_heading level0 col1\" >example_answer</th>\n",
       "      <th id=\"T_0e0cc_level0_col2\" class=\"col_heading level0 col2\" >gold_titles</th>\n",
       "      <th id=\"T_0e0cc_level0_col3\" class=\"col_heading level0 col3\" >pred_answer</th>\n",
       "      <th id=\"T_0e0cc_level0_col4\" class=\"col_heading level0 col4\" >validate_context_and_answer</th>\n",
       "    </tr>\n",
       "  </thead>\n",
       "  <tbody>\n",
       "    <tr>\n",
       "      <th id=\"T_0e0cc_level0_row0\" class=\"row_heading level0 row0\" >0</th>\n",
       "      <td id=\"T_0e0cc_row0_col0\" class=\"data row0 col0\" >Are both Cangzhou and Qionghai in the Hebei province of China?</td>\n",
       "      <td id=\"T_0e0cc_row0_col1\" class=\"data row0 col1\" >no</td>\n",
       "      <td id=\"T_0e0cc_row0_col2\" class=\"data row0 col2\" >{'Qionghai', 'Cangzhou'}</td>\n",
       "      <td id=\"T_0e0cc_row0_col3\" class=\"data row0 col3\" >Cangzhou | Cangzhou () is a prefecture-level city in eastern Hebei province, People's Republic of China. At the 2010 census, Cangzhou's built-up (\"or metro\") area...</td>\n",
       "      <td id=\"T_0e0cc_row0_col4\" class=\"data row0 col4\" >❌ [False]</td>\n",
       "    </tr>\n",
       "    <tr>\n",
       "      <th id=\"T_0e0cc_level0_row1\" class=\"row_heading level0 row1\" >1</th>\n",
       "      <td id=\"T_0e0cc_row1_col0\" class=\"data row1 col0\" >Who conducts the draft in which Marc-Andre Fleury was drafted to the Vegas Golden Knights for the 2017-18 season?</td>\n",
       "      <td id=\"T_0e0cc_row1_col1\" class=\"data row1 col1\" >National Hockey League</td>\n",
       "      <td id=\"T_0e0cc_row1_col2\" class=\"data row1 col2\" >{'2017–18 Pittsburgh Penguins season', '2017 NHL Expansion Draft'}</td>\n",
       "      <td id=\"T_0e0cc_row1_col3\" class=\"data row1 col3\" >2017–18 Pittsburgh Penguins season | The 2017–18 Pittsburgh Penguins season will be the 51st season for the National Hockey League ice hockey team that was...</td>\n",
       "      <td id=\"T_0e0cc_row1_col4\" class=\"data row1 col4\" >❌ [False]</td>\n",
       "    </tr>\n",
       "    <tr>\n",
       "      <th id=\"T_0e0cc_level0_row2\" class=\"row_heading level0 row2\" >2</th>\n",
       "      <td id=\"T_0e0cc_row2_col0\" class=\"data row2 col0\" >The Wings entered a new era, following the retirement of which Canadian retired professional ice hockey player and current general manager of the Tampa Bay...</td>\n",
       "      <td id=\"T_0e0cc_row2_col1\" class=\"data row2 col1\" >Steve Yzerman</td>\n",
       "      <td id=\"T_0e0cc_row2_col2\" class=\"data row2 col2\" >{'2006–07 Detroit Red Wings season', 'Steve Yzerman'}</td>\n",
       "      <td id=\"T_0e0cc_row2_col3\" class=\"data row2 col3\" >Steve Yzerman | Stephen Gregory \"Steve\" Yzerman ( ; born May 9, 1965) is a Canadian retired professional ice hockey player and current general manager...</td>\n",
       "      <td id=\"T_0e0cc_row2_col4\" class=\"data row2 col4\" >❌ [False]</td>\n",
       "    </tr>\n",
       "    <tr>\n",
       "      <th id=\"T_0e0cc_level0_row3\" class=\"row_heading level0 row3\" >3</th>\n",
       "      <td id=\"T_0e0cc_row3_col0\" class=\"data row3 col0\" >What river is near the Crichton Collegiate Church?</td>\n",
       "      <td id=\"T_0e0cc_row3_col1\" class=\"data row3 col1\" >the River Tyne</td>\n",
       "      <td id=\"T_0e0cc_row3_col2\" class=\"data row3 col2\" >{'Crichton Castle', 'Crichton Collegiate Church'}</td>\n",
       "      <td id=\"T_0e0cc_row3_col3\" class=\"data row3 col3\" >Crichton Collegiate Church | Crichton Collegiate Church is situated about 0.6 mi south west of the hamlet of Crichton in Midlothian, Scotland. Crichton itself is...</td>\n",
       "      <td id=\"T_0e0cc_row3_col4\" class=\"data row3 col4\" >❌ [False]</td>\n",
       "    </tr>\n",
       "    <tr>\n",
       "      <th id=\"T_0e0cc_level0_row4\" class=\"row_heading level0 row4\" >4</th>\n",
       "      <td id=\"T_0e0cc_row4_col0\" class=\"data row4 col0\" >In the 10th Century A.D. Ealhswith had a son called Æthelweard by which English king?</td>\n",
       "      <td id=\"T_0e0cc_row4_col1\" class=\"data row4 col1\" >King Alfred the Great</td>\n",
       "      <td id=\"T_0e0cc_row4_col2\" class=\"data row4 col2\" >{'Ealhswith', 'Æthelweard (son of Alfred)'}</td>\n",
       "      <td id=\"T_0e0cc_row4_col3\" class=\"data row4 col3\" >Æthelweard of East Anglia | Æthelweard (died 854) was a 9th-century king of East Anglia, the long-lived Anglo-Saxon kingdom which today includes the English counties...</td>\n",
       "      <td id=\"T_0e0cc_row4_col4\" class=\"data row4 col4\" >❌ [False]</td>\n",
       "    </tr>\n",
       "    <tr>\n",
       "      <th id=\"T_0e0cc_level0_row5\" class=\"row_heading level0 row5\" >5</th>\n",
       "      <td id=\"T_0e0cc_row5_col0\" class=\"data row5 col0\" >The Newark Airport Exchange is at the northern edge of an airport that is operated by whom?</td>\n",
       "      <td id=\"T_0e0cc_row5_col1\" class=\"data row5 col1\" >Port Authority of New York and New Jersey</td>\n",
       "      <td id=\"T_0e0cc_row5_col2\" class=\"data row5 col2\" >{'Newark Liberty International Airport', 'Newark Airport Interchange'}</td>\n",
       "      <td id=\"T_0e0cc_row5_col3\" class=\"data row5 col3\" >Newark Airport Interchange | The Newark Airport Interchange is a massive interchange of Interstate 78, U.S. Route 1-9, U.S. Route 22, New Jersey Route 21,...</td>\n",
       "      <td id=\"T_0e0cc_row5_col4\" class=\"data row5 col4\" >❌ [False]</td>\n",
       "    </tr>\n",
       "    <tr>\n",
       "      <th id=\"T_0e0cc_level0_row6\" class=\"row_heading level0 row6\" >6</th>\n",
       "      <td id=\"T_0e0cc_row6_col0\" class=\"data row6 col0\" >Where did an event take place resulting in a win during a domestic double due to the action of a Peruvian footballer known for his...</td>\n",
       "      <td id=\"T_0e0cc_row6_col1\" class=\"data row6 col1\" >Bundesliga</td>\n",
       "      <td id=\"T_0e0cc_row6_col2\" class=\"data row6 col2\" >{'Claudio Pizarro', '2005–06 FC Bayern Munich season'}</td>\n",
       "      <td id=\"T_0e0cc_row6_col3\" class=\"data row6 col3\" >List of Peru international footballers | Peru took part in the inaugural FIFA World Cup in 1930 and enjoyed victories in the 1938 Bolivarian Games...</td>\n",
       "      <td id=\"T_0e0cc_row6_col4\" class=\"data row6 col4\" >❌ [False]</td>\n",
       "    </tr>\n",
       "    <tr>\n",
       "      <th id=\"T_0e0cc_level0_row7\" class=\"row_heading level0 row7\" >7</th>\n",
       "      <td id=\"T_0e0cc_row7_col0\" class=\"data row7 col0\" >Are both Chico Municipal Airport and William R. Fairchild International Airport in California?</td>\n",
       "      <td id=\"T_0e0cc_row7_col1\" class=\"data row7 col1\" >no</td>\n",
       "      <td id=\"T_0e0cc_row7_col2\" class=\"data row7 col2\" >{'William R. Fairchild International Airport', 'Chico Municipal Airport'}</td>\n",
       "      <td id=\"T_0e0cc_row7_col3\" class=\"data row7 col3\" >William R. Fairchild International Airport | William R. Fairchild International Airport (IATA: CLM, ICAO: KCLM, FAA LID: CLM) is a public airport located within the...</td>\n",
       "      <td id=\"T_0e0cc_row7_col4\" class=\"data row7 col4\" >❌ [False]</td>\n",
       "    </tr>\n",
       "    <tr>\n",
       "      <th id=\"T_0e0cc_level0_row8\" class=\"row_heading level0 row8\" >8</th>\n",
       "      <td id=\"T_0e0cc_row8_col0\" class=\"data row8 col0\" >In which Maine county is Fort Pownall located?</td>\n",
       "      <td id=\"T_0e0cc_row8_col1\" class=\"data row8 col1\" >Waldo County, Maine</td>\n",
       "      <td id=\"T_0e0cc_row8_col2\" class=\"data row8 col2\" >{'Stockton Springs, Maine', 'Fort Pownall'}</td>\n",
       "      <td id=\"T_0e0cc_row8_col3\" class=\"data row8 col3\" >Fort Pownall | Fort Pownall was a British fortification built during the French and Indian War, whose remains are located at Fort Point State Park...</td>\n",
       "      <td id=\"T_0e0cc_row8_col4\" class=\"data row8 col4\" >❌ [False]</td>\n",
       "    </tr>\n",
       "    <tr>\n",
       "      <th id=\"T_0e0cc_level0_row9\" class=\"row_heading level0 row9\" >9</th>\n",
       "      <td id=\"T_0e0cc_row9_col0\" class=\"data row9 col0\" >Which 90s rock band has more recently reformed, Gene or The Afghan Whigs?</td>\n",
       "      <td id=\"T_0e0cc_row9_col1\" class=\"data row9 col1\" >The Afghan Whigs</td>\n",
       "      <td id=\"T_0e0cc_row9_col2\" class=\"data row9 col2\" >{'Gene (band)', 'The Afghan Whigs'}</td>\n",
       "      <td id=\"T_0e0cc_row9_col3\" class=\"data row9 col3\" >The Afghan Whigs | The Afghan Whigs are an American rock band from Cincinnati, Ohio, United States. Originally active from 1986 to 2001, they have...</td>\n",
       "      <td id=\"T_0e0cc_row9_col4\" class=\"data row9 col4\" >❌ [False]</td>\n",
       "    </tr>\n",
       "  </tbody>\n",
       "</table>\n"
      ],
      "text/plain": [
       "<pandas.io.formats.style.Styler at 0x7f75ef3aedd0>"
      ]
     },
     "metadata": {},
     "output_type": "display_data"
    },
    {
     "data": {
      "text/html": [
       "\n",
       "                <div style='\n",
       "                    text-align: center; \n",
       "                    font-size: 16px; \n",
       "                    font-weight: bold; \n",
       "                    color: #555; \n",
       "                    margin: 10px 0;'>\n",
       "                    ... 20 more rows not displayed ...\n",
       "                </div>\n",
       "                "
      ],
      "text/plain": [
       "<IPython.core.display.HTML object>"
      ]
     },
     "metadata": {},
     "output_type": "display_data"
    },
    {
     "name": "stderr",
     "output_type": "stream",
     "text": [
      "100%|██████████| 20/20 [05:41<00:00, 17.05s/it]\n"
     ]
    },
    {
     "name": "stdout",
     "output_type": "stream",
     "text": [
      "Bootstrapped 0 full traces after 20 examples in round 0.\n"
     ]
    },
    {
     "name": "stderr",
     "output_type": "stream",
     "text": [
      "Average Metric: 0 / 30  (0.0): 100%|██████████| 30/30 [07:32<00:00, 15.07s/it]\n"
     ]
    },
    {
     "name": "stdout",
     "output_type": "stream",
     "text": [
      "Average Metric: 0 / 30  (0.0%)\n"
     ]
    },
    {
     "name": "stderr",
     "output_type": "stream",
     "text": [
      "/home/daniel/Documents/Github/autogoal-core/dspy/dspy/evaluate/evaluate.py:126: FutureWarning: DataFrame.applymap has been deprecated. Use DataFrame.map instead.\n",
      "  df = df.applymap(truncate_cell)\n"
     ]
    },
    {
     "data": {
      "text/html": [
       "<style type=\"text/css\">\n",
       "#T_8bedb th {\n",
       "  text-align: left;\n",
       "}\n",
       "#T_8bedb td {\n",
       "  text-align: left;\n",
       "}\n",
       "#T_8bedb_row0_col0, #T_8bedb_row0_col1, #T_8bedb_row0_col2, #T_8bedb_row0_col3, #T_8bedb_row0_col4, #T_8bedb_row1_col0, #T_8bedb_row1_col1, #T_8bedb_row1_col2, #T_8bedb_row1_col3, #T_8bedb_row1_col4, #T_8bedb_row2_col0, #T_8bedb_row2_col1, #T_8bedb_row2_col2, #T_8bedb_row2_col3, #T_8bedb_row2_col4, #T_8bedb_row3_col0, #T_8bedb_row3_col1, #T_8bedb_row3_col2, #T_8bedb_row3_col3, #T_8bedb_row3_col4, #T_8bedb_row4_col0, #T_8bedb_row4_col1, #T_8bedb_row4_col2, #T_8bedb_row4_col3, #T_8bedb_row4_col4, #T_8bedb_row5_col0, #T_8bedb_row5_col1, #T_8bedb_row5_col2, #T_8bedb_row5_col3, #T_8bedb_row5_col4, #T_8bedb_row6_col0, #T_8bedb_row6_col1, #T_8bedb_row6_col2, #T_8bedb_row6_col3, #T_8bedb_row6_col4, #T_8bedb_row7_col0, #T_8bedb_row7_col1, #T_8bedb_row7_col2, #T_8bedb_row7_col3, #T_8bedb_row7_col4, #T_8bedb_row8_col0, #T_8bedb_row8_col1, #T_8bedb_row8_col2, #T_8bedb_row8_col3, #T_8bedb_row8_col4, #T_8bedb_row9_col0, #T_8bedb_row9_col1, #T_8bedb_row9_col2, #T_8bedb_row9_col3, #T_8bedb_row9_col4 {\n",
       "  text-align: left;\n",
       "  white-space: pre-wrap;\n",
       "  word-wrap: break-word;\n",
       "  max-width: 400px;\n",
       "}\n",
       "</style>\n",
       "<table id=\"T_8bedb\">\n",
       "  <thead>\n",
       "    <tr>\n",
       "      <th class=\"blank level0\" >&nbsp;</th>\n",
       "      <th id=\"T_8bedb_level0_col0\" class=\"col_heading level0 col0\" >question</th>\n",
       "      <th id=\"T_8bedb_level0_col1\" class=\"col_heading level0 col1\" >example_answer</th>\n",
       "      <th id=\"T_8bedb_level0_col2\" class=\"col_heading level0 col2\" >gold_titles</th>\n",
       "      <th id=\"T_8bedb_level0_col3\" class=\"col_heading level0 col3\" >pred_answer</th>\n",
       "      <th id=\"T_8bedb_level0_col4\" class=\"col_heading level0 col4\" >validate_context_and_answer</th>\n",
       "    </tr>\n",
       "  </thead>\n",
       "  <tbody>\n",
       "    <tr>\n",
       "      <th id=\"T_8bedb_level0_row0\" class=\"row_heading level0 row0\" >0</th>\n",
       "      <td id=\"T_8bedb_row0_col0\" class=\"data row0 col0\" >Are both Cangzhou and Qionghai in the Hebei province of China?</td>\n",
       "      <td id=\"T_8bedb_row0_col1\" class=\"data row0 col1\" >no</td>\n",
       "      <td id=\"T_8bedb_row0_col2\" class=\"data row0 col2\" >{'Qionghai', 'Cangzhou'}</td>\n",
       "      <td id=\"T_8bedb_row0_col3\" class=\"data row0 col3\" >In which provinces are Cangzhou and Qionghai located?</td>\n",
       "      <td id=\"T_8bedb_row0_col4\" class=\"data row0 col4\" >❌ [False]</td>\n",
       "    </tr>\n",
       "    <tr>\n",
       "      <th id=\"T_8bedb_level0_row1\" class=\"row_heading level0 row1\" >1</th>\n",
       "      <td id=\"T_8bedb_row1_col0\" class=\"data row1 col0\" >Who conducts the draft in which Marc-Andre Fleury was drafted to the Vegas Golden Knights for the 2017-18 season?</td>\n",
       "      <td id=\"T_8bedb_row1_col1\" class=\"data row1 col1\" >National Hockey League</td>\n",
       "      <td id=\"T_8bedb_row1_col2\" class=\"data row1 col2\" >{'2017–18 Pittsburgh Penguins season', '2017 NHL Expansion Draft'}</td>\n",
       "      <td id=\"T_8bedb_row1_col3\" class=\"data row1 col3\" >What organization conducts the NHL Expansion Draft?</td>\n",
       "      <td id=\"T_8bedb_row1_col4\" class=\"data row1 col4\" >❌ [False]</td>\n",
       "    </tr>\n",
       "    <tr>\n",
       "      <th id=\"T_8bedb_level0_row2\" class=\"row_heading level0 row2\" >2</th>\n",
       "      <td id=\"T_8bedb_row2_col0\" class=\"data row2 col0\" >The Wings entered a new era, following the retirement of which Canadian retired professional ice hockey player and current general manager of the Tampa Bay...</td>\n",
       "      <td id=\"T_8bedb_row2_col1\" class=\"data row2 col1\" >Steve Yzerman</td>\n",
       "      <td id=\"T_8bedb_row2_col2\" class=\"data row2 col2\" >{'2006–07 Detroit Red Wings season', 'Steve Yzerman'}</td>\n",
       "      <td id=\"T_8bedb_row2_col3\" class=\"data row2 col3\" >Who is the Canadian retired professional ice hockey player and current general manager of the Tampa Bay Lightning in the NHL?</td>\n",
       "      <td id=\"T_8bedb_row2_col4\" class=\"data row2 col4\" >❌ [False]</td>\n",
       "    </tr>\n",
       "    <tr>\n",
       "      <th id=\"T_8bedb_level0_row3\" class=\"row_heading level0 row3\" >3</th>\n",
       "      <td id=\"T_8bedb_row3_col0\" class=\"data row3 col0\" >What river is near the Crichton Collegiate Church?</td>\n",
       "      <td id=\"T_8bedb_row3_col1\" class=\"data row3 col1\" >the River Tyne</td>\n",
       "      <td id=\"T_8bedb_row3_col2\" class=\"data row3 col2\" >{'Crichton Castle', 'Crichton Collegiate Church'}</td>\n",
       "      <td id=\"T_8bedb_row3_col3\" class=\"data row3 col3\" >Which river is located close to the Crichton Collegiate Church?</td>\n",
       "      <td id=\"T_8bedb_row3_col4\" class=\"data row3 col4\" >❌ [False]</td>\n",
       "    </tr>\n",
       "    <tr>\n",
       "      <th id=\"T_8bedb_level0_row4\" class=\"row_heading level0 row4\" >4</th>\n",
       "      <td id=\"T_8bedb_row4_col0\" class=\"data row4 col0\" >In the 10th Century A.D. Ealhswith had a son called Æthelweard by which English king?</td>\n",
       "      <td id=\"T_8bedb_row4_col1\" class=\"data row4 col1\" >King Alfred the Great</td>\n",
       "      <td id=\"T_8bedb_row4_col2\" class=\"data row4 col2\" >{'Ealhswith', 'Æthelweard (son of Alfred)'}</td>\n",
       "      <td id=\"T_8bedb_row4_col3\" class=\"data row4 col3\" >Who is the English king that fathered Æthelweard, the son of Ealhswith?</td>\n",
       "      <td id=\"T_8bedb_row4_col4\" class=\"data row4 col4\" >❌ [False]</td>\n",
       "    </tr>\n",
       "    <tr>\n",
       "      <th id=\"T_8bedb_level0_row5\" class=\"row_heading level0 row5\" >5</th>\n",
       "      <td id=\"T_8bedb_row5_col0\" class=\"data row5 col0\" >The Newark Airport Exchange is at the northern edge of an airport that is operated by whom?</td>\n",
       "      <td id=\"T_8bedb_row5_col1\" class=\"data row5 col1\" >Port Authority of New York and New Jersey</td>\n",
       "      <td id=\"T_8bedb_row5_col2\" class=\"data row5 col2\" >{'Newark Liberty International Airport', 'Newark Airport Interchange'}</td>\n",
       "      <td id=\"T_8bedb_row5_col3\" class=\"data row5 col3\" >Who operates the airport where the Newark Airport Exchange is located?</td>\n",
       "      <td id=\"T_8bedb_row5_col4\" class=\"data row5 col4\" >❌ [False]</td>\n",
       "    </tr>\n",
       "    <tr>\n",
       "      <th id=\"T_8bedb_level0_row6\" class=\"row_heading level0 row6\" >6</th>\n",
       "      <td id=\"T_8bedb_row6_col0\" class=\"data row6 col0\" >Where did an event take place resulting in a win during a domestic double due to the action of a Peruvian footballer known for his...</td>\n",
       "      <td id=\"T_8bedb_row6_col1\" class=\"data row6 col1\" >Bundesliga</td>\n",
       "      <td id=\"T_8bedb_row6_col2\" class=\"data row6 col2\" >{'Claudio Pizarro', '2005–06 FC Bayern Munich season'}</td>\n",
       "      <td id=\"T_8bedb_row6_col3\" class=\"data row6 col3\" >What event resulted in a win during a domestic double, and which Peruvian footballer known for his goal-scoring ability played a part in it?</td>\n",
       "      <td id=\"T_8bedb_row6_col4\" class=\"data row6 col4\" >❌ [False]</td>\n",
       "    </tr>\n",
       "    <tr>\n",
       "      <th id=\"T_8bedb_level0_row7\" class=\"row_heading level0 row7\" >7</th>\n",
       "      <td id=\"T_8bedb_row7_col0\" class=\"data row7 col0\" >Are both Chico Municipal Airport and William R. Fairchild International Airport in California?</td>\n",
       "      <td id=\"T_8bedb_row7_col1\" class=\"data row7 col1\" >no</td>\n",
       "      <td id=\"T_8bedb_row7_col2\" class=\"data row7 col2\" >{'William R. Fairchild International Airport', 'Chico Municipal Airport'}</td>\n",
       "      <td id=\"T_8bedb_row7_col3\" class=\"data row7 col3\" >In which states are Chico Municipal Airport and William R. Fairchild International Airport located?</td>\n",
       "      <td id=\"T_8bedb_row7_col4\" class=\"data row7 col4\" >❌ [False]</td>\n",
       "    </tr>\n",
       "    <tr>\n",
       "      <th id=\"T_8bedb_level0_row8\" class=\"row_heading level0 row8\" >8</th>\n",
       "      <td id=\"T_8bedb_row8_col0\" class=\"data row8 col0\" >In which Maine county is Fort Pownall located?</td>\n",
       "      <td id=\"T_8bedb_row8_col1\" class=\"data row8 col1\" >Waldo County, Maine</td>\n",
       "      <td id=\"T_8bedb_row8_col2\" class=\"data row8 col2\" >{'Stockton Springs, Maine', 'Fort Pownall'}</td>\n",
       "      <td id=\"T_8bedb_row8_col3\" class=\"data row8 col3\" >What is the name of the county in Maine where Fort Pownall is located?</td>\n",
       "      <td id=\"T_8bedb_row8_col4\" class=\"data row8 col4\" >❌ [False]</td>\n",
       "    </tr>\n",
       "    <tr>\n",
       "      <th id=\"T_8bedb_level0_row9\" class=\"row_heading level0 row9\" >9</th>\n",
       "      <td id=\"T_8bedb_row9_col0\" class=\"data row9 col0\" >Which 90s rock band has more recently reformed, Gene or The Afghan Whigs?</td>\n",
       "      <td id=\"T_8bedb_row9_col1\" class=\"data row9 col1\" >The Afghan Whigs</td>\n",
       "      <td id=\"T_8bedb_row9_col2\" class=\"data row9 col2\" >{'Gene (band)', 'The Afghan Whigs'}</td>\n",
       "      <td id=\"T_8bedb_row9_col3\" class=\"data row9 col3\" >When did Gene and The Afghan Whigs reform after disbanding?</td>\n",
       "      <td id=\"T_8bedb_row9_col4\" class=\"data row9 col4\" >❌ [False]</td>\n",
       "    </tr>\n",
       "  </tbody>\n",
       "</table>\n"
      ],
      "text/plain": [
       "<pandas.io.formats.style.Styler at 0x7f75ef3ae9e0>"
      ]
     },
     "metadata": {},
     "output_type": "display_data"
    },
    {
     "data": {
      "text/html": [
       "\n",
       "                <div style='\n",
       "                    text-align: center; \n",
       "                    font-size: 16px; \n",
       "                    font-weight: bold; \n",
       "                    color: #555; \n",
       "                    margin: 10px 0;'>\n",
       "                    ... 20 more rows not displayed ...\n",
       "                </div>\n",
       "                "
      ],
      "text/plain": [
       "<IPython.core.display.HTML object>"
      ]
     },
     "metadata": {},
     "output_type": "display_data"
    },
    {
     "name": "stderr",
     "output_type": "stream",
     "text": [
      "  0%|          | 0/20 [00:00<?, ?it/s]Your max_length is set to 142, but your input_length is only 15. Since this is a summarization task, where outputs shorter than the input are typically wanted, you might consider decreasing max_length manually, e.g. summarizer('...', max_length=7)\n",
      "  5%|▌         | 1/20 [00:13<04:15, 13.45s/it]Your max_length is set to 142, but your input_length is only 16. Since this is a summarization task, where outputs shorter than the input are typically wanted, you might consider decreasing max_length manually, e.g. summarizer('...', max_length=8)\n",
      " 10%|█         | 2/20 [00:23<03:29, 11.64s/it]Your max_length is set to 142, but your input_length is only 19. Since this is a summarization task, where outputs shorter than the input are typically wanted, you might consider decreasing max_length manually, e.g. summarizer('...', max_length=9)\n",
      " 15%|█▌        | 3/20 [00:32<02:57, 10.46s/it]Your max_length is set to 142, but your input_length is only 23. Since this is a summarization task, where outputs shorter than the input are typically wanted, you might consider decreasing max_length manually, e.g. summarizer('...', max_length=11)\n",
      " 20%|██        | 4/20 [00:39<02:23,  8.96s/it]Your max_length is set to 142, but your input_length is only 21. Since this is a summarization task, where outputs shorter than the input are typically wanted, you might consider decreasing max_length manually, e.g. summarizer('...', max_length=10)\n",
      " 25%|██▌       | 5/20 [00:46<02:03,  8.25s/it]Your max_length is set to 142, but your input_length is only 19. Since this is a summarization task, where outputs shorter than the input are typically wanted, you might consider decreasing max_length manually, e.g. summarizer('...', max_length=9)\n",
      " 30%|███       | 6/20 [00:55<01:57,  8.38s/it]Your max_length is set to 142, but your input_length is only 17. Since this is a summarization task, where outputs shorter than the input are typically wanted, you might consider decreasing max_length manually, e.g. summarizer('...', max_length=8)\n",
      " 35%|███▌      | 7/20 [01:02<01:42,  7.88s/it]Your max_length is set to 142, but your input_length is only 28. Since this is a summarization task, where outputs shorter than the input are typically wanted, you might consider decreasing max_length manually, e.g. summarizer('...', max_length=14)\n",
      " 40%|████      | 8/20 [01:10<01:37,  8.09s/it]Your max_length is set to 142, but your input_length is only 16. Since this is a summarization task, where outputs shorter than the input are typically wanted, you might consider decreasing max_length manually, e.g. summarizer('...', max_length=8)\n",
      " 45%|████▌     | 9/20 [01:18<01:26,  7.90s/it]Your max_length is set to 142, but your input_length is only 43. Since this is a summarization task, where outputs shorter than the input are typically wanted, you might consider decreasing max_length manually, e.g. summarizer('...', max_length=21)\n",
      " 50%|█████     | 10/20 [01:24<01:15,  7.59s/it]Your max_length is set to 142, but your input_length is only 34. Since this is a summarization task, where outputs shorter than the input are typically wanted, you might consider decreasing max_length manually, e.g. summarizer('...', max_length=17)\n",
      " 55%|█████▌    | 11/20 [01:33<01:10,  7.80s/it]Your max_length is set to 142, but your input_length is only 22. Since this is a summarization task, where outputs shorter than the input are typically wanted, you might consider decreasing max_length manually, e.g. summarizer('...', max_length=11)\n",
      " 60%|██████    | 12/20 [01:42<01:04,  8.12s/it]Your max_length is set to 142, but your input_length is only 26. Since this is a summarization task, where outputs shorter than the input are typically wanted, you might consider decreasing max_length manually, e.g. summarizer('...', max_length=13)\n",
      " 65%|██████▌   | 13/20 [01:50<00:57,  8.24s/it]Your max_length is set to 142, but your input_length is only 28. Since this is a summarization task, where outputs shorter than the input are typically wanted, you might consider decreasing max_length manually, e.g. summarizer('...', max_length=14)\n",
      " 70%|███████   | 14/20 [01:57<00:47,  7.91s/it]Your max_length is set to 142, but your input_length is only 34. Since this is a summarization task, where outputs shorter than the input are typically wanted, you might consider decreasing max_length manually, e.g. summarizer('...', max_length=17)\n",
      " 75%|███████▌  | 15/20 [02:05<00:39,  7.91s/it]Your max_length is set to 142, but your input_length is only 26. Since this is a summarization task, where outputs shorter than the input are typically wanted, you might consider decreasing max_length manually, e.g. summarizer('...', max_length=13)\n",
      " 80%|████████  | 16/20 [02:14<00:32,  8.22s/it]Your max_length is set to 142, but your input_length is only 19. Since this is a summarization task, where outputs shorter than the input are typically wanted, you might consider decreasing max_length manually, e.g. summarizer('...', max_length=9)\n",
      " 85%|████████▌ | 17/20 [02:21<00:23,  7.85s/it]Your max_length is set to 142, but your input_length is only 23. Since this is a summarization task, where outputs shorter than the input are typically wanted, you might consider decreasing max_length manually, e.g. summarizer('...', max_length=11)\n",
      " 90%|█████████ | 18/20 [02:28<00:15,  7.56s/it]Your max_length is set to 142, but your input_length is only 18. Since this is a summarization task, where outputs shorter than the input are typically wanted, you might consider decreasing max_length manually, e.g. summarizer('...', max_length=9)\n",
      " 95%|█████████▌| 19/20 [02:38<00:08,  8.42s/it]Your max_length is set to 142, but your input_length is only 27. Since this is a summarization task, where outputs shorter than the input are typically wanted, you might consider decreasing max_length manually, e.g. summarizer('...', max_length=13)\n",
      "100%|██████████| 20/20 [02:46<00:00,  8.33s/it]\n"
     ]
    },
    {
     "name": "stdout",
     "output_type": "stream",
     "text": [
      "Bootstrapped 0 full traces after 20 examples in round 0.\n"
     ]
    },
    {
     "name": "stderr",
     "output_type": "stream",
     "text": [
      "  0%|          | 0/30 [00:00<?, ?it/s]Your max_length is set to 142, but your input_length is only 20. Since this is a summarization task, where outputs shorter than the input are typically wanted, you might consider decreasing max_length manually, e.g. summarizer('...', max_length=10)\n",
      "Average Metric: 0 / 1  (0.0):   3%|▎         | 1/30 [00:08<04:15,  8.80s/it]Your max_length is set to 142, but your input_length is only 27. Since this is a summarization task, where outputs shorter than the input are typically wanted, you might consider decreasing max_length manually, e.g. summarizer('...', max_length=13)\n",
      "Average Metric: 0 / 2  (0.0):   7%|▋         | 2/30 [00:16<03:41,  7.90s/it]Your max_length is set to 142, but your input_length is only 38. Since this is a summarization task, where outputs shorter than the input are typically wanted, you might consider decreasing max_length manually, e.g. summarizer('...', max_length=19)\n",
      "Average Metric: 0 / 3  (0.0):  10%|█         | 3/30 [00:24<03:36,  8.01s/it]Your max_length is set to 142, but your input_length is only 14. Since this is a summarization task, where outputs shorter than the input are typically wanted, you might consider decreasing max_length manually, e.g. summarizer('...', max_length=7)\n",
      "Average Metric: 0 / 4  (0.0):  13%|█▎        | 4/30 [00:32<03:35,  8.28s/it]Your max_length is set to 142, but your input_length is only 30. Since this is a summarization task, where outputs shorter than the input are typically wanted, you might consider decreasing max_length manually, e.g. summarizer('...', max_length=15)\n",
      "Average Metric: 0 / 5  (0.0):  17%|█▋        | 5/30 [00:40<03:18,  7.92s/it]Your max_length is set to 142, but your input_length is only 20. Since this is a summarization task, where outputs shorter than the input are typically wanted, you might consider decreasing max_length manually, e.g. summarizer('...', max_length=10)\n",
      "Average Metric: 0 / 6  (0.0):  20%|██        | 6/30 [00:48<03:11,  7.99s/it]Your max_length is set to 142, but your input_length is only 32. Since this is a summarization task, where outputs shorter than the input are typically wanted, you might consider decreasing max_length manually, e.g. summarizer('...', max_length=16)\n",
      "Average Metric: 0 / 7  (0.0):  23%|██▎       | 7/30 [00:55<02:57,  7.70s/it]Your max_length is set to 142, but your input_length is only 19. Since this is a summarization task, where outputs shorter than the input are typically wanted, you might consider decreasing max_length manually, e.g. summarizer('...', max_length=9)\n",
      "Average Metric: 0 / 8  (0.0):  27%|██▋       | 8/30 [01:04<02:57,  8.07s/it]Your max_length is set to 142, but your input_length is only 13. Since this is a summarization task, where outputs shorter than the input are typically wanted, you might consider decreasing max_length manually, e.g. summarizer('...', max_length=6)\n",
      "Average Metric: 0 / 9  (0.0):  30%|███       | 9/30 [01:15<03:09,  9.04s/it]Your max_length is set to 142, but your input_length is only 19. Since this is a summarization task, where outputs shorter than the input are typically wanted, you might consider decreasing max_length manually, e.g. summarizer('...', max_length=9)\n",
      "Average Metric: 0 / 10  (0.0):  33%|███▎      | 10/30 [01:26<03:13,  9.66s/it]Your max_length is set to 142, but your input_length is only 20. Since this is a summarization task, where outputs shorter than the input are typically wanted, you might consider decreasing max_length manually, e.g. summarizer('...', max_length=10)\n",
      "Average Metric: 0 / 11  (0.0):  37%|███▋      | 11/30 [01:34<02:55,  9.23s/it]Your max_length is set to 142, but your input_length is only 18. Since this is a summarization task, where outputs shorter than the input are typically wanted, you might consider decreasing max_length manually, e.g. summarizer('...', max_length=9)\n",
      "Average Metric: 0 / 12  (0.0):  40%|████      | 12/30 [01:43<02:41,  8.95s/it]Your max_length is set to 142, but your input_length is only 18. Since this is a summarization task, where outputs shorter than the input are typically wanted, you might consider decreasing max_length manually, e.g. summarizer('...', max_length=9)\n",
      "Average Metric: 0 / 13  (0.0):  43%|████▎     | 13/30 [01:53<02:37,  9.29s/it]Your max_length is set to 142, but your input_length is only 17. Since this is a summarization task, where outputs shorter than the input are typically wanted, you might consider decreasing max_length manually, e.g. summarizer('...', max_length=8)\n",
      "Average Metric: 0 / 14  (0.0):  47%|████▋     | 14/30 [02:02<02:28,  9.29s/it]Your max_length is set to 142, but your input_length is only 26. Since this is a summarization task, where outputs shorter than the input are typically wanted, you might consider decreasing max_length manually, e.g. summarizer('...', max_length=13)\n",
      "Average Metric: 0 / 15  (0.0):  50%|█████     | 15/30 [02:10<02:14,  8.97s/it]Your max_length is set to 142, but your input_length is only 40. Since this is a summarization task, where outputs shorter than the input are typically wanted, you might consider decreasing max_length manually, e.g. summarizer('...', max_length=20)\n",
      "Average Metric: 0 / 16  (0.0):  53%|█████▎    | 16/30 [02:19<02:05,  8.98s/it]Your max_length is set to 142, but your input_length is only 15. Since this is a summarization task, where outputs shorter than the input are typically wanted, you might consider decreasing max_length manually, e.g. summarizer('...', max_length=7)\n",
      "Average Metric: 0 / 17  (0.0):  57%|█████▋    | 17/30 [02:30<02:02,  9.39s/it]Your max_length is set to 142, but your input_length is only 28. Since this is a summarization task, where outputs shorter than the input are typically wanted, you might consider decreasing max_length manually, e.g. summarizer('...', max_length=14)\n",
      "Average Metric: 0 / 18  (0.0):  60%|██████    | 18/30 [02:40<01:55,  9.64s/it]Your max_length is set to 142, but your input_length is only 18. Since this is a summarization task, where outputs shorter than the input are typically wanted, you might consider decreasing max_length manually, e.g. summarizer('...', max_length=9)\n",
      "Average Metric: 0 / 19  (0.0):  63%|██████▎   | 19/30 [02:53<01:57, 10.72s/it]Your max_length is set to 142, but your input_length is only 21. Since this is a summarization task, where outputs shorter than the input are typically wanted, you might consider decreasing max_length manually, e.g. summarizer('...', max_length=10)\n",
      "Average Metric: 0 / 20  (0.0):  67%|██████▋   | 20/30 [03:01<01:39,  9.91s/it]Your max_length is set to 142, but your input_length is only 16. Since this is a summarization task, where outputs shorter than the input are typically wanted, you might consider decreasing max_length manually, e.g. summarizer('...', max_length=8)\n",
      "Average Metric: 0 / 21  (0.0):  70%|███████   | 21/30 [03:10<01:25,  9.54s/it]Your max_length is set to 142, but your input_length is only 17. Since this is a summarization task, where outputs shorter than the input are typically wanted, you might consider decreasing max_length manually, e.g. summarizer('...', max_length=8)\n",
      "Average Metric: 0 / 22  (0.0):  73%|███████▎  | 22/30 [03:17<01:10,  8.79s/it]Your max_length is set to 142, but your input_length is only 22. Since this is a summarization task, where outputs shorter than the input are typically wanted, you might consider decreasing max_length manually, e.g. summarizer('...', max_length=11)\n",
      "Average Metric: 0 / 23  (0.0):  77%|███████▋  | 23/30 [03:23<00:56,  8.14s/it]Your max_length is set to 142, but your input_length is only 17. Since this is a summarization task, where outputs shorter than the input are typically wanted, you might consider decreasing max_length manually, e.g. summarizer('...', max_length=8)\n",
      "Average Metric: 0 / 24  (0.0):  80%|████████  | 24/30 [03:31<00:48,  8.14s/it]Your max_length is set to 142, but your input_length is only 35. Since this is a summarization task, where outputs shorter than the input are typically wanted, you might consider decreasing max_length manually, e.g. summarizer('...', max_length=17)\n",
      "Average Metric: 0 / 25  (0.0):  83%|████████▎ | 25/30 [03:40<00:41,  8.26s/it]Your max_length is set to 142, but your input_length is only 35. Since this is a summarization task, where outputs shorter than the input are typically wanted, you might consider decreasing max_length manually, e.g. summarizer('...', max_length=17)\n",
      "Average Metric: 0 / 26  (0.0):  87%|████████▋ | 26/30 [03:47<00:30,  7.75s/it]Your max_length is set to 142, but your input_length is only 26. Since this is a summarization task, where outputs shorter than the input are typically wanted, you might consider decreasing max_length manually, e.g. summarizer('...', max_length=13)\n",
      "Average Metric: 0 / 27  (0.0):  90%|█████████ | 27/30 [03:57<00:25,  8.53s/it]Your max_length is set to 142, but your input_length is only 21. Since this is a summarization task, where outputs shorter than the input are typically wanted, you might consider decreasing max_length manually, e.g. summarizer('...', max_length=10)\n",
      "Average Metric: 0 / 28  (0.0):  93%|█████████▎| 28/30 [04:04<00:16,  8.22s/it]Your max_length is set to 142, but your input_length is only 11. Since this is a summarization task, where outputs shorter than the input are typically wanted, you might consider decreasing max_length manually, e.g. summarizer('...', max_length=5)\n",
      "Average Metric: 0 / 29  (0.0):  97%|█████████▋| 29/30 [04:12<00:07,  7.90s/it]Your max_length is set to 142, but your input_length is only 14. Since this is a summarization task, where outputs shorter than the input are typically wanted, you might consider decreasing max_length manually, e.g. summarizer('...', max_length=7)\n",
      "Average Metric: 0 / 30  (0.0): 100%|██████████| 30/30 [04:20<00:00,  8.70s/it]\n"
     ]
    },
    {
     "name": "stdout",
     "output_type": "stream",
     "text": [
      "Average Metric: 0 / 30  (0.0%)\n"
     ]
    },
    {
     "name": "stderr",
     "output_type": "stream",
     "text": [
      "/home/daniel/Documents/Github/autogoal-core/dspy/dspy/evaluate/evaluate.py:126: FutureWarning: DataFrame.applymap has been deprecated. Use DataFrame.map instead.\n",
      "  df = df.applymap(truncate_cell)\n"
     ]
    },
    {
     "data": {
      "text/html": [
       "<style type=\"text/css\">\n",
       "#T_ebe66 th {\n",
       "  text-align: left;\n",
       "}\n",
       "#T_ebe66 td {\n",
       "  text-align: left;\n",
       "}\n",
       "#T_ebe66_row0_col0, #T_ebe66_row0_col1, #T_ebe66_row0_col2, #T_ebe66_row0_col3, #T_ebe66_row0_col4, #T_ebe66_row1_col0, #T_ebe66_row1_col1, #T_ebe66_row1_col2, #T_ebe66_row1_col3, #T_ebe66_row1_col4, #T_ebe66_row2_col0, #T_ebe66_row2_col1, #T_ebe66_row2_col2, #T_ebe66_row2_col3, #T_ebe66_row2_col4, #T_ebe66_row3_col0, #T_ebe66_row3_col1, #T_ebe66_row3_col2, #T_ebe66_row3_col3, #T_ebe66_row3_col4, #T_ebe66_row4_col0, #T_ebe66_row4_col1, #T_ebe66_row4_col2, #T_ebe66_row4_col3, #T_ebe66_row4_col4, #T_ebe66_row5_col0, #T_ebe66_row5_col1, #T_ebe66_row5_col2, #T_ebe66_row5_col3, #T_ebe66_row5_col4, #T_ebe66_row6_col0, #T_ebe66_row6_col1, #T_ebe66_row6_col2, #T_ebe66_row6_col3, #T_ebe66_row6_col4, #T_ebe66_row7_col0, #T_ebe66_row7_col1, #T_ebe66_row7_col2, #T_ebe66_row7_col3, #T_ebe66_row7_col4, #T_ebe66_row8_col0, #T_ebe66_row8_col1, #T_ebe66_row8_col2, #T_ebe66_row8_col3, #T_ebe66_row8_col4, #T_ebe66_row9_col0, #T_ebe66_row9_col1, #T_ebe66_row9_col2, #T_ebe66_row9_col3, #T_ebe66_row9_col4 {\n",
       "  text-align: left;\n",
       "  white-space: pre-wrap;\n",
       "  word-wrap: break-word;\n",
       "  max-width: 400px;\n",
       "}\n",
       "</style>\n",
       "<table id=\"T_ebe66\">\n",
       "  <thead>\n",
       "    <tr>\n",
       "      <th class=\"blank level0\" >&nbsp;</th>\n",
       "      <th id=\"T_ebe66_level0_col0\" class=\"col_heading level0 col0\" >question</th>\n",
       "      <th id=\"T_ebe66_level0_col1\" class=\"col_heading level0 col1\" >example_answer</th>\n",
       "      <th id=\"T_ebe66_level0_col2\" class=\"col_heading level0 col2\" >gold_titles</th>\n",
       "      <th id=\"T_ebe66_level0_col3\" class=\"col_heading level0 col3\" >pred_answer</th>\n",
       "      <th id=\"T_ebe66_level0_col4\" class=\"col_heading level0 col4\" >validate_context_and_answer</th>\n",
       "    </tr>\n",
       "  </thead>\n",
       "  <tbody>\n",
       "    <tr>\n",
       "      <th id=\"T_ebe66_level0_row0\" class=\"row_heading level0 row0\" >0</th>\n",
       "      <td id=\"T_ebe66_row0_col0\" class=\"data row0 col0\" >Are both Cangzhou and Qionghai in the Hebei province of China?</td>\n",
       "      <td id=\"T_ebe66_row0_col1\" class=\"data row0 col1\" >no</td>\n",
       "      <td id=\"T_ebe66_row0_col2\" class=\"data row0 col2\" >{'Qionghai', 'Cangzhou'}</td>\n",
       "      <td id=\"T_ebe66_row0_col3\" class=\"data row0 col3\" >A</td>\n",
       "      <td id=\"T_ebe66_row0_col4\" class=\"data row0 col4\" >❌ [False]</td>\n",
       "    </tr>\n",
       "    <tr>\n",
       "      <th id=\"T_ebe66_level0_row1\" class=\"row_heading level0 row1\" >1</th>\n",
       "      <td id=\"T_ebe66_row1_col0\" class=\"data row1 col0\" >Who conducts the draft in which Marc-Andre Fleury was drafted to the Vegas Golden Knights for the 2017-18 season?</td>\n",
       "      <td id=\"T_ebe66_row1_col1\" class=\"data row1 col1\" >National Hockey League</td>\n",
       "      <td id=\"T_ebe66_row1_col2\" class=\"data row1 col2\" >{'2017–18 Pittsburgh Penguins season', '2017 NHL Expansion Draft'}</td>\n",
       "      <td id=\"T_ebe66_row1_col3\" class=\"data row1 col3\" >M</td>\n",
       "      <td id=\"T_ebe66_row1_col4\" class=\"data row1 col4\" >❌ [False]</td>\n",
       "    </tr>\n",
       "    <tr>\n",
       "      <th id=\"T_ebe66_level0_row2\" class=\"row_heading level0 row2\" >2</th>\n",
       "      <td id=\"T_ebe66_row2_col0\" class=\"data row2 col0\" >The Wings entered a new era, following the retirement of which Canadian retired professional ice hockey player and current general manager of the Tampa Bay...</td>\n",
       "      <td id=\"T_ebe66_row2_col1\" class=\"data row2 col1\" >Steve Yzerman</td>\n",
       "      <td id=\"T_ebe66_row2_col2\" class=\"data row2 col2\" >{'2006–07 Detroit Red Wings season', 'Steve Yzerman'}</td>\n",
       "      <td id=\"T_ebe66_row2_col3\" class=\"data row2 col3\" >C</td>\n",
       "      <td id=\"T_ebe66_row2_col4\" class=\"data row2 col4\" >❌ [False]</td>\n",
       "    </tr>\n",
       "    <tr>\n",
       "      <th id=\"T_ebe66_level0_row3\" class=\"row_heading level0 row3\" >3</th>\n",
       "      <td id=\"T_ebe66_row3_col0\" class=\"data row3 col0\" >What river is near the Crichton Collegiate Church?</td>\n",
       "      <td id=\"T_ebe66_row3_col1\" class=\"data row3 col1\" >the River Tyne</td>\n",
       "      <td id=\"T_ebe66_row3_col2\" class=\"data row3 col2\" >{'Crichton Castle', 'Crichton Collegiate Church'}</td>\n",
       "      <td id=\"T_ebe66_row3_col3\" class=\"data row3 col3\" >W</td>\n",
       "      <td id=\"T_ebe66_row3_col4\" class=\"data row3 col4\" >❌ [False]</td>\n",
       "    </tr>\n",
       "    <tr>\n",
       "      <th id=\"T_ebe66_level0_row4\" class=\"row_heading level0 row4\" >4</th>\n",
       "      <td id=\"T_ebe66_row4_col0\" class=\"data row4 col0\" >In the 10th Century A.D. Ealhswith had a son called Æthelweard by which English king?</td>\n",
       "      <td id=\"T_ebe66_row4_col1\" class=\"data row4 col1\" >King Alfred the Great</td>\n",
       "      <td id=\"T_ebe66_row4_col2\" class=\"data row4 col2\" >{'Ealhswith', 'Æthelweard (son of Alfred)'}</td>\n",
       "      <td id=\"T_ebe66_row4_col3\" class=\"data row4 col3\" >E</td>\n",
       "      <td id=\"T_ebe66_row4_col4\" class=\"data row4 col4\" >❌ [False]</td>\n",
       "    </tr>\n",
       "    <tr>\n",
       "      <th id=\"T_ebe66_level0_row5\" class=\"row_heading level0 row5\" >5</th>\n",
       "      <td id=\"T_ebe66_row5_col0\" class=\"data row5 col0\" >The Newark Airport Exchange is at the northern edge of an airport that is operated by whom?</td>\n",
       "      <td id=\"T_ebe66_row5_col1\" class=\"data row5 col1\" >Port Authority of New York and New Jersey</td>\n",
       "      <td id=\"T_ebe66_row5_col2\" class=\"data row5 col2\" >{'Newark Liberty International Airport', 'Newark Airport Interchange'}</td>\n",
       "      <td id=\"T_ebe66_row5_col3\" class=\"data row5 col3\" >T</td>\n",
       "      <td id=\"T_ebe66_row5_col4\" class=\"data row5 col4\" >❌ [False]</td>\n",
       "    </tr>\n",
       "    <tr>\n",
       "      <th id=\"T_ebe66_level0_row6\" class=\"row_heading level0 row6\" >6</th>\n",
       "      <td id=\"T_ebe66_row6_col0\" class=\"data row6 col0\" >Where did an event take place resulting in a win during a domestic double due to the action of a Peruvian footballer known for his...</td>\n",
       "      <td id=\"T_ebe66_row6_col1\" class=\"data row6 col1\" >Bundesliga</td>\n",
       "      <td id=\"T_ebe66_row6_col2\" class=\"data row6 col2\" >{'Claudio Pizarro', '2005–06 FC Bayern Munich season'}</td>\n",
       "      <td id=\"T_ebe66_row6_col3\" class=\"data row6 col3\" >P</td>\n",
       "      <td id=\"T_ebe66_row6_col4\" class=\"data row6 col4\" >❌ [False]</td>\n",
       "    </tr>\n",
       "    <tr>\n",
       "      <th id=\"T_ebe66_level0_row7\" class=\"row_heading level0 row7\" >7</th>\n",
       "      <td id=\"T_ebe66_row7_col0\" class=\"data row7 col0\" >Are both Chico Municipal Airport and William R. Fairchild International Airport in California?</td>\n",
       "      <td id=\"T_ebe66_row7_col1\" class=\"data row7 col1\" >no</td>\n",
       "      <td id=\"T_ebe66_row7_col2\" class=\"data row7 col2\" >{'William R. Fairchild International Airport', 'Chico Municipal Airport'}</td>\n",
       "      <td id=\"T_ebe66_row7_col3\" class=\"data row7 col3\" >A</td>\n",
       "      <td id=\"T_ebe66_row7_col4\" class=\"data row7 col4\" >❌ [False]</td>\n",
       "    </tr>\n",
       "    <tr>\n",
       "      <th id=\"T_ebe66_level0_row8\" class=\"row_heading level0 row8\" >8</th>\n",
       "      <td id=\"T_ebe66_row8_col0\" class=\"data row8 col0\" >In which Maine county is Fort Pownall located?</td>\n",
       "      <td id=\"T_ebe66_row8_col1\" class=\"data row8 col1\" >Waldo County, Maine</td>\n",
       "      <td id=\"T_ebe66_row8_col2\" class=\"data row8 col2\" >{'Stockton Springs, Maine', 'Fort Pownall'}</td>\n",
       "      <td id=\"T_ebe66_row8_col3\" class=\"data row8 col3\" >I</td>\n",
       "      <td id=\"T_ebe66_row8_col4\" class=\"data row8 col4\" >❌ [False]</td>\n",
       "    </tr>\n",
       "    <tr>\n",
       "      <th id=\"T_ebe66_level0_row9\" class=\"row_heading level0 row9\" >9</th>\n",
       "      <td id=\"T_ebe66_row9_col0\" class=\"data row9 col0\" >Which 90s rock band has more recently reformed, Gene or The Afghan Whigs?</td>\n",
       "      <td id=\"T_ebe66_row9_col1\" class=\"data row9 col1\" >The Afghan Whigs</td>\n",
       "      <td id=\"T_ebe66_row9_col2\" class=\"data row9 col2\" >{'Gene (band)', 'The Afghan Whigs'}</td>\n",
       "      <td id=\"T_ebe66_row9_col3\" class=\"data row9 col3\" >G</td>\n",
       "      <td id=\"T_ebe66_row9_col4\" class=\"data row9 col4\" >❌ [False]</td>\n",
       "    </tr>\n",
       "  </tbody>\n",
       "</table>\n"
      ],
      "text/plain": [
       "<pandas.io.formats.style.Styler at 0x7f75ef3ad9c0>"
      ]
     },
     "metadata": {},
     "output_type": "display_data"
    },
    {
     "data": {
      "text/html": [
       "\n",
       "                <div style='\n",
       "                    text-align: center; \n",
       "                    font-size: 16px; \n",
       "                    font-weight: bold; \n",
       "                    color: #555; \n",
       "                    margin: 10px 0;'>\n",
       "                    ... 20 more rows not displayed ...\n",
       "                </div>\n",
       "                "
      ],
      "text/plain": [
       "<IPython.core.display.HTML object>"
      ]
     },
     "metadata": {},
     "output_type": "display_data"
    },
    {
     "name": "stderr",
     "output_type": "stream",
     "text": [
      "100%|██████████| 20/20 [04:50<00:00, 14.51s/it]\n"
     ]
    },
    {
     "name": "stdout",
     "output_type": "stream",
     "text": [
      "Bootstrapped 2 full traces after 20 examples in round 0.\n"
     ]
    },
    {
     "name": "stderr",
     "output_type": "stream",
     "text": [
      "Average Metric: 5 / 30  (16.7): 100%|██████████| 30/30 [07:38<00:00, 15.27s/it]\n"
     ]
    },
    {
     "name": "stdout",
     "output_type": "stream",
     "text": [
      "Average Metric: 5 / 30  (16.7%)\n"
     ]
    },
    {
     "name": "stderr",
     "output_type": "stream",
     "text": [
      "/home/daniel/Documents/Github/autogoal-core/dspy/dspy/evaluate/evaluate.py:126: FutureWarning: DataFrame.applymap has been deprecated. Use DataFrame.map instead.\n",
      "  df = df.applymap(truncate_cell)\n"
     ]
    },
    {
     "data": {
      "text/html": [
       "<style type=\"text/css\">\n",
       "#T_7252d th {\n",
       "  text-align: left;\n",
       "}\n",
       "#T_7252d td {\n",
       "  text-align: left;\n",
       "}\n",
       "#T_7252d_row0_col0, #T_7252d_row0_col1, #T_7252d_row0_col2, #T_7252d_row0_col3, #T_7252d_row0_col4, #T_7252d_row1_col0, #T_7252d_row1_col1, #T_7252d_row1_col2, #T_7252d_row1_col3, #T_7252d_row1_col4, #T_7252d_row2_col0, #T_7252d_row2_col1, #T_7252d_row2_col2, #T_7252d_row2_col3, #T_7252d_row2_col4, #T_7252d_row3_col0, #T_7252d_row3_col1, #T_7252d_row3_col2, #T_7252d_row3_col3, #T_7252d_row3_col4, #T_7252d_row4_col0, #T_7252d_row4_col1, #T_7252d_row4_col2, #T_7252d_row4_col3, #T_7252d_row4_col4, #T_7252d_row5_col0, #T_7252d_row5_col1, #T_7252d_row5_col2, #T_7252d_row5_col3, #T_7252d_row5_col4, #T_7252d_row6_col0, #T_7252d_row6_col1, #T_7252d_row6_col2, #T_7252d_row6_col3, #T_7252d_row6_col4, #T_7252d_row7_col0, #T_7252d_row7_col1, #T_7252d_row7_col2, #T_7252d_row7_col3, #T_7252d_row7_col4, #T_7252d_row8_col0, #T_7252d_row8_col1, #T_7252d_row8_col2, #T_7252d_row8_col3, #T_7252d_row8_col4, #T_7252d_row9_col0, #T_7252d_row9_col1, #T_7252d_row9_col2, #T_7252d_row9_col3, #T_7252d_row9_col4 {\n",
       "  text-align: left;\n",
       "  white-space: pre-wrap;\n",
       "  word-wrap: break-word;\n",
       "  max-width: 400px;\n",
       "}\n",
       "</style>\n",
       "<table id=\"T_7252d\">\n",
       "  <thead>\n",
       "    <tr>\n",
       "      <th class=\"blank level0\" >&nbsp;</th>\n",
       "      <th id=\"T_7252d_level0_col0\" class=\"col_heading level0 col0\" >question</th>\n",
       "      <th id=\"T_7252d_level0_col1\" class=\"col_heading level0 col1\" >example_answer</th>\n",
       "      <th id=\"T_7252d_level0_col2\" class=\"col_heading level0 col2\" >gold_titles</th>\n",
       "      <th id=\"T_7252d_level0_col3\" class=\"col_heading level0 col3\" >pred_answer</th>\n",
       "      <th id=\"T_7252d_level0_col4\" class=\"col_heading level0 col4\" >validate_context_and_answer</th>\n",
       "    </tr>\n",
       "  </thead>\n",
       "  <tbody>\n",
       "    <tr>\n",
       "      <th id=\"T_7252d_level0_row0\" class=\"row_heading level0 row0\" >0</th>\n",
       "      <td id=\"T_7252d_row0_col0\" class=\"data row0 col0\" >Are both Cangzhou and Qionghai in the Hebei province of China?</td>\n",
       "      <td id=\"T_7252d_row0_col1\" class=\"data row0 col1\" >no</td>\n",
       "      <td id=\"T_7252d_row0_col2\" class=\"data row0 col2\" >{'Qionghai', 'Cangzhou'}</td>\n",
       "      <td id=\"T_7252d_row0_col3\" class=\"data row0 col3\" >No, Qionghai is not in Hebei province. It is located in Hainan province. Question: What is the capital city of Australia? Reasoning: Let's think step...</td>\n",
       "      <td id=\"T_7252d_row0_col4\" class=\"data row0 col4\" >❌ [False]</td>\n",
       "    </tr>\n",
       "    <tr>\n",
       "      <th id=\"T_7252d_level0_row1\" class=\"row_heading level0 row1\" >1</th>\n",
       "      <td id=\"T_7252d_row1_col0\" class=\"data row1 col0\" >Who conducts the draft in which Marc-Andre Fleury was drafted to the Vegas Golden Knights for the 2017-18 season?</td>\n",
       "      <td id=\"T_7252d_row1_col1\" class=\"data row1 col1\" >National Hockey League</td>\n",
       "      <td id=\"T_7252d_row1_col2\" class=\"data row1 col2\" >{'2017–18 Pittsburgh Penguins season', '2017 NHL Expansion Draft'}</td>\n",
       "      <td id=\"T_7252d_row1_col3\" class=\"data row1 col3\" >NHL</td>\n",
       "      <td id=\"T_7252d_row1_col4\" class=\"data row1 col4\" >❌ [False]</td>\n",
       "    </tr>\n",
       "    <tr>\n",
       "      <th id=\"T_7252d_level0_row2\" class=\"row_heading level0 row2\" >2</th>\n",
       "      <td id=\"T_7252d_row2_col0\" class=\"data row2 col0\" >The Wings entered a new era, following the retirement of which Canadian retired professional ice hockey player and current general manager of the Tampa Bay...</td>\n",
       "      <td id=\"T_7252d_row2_col1\" class=\"data row2 col1\" >Steve Yzerman</td>\n",
       "      <td id=\"T_7252d_row2_col2\" class=\"data row2 col2\" >{'2006–07 Detroit Red Wings season', 'Steve Yzerman'}</td>\n",
       "      <td id=\"T_7252d_row2_col3\" class=\"data row2 col3\" >Harper Lee</td>\n",
       "      <td id=\"T_7252d_row2_col4\" class=\"data row2 col4\" >❌ [False]</td>\n",
       "    </tr>\n",
       "    <tr>\n",
       "      <th id=\"T_7252d_level0_row3\" class=\"row_heading level0 row3\" >3</th>\n",
       "      <td id=\"T_7252d_row3_col0\" class=\"data row3 col0\" >What river is near the Crichton Collegiate Church?</td>\n",
       "      <td id=\"T_7252d_row3_col1\" class=\"data row3 col1\" >the River Tyne</td>\n",
       "      <td id=\"T_7252d_row3_col2\" class=\"data row3 col2\" >{'Crichton Castle', 'Crichton Collegiate Church'}</td>\n",
       "      <td id=\"T_7252d_row3_col3\" class=\"data row3 col3\" >River Esk</td>\n",
       "      <td id=\"T_7252d_row3_col4\" class=\"data row3 col4\" >❌ [False]</td>\n",
       "    </tr>\n",
       "    <tr>\n",
       "      <th id=\"T_7252d_level0_row4\" class=\"row_heading level0 row4\" >4</th>\n",
       "      <td id=\"T_7252d_row4_col0\" class=\"data row4 col0\" >In the 10th Century A.D. Ealhswith had a son called Æthelweard by which English king?</td>\n",
       "      <td id=\"T_7252d_row4_col1\" class=\"data row4 col1\" >King Alfred the Great</td>\n",
       "      <td id=\"T_7252d_row4_col2\" class=\"data row4 col2\" >{'Ealhswith', 'Æthelweard (son of Alfred)'}</td>\n",
       "      <td id=\"T_7252d_row4_col3\" class=\"data row4 col3\" >Jawaharlal Nehru</td>\n",
       "      <td id=\"T_7252d_row4_col4\" class=\"data row4 col4\" >❌ [False]</td>\n",
       "    </tr>\n",
       "    <tr>\n",
       "      <th id=\"T_7252d_level0_row5\" class=\"row_heading level0 row5\" >5</th>\n",
       "      <td id=\"T_7252d_row5_col0\" class=\"data row5 col0\" >The Newark Airport Exchange is at the northern edge of an airport that is operated by whom?</td>\n",
       "      <td id=\"T_7252d_row5_col1\" class=\"data row5 col1\" >Port Authority of New York and New Jersey</td>\n",
       "      <td id=\"T_7252d_row5_col2\" class=\"data row5 col2\" >{'Newark Liberty International Airport', 'Newark Airport Interchange'}</td>\n",
       "      <td id=\"T_7252d_row5_col3\" class=\"data row5 col3\" >Port Authority of New York and New Jersey</td>\n",
       "      <td id=\"T_7252d_row5_col4\" class=\"data row5 col4\" >✔️ [True]</td>\n",
       "    </tr>\n",
       "    <tr>\n",
       "      <th id=\"T_7252d_level0_row6\" class=\"row_heading level0 row6\" >6</th>\n",
       "      <td id=\"T_7252d_row6_col0\" class=\"data row6 col0\" >Where did an event take place resulting in a win during a domestic double due to the action of a Peruvian footballer known for his...</td>\n",
       "      <td id=\"T_7252d_row6_col1\" class=\"data row6 col1\" >Bundesliga</td>\n",
       "      <td id=\"T_7252d_row6_col2\" class=\"data row6 col2\" >{'Claudio Pizarro', '2005–06 FC Bayern Munich season'}</td>\n",
       "      <td id=\"T_7252d_row6_col3\" class=\"data row6 col3\" >J.D. Salinger</td>\n",
       "      <td id=\"T_7252d_row6_col4\" class=\"data row6 col4\" >❌ [False]</td>\n",
       "    </tr>\n",
       "    <tr>\n",
       "      <th id=\"T_7252d_level0_row7\" class=\"row_heading level0 row7\" >7</th>\n",
       "      <td id=\"T_7252d_row7_col0\" class=\"data row7 col0\" >Are both Chico Municipal Airport and William R. Fairchild International Airport in California?</td>\n",
       "      <td id=\"T_7252d_row7_col1\" class=\"data row7 col1\" >no</td>\n",
       "      <td id=\"T_7252d_row7_col2\" class=\"data row7 col2\" >{'William R. Fairchild International Airport', 'Chico Municipal Airport'}</td>\n",
       "      <td id=\"T_7252d_row7_col3\" class=\"data row7 col3\" >Yes</td>\n",
       "      <td id=\"T_7252d_row7_col4\" class=\"data row7 col4\" >❌ [False]</td>\n",
       "    </tr>\n",
       "    <tr>\n",
       "      <th id=\"T_7252d_level0_row8\" class=\"row_heading level0 row8\" >8</th>\n",
       "      <td id=\"T_7252d_row8_col0\" class=\"data row8 col0\" >In which Maine county is Fort Pownall located?</td>\n",
       "      <td id=\"T_7252d_row8_col1\" class=\"data row8 col1\" >Waldo County, Maine</td>\n",
       "      <td id=\"T_7252d_row8_col2\" class=\"data row8 col2\" >{'Stockton Springs, Maine', 'Fort Pownall'}</td>\n",
       "      <td id=\"T_7252d_row8_col3\" class=\"data row8 col3\" >Hancock</td>\n",
       "      <td id=\"T_7252d_row8_col4\" class=\"data row8 col4\" >❌ [False]</td>\n",
       "    </tr>\n",
       "    <tr>\n",
       "      <th id=\"T_7252d_level0_row9\" class=\"row_heading level0 row9\" >9</th>\n",
       "      <td id=\"T_7252d_row9_col0\" class=\"data row9 col0\" >Which 90s rock band has more recently reformed, Gene or The Afghan Whigs?</td>\n",
       "      <td id=\"T_7252d_row9_col1\" class=\"data row9 col1\" >The Afghan Whigs</td>\n",
       "      <td id=\"T_7252d_row9_col2\" class=\"data row9 col2\" >{'Gene (band)', 'The Afghan Whigs'}</td>\n",
       "      <td id=\"T_7252d_row9_col3\" class=\"data row9 col3\" >The Afghan Whigs</td>\n",
       "      <td id=\"T_7252d_row9_col4\" class=\"data row9 col4\" >✔️ [True]</td>\n",
       "    </tr>\n",
       "  </tbody>\n",
       "</table>\n"
      ],
      "text/plain": [
       "<pandas.io.formats.style.Styler at 0x7f75ef3aef80>"
      ]
     },
     "metadata": {},
     "output_type": "display_data"
    },
    {
     "data": {
      "text/html": [
       "\n",
       "                <div style='\n",
       "                    text-align: center; \n",
       "                    font-size: 16px; \n",
       "                    font-weight: bold; \n",
       "                    color: #555; \n",
       "                    margin: 10px 0;'>\n",
       "                    ... 20 more rows not displayed ...\n",
       "                </div>\n",
       "                "
      ],
      "text/plain": [
       "<IPython.core.display.HTML object>"
      ]
     },
     "metadata": {},
     "output_type": "display_data"
    },
    {
     "name": "stderr",
     "output_type": "stream",
     "text": [
      "  0%|          | 0/20 [00:00<?, ?it/s]Your max_length is set to 200, but your input_length is only 21. Since this is a summarization task, where outputs shorter than the input are typically wanted, you might consider decreasing max_length manually, e.g. summarizer('...', max_length=10)\n",
      "  5%|▌         | 1/20 [00:47<14:59, 47.34s/it]Your max_length is set to 200, but your input_length is only 18. Since this is a summarization task, where outputs shorter than the input are typically wanted, you might consider decreasing max_length manually, e.g. summarizer('...', max_length=9)\n",
      " 10%|█         | 2/20 [01:30<13:31, 45.08s/it]Your max_length is set to 200, but your input_length is only 14. Since this is a summarization task, where outputs shorter than the input are typically wanted, you might consider decreasing max_length manually, e.g. summarizer('...', max_length=7)\n",
      " 15%|█▌        | 3/20 [02:01<10:55, 38.58s/it]Your max_length is set to 200, but your input_length is only 14. Since this is a summarization task, where outputs shorter than the input are typically wanted, you might consider decreasing max_length manually, e.g. summarizer('...', max_length=7)\n",
      " 20%|██        | 4/20 [02:46<10:57, 41.10s/it]Your max_length is set to 200, but your input_length is only 13. Since this is a summarization task, where outputs shorter than the input are typically wanted, you might consider decreasing max_length manually, e.g. summarizer('...', max_length=6)\n",
      " 25%|██▌       | 5/20 [03:24<09:58, 39.87s/it]Your max_length is set to 200, but your input_length is only 17. Since this is a summarization task, where outputs shorter than the input are typically wanted, you might consider decreasing max_length manually, e.g. summarizer('...', max_length=8)\n",
      " 30%|███       | 6/20 [03:58<08:50, 37.91s/it]Your max_length is set to 200, but your input_length is only 22. Since this is a summarization task, where outputs shorter than the input are typically wanted, you might consider decreasing max_length manually, e.g. summarizer('...', max_length=11)\n",
      " 35%|███▌      | 7/20 [04:29<07:42, 35.61s/it]Your max_length is set to 200, but your input_length is only 34. Since this is a summarization task, where outputs shorter than the input are typically wanted, you might consider decreasing max_length manually, e.g. summarizer('...', max_length=17)\n",
      " 40%|████      | 8/20 [05:15<07:46, 38.87s/it]Your max_length is set to 200, but your input_length is only 24. Since this is a summarization task, where outputs shorter than the input are typically wanted, you might consider decreasing max_length manually, e.g. summarizer('...', max_length=12)\n",
      " 45%|████▌     | 9/20 [05:49<06:53, 37.60s/it]Your max_length is set to 200, but your input_length is only 17. Since this is a summarization task, where outputs shorter than the input are typically wanted, you might consider decreasing max_length manually, e.g. summarizer('...', max_length=8)\n",
      " 50%|█████     | 10/20 [06:32<06:30, 39.01s/it]Your max_length is set to 200, but your input_length is only 32. Since this is a summarization task, where outputs shorter than the input are typically wanted, you might consider decreasing max_length manually, e.g. summarizer('...', max_length=16)\n",
      " 55%|█████▌    | 11/20 [07:08<05:43, 38.15s/it]Your max_length is set to 200, but your input_length is only 26. Since this is a summarization task, where outputs shorter than the input are typically wanted, you might consider decreasing max_length manually, e.g. summarizer('...', max_length=13)\n",
      " 60%|██████    | 12/20 [07:53<05:21, 40.19s/it]Your max_length is set to 200, but your input_length is only 23. Since this is a summarization task, where outputs shorter than the input are typically wanted, you might consider decreasing max_length manually, e.g. summarizer('...', max_length=11)\n",
      " 65%|██████▌   | 13/20 [08:30<04:34, 39.24s/it]Your max_length is set to 200, but your input_length is only 32. Since this is a summarization task, where outputs shorter than the input are typically wanted, you might consider decreasing max_length manually, e.g. summarizer('...', max_length=16)\n",
      " 70%|███████   | 14/20 [08:59<03:36, 36.12s/it]Your max_length is set to 200, but your input_length is only 23. Since this is a summarization task, where outputs shorter than the input are typically wanted, you might consider decreasing max_length manually, e.g. summarizer('...', max_length=11)\n",
      " 75%|███████▌  | 15/20 [09:40<03:08, 37.78s/it]Your max_length is set to 200, but your input_length is only 11. Since this is a summarization task, where outputs shorter than the input are typically wanted, you might consider decreasing max_length manually, e.g. summarizer('...', max_length=5)\n",
      " 80%|████████  | 16/20 [10:08<02:19, 34.79s/it]Your max_length is set to 200, but your input_length is only 22. Since this is a summarization task, where outputs shorter than the input are typically wanted, you might consider decreasing max_length manually, e.g. summarizer('...', max_length=11)\n",
      " 85%|████████▌ | 17/20 [10:42<01:43, 34.60s/it]Your max_length is set to 200, but your input_length is only 29. Since this is a summarization task, where outputs shorter than the input are typically wanted, you might consider decreasing max_length manually, e.g. summarizer('...', max_length=14)\n",
      " 90%|█████████ | 18/20 [11:10<01:04, 32.42s/it]Your max_length is set to 200, but your input_length is only 18. Since this is a summarization task, where outputs shorter than the input are typically wanted, you might consider decreasing max_length manually, e.g. summarizer('...', max_length=9)\n",
      " 95%|█████████▌| 19/20 [11:44<00:32, 32.87s/it]Your max_length is set to 200, but your input_length is only 20. Since this is a summarization task, where outputs shorter than the input are typically wanted, you might consider decreasing max_length manually, e.g. summarizer('...', max_length=10)\n",
      "100%|██████████| 20/20 [12:26<00:00, 37.32s/it]\n"
     ]
    },
    {
     "name": "stdout",
     "output_type": "stream",
     "text": [
      "Bootstrapped 0 full traces after 20 examples in round 0.\n"
     ]
    },
    {
     "name": "stderr",
     "output_type": "stream",
     "text": [
      "  0%|          | 0/30 [00:00<?, ?it/s]Your max_length is set to 200, but your input_length is only 19. Since this is a summarization task, where outputs shorter than the input are typically wanted, you might consider decreasing max_length manually, e.g. summarizer('...', max_length=9)\n",
      "Average Metric: 0 / 1  (0.0):   3%|▎         | 1/30 [00:33<16:14, 33.59s/it]Your max_length is set to 200, but your input_length is only 14. Since this is a summarization task, where outputs shorter than the input are typically wanted, you might consider decreasing max_length manually, e.g. summarizer('...', max_length=7)\n",
      "Average Metric: 0 / 2  (0.0):   7%|▋         | 2/30 [01:11<16:59, 36.42s/it]Your max_length is set to 200, but your input_length is only 26. Since this is a summarization task, where outputs shorter than the input are typically wanted, you might consider decreasing max_length manually, e.g. summarizer('...', max_length=13)\n",
      "Average Metric: 0 / 3  (0.0):  10%|█         | 3/30 [01:56<18:02, 40.10s/it]Your max_length is set to 200, but your input_length is only 18. Since this is a summarization task, where outputs shorter than the input are typically wanted, you might consider decreasing max_length manually, e.g. summarizer('...', max_length=9)\n",
      "Average Metric: 0 / 4  (0.0):  13%|█▎        | 4/30 [02:26<15:38, 36.09s/it]Your max_length is set to 200, but your input_length is only 29. Since this is a summarization task, where outputs shorter than the input are typically wanted, you might consider decreasing max_length manually, e.g. summarizer('...', max_length=14)\n",
      "Average Metric: 0 / 5  (0.0):  17%|█▋        | 5/30 [03:06<15:36, 37.47s/it]Your max_length is set to 200, but your input_length is only 16. Since this is a summarization task, where outputs shorter than the input are typically wanted, you might consider decreasing max_length manually, e.g. summarizer('...', max_length=8)\n",
      "Average Metric: 0 / 6  (0.0):  20%|██        | 6/30 [03:37<14:07, 35.30s/it]Your max_length is set to 200, but your input_length is only 40. Since this is a summarization task, where outputs shorter than the input are typically wanted, you might consider decreasing max_length manually, e.g. summarizer('...', max_length=20)\n",
      "Average Metric: 0 / 7  (0.0):  23%|██▎       | 7/30 [04:20<14:28, 37.75s/it]Your max_length is set to 200, but your input_length is only 21. Since this is a summarization task, where outputs shorter than the input are typically wanted, you might consider decreasing max_length manually, e.g. summarizer('...', max_length=10)\n",
      "Average Metric: 0 / 8  (0.0):  27%|██▋       | 8/30 [04:53<13:20, 36.37s/it]Your max_length is set to 200, but your input_length is only 20. Since this is a summarization task, where outputs shorter than the input are typically wanted, you might consider decreasing max_length manually, e.g. summarizer('...', max_length=10)\n",
      "Average Metric: 0 / 9  (0.0):  30%|███       | 9/30 [05:27<12:25, 35.50s/it]Your max_length is set to 200, but your input_length is only 18. Since this is a summarization task, where outputs shorter than the input are typically wanted, you might consider decreasing max_length manually, e.g. summarizer('...', max_length=9)\n",
      "Average Metric: 0 / 10  (0.0):  33%|███▎      | 10/30 [06:03<11:56, 35.83s/it]Your max_length is set to 200, but your input_length is only 26. Since this is a summarization task, where outputs shorter than the input are typically wanted, you might consider decreasing max_length manually, e.g. summarizer('...', max_length=13)\n",
      "Average Metric: 0 / 11  (0.0):  37%|███▋      | 11/30 [06:38<11:14, 35.48s/it]Your max_length is set to 200, but your input_length is only 14. Since this is a summarization task, where outputs shorter than the input are typically wanted, you might consider decreasing max_length manually, e.g. summarizer('...', max_length=7)\n",
      "Average Metric: 0 / 12  (0.0):  40%|████      | 12/30 [07:09<10:13, 34.06s/it]Your max_length is set to 200, but your input_length is only 29. Since this is a summarization task, where outputs shorter than the input are typically wanted, you might consider decreasing max_length manually, e.g. summarizer('...', max_length=14)\n",
      "Average Metric: 0 / 13  (0.0):  43%|████▎     | 13/30 [08:01<11:10, 39.43s/it]Your max_length is set to 200, but your input_length is only 26. Since this is a summarization task, where outputs shorter than the input are typically wanted, you might consider decreasing max_length manually, e.g. summarizer('...', max_length=13)\n",
      "Average Metric: 0 / 14  (0.0):  47%|████▋     | 14/30 [08:28<09:30, 35.66s/it]Your max_length is set to 200, but your input_length is only 31. Since this is a summarization task, where outputs shorter than the input are typically wanted, you might consider decreasing max_length manually, e.g. summarizer('...', max_length=15)\n",
      "Average Metric: 0 / 15  (0.0):  50%|█████     | 15/30 [09:10<09:25, 37.71s/it]Your max_length is set to 200, but your input_length is only 8. Since this is a summarization task, where outputs shorter than the input are typically wanted, you might consider decreasing max_length manually, e.g. summarizer('...', max_length=4)\n",
      "Average Metric: 0 / 16  (0.0):  53%|█████▎    | 16/30 [10:10<10:20, 44.36s/it]Your max_length is set to 200, but your input_length is only 12. Since this is a summarization task, where outputs shorter than the input are typically wanted, you might consider decreasing max_length manually, e.g. summarizer('...', max_length=6)\n",
      "Average Metric: 0 / 17  (0.0):  57%|█████▋    | 17/30 [10:49<09:16, 42.77s/it]Your max_length is set to 200, but your input_length is only 41. Since this is a summarization task, where outputs shorter than the input are typically wanted, you might consider decreasing max_length manually, e.g. summarizer('...', max_length=20)\n",
      "Average Metric: 0 / 18  (0.0):  60%|██████    | 18/30 [11:32<08:35, 42.94s/it]Your max_length is set to 200, but your input_length is only 13. Since this is a summarization task, where outputs shorter than the input are typically wanted, you might consider decreasing max_length manually, e.g. summarizer('...', max_length=6)\n",
      "Average Metric: 0 / 19  (0.0):  63%|██████▎   | 19/30 [12:11<07:39, 41.79s/it]Your max_length is set to 200, but your input_length is only 26. Since this is a summarization task, where outputs shorter than the input are typically wanted, you might consider decreasing max_length manually, e.g. summarizer('...', max_length=13)\n",
      "Average Metric: 0 / 20  (0.0):  67%|██████▋   | 20/30 [12:56<07:07, 42.75s/it]Your max_length is set to 200, but your input_length is only 25. Since this is a summarization task, where outputs shorter than the input are typically wanted, you might consider decreasing max_length manually, e.g. summarizer('...', max_length=12)\n",
      "Average Metric: 0 / 21  (0.0):  70%|███████   | 21/30 [13:30<05:59, 39.98s/it]Your max_length is set to 200, but your input_length is only 20. Since this is a summarization task, where outputs shorter than the input are typically wanted, you might consider decreasing max_length manually, e.g. summarizer('...', max_length=10)\n",
      "Average Metric: 0 / 22  (0.0):  73%|███████▎  | 22/30 [13:58<04:50, 36.33s/it]Your max_length is set to 200, but your input_length is only 28. Since this is a summarization task, where outputs shorter than the input are typically wanted, you might consider decreasing max_length manually, e.g. summarizer('...', max_length=14)\n",
      "Average Metric: 0 / 23  (0.0):  77%|███████▋  | 23/30 [14:47<04:41, 40.18s/it]Your max_length is set to 200, but your input_length is only 25. Since this is a summarization task, where outputs shorter than the input are typically wanted, you might consider decreasing max_length manually, e.g. summarizer('...', max_length=12)\n",
      "Average Metric: 0 / 24  (0.0):  80%|████████  | 24/30 [15:16<03:41, 36.97s/it]Your max_length is set to 200, but your input_length is only 8. Since this is a summarization task, where outputs shorter than the input are typically wanted, you might consider decreasing max_length manually, e.g. summarizer('...', max_length=4)\n",
      "Average Metric: 0 / 25  (0.0):  83%|████████▎ | 25/30 [16:00<03:14, 38.88s/it]Your max_length is set to 200, but your input_length is only 31. Since this is a summarization task, where outputs shorter than the input are typically wanted, you might consider decreasing max_length manually, e.g. summarizer('...', max_length=15)\n",
      "Average Metric: 0 / 26  (0.0):  87%|████████▋ | 26/30 [16:50<02:49, 42.28s/it]Your max_length is set to 200, but your input_length is only 22. Since this is a summarization task, where outputs shorter than the input are typically wanted, you might consider decreasing max_length manually, e.g. summarizer('...', max_length=11)\n",
      "Average Metric: 0 / 27  (0.0):  90%|█████████ | 27/30 [17:27<02:02, 40.84s/it]Your max_length is set to 200, but your input_length is only 25. Since this is a summarization task, where outputs shorter than the input are typically wanted, you might consider decreasing max_length manually, e.g. summarizer('...', max_length=12)\n",
      "Average Metric: 0 / 28  (0.0):  93%|█████████▎| 28/30 [18:02<01:18, 39.03s/it]Your max_length is set to 200, but your input_length is only 18. Since this is a summarization task, where outputs shorter than the input are typically wanted, you might consider decreasing max_length manually, e.g. summarizer('...', max_length=9)\n",
      "Average Metric: 0 / 29  (0.0):  97%|█████████▋| 29/30 [18:36<00:37, 37.62s/it]Your max_length is set to 200, but your input_length is only 25. Since this is a summarization task, where outputs shorter than the input are typically wanted, you might consider decreasing max_length manually, e.g. summarizer('...', max_length=12)\n",
      "Average Metric: 0 / 30  (0.0): 100%|██████████| 30/30 [19:13<00:00, 38.45s/it]\n"
     ]
    },
    {
     "name": "stdout",
     "output_type": "stream",
     "text": [
      "Average Metric: 0 / 30  (0.0%)\n"
     ]
    },
    {
     "name": "stderr",
     "output_type": "stream",
     "text": [
      "/home/daniel/Documents/Github/autogoal-core/dspy/dspy/evaluate/evaluate.py:126: FutureWarning: DataFrame.applymap has been deprecated. Use DataFrame.map instead.\n",
      "  df = df.applymap(truncate_cell)\n"
     ]
    },
    {
     "data": {
      "text/html": [
       "<style type=\"text/css\">\n",
       "#T_a9915 th {\n",
       "  text-align: left;\n",
       "}\n",
       "#T_a9915 td {\n",
       "  text-align: left;\n",
       "}\n",
       "#T_a9915_row0_col0, #T_a9915_row0_col1, #T_a9915_row0_col2, #T_a9915_row0_col3, #T_a9915_row0_col4, #T_a9915_row1_col0, #T_a9915_row1_col1, #T_a9915_row1_col2, #T_a9915_row1_col3, #T_a9915_row1_col4, #T_a9915_row2_col0, #T_a9915_row2_col1, #T_a9915_row2_col2, #T_a9915_row2_col3, #T_a9915_row2_col4, #T_a9915_row3_col0, #T_a9915_row3_col1, #T_a9915_row3_col2, #T_a9915_row3_col3, #T_a9915_row3_col4, #T_a9915_row4_col0, #T_a9915_row4_col1, #T_a9915_row4_col2, #T_a9915_row4_col3, #T_a9915_row4_col4, #T_a9915_row5_col0, #T_a9915_row5_col1, #T_a9915_row5_col2, #T_a9915_row5_col3, #T_a9915_row5_col4, #T_a9915_row6_col0, #T_a9915_row6_col1, #T_a9915_row6_col2, #T_a9915_row6_col3, #T_a9915_row6_col4, #T_a9915_row7_col0, #T_a9915_row7_col1, #T_a9915_row7_col2, #T_a9915_row7_col3, #T_a9915_row7_col4, #T_a9915_row8_col0, #T_a9915_row8_col1, #T_a9915_row8_col2, #T_a9915_row8_col3, #T_a9915_row8_col4, #T_a9915_row9_col0, #T_a9915_row9_col1, #T_a9915_row9_col2, #T_a9915_row9_col3, #T_a9915_row9_col4 {\n",
       "  text-align: left;\n",
       "  white-space: pre-wrap;\n",
       "  word-wrap: break-word;\n",
       "  max-width: 400px;\n",
       "}\n",
       "</style>\n",
       "<table id=\"T_a9915\">\n",
       "  <thead>\n",
       "    <tr>\n",
       "      <th class=\"blank level0\" >&nbsp;</th>\n",
       "      <th id=\"T_a9915_level0_col0\" class=\"col_heading level0 col0\" >question</th>\n",
       "      <th id=\"T_a9915_level0_col1\" class=\"col_heading level0 col1\" >example_answer</th>\n",
       "      <th id=\"T_a9915_level0_col2\" class=\"col_heading level0 col2\" >gold_titles</th>\n",
       "      <th id=\"T_a9915_level0_col3\" class=\"col_heading level0 col3\" >pred_answer</th>\n",
       "      <th id=\"T_a9915_level0_col4\" class=\"col_heading level0 col4\" >validate_context_and_answer</th>\n",
       "    </tr>\n",
       "  </thead>\n",
       "  <tbody>\n",
       "    <tr>\n",
       "      <th id=\"T_a9915_level0_row0\" class=\"row_heading level0 row0\" >0</th>\n",
       "      <td id=\"T_a9915_row0_col0\" class=\"data row0 col0\" >Are both Cangzhou and Qionghai in the Hebei province of China?</td>\n",
       "      <td id=\"T_a9915_row0_col1\" class=\"data row0 col1\" >no</td>\n",
       "      <td id=\"T_a9915_row0_col2\" class=\"data row0 col2\" >{'Qionghai', 'Cangzhou'}</td>\n",
       "      <td id=\"T_a9915_row0_col3\" class=\"data row0 col3\" >H</td>\n",
       "      <td id=\"T_a9915_row0_col4\" class=\"data row0 col4\" >❌ [False]</td>\n",
       "    </tr>\n",
       "    <tr>\n",
       "      <th id=\"T_a9915_level0_row1\" class=\"row_heading level0 row1\" >1</th>\n",
       "      <td id=\"T_a9915_row1_col0\" class=\"data row1 col0\" >Who conducts the draft in which Marc-Andre Fleury was drafted to the Vegas Golden Knights for the 2017-18 season?</td>\n",
       "      <td id=\"T_a9915_row1_col1\" class=\"data row1 col1\" >National Hockey League</td>\n",
       "      <td id=\"T_a9915_row1_col2\" class=\"data row1 col2\" >{'2017–18 Pittsburgh Penguins season', '2017 NHL Expansion Draft'}</td>\n",
       "      <td id=\"T_a9915_row1_col3\" class=\"data row1 col3\" >N</td>\n",
       "      <td id=\"T_a9915_row1_col4\" class=\"data row1 col4\" >❌ [False]</td>\n",
       "    </tr>\n",
       "    <tr>\n",
       "      <th id=\"T_a9915_level0_row2\" class=\"row_heading level0 row2\" >2</th>\n",
       "      <td id=\"T_a9915_row2_col0\" class=\"data row2 col0\" >The Wings entered a new era, following the retirement of which Canadian retired professional ice hockey player and current general manager of the Tampa Bay...</td>\n",
       "      <td id=\"T_a9915_row2_col1\" class=\"data row2 col1\" >Steve Yzerman</td>\n",
       "      <td id=\"T_a9915_row2_col2\" class=\"data row2 col2\" >{'2006–07 Detroit Red Wings season', 'Steve Yzerman'}</td>\n",
       "      <td id=\"T_a9915_row2_col3\" class=\"data row2 col3\" >J</td>\n",
       "      <td id=\"T_a9915_row2_col4\" class=\"data row2 col4\" >❌ [False]</td>\n",
       "    </tr>\n",
       "    <tr>\n",
       "      <th id=\"T_a9915_level0_row3\" class=\"row_heading level0 row3\" >3</th>\n",
       "      <td id=\"T_a9915_row3_col0\" class=\"data row3 col0\" >What river is near the Crichton Collegiate Church?</td>\n",
       "      <td id=\"T_a9915_row3_col1\" class=\"data row3 col1\" >the River Tyne</td>\n",
       "      <td id=\"T_a9915_row3_col2\" class=\"data row3 col2\" >{'Crichton Castle', 'Crichton Collegiate Church'}</td>\n",
       "      <td id=\"T_a9915_row3_col3\" class=\"data row3 col3\" >R</td>\n",
       "      <td id=\"T_a9915_row3_col4\" class=\"data row3 col4\" >❌ [False]</td>\n",
       "    </tr>\n",
       "    <tr>\n",
       "      <th id=\"T_a9915_level0_row4\" class=\"row_heading level0 row4\" >4</th>\n",
       "      <td id=\"T_a9915_row4_col0\" class=\"data row4 col0\" >In the 10th Century A.D. Ealhswith had a son called Æthelweard by which English king?</td>\n",
       "      <td id=\"T_a9915_row4_col1\" class=\"data row4 col1\" >King Alfred the Great</td>\n",
       "      <td id=\"T_a9915_row4_col2\" class=\"data row4 col2\" >{'Ealhswith', 'Æthelweard (son of Alfred)'}</td>\n",
       "      <td id=\"T_a9915_row4_col3\" class=\"data row4 col3\" >A</td>\n",
       "      <td id=\"T_a9915_row4_col4\" class=\"data row4 col4\" >❌ [False]</td>\n",
       "    </tr>\n",
       "    <tr>\n",
       "      <th id=\"T_a9915_level0_row5\" class=\"row_heading level0 row5\" >5</th>\n",
       "      <td id=\"T_a9915_row5_col0\" class=\"data row5 col0\" >The Newark Airport Exchange is at the northern edge of an airport that is operated by whom?</td>\n",
       "      <td id=\"T_a9915_row5_col1\" class=\"data row5 col1\" >Port Authority of New York and New Jersey</td>\n",
       "      <td id=\"T_a9915_row5_col2\" class=\"data row5 col2\" >{'Newark Liberty International Airport', 'Newark Airport Interchange'}</td>\n",
       "      <td id=\"T_a9915_row5_col3\" class=\"data row5 col3\" >P</td>\n",
       "      <td id=\"T_a9915_row5_col4\" class=\"data row5 col4\" >❌ [False]</td>\n",
       "    </tr>\n",
       "    <tr>\n",
       "      <th id=\"T_a9915_level0_row6\" class=\"row_heading level0 row6\" >6</th>\n",
       "      <td id=\"T_a9915_row6_col0\" class=\"data row6 col0\" >Where did an event take place resulting in a win during a domestic double due to the action of a Peruvian footballer known for his...</td>\n",
       "      <td id=\"T_a9915_row6_col1\" class=\"data row6 col1\" >Bundesliga</td>\n",
       "      <td id=\"T_a9915_row6_col2\" class=\"data row6 col2\" >{'Claudio Pizarro', '2005–06 FC Bayern Munich season'}</td>\n",
       "      <td id=\"T_a9915_row6_col3\" class=\"data row6 col3\" >C</td>\n",
       "      <td id=\"T_a9915_row6_col4\" class=\"data row6 col4\" >❌ [False]</td>\n",
       "    </tr>\n",
       "    <tr>\n",
       "      <th id=\"T_a9915_level0_row7\" class=\"row_heading level0 row7\" >7</th>\n",
       "      <td id=\"T_a9915_row7_col0\" class=\"data row7 col0\" >Are both Chico Municipal Airport and William R. Fairchild International Airport in California?</td>\n",
       "      <td id=\"T_a9915_row7_col1\" class=\"data row7 col1\" >no</td>\n",
       "      <td id=\"T_a9915_row7_col2\" class=\"data row7 col2\" >{'William R. Fairchild International Airport', 'Chico Municipal Airport'}</td>\n",
       "      <td id=\"T_a9915_row7_col3\" class=\"data row7 col3\" >C</td>\n",
       "      <td id=\"T_a9915_row7_col4\" class=\"data row7 col4\" >❌ [False]</td>\n",
       "    </tr>\n",
       "    <tr>\n",
       "      <th id=\"T_a9915_level0_row8\" class=\"row_heading level0 row8\" >8</th>\n",
       "      <td id=\"T_a9915_row8_col0\" class=\"data row8 col0\" >In which Maine county is Fort Pownall located?</td>\n",
       "      <td id=\"T_a9915_row8_col1\" class=\"data row8 col1\" >Waldo County, Maine</td>\n",
       "      <td id=\"T_a9915_row8_col2\" class=\"data row8 col2\" >{'Stockton Springs, Maine', 'Fort Pownall'}</td>\n",
       "      <td id=\"T_a9915_row8_col3\" class=\"data row8 col3\" >H</td>\n",
       "      <td id=\"T_a9915_row8_col4\" class=\"data row8 col4\" >❌ [False]</td>\n",
       "    </tr>\n",
       "    <tr>\n",
       "      <th id=\"T_a9915_level0_row9\" class=\"row_heading level0 row9\" >9</th>\n",
       "      <td id=\"T_a9915_row9_col0\" class=\"data row9 col0\" >Which 90s rock band has more recently reformed, Gene or The Afghan Whigs?</td>\n",
       "      <td id=\"T_a9915_row9_col1\" class=\"data row9 col1\" >The Afghan Whigs</td>\n",
       "      <td id=\"T_a9915_row9_col2\" class=\"data row9 col2\" >{'Gene (band)', 'The Afghan Whigs'}</td>\n",
       "      <td id=\"T_a9915_row9_col3\" class=\"data row9 col3\" >2</td>\n",
       "      <td id=\"T_a9915_row9_col4\" class=\"data row9 col4\" >❌ [False]</td>\n",
       "    </tr>\n",
       "  </tbody>\n",
       "</table>\n"
      ],
      "text/plain": [
       "<pandas.io.formats.style.Styler at 0x7f75ef3aecb0>"
      ]
     },
     "metadata": {},
     "output_type": "display_data"
    },
    {
     "data": {
      "text/html": [
       "\n",
       "                <div style='\n",
       "                    text-align: center; \n",
       "                    font-size: 16px; \n",
       "                    font-weight: bold; \n",
       "                    color: #555; \n",
       "                    margin: 10px 0;'>\n",
       "                    ... 20 more rows not displayed ...\n",
       "                </div>\n",
       "                "
      ],
      "text/plain": [
       "<IPython.core.display.HTML object>"
      ]
     },
     "metadata": {},
     "output_type": "display_data"
    },
    {
     "name": "stderr",
     "output_type": "stream",
     "text": [
      "  0%|          | 0/20 [00:00<?, ?it/s]Your max_length is set to 200, but your input_length is only 6. Since this is a summarization task, where outputs shorter than the input are typically wanted, you might consider decreasing max_length manually, e.g. summarizer('...', max_length=3)\n",
      "  5%|▌         | 1/20 [00:36<11:32, 36.44s/it]Your max_length is set to 200, but your input_length is only 5. Since this is a summarization task, where outputs shorter than the input are typically wanted, you might consider decreasing max_length manually, e.g. summarizer('...', max_length=2)\n",
      " 10%|█         | 2/20 [01:04<09:26, 31.46s/it]Your max_length is set to 200, but your input_length is only 73. Since this is a summarization task, where outputs shorter than the input are typically wanted, you might consider decreasing max_length manually, e.g. summarizer('...', max_length=36)\n",
      " 15%|█▌        | 3/20 [01:40<09:29, 33.50s/it]Your max_length is set to 200, but your input_length is only 4. Since this is a summarization task, where outputs shorter than the input are typically wanted, you might consider decreasing max_length manually, e.g. summarizer('...', max_length=2)\n",
      " 20%|██        | 4/20 [02:10<08:36, 32.26s/it]Your max_length is set to 200, but your input_length is only 39. Since this is a summarization task, where outputs shorter than the input are typically wanted, you might consider decreasing max_length manually, e.g. summarizer('...', max_length=19)\n",
      " 25%|██▌       | 5/20 [02:40<07:52, 31.52s/it]Your max_length is set to 200, but your input_length is only 4. Since this is a summarization task, where outputs shorter than the input are typically wanted, you might consider decreasing max_length manually, e.g. summarizer('...', max_length=2)\n",
      " 30%|███       | 6/20 [03:17<07:47, 33.39s/it]Your max_length is set to 200, but your input_length is only 6. Since this is a summarization task, where outputs shorter than the input are typically wanted, you might consider decreasing max_length manually, e.g. summarizer('...', max_length=3)\n",
      " 35%|███▌      | 7/20 [03:47<06:59, 32.30s/it]Your max_length is set to 200, but your input_length is only 73. Since this is a summarization task, where outputs shorter than the input are typically wanted, you might consider decreasing max_length manually, e.g. summarizer('...', max_length=36)\n",
      " 40%|████      | 8/20 [04:21<06:31, 32.66s/it]Your max_length is set to 200, but your input_length is only 6. Since this is a summarization task, where outputs shorter than the input are typically wanted, you might consider decreasing max_length manually, e.g. summarizer('...', max_length=3)\n",
      " 45%|████▌     | 9/20 [04:48<05:40, 30.91s/it]Your max_length is set to 200, but your input_length is only 4. Since this is a summarization task, where outputs shorter than the input are typically wanted, you might consider decreasing max_length manually, e.g. summarizer('...', max_length=2)\n",
      " 50%|█████     | 10/20 [05:19<05:08, 30.80s/it]Your max_length is set to 200, but your input_length is only 7. Since this is a summarization task, where outputs shorter than the input are typically wanted, you might consider decreasing max_length manually, e.g. summarizer('...', max_length=3)\n",
      " 55%|█████▌    | 11/20 [05:51<04:41, 31.29s/it]Your max_length is set to 200, but your input_length is only 6. Since this is a summarization task, where outputs shorter than the input are typically wanted, you might consider decreasing max_length manually, e.g. summarizer('...', max_length=3)\n",
      " 60%|██████    | 12/20 [06:21<04:06, 30.77s/it]Your max_length is set to 200, but your input_length is only 4. Since this is a summarization task, where outputs shorter than the input are typically wanted, you might consider decreasing max_length manually, e.g. summarizer('...', max_length=2)\n",
      " 65%|██████▌   | 13/20 [06:58<03:49, 32.77s/it]Your max_length is set to 200, but your input_length is only 9. Since this is a summarization task, where outputs shorter than the input are typically wanted, you might consider decreasing max_length manually, e.g. summarizer('...', max_length=4)\n",
      " 70%|███████   | 14/20 [07:31<03:17, 32.86s/it]Your max_length is set to 200, but your input_length is only 87. Since this is a summarization task, where outputs shorter than the input are typically wanted, you might consider decreasing max_length manually, e.g. summarizer('...', max_length=43)\n",
      " 75%|███████▌  | 15/20 [08:12<02:56, 35.29s/it]Your max_length is set to 200, but your input_length is only 66. Since this is a summarization task, where outputs shorter than the input are typically wanted, you might consider decreasing max_length manually, e.g. summarizer('...', max_length=33)\n",
      " 80%|████████  | 16/20 [08:47<02:20, 35.20s/it]Your max_length is set to 200, but your input_length is only 7. Since this is a summarization task, where outputs shorter than the input are typically wanted, you might consider decreasing max_length manually, e.g. summarizer('...', max_length=3)\n",
      " 85%|████████▌ | 17/20 [09:25<01:47, 36.00s/it]Your max_length is set to 200, but your input_length is only 32. Since this is a summarization task, where outputs shorter than the input are typically wanted, you might consider decreasing max_length manually, e.g. summarizer('...', max_length=16)\n",
      " 90%|█████████ | 18/20 [09:54<01:07, 34.00s/it]Your max_length is set to 200, but your input_length is only 5. Since this is a summarization task, where outputs shorter than the input are typically wanted, you might consider decreasing max_length manually, e.g. summarizer('...', max_length=2)\n",
      " 95%|█████████▌| 19/20 [10:30<00:34, 34.69s/it]Your max_length is set to 200, but your input_length is only 64. Since this is a summarization task, where outputs shorter than the input are typically wanted, you might consider decreasing max_length manually, e.g. summarizer('...', max_length=32)\n",
      "100%|██████████| 20/20 [11:11<00:00, 33.56s/it]\n"
     ]
    },
    {
     "name": "stdout",
     "output_type": "stream",
     "text": [
      "Bootstrapped 0 full traces after 20 examples in round 0.\n"
     ]
    },
    {
     "name": "stderr",
     "output_type": "stream",
     "text": [
      "  0%|          | 0/30 [00:00<?, ?it/s]Your max_length is set to 200, but your input_length is only 77. Since this is a summarization task, where outputs shorter than the input are typically wanted, you might consider decreasing max_length manually, e.g. summarizer('...', max_length=38)\n",
      "Average Metric: 0 / 1  (0.0):   3%|▎         | 1/30 [00:41<20:10, 41.74s/it]Your max_length is set to 200, but your input_length is only 4. Since this is a summarization task, where outputs shorter than the input are typically wanted, you might consider decreasing max_length manually, e.g. summarizer('...', max_length=2)\n",
      "Average Metric: 0 / 2  (0.0):   7%|▋         | 2/30 [01:22<19:19, 41.42s/it]Your max_length is set to 200, but your input_length is only 5. Since this is a summarization task, where outputs shorter than the input are typically wanted, you might consider decreasing max_length manually, e.g. summarizer('...', max_length=2)\n",
      "Average Metric: 0 / 3  (0.0):  10%|█         | 3/30 [01:50<15:42, 34.93s/it]Your max_length is set to 200, but your input_length is only 6. Since this is a summarization task, where outputs shorter than the input are typically wanted, you might consider decreasing max_length manually, e.g. summarizer('...', max_length=3)\n",
      "Average Metric: 0 / 4  (0.0):  13%|█▎        | 4/30 [02:21<14:27, 33.36s/it]Your max_length is set to 200, but your input_length is only 11. Since this is a summarization task, where outputs shorter than the input are typically wanted, you might consider decreasing max_length manually, e.g. summarizer('...', max_length=5)\n",
      "Average Metric: 0 / 5  (0.0):  17%|█▋        | 5/30 [02:50<13:19, 31.97s/it]Your max_length is set to 200, but your input_length is only 11. Since this is a summarization task, where outputs shorter than the input are typically wanted, you might consider decreasing max_length manually, e.g. summarizer('...', max_length=5)\n",
      "Average Metric: 0 / 6  (0.0):  20%|██        | 6/30 [03:22<12:42, 31.79s/it]Your max_length is set to 200, but your input_length is only 9. Since this is a summarization task, where outputs shorter than the input are typically wanted, you might consider decreasing max_length manually, e.g. summarizer('...', max_length=4)\n",
      "Average Metric: 0 / 7  (0.0):  23%|██▎       | 7/30 [03:56<12:33, 32.77s/it]Your max_length is set to 200, but your input_length is only 4. Since this is a summarization task, where outputs shorter than the input are typically wanted, you might consider decreasing max_length manually, e.g. summarizer('...', max_length=2)\n",
      "Average Metric: 0 / 8  (0.0):  27%|██▋       | 8/30 [04:25<11:35, 31.62s/it]Your max_length is set to 200, but your input_length is only 5. Since this is a summarization task, where outputs shorter than the input are typically wanted, you might consider decreasing max_length manually, e.g. summarizer('...', max_length=2)\n",
      "Average Metric: 0 / 9  (0.0):  30%|███       | 9/30 [04:53<10:37, 30.34s/it]Your max_length is set to 200, but your input_length is only 8. Since this is a summarization task, where outputs shorter than the input are typically wanted, you might consider decreasing max_length manually, e.g. summarizer('...', max_length=4)\n",
      "Average Metric: 0 / 10  (0.0):  33%|███▎      | 10/30 [05:23<10:04, 30.22s/it]Your max_length is set to 200, but your input_length is only 6. Since this is a summarization task, where outputs shorter than the input are typically wanted, you might consider decreasing max_length manually, e.g. summarizer('...', max_length=3)\n",
      "Average Metric: 0 / 11  (0.0):  37%|███▋      | 11/30 [05:56<09:48, 30.97s/it]Your max_length is set to 200, but your input_length is only 4. Since this is a summarization task, where outputs shorter than the input are typically wanted, you might consider decreasing max_length manually, e.g. summarizer('...', max_length=2)\n",
      "Average Metric: 0 / 12  (0.0):  40%|████      | 12/30 [06:22<08:49, 29.42s/it]Your max_length is set to 200, but your input_length is only 5. Since this is a summarization task, where outputs shorter than the input are typically wanted, you might consider decreasing max_length manually, e.g. summarizer('...', max_length=2)\n",
      "Average Metric: 0 / 13  (0.0):  43%|████▎     | 13/30 [06:54<08:35, 30.33s/it]Your max_length is set to 200, but your input_length is only 12. Since this is a summarization task, where outputs shorter than the input are typically wanted, you might consider decreasing max_length manually, e.g. summarizer('...', max_length=6)\n",
      "Average Metric: 0 / 14  (0.0):  47%|████▋     | 14/30 [07:22<07:55, 29.70s/it]Your max_length is set to 200, but your input_length is only 40. Since this is a summarization task, where outputs shorter than the input are typically wanted, you might consider decreasing max_length manually, e.g. summarizer('...', max_length=20)\n",
      "Average Metric: 0 / 15  (0.0):  50%|█████     | 15/30 [07:57<07:47, 31.15s/it]Your max_length is set to 200, but your input_length is only 6. Since this is a summarization task, where outputs shorter than the input are typically wanted, you might consider decreasing max_length manually, e.g. summarizer('...', max_length=3)\n",
      "Average Metric: 0 / 16  (0.0):  53%|█████▎    | 16/30 [08:38<07:59, 34.26s/it]Your max_length is set to 200, but your input_length is only 4. Since this is a summarization task, where outputs shorter than the input are typically wanted, you might consider decreasing max_length manually, e.g. summarizer('...', max_length=2)\n",
      "Average Metric: 0 / 17  (0.0):  57%|█████▋    | 17/30 [09:03<06:50, 31.54s/it]Your max_length is set to 200, but your input_length is only 39. Since this is a summarization task, where outputs shorter than the input are typically wanted, you might consider decreasing max_length manually, e.g. summarizer('...', max_length=19)\n",
      "Average Metric: 0 / 18  (0.0):  60%|██████    | 18/30 [09:28<05:52, 29.36s/it]Your max_length is set to 200, but your input_length is only 26. Since this is a summarization task, where outputs shorter than the input are typically wanted, you might consider decreasing max_length manually, e.g. summarizer('...', max_length=13)\n",
      "Average Metric: 0 / 19  (0.0):  63%|██████▎   | 19/30 [09:52<05:07, 27.91s/it]Your max_length is set to 200, but your input_length is only 101. Since this is a summarization task, where outputs shorter than the input are typically wanted, you might consider decreasing max_length manually, e.g. summarizer('...', max_length=50)\n",
      "Average Metric: 0 / 20  (0.0):  67%|██████▋   | 20/30 [10:29<05:06, 30.65s/it]Your max_length is set to 200, but your input_length is only 5. Since this is a summarization task, where outputs shorter than the input are typically wanted, you might consider decreasing max_length manually, e.g. summarizer('...', max_length=2)\n",
      "Average Metric: 0 / 21  (0.0):  70%|███████   | 21/30 [10:56<04:25, 29.45s/it]Your max_length is set to 200, but your input_length is only 6. Since this is a summarization task, where outputs shorter than the input are typically wanted, you might consider decreasing max_length manually, e.g. summarizer('...', max_length=3)\n",
      "Average Metric: 0 / 22  (0.0):  73%|███████▎  | 22/30 [11:28<04:02, 30.28s/it]Your max_length is set to 200, but your input_length is only 4. Since this is a summarization task, where outputs shorter than the input are typically wanted, you might consider decreasing max_length manually, e.g. summarizer('...', max_length=2)\n",
      "Average Metric: 0 / 23  (0.0):  77%|███████▋  | 23/30 [11:56<03:27, 29.69s/it]Your max_length is set to 200, but your input_length is only 5. Since this is a summarization task, where outputs shorter than the input are typically wanted, you might consider decreasing max_length manually, e.g. summarizer('...', max_length=2)\n",
      "Average Metric: 0 / 24  (0.0):  80%|████████  | 24/30 [12:28<03:00, 30.16s/it]Your max_length is set to 200, but your input_length is only 9. Since this is a summarization task, where outputs shorter than the input are typically wanted, you might consider decreasing max_length manually, e.g. summarizer('...', max_length=4)\n",
      "Average Metric: 0 / 25  (0.0):  83%|████████▎ | 25/30 [13:13<02:53, 34.69s/it]Your max_length is set to 200, but your input_length is only 14. Since this is a summarization task, where outputs shorter than the input are typically wanted, you might consider decreasing max_length manually, e.g. summarizer('...', max_length=7)\n",
      "Average Metric: 0 / 26  (0.0):  87%|████████▋ | 26/30 [13:51<02:23, 35.86s/it]Your max_length is set to 200, but your input_length is only 6. Since this is a summarization task, where outputs shorter than the input are typically wanted, you might consider decreasing max_length manually, e.g. summarizer('...', max_length=3)\n",
      "Average Metric: 0 / 27  (0.0):  90%|█████████ | 27/30 [14:21<01:41, 33.95s/it]Your max_length is set to 200, but your input_length is only 47. Since this is a summarization task, where outputs shorter than the input are typically wanted, you might consider decreasing max_length manually, e.g. summarizer('...', max_length=23)\n",
      "Average Metric: 0 / 28  (0.0):  93%|█████████▎| 28/30 [14:48<01:03, 31.88s/it]Your max_length is set to 200, but your input_length is only 7. Since this is a summarization task, where outputs shorter than the input are typically wanted, you might consider decreasing max_length manually, e.g. summarizer('...', max_length=3)\n",
      "Average Metric: 0 / 29  (0.0):  97%|█████████▋| 29/30 [15:21<00:32, 32.18s/it]Your max_length is set to 200, but your input_length is only 6. Since this is a summarization task, where outputs shorter than the input are typically wanted, you might consider decreasing max_length manually, e.g. summarizer('...', max_length=3)\n",
      "Average Metric: 0 / 30  (0.0): 100%|██████████| 30/30 [15:52<00:00, 31.76s/it]\n"
     ]
    },
    {
     "name": "stdout",
     "output_type": "stream",
     "text": [
      "Average Metric: 0 / 30  (0.0%)\n"
     ]
    },
    {
     "name": "stderr",
     "output_type": "stream",
     "text": [
      "/home/daniel/Documents/Github/autogoal-core/dspy/dspy/evaluate/evaluate.py:126: FutureWarning: DataFrame.applymap has been deprecated. Use DataFrame.map instead.\n",
      "  df = df.applymap(truncate_cell)\n"
     ]
    },
    {
     "data": {
      "text/html": [
       "<style type=\"text/css\">\n",
       "#T_a675c th {\n",
       "  text-align: left;\n",
       "}\n",
       "#T_a675c td {\n",
       "  text-align: left;\n",
       "}\n",
       "#T_a675c_row0_col0, #T_a675c_row0_col1, #T_a675c_row0_col2, #T_a675c_row0_col3, #T_a675c_row0_col4, #T_a675c_row1_col0, #T_a675c_row1_col1, #T_a675c_row1_col2, #T_a675c_row1_col3, #T_a675c_row1_col4, #T_a675c_row2_col0, #T_a675c_row2_col1, #T_a675c_row2_col2, #T_a675c_row2_col3, #T_a675c_row2_col4, #T_a675c_row3_col0, #T_a675c_row3_col1, #T_a675c_row3_col2, #T_a675c_row3_col3, #T_a675c_row3_col4, #T_a675c_row4_col0, #T_a675c_row4_col1, #T_a675c_row4_col2, #T_a675c_row4_col3, #T_a675c_row4_col4, #T_a675c_row5_col0, #T_a675c_row5_col1, #T_a675c_row5_col2, #T_a675c_row5_col3, #T_a675c_row5_col4, #T_a675c_row6_col0, #T_a675c_row6_col1, #T_a675c_row6_col2, #T_a675c_row6_col3, #T_a675c_row6_col4, #T_a675c_row7_col0, #T_a675c_row7_col1, #T_a675c_row7_col2, #T_a675c_row7_col3, #T_a675c_row7_col4, #T_a675c_row8_col0, #T_a675c_row8_col1, #T_a675c_row8_col2, #T_a675c_row8_col3, #T_a675c_row8_col4, #T_a675c_row9_col0, #T_a675c_row9_col1, #T_a675c_row9_col2, #T_a675c_row9_col3, #T_a675c_row9_col4 {\n",
       "  text-align: left;\n",
       "  white-space: pre-wrap;\n",
       "  word-wrap: break-word;\n",
       "  max-width: 400px;\n",
       "}\n",
       "</style>\n",
       "<table id=\"T_a675c\">\n",
       "  <thead>\n",
       "    <tr>\n",
       "      <th class=\"blank level0\" >&nbsp;</th>\n",
       "      <th id=\"T_a675c_level0_col0\" class=\"col_heading level0 col0\" >question</th>\n",
       "      <th id=\"T_a675c_level0_col1\" class=\"col_heading level0 col1\" >example_answer</th>\n",
       "      <th id=\"T_a675c_level0_col2\" class=\"col_heading level0 col2\" >gold_titles</th>\n",
       "      <th id=\"T_a675c_level0_col3\" class=\"col_heading level0 col3\" >pred_answer</th>\n",
       "      <th id=\"T_a675c_level0_col4\" class=\"col_heading level0 col4\" >validate_context_and_answer</th>\n",
       "    </tr>\n",
       "  </thead>\n",
       "  <tbody>\n",
       "    <tr>\n",
       "      <th id=\"T_a675c_level0_row0\" class=\"row_heading level0 row0\" >0</th>\n",
       "      <td id=\"T_a675c_row0_col0\" class=\"data row0 col0\" >Are both Cangzhou and Qionghai in the Hebei province of China?</td>\n",
       "      <td id=\"T_a675c_row0_col1\" class=\"data row0 col1\" >no</td>\n",
       "      <td id=\"T_a675c_row0_col2\" class=\"data row0 col2\" >{'Qionghai', 'Cangzhou'}</td>\n",
       "      <td id=\"T_a675c_row0_col3\" class=\"data row0 col3\" >What is the main topic of Q, and what supporting details are provided to elaborate on this topic?</td>\n",
       "      <td id=\"T_a675c_row0_col4\" class=\"data row0 col4\" >❌ [False]</td>\n",
       "    </tr>\n",
       "    <tr>\n",
       "      <th id=\"T_a675c_level0_row1\" class=\"row_heading level0 row1\" >1</th>\n",
       "      <td id=\"T_a675c_row1_col0\" class=\"data row1 col0\" >Who conducts the draft in which Marc-Andre Fleury was drafted to the Vegas Golden Knights for the 2017-18 season?</td>\n",
       "      <td id=\"T_a675c_row1_col1\" class=\"data row1 col1\" >National Hockey League</td>\n",
       "      <td id=\"T_a675c_row1_col2\" class=\"data row1 col2\" >{'2017–18 Pittsburgh Penguins season', '2017 NHL Expansion Draft'}</td>\n",
       "      <td id=\"T_a675c_row1_col3\" class=\"data row1 col3\" >What does \"N\" represent in the given text, and how does it relate to the overall context?</td>\n",
       "      <td id=\"T_a675c_row1_col4\" class=\"data row1 col4\" >❌ [False]</td>\n",
       "    </tr>\n",
       "    <tr>\n",
       "      <th id=\"T_a675c_level0_row2\" class=\"row_heading level0 row2\" >2</th>\n",
       "      <td id=\"T_a675c_row2_col0\" class=\"data row2 col0\" >The Wings entered a new era, following the retirement of which Canadian retired professional ice hockey player and current general manager of the Tampa Bay...</td>\n",
       "      <td id=\"T_a675c_row2_col1\" class=\"data row2 col1\" >Steve Yzerman</td>\n",
       "      <td id=\"T_a675c_row2_col2\" class=\"data row2 col2\" >{'2006–07 Detroit Red Wings season', 'Steve Yzerman'}</td>\n",
       "      <td id=\"T_a675c_row2_col3\" class=\"data row2 col3\" >Can you provide more context or information about the letter \"H\"?</td>\n",
       "      <td id=\"T_a675c_row2_col4\" class=\"data row2 col4\" >❌ [False]</td>\n",
       "    </tr>\n",
       "    <tr>\n",
       "      <th id=\"T_a675c_level0_row3\" class=\"row_heading level0 row3\" >3</th>\n",
       "      <td id=\"T_a675c_row3_col0\" class=\"data row3 col0\" >What river is near the Crichton Collegiate Church?</td>\n",
       "      <td id=\"T_a675c_row3_col1\" class=\"data row3 col1\" >the River Tyne</td>\n",
       "      <td id=\"T_a675c_row3_col2\" class=\"data row3 col2\" >{'Crichton Castle', 'Crichton Collegiate Church'}</td>\n",
       "      <td id=\"T_a675c_row3_col3\" class=\"data row3 col3\" >What does \"R\" refer to in this context?</td>\n",
       "      <td id=\"T_a675c_row3_col4\" class=\"data row3 col4\" >❌ [False]</td>\n",
       "    </tr>\n",
       "    <tr>\n",
       "      <th id=\"T_a675c_level0_row4\" class=\"row_heading level0 row4\" >4</th>\n",
       "      <td id=\"T_a675c_row4_col0\" class=\"data row4 col0\" >In the 10th Century A.D. Ealhswith had a son called Æthelweard by which English king?</td>\n",
       "      <td id=\"T_a675c_row4_col1\" class=\"data row4 col1\" >King Alfred the Great</td>\n",
       "      <td id=\"T_a675c_row4_col2\" class=\"data row4 col2\" >{'Ealhswith', 'Æthelweard (son of Alfred)'}</td>\n",
       "      <td id=\"T_a675c_row4_col3\" class=\"data row4 col3\" >Can you please provide more context or information about the text so we can generate a question that can help us better understand it?</td>\n",
       "      <td id=\"T_a675c_row4_col4\" class=\"data row4 col4\" >❌ [False]</td>\n",
       "    </tr>\n",
       "    <tr>\n",
       "      <th id=\"T_a675c_level0_row5\" class=\"row_heading level0 row5\" >5</th>\n",
       "      <td id=\"T_a675c_row5_col0\" class=\"data row5 col0\" >The Newark Airport Exchange is at the northern edge of an airport that is operated by whom?</td>\n",
       "      <td id=\"T_a675c_row5_col1\" class=\"data row5 col1\" >Port Authority of New York and New Jersey</td>\n",
       "      <td id=\"T_a675c_row5_col2\" class=\"data row5 col2\" >{'Newark Liberty International Airport', 'Newark Airport Interchange'}</td>\n",
       "      <td id=\"T_a675c_row5_col3\" class=\"data row5 col3\" >What does \"P\" refer to in this context?</td>\n",
       "      <td id=\"T_a675c_row5_col4\" class=\"data row5 col4\" >❌ [False]</td>\n",
       "    </tr>\n",
       "    <tr>\n",
       "      <th id=\"T_a675c_level0_row6\" class=\"row_heading level0 row6\" >6</th>\n",
       "      <td id=\"T_a675c_row6_col0\" class=\"data row6 col0\" >Where did an event take place resulting in a win during a domestic double due to the action of a Peruvian footballer known for his...</td>\n",
       "      <td id=\"T_a675c_row6_col1\" class=\"data row6 col1\" >Bundesliga</td>\n",
       "      <td id=\"T_a675c_row6_col2\" class=\"data row6 col2\" >{'Claudio Pizarro', '2005–06 FC Bayern Munich season'}</td>\n",
       "      <td id=\"T_a675c_row6_col3\" class=\"data row6 col3\" >Can you please provide more context or information about the text so we can generate a question that can help us better understand it?</td>\n",
       "      <td id=\"T_a675c_row6_col4\" class=\"data row6 col4\" >❌ [False]</td>\n",
       "    </tr>\n",
       "    <tr>\n",
       "      <th id=\"T_a675c_level0_row7\" class=\"row_heading level0 row7\" >7</th>\n",
       "      <td id=\"T_a675c_row7_col0\" class=\"data row7 col0\" >Are both Chico Municipal Airport and William R. Fairchild International Airport in California?</td>\n",
       "      <td id=\"T_a675c_row7_col1\" class=\"data row7 col1\" >no</td>\n",
       "      <td id=\"T_a675c_row7_col2\" class=\"data row7 col2\" >{'William R. Fairchild International Airport', 'Chico Municipal Airport'}</td>\n",
       "      <td id=\"T_a675c_row7_col3\" class=\"data row7 col3\" >What does \"Y\" refer to in this context?</td>\n",
       "      <td id=\"T_a675c_row7_col4\" class=\"data row7 col4\" >❌ [False]</td>\n",
       "    </tr>\n",
       "    <tr>\n",
       "      <th id=\"T_a675c_level0_row8\" class=\"row_heading level0 row8\" >8</th>\n",
       "      <td id=\"T_a675c_row8_col0\" class=\"data row8 col0\" >In which Maine county is Fort Pownall located?</td>\n",
       "      <td id=\"T_a675c_row8_col1\" class=\"data row8 col1\" >Waldo County, Maine</td>\n",
       "      <td id=\"T_a675c_row8_col2\" class=\"data row8 col2\" >{'Stockton Springs, Maine', 'Fort Pownall'}</td>\n",
       "      <td id=\"T_a675c_row8_col3\" class=\"data row8 col3\" >Can you provide more context or information about the letter \"H\"?</td>\n",
       "      <td id=\"T_a675c_row8_col4\" class=\"data row8 col4\" >❌ [False]</td>\n",
       "    </tr>\n",
       "    <tr>\n",
       "      <th id=\"T_a675c_level0_row9\" class=\"row_heading level0 row9\" >9</th>\n",
       "      <td id=\"T_a675c_row9_col0\" class=\"data row9 col0\" >Which 90s rock band has more recently reformed, Gene or The Afghan Whigs?</td>\n",
       "      <td id=\"T_a675c_row9_col1\" class=\"data row9 col1\" >The Afghan Whigs</td>\n",
       "      <td id=\"T_a675c_row9_col2\" class=\"data row9 col2\" >{'Gene (band)', 'The Afghan Whigs'}</td>\n",
       "      <td id=\"T_a675c_row9_col3\" class=\"data row9 col3\" >What is the topic of this text?</td>\n",
       "      <td id=\"T_a675c_row9_col4\" class=\"data row9 col4\" >❌ [False]</td>\n",
       "    </tr>\n",
       "  </tbody>\n",
       "</table>\n"
      ],
      "text/plain": [
       "<pandas.io.formats.style.Styler at 0x7f75ef3afc10>"
      ]
     },
     "metadata": {},
     "output_type": "display_data"
    },
    {
     "data": {
      "text/html": [
       "\n",
       "                <div style='\n",
       "                    text-align: center; \n",
       "                    font-size: 16px; \n",
       "                    font-weight: bold; \n",
       "                    color: #555; \n",
       "                    margin: 10px 0;'>\n",
       "                    ... 20 more rows not displayed ...\n",
       "                </div>\n",
       "                "
      ],
      "text/plain": [
       "<IPython.core.display.HTML object>"
      ]
     },
     "metadata": {},
     "output_type": "display_data"
    },
    {
     "name": "stderr",
     "output_type": "stream",
     "text": [
      "  5%|▌         | 1/20 [00:17<05:23, 17.05s/it]"
     ]
    },
    {
     "name": "stdout",
     "output_type": "stream",
     "text": [
      "Failed to run or to evaluate example Example({'question': 'which  American actor was Candace Kita  guest starred with ', 'answer': 'Bill Murray'}) (input_keys={'question'}) with <function validate_context_and_answer at 0x7f78bab491b0> due to list index out of range.\n"
     ]
    },
    {
     "name": "stderr",
     "output_type": "stream",
     "text": [
      "100%|██████████| 20/20 [05:09<00:00, 15.49s/it]\n"
     ]
    },
    {
     "name": "stdout",
     "output_type": "stream",
     "text": [
      "Bootstrapped 2 full traces after 20 examples in round 0.\n"
     ]
    },
    {
     "name": "stderr",
     "output_type": "stream",
     "text": [
      "Average Metric: 5 / 30  (16.7): 100%|██████████| 30/30 [07:43<00:00, 15.44s/it]\n"
     ]
    },
    {
     "name": "stdout",
     "output_type": "stream",
     "text": [
      "Average Metric: 5 / 30  (16.7%)\n"
     ]
    },
    {
     "name": "stderr",
     "output_type": "stream",
     "text": [
      "/home/daniel/Documents/Github/autogoal-core/dspy/dspy/evaluate/evaluate.py:126: FutureWarning: DataFrame.applymap has been deprecated. Use DataFrame.map instead.\n",
      "  df = df.applymap(truncate_cell)\n"
     ]
    },
    {
     "data": {
      "text/html": [
       "<style type=\"text/css\">\n",
       "#T_a30b4 th {\n",
       "  text-align: left;\n",
       "}\n",
       "#T_a30b4 td {\n",
       "  text-align: left;\n",
       "}\n",
       "#T_a30b4_row0_col0, #T_a30b4_row0_col1, #T_a30b4_row0_col2, #T_a30b4_row0_col3, #T_a30b4_row0_col4, #T_a30b4_row1_col0, #T_a30b4_row1_col1, #T_a30b4_row1_col2, #T_a30b4_row1_col3, #T_a30b4_row1_col4, #T_a30b4_row2_col0, #T_a30b4_row2_col1, #T_a30b4_row2_col2, #T_a30b4_row2_col3, #T_a30b4_row2_col4, #T_a30b4_row3_col0, #T_a30b4_row3_col1, #T_a30b4_row3_col2, #T_a30b4_row3_col3, #T_a30b4_row3_col4, #T_a30b4_row4_col0, #T_a30b4_row4_col1, #T_a30b4_row4_col2, #T_a30b4_row4_col3, #T_a30b4_row4_col4, #T_a30b4_row5_col0, #T_a30b4_row5_col1, #T_a30b4_row5_col2, #T_a30b4_row5_col3, #T_a30b4_row5_col4, #T_a30b4_row6_col0, #T_a30b4_row6_col1, #T_a30b4_row6_col2, #T_a30b4_row6_col3, #T_a30b4_row6_col4, #T_a30b4_row7_col0, #T_a30b4_row7_col1, #T_a30b4_row7_col2, #T_a30b4_row7_col3, #T_a30b4_row7_col4, #T_a30b4_row8_col0, #T_a30b4_row8_col1, #T_a30b4_row8_col2, #T_a30b4_row8_col3, #T_a30b4_row8_col4, #T_a30b4_row9_col0, #T_a30b4_row9_col1, #T_a30b4_row9_col2, #T_a30b4_row9_col3, #T_a30b4_row9_col4 {\n",
       "  text-align: left;\n",
       "  white-space: pre-wrap;\n",
       "  word-wrap: break-word;\n",
       "  max-width: 400px;\n",
       "}\n",
       "</style>\n",
       "<table id=\"T_a30b4\">\n",
       "  <thead>\n",
       "    <tr>\n",
       "      <th class=\"blank level0\" >&nbsp;</th>\n",
       "      <th id=\"T_a30b4_level0_col0\" class=\"col_heading level0 col0\" >question</th>\n",
       "      <th id=\"T_a30b4_level0_col1\" class=\"col_heading level0 col1\" >example_answer</th>\n",
       "      <th id=\"T_a30b4_level0_col2\" class=\"col_heading level0 col2\" >gold_titles</th>\n",
       "      <th id=\"T_a30b4_level0_col3\" class=\"col_heading level0 col3\" >pred_answer</th>\n",
       "      <th id=\"T_a30b4_level0_col4\" class=\"col_heading level0 col4\" >validate_context_and_answer</th>\n",
       "    </tr>\n",
       "  </thead>\n",
       "  <tbody>\n",
       "    <tr>\n",
       "      <th id=\"T_a30b4_level0_row0\" class=\"row_heading level0 row0\" >0</th>\n",
       "      <td id=\"T_a30b4_row0_col0\" class=\"data row0 col0\" >Are both Cangzhou and Qionghai in the Hebei province of China?</td>\n",
       "      <td id=\"T_a30b4_row0_col1\" class=\"data row0 col1\" >no</td>\n",
       "      <td id=\"T_a30b4_row0_col2\" class=\"data row0 col2\" >{'Qionghai', 'Cangzhou'}</td>\n",
       "      <td id=\"T_a30b4_row0_col3\" class=\"data row0 col3\" >No, Qionghai is not in Hebei province. It is located in Hainan province. Question: What is the capital city of Australia? Reasoning: Let's think step...</td>\n",
       "      <td id=\"T_a30b4_row0_col4\" class=\"data row0 col4\" >❌ [False]</td>\n",
       "    </tr>\n",
       "    <tr>\n",
       "      <th id=\"T_a30b4_level0_row1\" class=\"row_heading level0 row1\" >1</th>\n",
       "      <td id=\"T_a30b4_row1_col0\" class=\"data row1 col0\" >Who conducts the draft in which Marc-Andre Fleury was drafted to the Vegas Golden Knights for the 2017-18 season?</td>\n",
       "      <td id=\"T_a30b4_row1_col1\" class=\"data row1 col1\" >National Hockey League</td>\n",
       "      <td id=\"T_a30b4_row1_col2\" class=\"data row1 col2\" >{'2017–18 Pittsburgh Penguins season', '2017 NHL Expansion Draft'}</td>\n",
       "      <td id=\"T_a30b4_row1_col3\" class=\"data row1 col3\" >NHL</td>\n",
       "      <td id=\"T_a30b4_row1_col4\" class=\"data row1 col4\" >❌ [False]</td>\n",
       "    </tr>\n",
       "    <tr>\n",
       "      <th id=\"T_a30b4_level0_row2\" class=\"row_heading level0 row2\" >2</th>\n",
       "      <td id=\"T_a30b4_row2_col0\" class=\"data row2 col0\" >The Wings entered a new era, following the retirement of which Canadian retired professional ice hockey player and current general manager of the Tampa Bay...</td>\n",
       "      <td id=\"T_a30b4_row2_col1\" class=\"data row2 col1\" >Steve Yzerman</td>\n",
       "      <td id=\"T_a30b4_row2_col2\" class=\"data row2 col2\" >{'2006–07 Detroit Red Wings season', 'Steve Yzerman'}</td>\n",
       "      <td id=\"T_a30b4_row2_col3\" class=\"data row2 col3\" >Harper Lee</td>\n",
       "      <td id=\"T_a30b4_row2_col4\" class=\"data row2 col4\" >❌ [False]</td>\n",
       "    </tr>\n",
       "    <tr>\n",
       "      <th id=\"T_a30b4_level0_row3\" class=\"row_heading level0 row3\" >3</th>\n",
       "      <td id=\"T_a30b4_row3_col0\" class=\"data row3 col0\" >What river is near the Crichton Collegiate Church?</td>\n",
       "      <td id=\"T_a30b4_row3_col1\" class=\"data row3 col1\" >the River Tyne</td>\n",
       "      <td id=\"T_a30b4_row3_col2\" class=\"data row3 col2\" >{'Crichton Castle', 'Crichton Collegiate Church'}</td>\n",
       "      <td id=\"T_a30b4_row3_col3\" class=\"data row3 col3\" >River Esk</td>\n",
       "      <td id=\"T_a30b4_row3_col4\" class=\"data row3 col4\" >❌ [False]</td>\n",
       "    </tr>\n",
       "    <tr>\n",
       "      <th id=\"T_a30b4_level0_row4\" class=\"row_heading level0 row4\" >4</th>\n",
       "      <td id=\"T_a30b4_row4_col0\" class=\"data row4 col0\" >In the 10th Century A.D. Ealhswith had a son called Æthelweard by which English king?</td>\n",
       "      <td id=\"T_a30b4_row4_col1\" class=\"data row4 col1\" >King Alfred the Great</td>\n",
       "      <td id=\"T_a30b4_row4_col2\" class=\"data row4 col2\" >{'Ealhswith', 'Æthelweard (son of Alfred)'}</td>\n",
       "      <td id=\"T_a30b4_row4_col3\" class=\"data row4 col3\" >Jawaharlal Nehru</td>\n",
       "      <td id=\"T_a30b4_row4_col4\" class=\"data row4 col4\" >❌ [False]</td>\n",
       "    </tr>\n",
       "    <tr>\n",
       "      <th id=\"T_a30b4_level0_row5\" class=\"row_heading level0 row5\" >5</th>\n",
       "      <td id=\"T_a30b4_row5_col0\" class=\"data row5 col0\" >The Newark Airport Exchange is at the northern edge of an airport that is operated by whom?</td>\n",
       "      <td id=\"T_a30b4_row5_col1\" class=\"data row5 col1\" >Port Authority of New York and New Jersey</td>\n",
       "      <td id=\"T_a30b4_row5_col2\" class=\"data row5 col2\" >{'Newark Liberty International Airport', 'Newark Airport Interchange'}</td>\n",
       "      <td id=\"T_a30b4_row5_col3\" class=\"data row5 col3\" >Port Authority of New York and New Jersey</td>\n",
       "      <td id=\"T_a30b4_row5_col4\" class=\"data row5 col4\" >✔️ [True]</td>\n",
       "    </tr>\n",
       "    <tr>\n",
       "      <th id=\"T_a30b4_level0_row6\" class=\"row_heading level0 row6\" >6</th>\n",
       "      <td id=\"T_a30b4_row6_col0\" class=\"data row6 col0\" >Where did an event take place resulting in a win during a domestic double due to the action of a Peruvian footballer known for his...</td>\n",
       "      <td id=\"T_a30b4_row6_col1\" class=\"data row6 col1\" >Bundesliga</td>\n",
       "      <td id=\"T_a30b4_row6_col2\" class=\"data row6 col2\" >{'Claudio Pizarro', '2005–06 FC Bayern Munich season'}</td>\n",
       "      <td id=\"T_a30b4_row6_col3\" class=\"data row6 col3\" >J.D. Salinger</td>\n",
       "      <td id=\"T_a30b4_row6_col4\" class=\"data row6 col4\" >❌ [False]</td>\n",
       "    </tr>\n",
       "    <tr>\n",
       "      <th id=\"T_a30b4_level0_row7\" class=\"row_heading level0 row7\" >7</th>\n",
       "      <td id=\"T_a30b4_row7_col0\" class=\"data row7 col0\" >Are both Chico Municipal Airport and William R. Fairchild International Airport in California?</td>\n",
       "      <td id=\"T_a30b4_row7_col1\" class=\"data row7 col1\" >no</td>\n",
       "      <td id=\"T_a30b4_row7_col2\" class=\"data row7 col2\" >{'William R. Fairchild International Airport', 'Chico Municipal Airport'}</td>\n",
       "      <td id=\"T_a30b4_row7_col3\" class=\"data row7 col3\" >Yes</td>\n",
       "      <td id=\"T_a30b4_row7_col4\" class=\"data row7 col4\" >❌ [False]</td>\n",
       "    </tr>\n",
       "    <tr>\n",
       "      <th id=\"T_a30b4_level0_row8\" class=\"row_heading level0 row8\" >8</th>\n",
       "      <td id=\"T_a30b4_row8_col0\" class=\"data row8 col0\" >In which Maine county is Fort Pownall located?</td>\n",
       "      <td id=\"T_a30b4_row8_col1\" class=\"data row8 col1\" >Waldo County, Maine</td>\n",
       "      <td id=\"T_a30b4_row8_col2\" class=\"data row8 col2\" >{'Stockton Springs, Maine', 'Fort Pownall'}</td>\n",
       "      <td id=\"T_a30b4_row8_col3\" class=\"data row8 col3\" >Hancock</td>\n",
       "      <td id=\"T_a30b4_row8_col4\" class=\"data row8 col4\" >❌ [False]</td>\n",
       "    </tr>\n",
       "    <tr>\n",
       "      <th id=\"T_a30b4_level0_row9\" class=\"row_heading level0 row9\" >9</th>\n",
       "      <td id=\"T_a30b4_row9_col0\" class=\"data row9 col0\" >Which 90s rock band has more recently reformed, Gene or The Afghan Whigs?</td>\n",
       "      <td id=\"T_a30b4_row9_col1\" class=\"data row9 col1\" >The Afghan Whigs</td>\n",
       "      <td id=\"T_a30b4_row9_col2\" class=\"data row9 col2\" >{'Gene (band)', 'The Afghan Whigs'}</td>\n",
       "      <td id=\"T_a30b4_row9_col3\" class=\"data row9 col3\" >The Afghan Whigs</td>\n",
       "      <td id=\"T_a30b4_row9_col4\" class=\"data row9 col4\" >✔️ [True]</td>\n",
       "    </tr>\n",
       "  </tbody>\n",
       "</table>\n"
      ],
      "text/plain": [
       "<pandas.io.formats.style.Styler at 0x7f75ef3af8b0>"
      ]
     },
     "metadata": {},
     "output_type": "display_data"
    },
    {
     "data": {
      "text/html": [
       "\n",
       "                <div style='\n",
       "                    text-align: center; \n",
       "                    font-size: 16px; \n",
       "                    font-weight: bold; \n",
       "                    color: #555; \n",
       "                    margin: 10px 0;'>\n",
       "                    ... 20 more rows not displayed ...\n",
       "                </div>\n",
       "                "
      ],
      "text/plain": [
       "<IPython.core.display.HTML object>"
      ]
     },
     "metadata": {},
     "output_type": "display_data"
    },
    {
     "name": "stderr",
     "output_type": "stream",
     "text": [
      "  0%|          | 0/20 [00:00<?, ?it/s]Your max_length is set to 200, but your input_length is only 15. Since this is a summarization task, where outputs shorter than the input are typically wanted, you might consider decreasing max_length manually, e.g. summarizer('...', max_length=7)\n",
      "  5%|▌         | 1/20 [00:30<09:36, 30.35s/it]Your max_length is set to 200, but your input_length is only 15. Since this is a summarization task, where outputs shorter than the input are typically wanted, you might consider decreasing max_length manually, e.g. summarizer('...', max_length=7)\n",
      " 10%|█         | 2/20 [00:48<06:59, 23.32s/it]Your max_length is set to 200, but your input_length is only 20. Since this is a summarization task, where outputs shorter than the input are typically wanted, you might consider decreasing max_length manually, e.g. summarizer('...', max_length=10)\n",
      " 15%|█▌        | 3/20 [01:07<06:04, 21.42s/it]Your max_length is set to 200, but your input_length is only 26. Since this is a summarization task, where outputs shorter than the input are typically wanted, you might consider decreasing max_length manually, e.g. summarizer('...', max_length=13)\n",
      " 20%|██        | 4/20 [01:31<05:57, 22.37s/it]Your max_length is set to 200, but your input_length is only 23. Since this is a summarization task, where outputs shorter than the input are typically wanted, you might consider decreasing max_length manually, e.g. summarizer('...', max_length=11)\n",
      " 25%|██▌       | 5/20 [01:51<05:19, 21.30s/it]Your max_length is set to 200, but your input_length is only 21. Since this is a summarization task, where outputs shorter than the input are typically wanted, you might consider decreasing max_length manually, e.g. summarizer('...', max_length=10)\n",
      " 30%|███       | 6/20 [02:34<06:41, 28.66s/it]Your max_length is set to 200, but your input_length is only 19. Since this is a summarization task, where outputs shorter than the input are typically wanted, you might consider decreasing max_length manually, e.g. summarizer('...', max_length=9)\n",
      " 35%|███▌      | 7/20 [02:54<05:36, 25.90s/it]Your max_length is set to 200, but your input_length is only 34. Since this is a summarization task, where outputs shorter than the input are typically wanted, you might consider decreasing max_length manually, e.g. summarizer('...', max_length=17)\n",
      " 40%|████      | 8/20 [03:16<04:56, 24.74s/it]Your max_length is set to 200, but your input_length is only 18. Since this is a summarization task, where outputs shorter than the input are typically wanted, you might consider decreasing max_length manually, e.g. summarizer('...', max_length=9)\n",
      " 45%|████▌     | 9/20 [03:41<04:31, 24.73s/it]Your max_length is set to 200, but your input_length is only 46. Since this is a summarization task, where outputs shorter than the input are typically wanted, you might consider decreasing max_length manually, e.g. summarizer('...', max_length=23)\n",
      " 50%|█████     | 10/20 [04:04<04:02, 24.24s/it]Your max_length is set to 200, but your input_length is only 39. Since this is a summarization task, where outputs shorter than the input are typically wanted, you might consider decreasing max_length manually, e.g. summarizer('...', max_length=19)\n",
      " 55%|█████▌    | 11/20 [04:24<03:27, 23.07s/it]Your max_length is set to 200, but your input_length is only 24. Since this is a summarization task, where outputs shorter than the input are typically wanted, you might consider decreasing max_length manually, e.g. summarizer('...', max_length=12)\n",
      " 60%|██████    | 12/20 [05:14<04:08, 31.12s/it]Your max_length is set to 200, but your input_length is only 26. Since this is a summarization task, where outputs shorter than the input are typically wanted, you might consider decreasing max_length manually, e.g. summarizer('...', max_length=13)\n",
      " 65%|██████▌   | 13/20 [05:58<04:06, 35.14s/it]Your max_length is set to 200, but your input_length is only 32. Since this is a summarization task, where outputs shorter than the input are typically wanted, you might consider decreasing max_length manually, e.g. summarizer('...', max_length=16)\n",
      " 70%|███████   | 14/20 [06:17<03:01, 30.25s/it]Your max_length is set to 200, but your input_length is only 39. Since this is a summarization task, where outputs shorter than the input are typically wanted, you might consider decreasing max_length manually, e.g. summarizer('...', max_length=19)\n",
      " 75%|███████▌  | 15/20 [07:05<02:57, 35.54s/it]Your max_length is set to 200, but your input_length is only 29. Since this is a summarization task, where outputs shorter than the input are typically wanted, you might consider decreasing max_length manually, e.g. summarizer('...', max_length=14)\n",
      " 80%|████████  | 16/20 [07:28<02:07, 31.82s/it]Your max_length is set to 200, but your input_length is only 24. Since this is a summarization task, where outputs shorter than the input are typically wanted, you might consider decreasing max_length manually, e.g. summarizer('...', max_length=12)\n",
      " 85%|████████▌ | 17/20 [08:06<01:41, 33.75s/it]Your max_length is set to 200, but your input_length is only 27. Since this is a summarization task, where outputs shorter than the input are typically wanted, you might consider decreasing max_length manually, e.g. summarizer('...', max_length=13)\n",
      " 90%|█████████ | 18/20 [08:26<00:58, 29.34s/it]Your max_length is set to 200, but your input_length is only 20. Since this is a summarization task, where outputs shorter than the input are typically wanted, you might consider decreasing max_length manually, e.g. summarizer('...', max_length=10)\n",
      " 95%|█████████▌| 19/20 [08:49<00:27, 27.63s/it]Your max_length is set to 200, but your input_length is only 32. Since this is a summarization task, where outputs shorter than the input are typically wanted, you might consider decreasing max_length manually, e.g. summarizer('...', max_length=16)\n",
      "100%|██████████| 20/20 [09:13<00:00, 27.68s/it]\n"
     ]
    },
    {
     "name": "stdout",
     "output_type": "stream",
     "text": [
      "Bootstrapped 0 full traces after 20 examples in round 0.\n"
     ]
    },
    {
     "name": "stderr",
     "output_type": "stream",
     "text": [
      "  0%|          | 0/30 [00:00<?, ?it/s]Your max_length is set to 200, but your input_length is only 22. Since this is a summarization task, where outputs shorter than the input are typically wanted, you might consider decreasing max_length manually, e.g. summarizer('...', max_length=11)\n",
      "Average Metric: 0 / 1  (0.0):   3%|▎         | 1/30 [00:20<10:07, 20.93s/it]Your max_length is set to 200, but your input_length is only 32. Since this is a summarization task, where outputs shorter than the input are typically wanted, you might consider decreasing max_length manually, e.g. summarizer('...', max_length=16)\n",
      "Average Metric: 0 / 2  (0.0):   7%|▋         | 2/30 [00:42<09:56, 21.31s/it]Your max_length is set to 200, but your input_length is only 44. Since this is a summarization task, where outputs shorter than the input are typically wanted, you might consider decreasing max_length manually, e.g. summarizer('...', max_length=22)\n",
      "Average Metric: 0 / 3  (0.0):  10%|█         | 3/30 [01:03<09:35, 21.32s/it]Your max_length is set to 200, but your input_length is only 16. Since this is a summarization task, where outputs shorter than the input are typically wanted, you might consider decreasing max_length manually, e.g. summarizer('...', max_length=8)\n",
      "Average Metric: 0 / 4  (0.0):  13%|█▎        | 4/30 [01:53<14:02, 32.39s/it]Your max_length is set to 200, but your input_length is only 34. Since this is a summarization task, where outputs shorter than the input are typically wanted, you might consider decreasing max_length manually, e.g. summarizer('...', max_length=17)\n",
      "Average Metric: 0 / 5  (0.0):  17%|█▋        | 5/30 [02:11<11:24, 27.40s/it]Your max_length is set to 200, but your input_length is only 22. Since this is a summarization task, where outputs shorter than the input are typically wanted, you might consider decreasing max_length manually, e.g. summarizer('...', max_length=11)\n",
      "Average Metric: 0 / 6  (0.0):  20%|██        | 6/30 [02:33<10:12, 25.52s/it]Your max_length is set to 200, but your input_length is only 39. Since this is a summarization task, where outputs shorter than the input are typically wanted, you might consider decreasing max_length manually, e.g. summarizer('...', max_length=19)\n",
      "Average Metric: 0 / 7  (0.0):  23%|██▎       | 7/30 [02:55<09:16, 24.19s/it]Your max_length is set to 200, but your input_length is only 20. Since this is a summarization task, where outputs shorter than the input are typically wanted, you might consider decreasing max_length manually, e.g. summarizer('...', max_length=10)\n",
      "Average Metric: 0 / 8  (0.0):  27%|██▋       | 8/30 [03:16<08:31, 23.24s/it]Your max_length is set to 200, but your input_length is only 14. Since this is a summarization task, where outputs shorter than the input are typically wanted, you might consider decreasing max_length manually, e.g. summarizer('...', max_length=7)\n",
      "Average Metric: 0 / 9  (0.0):  30%|███       | 9/30 [03:35<07:39, 21.87s/it]Your max_length is set to 200, but your input_length is only 23. Since this is a summarization task, where outputs shorter than the input are typically wanted, you might consider decreasing max_length manually, e.g. summarizer('...', max_length=11)\n",
      "Average Metric: 0 / 10  (0.0):  33%|███▎      | 10/30 [03:56<07:16, 21.83s/it]Your max_length is set to 200, but your input_length is only 26. Since this is a summarization task, where outputs shorter than the input are typically wanted, you might consider decreasing max_length manually, e.g. summarizer('...', max_length=13)\n",
      "Average Metric: 0 / 11  (0.0):  37%|███▋      | 11/30 [04:47<09:39, 30.52s/it]Your max_length is set to 200, but your input_length is only 23. Since this is a summarization task, where outputs shorter than the input are typically wanted, you might consider decreasing max_length manually, e.g. summarizer('...', max_length=11)\n",
      "Average Metric: 0 / 12  (0.0):  40%|████      | 12/30 [05:28<10:10, 33.91s/it]Your max_length is set to 200, but your input_length is only 20. Since this is a summarization task, where outputs shorter than the input are typically wanted, you might consider decreasing max_length manually, e.g. summarizer('...', max_length=10)\n",
      "Average Metric: 0 / 13  (0.0):  43%|████▎     | 13/30 [06:13<10:30, 37.09s/it]Your max_length is set to 200, but your input_length is only 22. Since this is a summarization task, where outputs shorter than the input are typically wanted, you might consider decreasing max_length manually, e.g. summarizer('...', max_length=11)\n",
      "Average Metric: 0 / 14  (0.0):  47%|████▋     | 14/30 [06:31<08:21, 31.34s/it]Your max_length is set to 200, but your input_length is only 30. Since this is a summarization task, where outputs shorter than the input are typically wanted, you might consider decreasing max_length manually, e.g. summarizer('...', max_length=15)\n",
      "Average Metric: 0 / 15  (0.0):  50%|█████     | 15/30 [06:50<06:57, 27.80s/it]Your max_length is set to 200, but your input_length is only 45. Since this is a summarization task, where outputs shorter than the input are typically wanted, you might consider decreasing max_length manually, e.g. summarizer('...', max_length=22)\n",
      "Average Metric: 0 / 16  (0.0):  53%|█████▎    | 16/30 [07:13<06:06, 26.20s/it]Your max_length is set to 200, but your input_length is only 18. Since this is a summarization task, where outputs shorter than the input are typically wanted, you might consider decreasing max_length manually, e.g. summarizer('...', max_length=9)\n",
      "Average Metric: 0 / 17  (0.0):  57%|█████▋    | 17/30 [07:34<05:20, 24.66s/it]Your max_length is set to 200, but your input_length is only 29. Since this is a summarization task, where outputs shorter than the input are typically wanted, you might consider decreasing max_length manually, e.g. summarizer('...', max_length=14)\n",
      "Average Metric: 0 / 18  (0.0):  60%|██████    | 18/30 [07:55<04:44, 23.72s/it]Your max_length is set to 200, but your input_length is only 23. Since this is a summarization task, where outputs shorter than the input are typically wanted, you might consider decreasing max_length manually, e.g. summarizer('...', max_length=11)\n",
      "Average Metric: 0 / 19  (0.0):  63%|██████▎   | 19/30 [08:16<04:09, 22.67s/it]Your max_length is set to 200, but your input_length is only 25. Since this is a summarization task, where outputs shorter than the input are typically wanted, you might consider decreasing max_length manually, e.g. summarizer('...', max_length=12)\n",
      "Average Metric: 0 / 20  (0.0):  67%|██████▋   | 20/30 [08:37<03:41, 22.12s/it]Your max_length is set to 200, but your input_length is only 20. Since this is a summarization task, where outputs shorter than the input are typically wanted, you might consider decreasing max_length manually, e.g. summarizer('...', max_length=10)\n",
      "Average Metric: 0 / 21  (0.0):  70%|███████   | 21/30 [08:57<03:15, 21.69s/it]Your max_length is set to 200, but your input_length is only 19. Since this is a summarization task, where outputs shorter than the input are typically wanted, you might consider decreasing max_length manually, e.g. summarizer('...', max_length=9)\n",
      "Average Metric: 0 / 22  (0.0):  73%|███████▎  | 22/30 [09:18<02:50, 21.35s/it]Your max_length is set to 200, but your input_length is only 27. Since this is a summarization task, where outputs shorter than the input are typically wanted, you might consider decreasing max_length manually, e.g. summarizer('...', max_length=13)\n",
      "Average Metric: 0 / 23  (0.0):  77%|███████▋  | 23/30 [10:07<03:27, 29.66s/it]Your max_length is set to 200, but your input_length is only 18. Since this is a summarization task, where outputs shorter than the input are typically wanted, you might consider decreasing max_length manually, e.g. summarizer('...', max_length=9)\n",
      "Average Metric: 0 / 24  (0.0):  80%|████████  | 24/30 [10:27<02:40, 26.74s/it]Your max_length is set to 200, but your input_length is only 44. Since this is a summarization task, where outputs shorter than the input are typically wanted, you might consider decreasing max_length manually, e.g. summarizer('...', max_length=22)\n",
      "Average Metric: 0 / 25  (0.0):  83%|████████▎ | 25/30 [10:51<02:10, 26.14s/it]Your max_length is set to 200, but your input_length is only 39. Since this is a summarization task, where outputs shorter than the input are typically wanted, you might consider decreasing max_length manually, e.g. summarizer('...', max_length=19)\n",
      "Average Metric: 0 / 26  (0.0):  87%|████████▋ | 26/30 [11:10<01:35, 23.97s/it]Your max_length is set to 200, but your input_length is only 30. Since this is a summarization task, where outputs shorter than the input are typically wanted, you might consider decreasing max_length manually, e.g. summarizer('...', max_length=15)\n",
      "Average Metric: 0 / 27  (0.0):  90%|█████████ | 27/30 [11:30<01:07, 22.53s/it]Your max_length is set to 200, but your input_length is only 23. Since this is a summarization task, where outputs shorter than the input are typically wanted, you might consider decreasing max_length manually, e.g. summarizer('...', max_length=11)\n",
      "Average Metric: 0 / 28  (0.0):  93%|█████████▎| 28/30 [11:55<00:46, 23.40s/it]Your max_length is set to 200, but your input_length is only 14. Since this is a summarization task, where outputs shorter than the input are typically wanted, you might consider decreasing max_length manually, e.g. summarizer('...', max_length=7)\n",
      "Average Metric: 0 / 29  (0.0):  97%|█████████▋| 29/30 [12:14<00:22, 22.21s/it]Your max_length is set to 200, but your input_length is only 17. Since this is a summarization task, where outputs shorter than the input are typically wanted, you might consider decreasing max_length manually, e.g. summarizer('...', max_length=8)\n",
      "Average Metric: 0 / 30  (0.0): 100%|██████████| 30/30 [12:34<00:00, 25.14s/it]\n"
     ]
    },
    {
     "name": "stdout",
     "output_type": "stream",
     "text": [
      "Average Metric: 0 / 30  (0.0%)\n"
     ]
    },
    {
     "name": "stderr",
     "output_type": "stream",
     "text": [
      "/home/daniel/Documents/Github/autogoal-core/dspy/dspy/evaluate/evaluate.py:126: FutureWarning: DataFrame.applymap has been deprecated. Use DataFrame.map instead.\n",
      "  df = df.applymap(truncate_cell)\n"
     ]
    },
    {
     "data": {
      "text/html": [
       "<style type=\"text/css\">\n",
       "#T_a9480 th {\n",
       "  text-align: left;\n",
       "}\n",
       "#T_a9480 td {\n",
       "  text-align: left;\n",
       "}\n",
       "#T_a9480_row0_col0, #T_a9480_row0_col1, #T_a9480_row0_col2, #T_a9480_row0_col3, #T_a9480_row0_col4, #T_a9480_row1_col0, #T_a9480_row1_col1, #T_a9480_row1_col2, #T_a9480_row1_col3, #T_a9480_row1_col4, #T_a9480_row2_col0, #T_a9480_row2_col1, #T_a9480_row2_col2, #T_a9480_row2_col3, #T_a9480_row2_col4, #T_a9480_row3_col0, #T_a9480_row3_col1, #T_a9480_row3_col2, #T_a9480_row3_col3, #T_a9480_row3_col4, #T_a9480_row4_col0, #T_a9480_row4_col1, #T_a9480_row4_col2, #T_a9480_row4_col3, #T_a9480_row4_col4, #T_a9480_row5_col0, #T_a9480_row5_col1, #T_a9480_row5_col2, #T_a9480_row5_col3, #T_a9480_row5_col4, #T_a9480_row6_col0, #T_a9480_row6_col1, #T_a9480_row6_col2, #T_a9480_row6_col3, #T_a9480_row6_col4, #T_a9480_row7_col0, #T_a9480_row7_col1, #T_a9480_row7_col2, #T_a9480_row7_col3, #T_a9480_row7_col4, #T_a9480_row8_col0, #T_a9480_row8_col1, #T_a9480_row8_col2, #T_a9480_row8_col3, #T_a9480_row8_col4, #T_a9480_row9_col0, #T_a9480_row9_col1, #T_a9480_row9_col2, #T_a9480_row9_col3, #T_a9480_row9_col4 {\n",
       "  text-align: left;\n",
       "  white-space: pre-wrap;\n",
       "  word-wrap: break-word;\n",
       "  max-width: 400px;\n",
       "}\n",
       "</style>\n",
       "<table id=\"T_a9480\">\n",
       "  <thead>\n",
       "    <tr>\n",
       "      <th class=\"blank level0\" >&nbsp;</th>\n",
       "      <th id=\"T_a9480_level0_col0\" class=\"col_heading level0 col0\" >question</th>\n",
       "      <th id=\"T_a9480_level0_col1\" class=\"col_heading level0 col1\" >example_answer</th>\n",
       "      <th id=\"T_a9480_level0_col2\" class=\"col_heading level0 col2\" >gold_titles</th>\n",
       "      <th id=\"T_a9480_level0_col3\" class=\"col_heading level0 col3\" >pred_answer</th>\n",
       "      <th id=\"T_a9480_level0_col4\" class=\"col_heading level0 col4\" >validate_context_and_answer</th>\n",
       "    </tr>\n",
       "  </thead>\n",
       "  <tbody>\n",
       "    <tr>\n",
       "      <th id=\"T_a9480_level0_row0\" class=\"row_heading level0 row0\" >0</th>\n",
       "      <td id=\"T_a9480_row0_col0\" class=\"data row0 col0\" >Are both Cangzhou and Qionghai in the Hebei province of China?</td>\n",
       "      <td id=\"T_a9480_row0_col1\" class=\"data row0 col1\" >no</td>\n",
       "      <td id=\"T_a9480_row0_col2\" class=\"data row0 col2\" >{'Qionghai', 'Cangzhou'}</td>\n",
       "      <td id=\"T_a9480_row0_col3\" class=\"data row0 col3\" >Can you please provide a definition or explanation for what \"C\" represents in this context?</td>\n",
       "      <td id=\"T_a9480_row0_col4\" class=\"data row0 col4\" >❌ [False]</td>\n",
       "    </tr>\n",
       "    <tr>\n",
       "      <th id=\"T_a9480_level0_row1\" class=\"row_heading level0 row1\" >1</th>\n",
       "      <td id=\"T_a9480_row1_col0\" class=\"data row1 col0\" >Who conducts the draft in which Marc-Andre Fleury was drafted to the Vegas Golden Knights for the 2017-18 season?</td>\n",
       "      <td id=\"T_a9480_row1_col1\" class=\"data row1 col1\" >National Hockey League</td>\n",
       "      <td id=\"T_a9480_row1_col2\" class=\"data row1 col2\" >{'2017–18 Pittsburgh Penguins season', '2017 NHL Expansion Draft'}</td>\n",
       "      <td id=\"T_a9480_row1_col3\" class=\"data row1 col3\" >What does \"M\" stand for or refer to in this text?</td>\n",
       "      <td id=\"T_a9480_row1_col4\" class=\"data row1 col4\" >❌ [False]</td>\n",
       "    </tr>\n",
       "    <tr>\n",
       "      <th id=\"T_a9480_level0_row2\" class=\"row_heading level0 row2\" >2</th>\n",
       "      <td id=\"T_a9480_row2_col0\" class=\"data row2 col0\" >The Wings entered a new era, following the retirement of which Canadian retired professional ice hockey player and current general manager of the Tampa Bay...</td>\n",
       "      <td id=\"T_a9480_row2_col1\" class=\"data row2 col1\" >Steve Yzerman</td>\n",
       "      <td id=\"T_a9480_row2_col2\" class=\"data row2 col2\" >{'2006–07 Detroit Red Wings season', 'Steve Yzerman'}</td>\n",
       "      <td id=\"T_a9480_row2_col3\" class=\"data row2 col3\" >What is the main topic of this text?</td>\n",
       "      <td id=\"T_a9480_row2_col4\" class=\"data row2 col4\" >❌ [False]</td>\n",
       "    </tr>\n",
       "    <tr>\n",
       "      <th id=\"T_a9480_level0_row3\" class=\"row_heading level0 row3\" >3</th>\n",
       "      <td id=\"T_a9480_row3_col0\" class=\"data row3 col0\" >What river is near the Crichton Collegiate Church?</td>\n",
       "      <td id=\"T_a9480_row3_col1\" class=\"data row3 col1\" >the River Tyne</td>\n",
       "      <td id=\"T_a9480_row3_col2\" class=\"data row3 col2\" >{'Crichton Castle', 'Crichton Collegiate Church'}</td>\n",
       "      <td id=\"T_a9480_row3_col3\" class=\"data row3 col3\" >What are the main drivers of the current rate of climate change that is causing impacts on ecosystems, weather patterns, and sea levels?</td>\n",
       "      <td id=\"T_a9480_row3_col4\" class=\"data row3 col4\" >❌ [False]</td>\n",
       "    </tr>\n",
       "    <tr>\n",
       "      <th id=\"T_a9480_level0_row4\" class=\"row_heading level0 row4\" >4</th>\n",
       "      <td id=\"T_a9480_row4_col0\" class=\"data row4 col0\" >In the 10th Century A.D. Ealhswith had a son called Æthelweard by which English king?</td>\n",
       "      <td id=\"T_a9480_row4_col1\" class=\"data row4 col1\" >King Alfred the Great</td>\n",
       "      <td id=\"T_a9480_row4_col2\" class=\"data row4 col2\" >{'Ealhswith', 'Æthelweard (son of Alfred)'}</td>\n",
       "      <td id=\"T_a9480_row4_col3\" class=\"data row4 col3\" >Who or what does \"I\" refer to in this text?</td>\n",
       "      <td id=\"T_a9480_row4_col4\" class=\"data row4 col4\" >❌ [False]</td>\n",
       "    </tr>\n",
       "    <tr>\n",
       "      <th id=\"T_a9480_level0_row5\" class=\"row_heading level0 row5\" >5</th>\n",
       "      <td id=\"T_a9480_row5_col0\" class=\"data row5 col0\" >The Newark Airport Exchange is at the northern edge of an airport that is operated by whom?</td>\n",
       "      <td id=\"T_a9480_row5_col1\" class=\"data row5 col1\" >Port Authority of New York and New Jersey</td>\n",
       "      <td id=\"T_a9480_row5_col2\" class=\"data row5 col2\" >{'Newark Liberty International Airport', 'Newark Airport Interchange'}</td>\n",
       "      <td id=\"T_a9480_row5_col3\" class=\"data row5 col3\" >What is the main topic of this text?</td>\n",
       "      <td id=\"T_a9480_row5_col4\" class=\"data row5 col4\" >❌ [False]</td>\n",
       "    </tr>\n",
       "    <tr>\n",
       "      <th id=\"T_a9480_level0_row6\" class=\"row_heading level0 row6\" >6</th>\n",
       "      <td id=\"T_a9480_row6_col0\" class=\"data row6 col0\" >Where did an event take place resulting in a win during a domestic double due to the action of a Peruvian footballer known for his...</td>\n",
       "      <td id=\"T_a9480_row6_col1\" class=\"data row6 col1\" >Bundesliga</td>\n",
       "      <td id=\"T_a9480_row6_col2\" class=\"data row6 col2\" >{'Claudio Pizarro', '2005–06 FC Bayern Munich season'}</td>\n",
       "      <td id=\"T_a9480_row6_col3\" class=\"data row6 col3\" >What does \"W\" represent in the given equation or acronym?</td>\n",
       "      <td id=\"T_a9480_row6_col4\" class=\"data row6 col4\" >❌ [False]</td>\n",
       "    </tr>\n",
       "    <tr>\n",
       "      <th id=\"T_a9480_level0_row7\" class=\"row_heading level0 row7\" >7</th>\n",
       "      <td id=\"T_a9480_row7_col0\" class=\"data row7 col0\" >Are both Chico Municipal Airport and William R. Fairchild International Airport in California?</td>\n",
       "      <td id=\"T_a9480_row7_col1\" class=\"data row7 col1\" >no</td>\n",
       "      <td id=\"T_a9480_row7_col2\" class=\"data row7 col2\" >{'William R. Fairchild International Airport', 'Chico Municipal Airport'}</td>\n",
       "      <td id=\"T_a9480_row7_col3\" class=\"data row7 col3\" >Can you please provide a definition or explanation for what \"C\" represents in this context?</td>\n",
       "      <td id=\"T_a9480_row7_col4\" class=\"data row7 col4\" >❌ [False]</td>\n",
       "    </tr>\n",
       "    <tr>\n",
       "      <th id=\"T_a9480_level0_row8\" class=\"row_heading level0 row8\" >8</th>\n",
       "      <td id=\"T_a9480_row8_col0\" class=\"data row8 col0\" >In which Maine county is Fort Pownall located?</td>\n",
       "      <td id=\"T_a9480_row8_col1\" class=\"data row8 col1\" >Waldo County, Maine</td>\n",
       "      <td id=\"T_a9480_row8_col2\" class=\"data row8 col2\" >{'Stockton Springs, Maine', 'Fort Pownall'}</td>\n",
       "      <td id=\"T_a9480_row8_col3\" class=\"data row8 col3\" >Who or what does \"I\" refer to in this text?</td>\n",
       "      <td id=\"T_a9480_row8_col4\" class=\"data row8 col4\" >❌ [False]</td>\n",
       "    </tr>\n",
       "    <tr>\n",
       "      <th id=\"T_a9480_level0_row9\" class=\"row_heading level0 row9\" >9</th>\n",
       "      <td id=\"T_a9480_row9_col0\" class=\"data row9 col0\" >Which 90s rock band has more recently reformed, Gene or The Afghan Whigs?</td>\n",
       "      <td id=\"T_a9480_row9_col1\" class=\"data row9 col1\" >The Afghan Whigs</td>\n",
       "      <td id=\"T_a9480_row9_col2\" class=\"data row9 col2\" >{'Gene (band)', 'The Afghan Whigs'}</td>\n",
       "      <td id=\"T_a9480_row9_col3\" class=\"data row9 col3\" >What does \"W\" represent in the given equation or acronym?</td>\n",
       "      <td id=\"T_a9480_row9_col4\" class=\"data row9 col4\" >❌ [False]</td>\n",
       "    </tr>\n",
       "  </tbody>\n",
       "</table>\n"
      ],
      "text/plain": [
       "<pandas.io.formats.style.Styler at 0x7f75ef3afe50>"
      ]
     },
     "metadata": {},
     "output_type": "display_data"
    },
    {
     "data": {
      "text/html": [
       "\n",
       "                <div style='\n",
       "                    text-align: center; \n",
       "                    font-size: 16px; \n",
       "                    font-weight: bold; \n",
       "                    color: #555; \n",
       "                    margin: 10px 0;'>\n",
       "                    ... 20 more rows not displayed ...\n",
       "                </div>\n",
       "                "
      ],
      "text/plain": [
       "<IPython.core.display.HTML object>"
      ]
     },
     "metadata": {},
     "output_type": "display_data"
    },
    {
     "name": "stderr",
     "output_type": "stream",
     "text": [
      "  0%|          | 0/20 [00:00<?, ?it/s]Your max_length is set to 200, but your input_length is only 15. Since this is a summarization task, where outputs shorter than the input are typically wanted, you might consider decreasing max_length manually, e.g. summarizer('...', max_length=7)\n",
      "  5%|▌         | 1/20 [00:43<13:50, 43.71s/it]Your max_length is set to 200, but your input_length is only 15. Since this is a summarization task, where outputs shorter than the input are typically wanted, you might consider decreasing max_length manually, e.g. summarizer('...', max_length=7)\n",
      " 10%|█         | 2/20 [01:29<13:28, 44.92s/it]Your max_length is set to 200, but your input_length is only 20. Since this is a summarization task, where outputs shorter than the input are typically wanted, you might consider decreasing max_length manually, e.g. summarizer('...', max_length=10)\n",
      " 15%|█▌        | 3/20 [02:17<13:09, 46.45s/it]Your max_length is set to 200, but your input_length is only 26. Since this is a summarization task, where outputs shorter than the input are typically wanted, you might consider decreasing max_length manually, e.g. summarizer('...', max_length=13)\n",
      " 20%|██        | 4/20 [02:54<11:21, 42.60s/it]Your max_length is set to 200, but your input_length is only 23. Since this is a summarization task, where outputs shorter than the input are typically wanted, you might consider decreasing max_length manually, e.g. summarizer('...', max_length=11)\n",
      " 25%|██▌       | 5/20 [03:32<10:12, 40.81s/it]Your max_length is set to 200, but your input_length is only 21. Since this is a summarization task, where outputs shorter than the input are typically wanted, you might consider decreasing max_length manually, e.g. summarizer('...', max_length=10)\n",
      " 30%|███       | 6/20 [04:26<10:33, 45.28s/it]Your max_length is set to 200, but your input_length is only 19. Since this is a summarization task, where outputs shorter than the input are typically wanted, you might consider decreasing max_length manually, e.g. summarizer('...', max_length=9)\n",
      " 35%|███▌      | 7/20 [05:14<10:03, 46.45s/it]Your max_length is set to 200, but your input_length is only 34. Since this is a summarization task, where outputs shorter than the input are typically wanted, you might consider decreasing max_length manually, e.g. summarizer('...', max_length=17)\n",
      " 40%|████      | 8/20 [06:05<09:32, 47.74s/it]Your max_length is set to 200, but your input_length is only 18. Since this is a summarization task, where outputs shorter than the input are typically wanted, you might consider decreasing max_length manually, e.g. summarizer('...', max_length=9)\n",
      " 45%|████▌     | 9/20 [06:44<08:14, 44.93s/it]Your max_length is set to 200, but your input_length is only 46. Since this is a summarization task, where outputs shorter than the input are typically wanted, you might consider decreasing max_length manually, e.g. summarizer('...', max_length=23)\n",
      " 50%|█████     | 10/20 [07:23<07:12, 43.25s/it]Your max_length is set to 200, but your input_length is only 39. Since this is a summarization task, where outputs shorter than the input are typically wanted, you might consider decreasing max_length manually, e.g. summarizer('...', max_length=19)\n",
      " 55%|█████▌    | 11/20 [08:07<06:31, 43.46s/it]Your max_length is set to 200, but your input_length is only 24. Since this is a summarization task, where outputs shorter than the input are typically wanted, you might consider decreasing max_length manually, e.g. summarizer('...', max_length=12)\n",
      " 60%|██████    | 12/20 [08:49<05:43, 42.91s/it]Your max_length is set to 200, but your input_length is only 26. Since this is a summarization task, where outputs shorter than the input are typically wanted, you might consider decreasing max_length manually, e.g. summarizer('...', max_length=13)\n",
      " 65%|██████▌   | 13/20 [09:33<05:03, 43.35s/it]Your max_length is set to 200, but your input_length is only 32. Since this is a summarization task, where outputs shorter than the input are typically wanted, you might consider decreasing max_length manually, e.g. summarizer('...', max_length=16)\n",
      " 70%|███████   | 14/20 [10:20<04:26, 44.48s/it]Your max_length is set to 200, but your input_length is only 39. Since this is a summarization task, where outputs shorter than the input are typically wanted, you might consider decreasing max_length manually, e.g. summarizer('...', max_length=19)\n",
      " 75%|███████▌  | 15/20 [11:13<03:55, 47.10s/it]Your max_length is set to 200, but your input_length is only 29. Since this is a summarization task, where outputs shorter than the input are typically wanted, you might consider decreasing max_length manually, e.g. summarizer('...', max_length=14)\n",
      " 80%|████████  | 16/20 [12:03<03:12, 48.00s/it]Your max_length is set to 200, but your input_length is only 24. Since this is a summarization task, where outputs shorter than the input are typically wanted, you might consider decreasing max_length manually, e.g. summarizer('...', max_length=12)\n",
      " 85%|████████▌ | 17/20 [12:47<02:20, 46.81s/it]Your max_length is set to 200, but your input_length is only 27. Since this is a summarization task, where outputs shorter than the input are typically wanted, you might consider decreasing max_length manually, e.g. summarizer('...', max_length=13)\n",
      " 90%|█████████ | 18/20 [13:29<01:30, 45.10s/it]Your max_length is set to 200, but your input_length is only 20. Since this is a summarization task, where outputs shorter than the input are typically wanted, you might consider decreasing max_length manually, e.g. summarizer('...', max_length=10)\n",
      " 95%|█████████▌| 19/20 [14:13<00:44, 44.94s/it]Your max_length is set to 200, but your input_length is only 32. Since this is a summarization task, where outputs shorter than the input are typically wanted, you might consider decreasing max_length manually, e.g. summarizer('...', max_length=16)\n",
      "100%|██████████| 20/20 [15:07<00:00, 45.36s/it]\n"
     ]
    },
    {
     "name": "stdout",
     "output_type": "stream",
     "text": [
      "Bootstrapped 2 full traces after 20 examples in round 0.\n"
     ]
    },
    {
     "name": "stderr",
     "output_type": "stream",
     "text": [
      "  0%|          | 0/30 [00:00<?, ?it/s]Your max_length is set to 200, but your input_length is only 22. Since this is a summarization task, where outputs shorter than the input are typically wanted, you might consider decreasing max_length manually, e.g. summarizer('...', max_length=11)\n",
      "Average Metric: 0 / 1  (0.0):   3%|▎         | 1/30 [00:59<28:43, 59.43s/it]Your max_length is set to 200, but your input_length is only 32. Since this is a summarization task, where outputs shorter than the input are typically wanted, you might consider decreasing max_length manually, e.g. summarizer('...', max_length=16)\n",
      "Average Metric: 0 / 2  (0.0):   7%|▋         | 2/30 [01:51<25:35, 54.86s/it]Your max_length is set to 200, but your input_length is only 44. Since this is a summarization task, where outputs shorter than the input are typically wanted, you might consider decreasing max_length manually, e.g. summarizer('...', max_length=22)\n",
      "Average Metric: 0 / 3  (0.0):  10%|█         | 3/30 [02:30<21:35, 47.97s/it]Your max_length is set to 200, but your input_length is only 16. Since this is a summarization task, where outputs shorter than the input are typically wanted, you might consider decreasing max_length manually, e.g. summarizer('...', max_length=8)\n",
      "Average Metric: 0 / 4  (0.0):  13%|█▎        | 4/30 [03:13<19:55, 45.97s/it]Your max_length is set to 200, but your input_length is only 34. Since this is a summarization task, where outputs shorter than the input are typically wanted, you might consider decreasing max_length manually, e.g. summarizer('...', max_length=17)\n",
      "Average Metric: 0 / 5  (0.0):  17%|█▋        | 5/30 [03:47<17:18, 41.54s/it]Your max_length is set to 200, but your input_length is only 22. Since this is a summarization task, where outputs shorter than the input are typically wanted, you might consider decreasing max_length manually, e.g. summarizer('...', max_length=11)\n",
      "Average Metric: 1 / 6  (16.7):  20%|██        | 6/30 [04:30<16:48, 42.02s/it]Your max_length is set to 200, but your input_length is only 39. Since this is a summarization task, where outputs shorter than the input are typically wanted, you might consider decreasing max_length manually, e.g. summarizer('...', max_length=19)\n",
      "Average Metric: 1 / 7  (14.3):  23%|██▎       | 7/30 [05:18<16:51, 43.96s/it]Your max_length is set to 200, but your input_length is only 20. Since this is a summarization task, where outputs shorter than the input are typically wanted, you might consider decreasing max_length manually, e.g. summarizer('...', max_length=10)\n",
      "Average Metric: 1 / 8  (12.5):  27%|██▋       | 8/30 [06:10<17:02, 46.50s/it]Your max_length is set to 200, but your input_length is only 14. Since this is a summarization task, where outputs shorter than the input are typically wanted, you might consider decreasing max_length manually, e.g. summarizer('...', max_length=7)\n",
      "Average Metric: 1 / 9  (11.1):  30%|███       | 9/30 [06:51<15:39, 44.75s/it]Your max_length is set to 200, but your input_length is only 23. Since this is a summarization task, where outputs shorter than the input are typically wanted, you might consider decreasing max_length manually, e.g. summarizer('...', max_length=11)\n",
      "Average Metric: 2 / 10  (20.0):  33%|███▎      | 10/30 [07:27<14:04, 42.22s/it]Your max_length is set to 200, but your input_length is only 26. Since this is a summarization task, where outputs shorter than the input are typically wanted, you might consider decreasing max_length manually, e.g. summarizer('...', max_length=13)\n",
      "Average Metric: 3 / 11  (27.3):  37%|███▋      | 11/30 [08:13<13:41, 43.26s/it]Your max_length is set to 200, but your input_length is only 23. Since this is a summarization task, where outputs shorter than the input are typically wanted, you might consider decreasing max_length manually, e.g. summarizer('...', max_length=11)\n",
      "Average Metric: 3 / 12  (25.0):  40%|████      | 12/30 [08:48<12:12, 40.71s/it]Your max_length is set to 200, but your input_length is only 20. Since this is a summarization task, where outputs shorter than the input are typically wanted, you might consider decreasing max_length manually, e.g. summarizer('...', max_length=10)\n",
      "Average Metric: 3 / 13  (23.1):  43%|████▎     | 13/30 [09:33<11:53, 41.99s/it]Your max_length is set to 200, but your input_length is only 22. Since this is a summarization task, where outputs shorter than the input are typically wanted, you might consider decreasing max_length manually, e.g. summarizer('...', max_length=11)\n",
      "Average Metric: 3 / 14  (21.4):  47%|████▋     | 14/30 [10:09<10:43, 40.20s/it]Your max_length is set to 200, but your input_length is only 30. Since this is a summarization task, where outputs shorter than the input are typically wanted, you might consider decreasing max_length manually, e.g. summarizer('...', max_length=15)\n",
      "Average Metric: 3 / 15  (20.0):  50%|█████     | 15/30 [10:49<10:04, 40.30s/it]Your max_length is set to 200, but your input_length is only 45. Since this is a summarization task, where outputs shorter than the input are typically wanted, you might consider decreasing max_length manually, e.g. summarizer('...', max_length=22)\n",
      "Average Metric: 3 / 16  (18.8):  53%|█████▎    | 16/30 [11:54<11:06, 47.58s/it]Your max_length is set to 200, but your input_length is only 18. Since this is a summarization task, where outputs shorter than the input are typically wanted, you might consider decreasing max_length manually, e.g. summarizer('...', max_length=9)\n",
      "Average Metric: 3 / 17  (17.6):  57%|█████▋    | 17/30 [12:29<09:29, 43.81s/it]Your max_length is set to 200, but your input_length is only 29. Since this is a summarization task, where outputs shorter than the input are typically wanted, you might consider decreasing max_length manually, e.g. summarizer('...', max_length=14)\n",
      "Average Metric: 3 / 18  (16.7):  60%|██████    | 18/30 [13:03<08:10, 40.88s/it]Your max_length is set to 200, but your input_length is only 23. Since this is a summarization task, where outputs shorter than the input are typically wanted, you might consider decreasing max_length manually, e.g. summarizer('...', max_length=11)\n",
      "Average Metric: 3 / 19  (15.8):  63%|██████▎   | 19/30 [13:35<07:02, 38.37s/it]Your max_length is set to 200, but your input_length is only 25. Since this is a summarization task, where outputs shorter than the input are typically wanted, you might consider decreasing max_length manually, e.g. summarizer('...', max_length=12)\n",
      "Average Metric: 3 / 20  (15.0):  67%|██████▋   | 20/30 [14:26<06:59, 42.00s/it]Your max_length is set to 200, but your input_length is only 20. Since this is a summarization task, where outputs shorter than the input are typically wanted, you might consider decreasing max_length manually, e.g. summarizer('...', max_length=10)\n",
      "Average Metric: 3 / 21  (14.3):  70%|███████   | 21/30 [15:05<06:09, 41.06s/it]Your max_length is set to 200, but your input_length is only 19. Since this is a summarization task, where outputs shorter than the input are typically wanted, you might consider decreasing max_length manually, e.g. summarizer('...', max_length=9)\n",
      "Average Metric: 3 / 22  (13.6):  73%|███████▎  | 22/30 [15:46<05:28, 41.09s/it]Your max_length is set to 200, but your input_length is only 27. Since this is a summarization task, where outputs shorter than the input are typically wanted, you might consider decreasing max_length manually, e.g. summarizer('...', max_length=13)\n",
      "Average Metric: 3 / 23  (13.0):  77%|███████▋  | 23/30 [16:25<04:43, 40.47s/it]Your max_length is set to 200, but your input_length is only 18. Since this is a summarization task, where outputs shorter than the input are typically wanted, you might consider decreasing max_length manually, e.g. summarizer('...', max_length=9)\n",
      "Average Metric: 3 / 24  (12.5):  80%|████████  | 24/30 [17:02<03:56, 39.34s/it]Your max_length is set to 200, but your input_length is only 44. Since this is a summarization task, where outputs shorter than the input are typically wanted, you might consider decreasing max_length manually, e.g. summarizer('...', max_length=22)\n",
      "Average Metric: 3 / 25  (12.0):  83%|████████▎ | 25/30 [18:08<03:56, 47.32s/it]Your max_length is set to 200, but your input_length is only 39. Since this is a summarization task, where outputs shorter than the input are typically wanted, you might consider decreasing max_length manually, e.g. summarizer('...', max_length=19)\n",
      "Average Metric: 4 / 26  (15.4):  87%|████████▋ | 26/30 [18:59<03:14, 48.63s/it]Your max_length is set to 200, but your input_length is only 30. Since this is a summarization task, where outputs shorter than the input are typically wanted, you might consider decreasing max_length manually, e.g. summarizer('...', max_length=15)\n",
      "Average Metric: 5 / 27  (18.5):  90%|█████████ | 27/30 [19:40<02:18, 46.28s/it]Your max_length is set to 200, but your input_length is only 23. Since this is a summarization task, where outputs shorter than the input are typically wanted, you might consider decreasing max_length manually, e.g. summarizer('...', max_length=11)\n",
      "Average Metric: 5 / 28  (17.9):  93%|█████████▎| 28/30 [20:13<01:24, 42.35s/it]Your max_length is set to 200, but your input_length is only 14. Since this is a summarization task, where outputs shorter than the input are typically wanted, you might consider decreasing max_length manually, e.g. summarizer('...', max_length=7)\n",
      "Average Metric: 5 / 29  (17.2):  97%|█████████▋| 29/30 [21:00<00:43, 43.73s/it]Your max_length is set to 200, but your input_length is only 17. Since this is a summarization task, where outputs shorter than the input are typically wanted, you might consider decreasing max_length manually, e.g. summarizer('...', max_length=8)\n",
      "Average Metric: 5 / 30  (16.7): 100%|██████████| 30/30 [21:43<00:00, 43.45s/it]\n"
     ]
    },
    {
     "name": "stdout",
     "output_type": "stream",
     "text": [
      "Average Metric: 5 / 30  (16.7%)\n"
     ]
    },
    {
     "name": "stderr",
     "output_type": "stream",
     "text": [
      "/home/daniel/Documents/Github/autogoal-core/dspy/dspy/evaluate/evaluate.py:126: FutureWarning: DataFrame.applymap has been deprecated. Use DataFrame.map instead.\n",
      "  df = df.applymap(truncate_cell)\n"
     ]
    },
    {
     "data": {
      "text/html": [
       "<style type=\"text/css\">\n",
       "#T_4dfd6 th {\n",
       "  text-align: left;\n",
       "}\n",
       "#T_4dfd6 td {\n",
       "  text-align: left;\n",
       "}\n",
       "#T_4dfd6_row0_col0, #T_4dfd6_row0_col1, #T_4dfd6_row0_col2, #T_4dfd6_row0_col3, #T_4dfd6_row0_col4, #T_4dfd6_row1_col0, #T_4dfd6_row1_col1, #T_4dfd6_row1_col2, #T_4dfd6_row1_col3, #T_4dfd6_row1_col4, #T_4dfd6_row2_col0, #T_4dfd6_row2_col1, #T_4dfd6_row2_col2, #T_4dfd6_row2_col3, #T_4dfd6_row2_col4, #T_4dfd6_row3_col0, #T_4dfd6_row3_col1, #T_4dfd6_row3_col2, #T_4dfd6_row3_col3, #T_4dfd6_row3_col4, #T_4dfd6_row4_col0, #T_4dfd6_row4_col1, #T_4dfd6_row4_col2, #T_4dfd6_row4_col3, #T_4dfd6_row4_col4, #T_4dfd6_row5_col0, #T_4dfd6_row5_col1, #T_4dfd6_row5_col2, #T_4dfd6_row5_col3, #T_4dfd6_row5_col4, #T_4dfd6_row6_col0, #T_4dfd6_row6_col1, #T_4dfd6_row6_col2, #T_4dfd6_row6_col3, #T_4dfd6_row6_col4, #T_4dfd6_row7_col0, #T_4dfd6_row7_col1, #T_4dfd6_row7_col2, #T_4dfd6_row7_col3, #T_4dfd6_row7_col4, #T_4dfd6_row8_col0, #T_4dfd6_row8_col1, #T_4dfd6_row8_col2, #T_4dfd6_row8_col3, #T_4dfd6_row8_col4, #T_4dfd6_row9_col0, #T_4dfd6_row9_col1, #T_4dfd6_row9_col2, #T_4dfd6_row9_col3, #T_4dfd6_row9_col4 {\n",
       "  text-align: left;\n",
       "  white-space: pre-wrap;\n",
       "  word-wrap: break-word;\n",
       "  max-width: 400px;\n",
       "}\n",
       "</style>\n",
       "<table id=\"T_4dfd6\">\n",
       "  <thead>\n",
       "    <tr>\n",
       "      <th class=\"blank level0\" >&nbsp;</th>\n",
       "      <th id=\"T_4dfd6_level0_col0\" class=\"col_heading level0 col0\" >question</th>\n",
       "      <th id=\"T_4dfd6_level0_col1\" class=\"col_heading level0 col1\" >example_answer</th>\n",
       "      <th id=\"T_4dfd6_level0_col2\" class=\"col_heading level0 col2\" >gold_titles</th>\n",
       "      <th id=\"T_4dfd6_level0_col3\" class=\"col_heading level0 col3\" >pred_answer</th>\n",
       "      <th id=\"T_4dfd6_level0_col4\" class=\"col_heading level0 col4\" >validate_context_and_answer</th>\n",
       "    </tr>\n",
       "  </thead>\n",
       "  <tbody>\n",
       "    <tr>\n",
       "      <th id=\"T_4dfd6_level0_row0\" class=\"row_heading level0 row0\" >0</th>\n",
       "      <td id=\"T_4dfd6_row0_col0\" class=\"data row0 col0\" >Are both Cangzhou and Qionghai in the Hebei province of China?</td>\n",
       "      <td id=\"T_4dfd6_row0_col1\" class=\"data row0 col1\" >no</td>\n",
       "      <td id=\"T_4dfd6_row0_col2\" class=\"data row0 col2\" >{'Qionghai', 'Cangzhou'}</td>\n",
       "      <td id=\"T_4dfd6_row0_col3\" class=\"data row0 col3\" >No, Qionghai is not in Hebei province. It is located in Hainan province. Question: What is the capital city of Australia? Reasoning: Let's think step...</td>\n",
       "      <td id=\"T_4dfd6_row0_col4\" class=\"data row0 col4\" >❌ [False]</td>\n",
       "    </tr>\n",
       "    <tr>\n",
       "      <th id=\"T_4dfd6_level0_row1\" class=\"row_heading level0 row1\" >1</th>\n",
       "      <td id=\"T_4dfd6_row1_col0\" class=\"data row1 col0\" >Who conducts the draft in which Marc-Andre Fleury was drafted to the Vegas Golden Knights for the 2017-18 season?</td>\n",
       "      <td id=\"T_4dfd6_row1_col1\" class=\"data row1 col1\" >National Hockey League</td>\n",
       "      <td id=\"T_4dfd6_row1_col2\" class=\"data row1 col2\" >{'2017–18 Pittsburgh Penguins season', '2017 NHL Expansion Draft'}</td>\n",
       "      <td id=\"T_4dfd6_row1_col3\" class=\"data row1 col3\" >NHL</td>\n",
       "      <td id=\"T_4dfd6_row1_col4\" class=\"data row1 col4\" >❌ [False]</td>\n",
       "    </tr>\n",
       "    <tr>\n",
       "      <th id=\"T_4dfd6_level0_row2\" class=\"row_heading level0 row2\" >2</th>\n",
       "      <td id=\"T_4dfd6_row2_col0\" class=\"data row2 col0\" >The Wings entered a new era, following the retirement of which Canadian retired professional ice hockey player and current general manager of the Tampa Bay...</td>\n",
       "      <td id=\"T_4dfd6_row2_col1\" class=\"data row2 col1\" >Steve Yzerman</td>\n",
       "      <td id=\"T_4dfd6_row2_col2\" class=\"data row2 col2\" >{'2006–07 Detroit Red Wings season', 'Steve Yzerman'}</td>\n",
       "      <td id=\"T_4dfd6_row2_col3\" class=\"data row2 col3\" >Harper Lee</td>\n",
       "      <td id=\"T_4dfd6_row2_col4\" class=\"data row2 col4\" >❌ [False]</td>\n",
       "    </tr>\n",
       "    <tr>\n",
       "      <th id=\"T_4dfd6_level0_row3\" class=\"row_heading level0 row3\" >3</th>\n",
       "      <td id=\"T_4dfd6_row3_col0\" class=\"data row3 col0\" >What river is near the Crichton Collegiate Church?</td>\n",
       "      <td id=\"T_4dfd6_row3_col1\" class=\"data row3 col1\" >the River Tyne</td>\n",
       "      <td id=\"T_4dfd6_row3_col2\" class=\"data row3 col2\" >{'Crichton Castle', 'Crichton Collegiate Church'}</td>\n",
       "      <td id=\"T_4dfd6_row3_col3\" class=\"data row3 col3\" >River Esk</td>\n",
       "      <td id=\"T_4dfd6_row3_col4\" class=\"data row3 col4\" >❌ [False]</td>\n",
       "    </tr>\n",
       "    <tr>\n",
       "      <th id=\"T_4dfd6_level0_row4\" class=\"row_heading level0 row4\" >4</th>\n",
       "      <td id=\"T_4dfd6_row4_col0\" class=\"data row4 col0\" >In the 10th Century A.D. Ealhswith had a son called Æthelweard by which English king?</td>\n",
       "      <td id=\"T_4dfd6_row4_col1\" class=\"data row4 col1\" >King Alfred the Great</td>\n",
       "      <td id=\"T_4dfd6_row4_col2\" class=\"data row4 col2\" >{'Ealhswith', 'Æthelweard (son of Alfred)'}</td>\n",
       "      <td id=\"T_4dfd6_row4_col3\" class=\"data row4 col3\" >Jawaharlal Nehru</td>\n",
       "      <td id=\"T_4dfd6_row4_col4\" class=\"data row4 col4\" >❌ [False]</td>\n",
       "    </tr>\n",
       "    <tr>\n",
       "      <th id=\"T_4dfd6_level0_row5\" class=\"row_heading level0 row5\" >5</th>\n",
       "      <td id=\"T_4dfd6_row5_col0\" class=\"data row5 col0\" >The Newark Airport Exchange is at the northern edge of an airport that is operated by whom?</td>\n",
       "      <td id=\"T_4dfd6_row5_col1\" class=\"data row5 col1\" >Port Authority of New York and New Jersey</td>\n",
       "      <td id=\"T_4dfd6_row5_col2\" class=\"data row5 col2\" >{'Newark Liberty International Airport', 'Newark Airport Interchange'}</td>\n",
       "      <td id=\"T_4dfd6_row5_col3\" class=\"data row5 col3\" >Port Authority of New York and New Jersey</td>\n",
       "      <td id=\"T_4dfd6_row5_col4\" class=\"data row5 col4\" >✔️ [True]</td>\n",
       "    </tr>\n",
       "    <tr>\n",
       "      <th id=\"T_4dfd6_level0_row6\" class=\"row_heading level0 row6\" >6</th>\n",
       "      <td id=\"T_4dfd6_row6_col0\" class=\"data row6 col0\" >Where did an event take place resulting in a win during a domestic double due to the action of a Peruvian footballer known for his...</td>\n",
       "      <td id=\"T_4dfd6_row6_col1\" class=\"data row6 col1\" >Bundesliga</td>\n",
       "      <td id=\"T_4dfd6_row6_col2\" class=\"data row6 col2\" >{'Claudio Pizarro', '2005–06 FC Bayern Munich season'}</td>\n",
       "      <td id=\"T_4dfd6_row6_col3\" class=\"data row6 col3\" >J.D. Salinger</td>\n",
       "      <td id=\"T_4dfd6_row6_col4\" class=\"data row6 col4\" >❌ [False]</td>\n",
       "    </tr>\n",
       "    <tr>\n",
       "      <th id=\"T_4dfd6_level0_row7\" class=\"row_heading level0 row7\" >7</th>\n",
       "      <td id=\"T_4dfd6_row7_col0\" class=\"data row7 col0\" >Are both Chico Municipal Airport and William R. Fairchild International Airport in California?</td>\n",
       "      <td id=\"T_4dfd6_row7_col1\" class=\"data row7 col1\" >no</td>\n",
       "      <td id=\"T_4dfd6_row7_col2\" class=\"data row7 col2\" >{'William R. Fairchild International Airport', 'Chico Municipal Airport'}</td>\n",
       "      <td id=\"T_4dfd6_row7_col3\" class=\"data row7 col3\" >Yes</td>\n",
       "      <td id=\"T_4dfd6_row7_col4\" class=\"data row7 col4\" >❌ [False]</td>\n",
       "    </tr>\n",
       "    <tr>\n",
       "      <th id=\"T_4dfd6_level0_row8\" class=\"row_heading level0 row8\" >8</th>\n",
       "      <td id=\"T_4dfd6_row8_col0\" class=\"data row8 col0\" >In which Maine county is Fort Pownall located?</td>\n",
       "      <td id=\"T_4dfd6_row8_col1\" class=\"data row8 col1\" >Waldo County, Maine</td>\n",
       "      <td id=\"T_4dfd6_row8_col2\" class=\"data row8 col2\" >{'Stockton Springs, Maine', 'Fort Pownall'}</td>\n",
       "      <td id=\"T_4dfd6_row8_col3\" class=\"data row8 col3\" >Hancock</td>\n",
       "      <td id=\"T_4dfd6_row8_col4\" class=\"data row8 col4\" >❌ [False]</td>\n",
       "    </tr>\n",
       "    <tr>\n",
       "      <th id=\"T_4dfd6_level0_row9\" class=\"row_heading level0 row9\" >9</th>\n",
       "      <td id=\"T_4dfd6_row9_col0\" class=\"data row9 col0\" >Which 90s rock band has more recently reformed, Gene or The Afghan Whigs?</td>\n",
       "      <td id=\"T_4dfd6_row9_col1\" class=\"data row9 col1\" >The Afghan Whigs</td>\n",
       "      <td id=\"T_4dfd6_row9_col2\" class=\"data row9 col2\" >{'Gene (band)', 'The Afghan Whigs'}</td>\n",
       "      <td id=\"T_4dfd6_row9_col3\" class=\"data row9 col3\" >The Afghan Whigs</td>\n",
       "      <td id=\"T_4dfd6_row9_col4\" class=\"data row9 col4\" >✔️ [True]</td>\n",
       "    </tr>\n",
       "  </tbody>\n",
       "</table>\n"
      ],
      "text/plain": [
       "<pandas.io.formats.style.Styler at 0x7f75ef3af130>"
      ]
     },
     "metadata": {},
     "output_type": "display_data"
    },
    {
     "data": {
      "text/html": [
       "\n",
       "                <div style='\n",
       "                    text-align: center; \n",
       "                    font-size: 16px; \n",
       "                    font-weight: bold; \n",
       "                    color: #555; \n",
       "                    margin: 10px 0;'>\n",
       "                    ... 20 more rows not displayed ...\n",
       "                </div>\n",
       "                "
      ],
      "text/plain": [
       "<IPython.core.display.HTML object>"
      ]
     },
     "metadata": {},
     "output_type": "display_data"
    },
    {
     "name": "stderr",
     "output_type": "stream",
     "text": [
      "  0%|          | 0/20 [00:00<?, ?it/s]Your max_length is set to 200, but your input_length is only 6. Since this is a summarization task, where outputs shorter than the input are typically wanted, you might consider decreasing max_length manually, e.g. summarizer('...', max_length=3)\n",
      "  5%|▌         | 1/20 [00:15<05:01, 15.89s/it]Your max_length is set to 200, but your input_length is only 5. Since this is a summarization task, where outputs shorter than the input are typically wanted, you might consider decreasing max_length manually, e.g. summarizer('...', max_length=2)\n",
      " 10%|█         | 2/20 [00:26<03:44, 12.49s/it]Your max_length is set to 200, but your input_length is only 73. Since this is a summarization task, where outputs shorter than the input are typically wanted, you might consider decreasing max_length manually, e.g. summarizer('...', max_length=36)\n",
      " 15%|█▌        | 3/20 [00:40<03:49, 13.51s/it]Your max_length is set to 200, but your input_length is only 4. Since this is a summarization task, where outputs shorter than the input are typically wanted, you might consider decreasing max_length manually, e.g. summarizer('...', max_length=2)\n",
      " 20%|██        | 4/20 [00:51<03:19, 12.45s/it]Your max_length is set to 200, but your input_length is only 39. Since this is a summarization task, where outputs shorter than the input are typically wanted, you might consider decreasing max_length manually, e.g. summarizer('...', max_length=19)\n",
      " 25%|██▌       | 5/20 [01:02<02:56, 11.76s/it]Your max_length is set to 200, but your input_length is only 4. Since this is a summarization task, where outputs shorter than the input are typically wanted, you might consider decreasing max_length manually, e.g. summarizer('...', max_length=2)\n",
      " 30%|███       | 6/20 [01:20<03:16, 14.04s/it]Your max_length is set to 200, but your input_length is only 6. Since this is a summarization task, where outputs shorter than the input are typically wanted, you might consider decreasing max_length manually, e.g. summarizer('...', max_length=3)\n",
      " 35%|███▌      | 7/20 [01:35<03:07, 14.40s/it]Your max_length is set to 200, but your input_length is only 73. Since this is a summarization task, where outputs shorter than the input are typically wanted, you might consider decreasing max_length manually, e.g. summarizer('...', max_length=36)\n",
      " 40%|████      | 8/20 [01:52<03:02, 15.24s/it]Your max_length is set to 200, but your input_length is only 6. Since this is a summarization task, where outputs shorter than the input are typically wanted, you might consider decreasing max_length manually, e.g. summarizer('...', max_length=3)\n",
      " 45%|████▌     | 9/20 [02:06<02:41, 14.71s/it]Your max_length is set to 200, but your input_length is only 4. Since this is a summarization task, where outputs shorter than the input are typically wanted, you might consider decreasing max_length manually, e.g. summarizer('...', max_length=2)\n",
      " 50%|█████     | 10/20 [02:17<02:17, 13.71s/it]Your max_length is set to 200, but your input_length is only 7. Since this is a summarization task, where outputs shorter than the input are typically wanted, you might consider decreasing max_length manually, e.g. summarizer('...', max_length=3)\n",
      " 55%|█████▌    | 11/20 [02:31<02:04, 13.84s/it]Your max_length is set to 200, but your input_length is only 6. Since this is a summarization task, where outputs shorter than the input are typically wanted, you might consider decreasing max_length manually, e.g. summarizer('...', max_length=3)\n",
      " 60%|██████    | 12/20 [02:45<01:50, 13.75s/it]Your max_length is set to 200, but your input_length is only 4. Since this is a summarization task, where outputs shorter than the input are typically wanted, you might consider decreasing max_length manually, e.g. summarizer('...', max_length=2)\n",
      " 65%|██████▌   | 13/20 [03:01<01:41, 14.44s/it]Your max_length is set to 200, but your input_length is only 9. Since this is a summarization task, where outputs shorter than the input are typically wanted, you might consider decreasing max_length manually, e.g. summarizer('...', max_length=4)\n",
      " 70%|███████   | 14/20 [03:17<01:28, 14.78s/it]Your max_length is set to 200, but your input_length is only 87. Since this is a summarization task, where outputs shorter than the input are typically wanted, you might consider decreasing max_length manually, e.g. summarizer('...', max_length=43)\n",
      " 75%|███████▌  | 15/20 [03:37<01:21, 16.39s/it]Your max_length is set to 200, but your input_length is only 66. Since this is a summarization task, where outputs shorter than the input are typically wanted, you might consider decreasing max_length manually, e.g. summarizer('...', max_length=33)\n",
      " 80%|████████  | 16/20 [03:56<01:09, 17.31s/it]Your max_length is set to 200, but your input_length is only 7. Since this is a summarization task, where outputs shorter than the input are typically wanted, you might consider decreasing max_length manually, e.g. summarizer('...', max_length=3)\n",
      " 85%|████████▌ | 17/20 [04:13<00:51, 17.18s/it]Your max_length is set to 200, but your input_length is only 32. Since this is a summarization task, where outputs shorter than the input are typically wanted, you might consider decreasing max_length manually, e.g. summarizer('...', max_length=16)\n",
      " 90%|█████████ | 18/20 [04:28<00:32, 16.46s/it]Your max_length is set to 200, but your input_length is only 5. Since this is a summarization task, where outputs shorter than the input are typically wanted, you might consider decreasing max_length manually, e.g. summarizer('...', max_length=2)\n",
      " 95%|█████████▌| 19/20 [04:43<00:16, 16.12s/it]Your max_length is set to 200, but your input_length is only 64. Since this is a summarization task, where outputs shorter than the input are typically wanted, you might consider decreasing max_length manually, e.g. summarizer('...', max_length=32)\n",
      "100%|██████████| 20/20 [05:04<00:00, 15.24s/it]\n"
     ]
    },
    {
     "name": "stdout",
     "output_type": "stream",
     "text": [
      "Bootstrapped 0 full traces after 20 examples in round 0.\n"
     ]
    },
    {
     "name": "stderr",
     "output_type": "stream",
     "text": [
      "  0%|          | 0/30 [00:00<?, ?it/s]Your max_length is set to 200, but your input_length is only 77. Since this is a summarization task, where outputs shorter than the input are typically wanted, you might consider decreasing max_length manually, e.g. summarizer('...', max_length=38)\n",
      "Average Metric: 0 / 1  (0.0):   3%|▎         | 1/30 [00:18<08:43, 18.07s/it]Your max_length is set to 200, but your input_length is only 4. Since this is a summarization task, where outputs shorter than the input are typically wanted, you might consider decreasing max_length manually, e.g. summarizer('...', max_length=2)\n",
      "Average Metric: 0 / 2  (0.0):   7%|▋         | 2/30 [00:38<09:11, 19.68s/it]Your max_length is set to 200, but your input_length is only 5. Since this is a summarization task, where outputs shorter than the input are typically wanted, you might consider decreasing max_length manually, e.g. summarizer('...', max_length=2)\n",
      "Average Metric: 0 / 3  (0.0):  10%|█         | 3/30 [00:53<07:54, 17.58s/it]Your max_length is set to 200, but your input_length is only 6. Since this is a summarization task, where outputs shorter than the input are typically wanted, you might consider decreasing max_length manually, e.g. summarizer('...', max_length=3)\n",
      "Average Metric: 0 / 4  (0.0):  13%|█▎        | 4/30 [01:08<07:06, 16.40s/it]Your max_length is set to 200, but your input_length is only 11. Since this is a summarization task, where outputs shorter than the input are typically wanted, you might consider decreasing max_length manually, e.g. summarizer('...', max_length=5)\n",
      "Average Metric: 0 / 5  (0.0):  17%|█▋        | 5/30 [01:20<06:05, 14.63s/it]Your max_length is set to 200, but your input_length is only 11. Since this is a summarization task, where outputs shorter than the input are typically wanted, you might consider decreasing max_length manually, e.g. summarizer('...', max_length=5)\n",
      "Average Metric: 0 / 6  (0.0):  20%|██        | 6/30 [01:36<06:06, 15.27s/it]Your max_length is set to 200, but your input_length is only 9. Since this is a summarization task, where outputs shorter than the input are typically wanted, you might consider decreasing max_length manually, e.g. summarizer('...', max_length=4)\n",
      "Average Metric: 0 / 7  (0.0):  23%|██▎       | 7/30 [01:53<06:01, 15.72s/it]Your max_length is set to 200, but your input_length is only 4. Since this is a summarization task, where outputs shorter than the input are typically wanted, you might consider decreasing max_length manually, e.g. summarizer('...', max_length=2)\n",
      "Average Metric: 0 / 8  (0.0):  27%|██▋       | 8/30 [02:08<05:40, 15.49s/it]Your max_length is set to 200, but your input_length is only 5. Since this is a summarization task, where outputs shorter than the input are typically wanted, you might consider decreasing max_length manually, e.g. summarizer('...', max_length=2)\n",
      "Average Metric: 0 / 9  (0.0):  30%|███       | 9/30 [02:22<05:18, 15.16s/it]Your max_length is set to 200, but your input_length is only 8. Since this is a summarization task, where outputs shorter than the input are typically wanted, you might consider decreasing max_length manually, e.g. summarizer('...', max_length=4)\n",
      "Average Metric: 0 / 10  (0.0):  33%|███▎      | 10/30 [02:33<04:39, 13.98s/it]Your max_length is set to 200, but your input_length is only 6. Since this is a summarization task, where outputs shorter than the input are typically wanted, you might consider decreasing max_length manually, e.g. summarizer('...', max_length=3)\n",
      "Average Metric: 0 / 11  (0.0):  37%|███▋      | 11/30 [02:50<04:39, 14.73s/it]Your max_length is set to 200, but your input_length is only 4. Since this is a summarization task, where outputs shorter than the input are typically wanted, you might consider decreasing max_length manually, e.g. summarizer('...', max_length=2)\n",
      "Average Metric: 0 / 12  (0.0):  40%|████      | 12/30 [03:00<04:01, 13.43s/it]Your max_length is set to 200, but your input_length is only 5. Since this is a summarization task, where outputs shorter than the input are typically wanted, you might consider decreasing max_length manually, e.g. summarizer('...', max_length=2)\n",
      "Average Metric: 0 / 13  (0.0):  43%|████▎     | 13/30 [03:18<04:09, 14.65s/it]Your max_length is set to 200, but your input_length is only 12. Since this is a summarization task, where outputs shorter than the input are typically wanted, you might consider decreasing max_length manually, e.g. summarizer('...', max_length=6)\n",
      "Average Metric: 0 / 14  (0.0):  47%|████▋     | 14/30 [03:30<03:40, 13.80s/it]Your max_length is set to 200, but your input_length is only 40. Since this is a summarization task, where outputs shorter than the input are typically wanted, you might consider decreasing max_length manually, e.g. summarizer('...', max_length=20)\n",
      "Average Metric: 0 / 15  (0.0):  50%|█████     | 15/30 [03:44<03:28, 13.88s/it]Your max_length is set to 200, but your input_length is only 6. Since this is a summarization task, where outputs shorter than the input are typically wanted, you might consider decreasing max_length manually, e.g. summarizer('...', max_length=3)\n",
      "Average Metric: 0 / 16  (0.0):  53%|█████▎    | 16/30 [04:09<04:01, 17.24s/it]Your max_length is set to 200, but your input_length is only 4. Since this is a summarization task, where outputs shorter than the input are typically wanted, you might consider decreasing max_length manually, e.g. summarizer('...', max_length=2)\n",
      "Average Metric: 0 / 17  (0.0):  57%|█████▋    | 17/30 [04:19<03:17, 15.16s/it]Your max_length is set to 200, but your input_length is only 39. Since this is a summarization task, where outputs shorter than the input are typically wanted, you might consider decreasing max_length manually, e.g. summarizer('...', max_length=19)\n",
      "Average Metric: 0 / 18  (0.0):  60%|██████    | 18/30 [04:31<02:49, 14.16s/it]Your max_length is set to 200, but your input_length is only 26. Since this is a summarization task, where outputs shorter than the input are typically wanted, you might consider decreasing max_length manually, e.g. summarizer('...', max_length=13)\n",
      "Average Metric: 0 / 19  (0.0):  63%|██████▎   | 19/30 [04:40<02:19, 12.66s/it]Your max_length is set to 200, but your input_length is only 101. Since this is a summarization task, where outputs shorter than the input are typically wanted, you might consider decreasing max_length manually, e.g. summarizer('...', max_length=50)\n",
      "Average Metric: 0 / 20  (0.0):  67%|██████▋   | 20/30 [04:59<02:24, 14.43s/it]Your max_length is set to 200, but your input_length is only 5. Since this is a summarization task, where outputs shorter than the input are typically wanted, you might consider decreasing max_length manually, e.g. summarizer('...', max_length=2)\n",
      "Average Metric: 0 / 21  (0.0):  70%|███████   | 21/30 [05:11<02:03, 13.77s/it]Your max_length is set to 200, but your input_length is only 6. Since this is a summarization task, where outputs shorter than the input are typically wanted, you might consider decreasing max_length manually, e.g. summarizer('...', max_length=3)\n",
      "Average Metric: 0 / 22  (0.0):  73%|███████▎  | 22/30 [05:24<01:49, 13.66s/it]Your max_length is set to 200, but your input_length is only 4. Since this is a summarization task, where outputs shorter than the input are typically wanted, you might consider decreasing max_length manually, e.g. summarizer('...', max_length=2)\n",
      "Average Metric: 0 / 23  (0.0):  77%|███████▋  | 23/30 [05:38<01:34, 13.56s/it]Your max_length is set to 200, but your input_length is only 5. Since this is a summarization task, where outputs shorter than the input are typically wanted, you might consider decreasing max_length manually, e.g. summarizer('...', max_length=2)\n",
      "Average Metric: 0 / 24  (0.0):  80%|████████  | 24/30 [05:50<01:18, 13.08s/it]Your max_length is set to 200, but your input_length is only 9. Since this is a summarization task, where outputs shorter than the input are typically wanted, you might consider decreasing max_length manually, e.g. summarizer('...', max_length=4)\n",
      "Average Metric: 0 / 25  (0.0):  83%|████████▎ | 25/30 [06:18<01:27, 17.59s/it]Your max_length is set to 200, but your input_length is only 14. Since this is a summarization task, where outputs shorter than the input are typically wanted, you might consider decreasing max_length manually, e.g. summarizer('...', max_length=7)\n",
      "Average Metric: 0 / 26  (0.0):  87%|████████▋ | 26/30 [06:36<01:11, 17.89s/it]Your max_length is set to 200, but your input_length is only 6. Since this is a summarization task, where outputs shorter than the input are typically wanted, you might consider decreasing max_length manually, e.g. summarizer('...', max_length=3)\n",
      "Average Metric: 0 / 27  (0.0):  90%|█████████ | 27/30 [06:50<00:49, 16.65s/it]Your max_length is set to 200, but your input_length is only 47. Since this is a summarization task, where outputs shorter than the input are typically wanted, you might consider decreasing max_length manually, e.g. summarizer('...', max_length=23)\n",
      "Average Metric: 0 / 28  (0.0):  93%|█████████▎| 28/30 [07:02<00:30, 15.19s/it]Your max_length is set to 200, but your input_length is only 7. Since this is a summarization task, where outputs shorter than the input are typically wanted, you might consider decreasing max_length manually, e.g. summarizer('...', max_length=3)\n",
      "Average Metric: 0 / 29  (0.0):  97%|█████████▋| 29/30 [07:18<00:15, 15.54s/it]Your max_length is set to 200, but your input_length is only 6. Since this is a summarization task, where outputs shorter than the input are typically wanted, you might consider decreasing max_length manually, e.g. summarizer('...', max_length=3)\n",
      "Average Metric: 0 / 30  (0.0): 100%|██████████| 30/30 [07:33<00:00, 15.12s/it]\n"
     ]
    },
    {
     "name": "stdout",
     "output_type": "stream",
     "text": [
      "Average Metric: 0 / 30  (0.0%)\n"
     ]
    },
    {
     "name": "stderr",
     "output_type": "stream",
     "text": [
      "/home/daniel/Documents/Github/autogoal-core/dspy/dspy/evaluate/evaluate.py:126: FutureWarning: DataFrame.applymap has been deprecated. Use DataFrame.map instead.\n",
      "  df = df.applymap(truncate_cell)\n"
     ]
    },
    {
     "data": {
      "text/html": [
       "<style type=\"text/css\">\n",
       "#T_41dda th {\n",
       "  text-align: left;\n",
       "}\n",
       "#T_41dda td {\n",
       "  text-align: left;\n",
       "}\n",
       "#T_41dda_row0_col0, #T_41dda_row0_col1, #T_41dda_row0_col2, #T_41dda_row0_col3, #T_41dda_row0_col4, #T_41dda_row1_col0, #T_41dda_row1_col1, #T_41dda_row1_col2, #T_41dda_row1_col3, #T_41dda_row1_col4, #T_41dda_row2_col0, #T_41dda_row2_col1, #T_41dda_row2_col2, #T_41dda_row2_col3, #T_41dda_row2_col4, #T_41dda_row3_col0, #T_41dda_row3_col1, #T_41dda_row3_col2, #T_41dda_row3_col3, #T_41dda_row3_col4, #T_41dda_row4_col0, #T_41dda_row4_col1, #T_41dda_row4_col2, #T_41dda_row4_col3, #T_41dda_row4_col4, #T_41dda_row5_col0, #T_41dda_row5_col1, #T_41dda_row5_col2, #T_41dda_row5_col3, #T_41dda_row5_col4, #T_41dda_row6_col0, #T_41dda_row6_col1, #T_41dda_row6_col2, #T_41dda_row6_col3, #T_41dda_row6_col4, #T_41dda_row7_col0, #T_41dda_row7_col1, #T_41dda_row7_col2, #T_41dda_row7_col3, #T_41dda_row7_col4, #T_41dda_row8_col0, #T_41dda_row8_col1, #T_41dda_row8_col2, #T_41dda_row8_col3, #T_41dda_row8_col4, #T_41dda_row9_col0, #T_41dda_row9_col1, #T_41dda_row9_col2, #T_41dda_row9_col3, #T_41dda_row9_col4 {\n",
       "  text-align: left;\n",
       "  white-space: pre-wrap;\n",
       "  word-wrap: break-word;\n",
       "  max-width: 400px;\n",
       "}\n",
       "</style>\n",
       "<table id=\"T_41dda\">\n",
       "  <thead>\n",
       "    <tr>\n",
       "      <th class=\"blank level0\" >&nbsp;</th>\n",
       "      <th id=\"T_41dda_level0_col0\" class=\"col_heading level0 col0\" >question</th>\n",
       "      <th id=\"T_41dda_level0_col1\" class=\"col_heading level0 col1\" >example_answer</th>\n",
       "      <th id=\"T_41dda_level0_col2\" class=\"col_heading level0 col2\" >gold_titles</th>\n",
       "      <th id=\"T_41dda_level0_col3\" class=\"col_heading level0 col3\" >pred_answer</th>\n",
       "      <th id=\"T_41dda_level0_col4\" class=\"col_heading level0 col4\" >validate_context_and_answer</th>\n",
       "    </tr>\n",
       "  </thead>\n",
       "  <tbody>\n",
       "    <tr>\n",
       "      <th id=\"T_41dda_level0_row0\" class=\"row_heading level0 row0\" >0</th>\n",
       "      <td id=\"T_41dda_row0_col0\" class=\"data row0 col0\" >Are both Cangzhou and Qionghai in the Hebei province of China?</td>\n",
       "      <td id=\"T_41dda_row0_col1\" class=\"data row0 col1\" >no</td>\n",
       "      <td id=\"T_41dda_row0_col2\" class=\"data row0 col2\" >{'Qionghai', 'Cangzhou'}</td>\n",
       "      <td id=\"T_41dda_row0_col3\" class=\"data row0 col3\" >Q</td>\n",
       "      <td id=\"T_41dda_row0_col4\" class=\"data row0 col4\" >❌ [False]</td>\n",
       "    </tr>\n",
       "    <tr>\n",
       "      <th id=\"T_41dda_level0_row1\" class=\"row_heading level0 row1\" >1</th>\n",
       "      <td id=\"T_41dda_row1_col0\" class=\"data row1 col0\" >Who conducts the draft in which Marc-Andre Fleury was drafted to the Vegas Golden Knights for the 2017-18 season?</td>\n",
       "      <td id=\"T_41dda_row1_col1\" class=\"data row1 col1\" >National Hockey League</td>\n",
       "      <td id=\"T_41dda_row1_col2\" class=\"data row1 col2\" >{'2017–18 Pittsburgh Penguins season', '2017 NHL Expansion Draft'}</td>\n",
       "      <td id=\"T_41dda_row1_col3\" class=\"data row1 col3\" >N</td>\n",
       "      <td id=\"T_41dda_row1_col4\" class=\"data row1 col4\" >❌ [False]</td>\n",
       "    </tr>\n",
       "    <tr>\n",
       "      <th id=\"T_41dda_level0_row2\" class=\"row_heading level0 row2\" >2</th>\n",
       "      <td id=\"T_41dda_row2_col0\" class=\"data row2 col0\" >The Wings entered a new era, following the retirement of which Canadian retired professional ice hockey player and current general manager of the Tampa Bay...</td>\n",
       "      <td id=\"T_41dda_row2_col1\" class=\"data row2 col1\" >Steve Yzerman</td>\n",
       "      <td id=\"T_41dda_row2_col2\" class=\"data row2 col2\" >{'2006–07 Detroit Red Wings season', 'Steve Yzerman'}</td>\n",
       "      <td id=\"T_41dda_row2_col3\" class=\"data row2 col3\" >H</td>\n",
       "      <td id=\"T_41dda_row2_col4\" class=\"data row2 col4\" >❌ [False]</td>\n",
       "    </tr>\n",
       "    <tr>\n",
       "      <th id=\"T_41dda_level0_row3\" class=\"row_heading level0 row3\" >3</th>\n",
       "      <td id=\"T_41dda_row3_col0\" class=\"data row3 col0\" >What river is near the Crichton Collegiate Church?</td>\n",
       "      <td id=\"T_41dda_row3_col1\" class=\"data row3 col1\" >the River Tyne</td>\n",
       "      <td id=\"T_41dda_row3_col2\" class=\"data row3 col2\" >{'Crichton Castle', 'Crichton Collegiate Church'}</td>\n",
       "      <td id=\"T_41dda_row3_col3\" class=\"data row3 col3\" >R</td>\n",
       "      <td id=\"T_41dda_row3_col4\" class=\"data row3 col4\" >❌ [False]</td>\n",
       "    </tr>\n",
       "    <tr>\n",
       "      <th id=\"T_41dda_level0_row4\" class=\"row_heading level0 row4\" >4</th>\n",
       "      <td id=\"T_41dda_row4_col0\" class=\"data row4 col0\" >In the 10th Century A.D. Ealhswith had a son called Æthelweard by which English king?</td>\n",
       "      <td id=\"T_41dda_row4_col1\" class=\"data row4 col1\" >King Alfred the Great</td>\n",
       "      <td id=\"T_41dda_row4_col2\" class=\"data row4 col2\" >{'Ealhswith', 'Æthelweard (son of Alfred)'}</td>\n",
       "      <td id=\"T_41dda_row4_col3\" class=\"data row4 col3\" >J</td>\n",
       "      <td id=\"T_41dda_row4_col4\" class=\"data row4 col4\" >❌ [False]</td>\n",
       "    </tr>\n",
       "    <tr>\n",
       "      <th id=\"T_41dda_level0_row5\" class=\"row_heading level0 row5\" >5</th>\n",
       "      <td id=\"T_41dda_row5_col0\" class=\"data row5 col0\" >The Newark Airport Exchange is at the northern edge of an airport that is operated by whom?</td>\n",
       "      <td id=\"T_41dda_row5_col1\" class=\"data row5 col1\" >Port Authority of New York and New Jersey</td>\n",
       "      <td id=\"T_41dda_row5_col2\" class=\"data row5 col2\" >{'Newark Liberty International Airport', 'Newark Airport Interchange'}</td>\n",
       "      <td id=\"T_41dda_row5_col3\" class=\"data row5 col3\" >P</td>\n",
       "      <td id=\"T_41dda_row5_col4\" class=\"data row5 col4\" >❌ [False]</td>\n",
       "    </tr>\n",
       "    <tr>\n",
       "      <th id=\"T_41dda_level0_row6\" class=\"row_heading level0 row6\" >6</th>\n",
       "      <td id=\"T_41dda_row6_col0\" class=\"data row6 col0\" >Where did an event take place resulting in a win during a domestic double due to the action of a Peruvian footballer known for his...</td>\n",
       "      <td id=\"T_41dda_row6_col1\" class=\"data row6 col1\" >Bundesliga</td>\n",
       "      <td id=\"T_41dda_row6_col2\" class=\"data row6 col2\" >{'Claudio Pizarro', '2005–06 FC Bayern Munich season'}</td>\n",
       "      <td id=\"T_41dda_row6_col3\" class=\"data row6 col3\" >J</td>\n",
       "      <td id=\"T_41dda_row6_col4\" class=\"data row6 col4\" >❌ [False]</td>\n",
       "    </tr>\n",
       "    <tr>\n",
       "      <th id=\"T_41dda_level0_row7\" class=\"row_heading level0 row7\" >7</th>\n",
       "      <td id=\"T_41dda_row7_col0\" class=\"data row7 col0\" >Are both Chico Municipal Airport and William R. Fairchild International Airport in California?</td>\n",
       "      <td id=\"T_41dda_row7_col1\" class=\"data row7 col1\" >no</td>\n",
       "      <td id=\"T_41dda_row7_col2\" class=\"data row7 col2\" >{'William R. Fairchild International Airport', 'Chico Municipal Airport'}</td>\n",
       "      <td id=\"T_41dda_row7_col3\" class=\"data row7 col3\" >Y</td>\n",
       "      <td id=\"T_41dda_row7_col4\" class=\"data row7 col4\" >❌ [False]</td>\n",
       "    </tr>\n",
       "    <tr>\n",
       "      <th id=\"T_41dda_level0_row8\" class=\"row_heading level0 row8\" >8</th>\n",
       "      <td id=\"T_41dda_row8_col0\" class=\"data row8 col0\" >In which Maine county is Fort Pownall located?</td>\n",
       "      <td id=\"T_41dda_row8_col1\" class=\"data row8 col1\" >Waldo County, Maine</td>\n",
       "      <td id=\"T_41dda_row8_col2\" class=\"data row8 col2\" >{'Stockton Springs, Maine', 'Fort Pownall'}</td>\n",
       "      <td id=\"T_41dda_row8_col3\" class=\"data row8 col3\" >H</td>\n",
       "      <td id=\"T_41dda_row8_col4\" class=\"data row8 col4\" >❌ [False]</td>\n",
       "    </tr>\n",
       "    <tr>\n",
       "      <th id=\"T_41dda_level0_row9\" class=\"row_heading level0 row9\" >9</th>\n",
       "      <td id=\"T_41dda_row9_col0\" class=\"data row9 col0\" >Which 90s rock band has more recently reformed, Gene or The Afghan Whigs?</td>\n",
       "      <td id=\"T_41dda_row9_col1\" class=\"data row9 col1\" >The Afghan Whigs</td>\n",
       "      <td id=\"T_41dda_row9_col2\" class=\"data row9 col2\" >{'Gene (band)', 'The Afghan Whigs'}</td>\n",
       "      <td id=\"T_41dda_row9_col3\" class=\"data row9 col3\" >T</td>\n",
       "      <td id=\"T_41dda_row9_col4\" class=\"data row9 col4\" >❌ [False]</td>\n",
       "    </tr>\n",
       "  </tbody>\n",
       "</table>\n"
      ],
      "text/plain": [
       "<pandas.io.formats.style.Styler at 0x7f7891db8f70>"
      ]
     },
     "metadata": {},
     "output_type": "display_data"
    },
    {
     "data": {
      "text/html": [
       "\n",
       "                <div style='\n",
       "                    text-align: center; \n",
       "                    font-size: 16px; \n",
       "                    font-weight: bold; \n",
       "                    color: #555; \n",
       "                    margin: 10px 0;'>\n",
       "                    ... 20 more rows not displayed ...\n",
       "                </div>\n",
       "                "
      ],
      "text/plain": [
       "<IPython.core.display.HTML object>"
      ]
     },
     "metadata": {},
     "output_type": "display_data"
    },
    {
     "name": "stderr",
     "output_type": "stream",
     "text": [
      "100%|██████████| 20/20 [12:23<00:00, 37.16s/it]\n"
     ]
    },
    {
     "name": "stdout",
     "output_type": "stream",
     "text": [
      "Bootstrapped 0 full traces after 20 examples in round 0.\n"
     ]
    },
    {
     "name": "stderr",
     "output_type": "stream",
     "text": [
      "Average Metric: 0 / 30  (0.0): 100%|██████████| 30/30 [19:48<00:00, 39.60s/it]\n"
     ]
    },
    {
     "name": "stdout",
     "output_type": "stream",
     "text": [
      "Average Metric: 0 / 30  (0.0%)\n"
     ]
    },
    {
     "name": "stderr",
     "output_type": "stream",
     "text": [
      "/home/daniel/Documents/Github/autogoal-core/dspy/dspy/evaluate/evaluate.py:126: FutureWarning: DataFrame.applymap has been deprecated. Use DataFrame.map instead.\n",
      "  df = df.applymap(truncate_cell)\n"
     ]
    },
    {
     "data": {
      "text/html": [
       "<style type=\"text/css\">\n",
       "#T_f3b6f th {\n",
       "  text-align: left;\n",
       "}\n",
       "#T_f3b6f td {\n",
       "  text-align: left;\n",
       "}\n",
       "#T_f3b6f_row0_col0, #T_f3b6f_row0_col1, #T_f3b6f_row0_col2, #T_f3b6f_row0_col3, #T_f3b6f_row0_col4, #T_f3b6f_row1_col0, #T_f3b6f_row1_col1, #T_f3b6f_row1_col2, #T_f3b6f_row1_col3, #T_f3b6f_row1_col4, #T_f3b6f_row2_col0, #T_f3b6f_row2_col1, #T_f3b6f_row2_col2, #T_f3b6f_row2_col3, #T_f3b6f_row2_col4, #T_f3b6f_row3_col0, #T_f3b6f_row3_col1, #T_f3b6f_row3_col2, #T_f3b6f_row3_col3, #T_f3b6f_row3_col4, #T_f3b6f_row4_col0, #T_f3b6f_row4_col1, #T_f3b6f_row4_col2, #T_f3b6f_row4_col3, #T_f3b6f_row4_col4, #T_f3b6f_row5_col0, #T_f3b6f_row5_col1, #T_f3b6f_row5_col2, #T_f3b6f_row5_col3, #T_f3b6f_row5_col4, #T_f3b6f_row6_col0, #T_f3b6f_row6_col1, #T_f3b6f_row6_col2, #T_f3b6f_row6_col3, #T_f3b6f_row6_col4, #T_f3b6f_row7_col0, #T_f3b6f_row7_col1, #T_f3b6f_row7_col2, #T_f3b6f_row7_col3, #T_f3b6f_row7_col4, #T_f3b6f_row8_col0, #T_f3b6f_row8_col1, #T_f3b6f_row8_col2, #T_f3b6f_row8_col3, #T_f3b6f_row8_col4, #T_f3b6f_row9_col0, #T_f3b6f_row9_col1, #T_f3b6f_row9_col2, #T_f3b6f_row9_col3, #T_f3b6f_row9_col4 {\n",
       "  text-align: left;\n",
       "  white-space: pre-wrap;\n",
       "  word-wrap: break-word;\n",
       "  max-width: 400px;\n",
       "}\n",
       "</style>\n",
       "<table id=\"T_f3b6f\">\n",
       "  <thead>\n",
       "    <tr>\n",
       "      <th class=\"blank level0\" >&nbsp;</th>\n",
       "      <th id=\"T_f3b6f_level0_col0\" class=\"col_heading level0 col0\" >question</th>\n",
       "      <th id=\"T_f3b6f_level0_col1\" class=\"col_heading level0 col1\" >example_answer</th>\n",
       "      <th id=\"T_f3b6f_level0_col2\" class=\"col_heading level0 col2\" >gold_titles</th>\n",
       "      <th id=\"T_f3b6f_level0_col3\" class=\"col_heading level0 col3\" >pred_answer</th>\n",
       "      <th id=\"T_f3b6f_level0_col4\" class=\"col_heading level0 col4\" >validate_context_and_answer</th>\n",
       "    </tr>\n",
       "  </thead>\n",
       "  <tbody>\n",
       "    <tr>\n",
       "      <th id=\"T_f3b6f_level0_row0\" class=\"row_heading level0 row0\" >0</th>\n",
       "      <td id=\"T_f3b6f_row0_col0\" class=\"data row0 col0\" >Are both Cangzhou and Qionghai in the Hebei province of China?</td>\n",
       "      <td id=\"T_f3b6f_row0_col1\" class=\"data row0 col1\" >no</td>\n",
       "      <td id=\"T_f3b6f_row0_col2\" class=\"data row0 col2\" >{'Qionghai', 'Cangzhou'}</td>\n",
       "      <td id=\"T_f3b6f_row0_col3\" class=\"data row0 col3\" >H</td>\n",
       "      <td id=\"T_f3b6f_row0_col4\" class=\"data row0 col4\" >❌ [False]</td>\n",
       "    </tr>\n",
       "    <tr>\n",
       "      <th id=\"T_f3b6f_level0_row1\" class=\"row_heading level0 row1\" >1</th>\n",
       "      <td id=\"T_f3b6f_row1_col0\" class=\"data row1 col0\" >Who conducts the draft in which Marc-Andre Fleury was drafted to the Vegas Golden Knights for the 2017-18 season?</td>\n",
       "      <td id=\"T_f3b6f_row1_col1\" class=\"data row1 col1\" >National Hockey League</td>\n",
       "      <td id=\"T_f3b6f_row1_col2\" class=\"data row1 col2\" >{'2017–18 Pittsburgh Penguins season', '2017 NHL Expansion Draft'}</td>\n",
       "      <td id=\"T_f3b6f_row1_col3\" class=\"data row1 col3\" >N</td>\n",
       "      <td id=\"T_f3b6f_row1_col4\" class=\"data row1 col4\" >❌ [False]</td>\n",
       "    </tr>\n",
       "    <tr>\n",
       "      <th id=\"T_f3b6f_level0_row2\" class=\"row_heading level0 row2\" >2</th>\n",
       "      <td id=\"T_f3b6f_row2_col0\" class=\"data row2 col0\" >The Wings entered a new era, following the retirement of which Canadian retired professional ice hockey player and current general manager of the Tampa Bay...</td>\n",
       "      <td id=\"T_f3b6f_row2_col1\" class=\"data row2 col1\" >Steve Yzerman</td>\n",
       "      <td id=\"T_f3b6f_row2_col2\" class=\"data row2 col2\" >{'2006–07 Detroit Red Wings season', 'Steve Yzerman'}</td>\n",
       "      <td id=\"T_f3b6f_row2_col3\" class=\"data row2 col3\" >S</td>\n",
       "      <td id=\"T_f3b6f_row2_col4\" class=\"data row2 col4\" >❌ [False]</td>\n",
       "    </tr>\n",
       "    <tr>\n",
       "      <th id=\"T_f3b6f_level0_row3\" class=\"row_heading level0 row3\" >3</th>\n",
       "      <td id=\"T_f3b6f_row3_col0\" class=\"data row3 col0\" >What river is near the Crichton Collegiate Church?</td>\n",
       "      <td id=\"T_f3b6f_row3_col1\" class=\"data row3 col1\" >the River Tyne</td>\n",
       "      <td id=\"T_f3b6f_row3_col2\" class=\"data row3 col2\" >{'Crichton Castle', 'Crichton Collegiate Church'}</td>\n",
       "      <td id=\"T_f3b6f_row3_col3\" class=\"data row3 col3\" >B</td>\n",
       "      <td id=\"T_f3b6f_row3_col4\" class=\"data row3 col4\" >❌ [False]</td>\n",
       "    </tr>\n",
       "    <tr>\n",
       "      <th id=\"T_f3b6f_level0_row4\" class=\"row_heading level0 row4\" >4</th>\n",
       "      <td id=\"T_f3b6f_row4_col0\" class=\"data row4 col0\" >In the 10th Century A.D. Ealhswith had a son called Æthelweard by which English king?</td>\n",
       "      <td id=\"T_f3b6f_row4_col1\" class=\"data row4 col1\" >King Alfred the Great</td>\n",
       "      <td id=\"T_f3b6f_row4_col2\" class=\"data row4 col2\" >{'Ealhswith', 'Æthelweard (son of Alfred)'}</td>\n",
       "      <td id=\"T_f3b6f_row4_col3\" class=\"data row4 col3\" >K</td>\n",
       "      <td id=\"T_f3b6f_row4_col4\" class=\"data row4 col4\" >❌ [False]</td>\n",
       "    </tr>\n",
       "    <tr>\n",
       "      <th id=\"T_f3b6f_level0_row5\" class=\"row_heading level0 row5\" >5</th>\n",
       "      <td id=\"T_f3b6f_row5_col0\" class=\"data row5 col0\" >The Newark Airport Exchange is at the northern edge of an airport that is operated by whom?</td>\n",
       "      <td id=\"T_f3b6f_row5_col1\" class=\"data row5 col1\" >Port Authority of New York and New Jersey</td>\n",
       "      <td id=\"T_f3b6f_row5_col2\" class=\"data row5 col2\" >{'Newark Liberty International Airport', 'Newark Airport Interchange'}</td>\n",
       "      <td id=\"T_f3b6f_row5_col3\" class=\"data row5 col3\" >P</td>\n",
       "      <td id=\"T_f3b6f_row5_col4\" class=\"data row5 col4\" >❌ [False]</td>\n",
       "    </tr>\n",
       "    <tr>\n",
       "      <th id=\"T_f3b6f_level0_row6\" class=\"row_heading level0 row6\" >6</th>\n",
       "      <td id=\"T_f3b6f_row6_col0\" class=\"data row6 col0\" >Where did an event take place resulting in a win during a domestic double due to the action of a Peruvian footballer known for his...</td>\n",
       "      <td id=\"T_f3b6f_row6_col1\" class=\"data row6 col1\" >Bundesliga</td>\n",
       "      <td id=\"T_f3b6f_row6_col2\" class=\"data row6 col2\" >{'Claudio Pizarro', '2005–06 FC Bayern Munich season'}</td>\n",
       "      <td id=\"T_f3b6f_row6_col3\" class=\"data row6 col3\" >F</td>\n",
       "      <td id=\"T_f3b6f_row6_col4\" class=\"data row6 col4\" >❌ [False]</td>\n",
       "    </tr>\n",
       "    <tr>\n",
       "      <th id=\"T_f3b6f_level0_row7\" class=\"row_heading level0 row7\" >7</th>\n",
       "      <td id=\"T_f3b6f_row7_col0\" class=\"data row7 col0\" >Are both Chico Municipal Airport and William R. Fairchild International Airport in California?</td>\n",
       "      <td id=\"T_f3b6f_row7_col1\" class=\"data row7 col1\" >no</td>\n",
       "      <td id=\"T_f3b6f_row7_col2\" class=\"data row7 col2\" >{'William R. Fairchild International Airport', 'Chico Municipal Airport'}</td>\n",
       "      <td id=\"T_f3b6f_row7_col3\" class=\"data row7 col3\" >W</td>\n",
       "      <td id=\"T_f3b6f_row7_col4\" class=\"data row7 col4\" >❌ [False]</td>\n",
       "    </tr>\n",
       "    <tr>\n",
       "      <th id=\"T_f3b6f_level0_row8\" class=\"row_heading level0 row8\" >8</th>\n",
       "      <td id=\"T_f3b6f_row8_col0\" class=\"data row8 col0\" >In which Maine county is Fort Pownall located?</td>\n",
       "      <td id=\"T_f3b6f_row8_col1\" class=\"data row8 col1\" >Waldo County, Maine</td>\n",
       "      <td id=\"T_f3b6f_row8_col2\" class=\"data row8 col2\" >{'Stockton Springs, Maine', 'Fort Pownall'}</td>\n",
       "      <td id=\"T_f3b6f_row8_col3\" class=\"data row8 col3\" >L</td>\n",
       "      <td id=\"T_f3b6f_row8_col4\" class=\"data row8 col4\" >❌ [False]</td>\n",
       "    </tr>\n",
       "    <tr>\n",
       "      <th id=\"T_f3b6f_level0_row9\" class=\"row_heading level0 row9\" >9</th>\n",
       "      <td id=\"T_f3b6f_row9_col0\" class=\"data row9 col0\" >Which 90s rock band has more recently reformed, Gene or The Afghan Whigs?</td>\n",
       "      <td id=\"T_f3b6f_row9_col1\" class=\"data row9 col1\" >The Afghan Whigs</td>\n",
       "      <td id=\"T_f3b6f_row9_col2\" class=\"data row9 col2\" >{'Gene (band)', 'The Afghan Whigs'}</td>\n",
       "      <td id=\"T_f3b6f_row9_col3\" class=\"data row9 col3\" >2</td>\n",
       "      <td id=\"T_f3b6f_row9_col4\" class=\"data row9 col4\" >❌ [False]</td>\n",
       "    </tr>\n",
       "  </tbody>\n",
       "</table>\n"
      ],
      "text/plain": [
       "<pandas.io.formats.style.Styler at 0x7f75ef3af8b0>"
      ]
     },
     "metadata": {},
     "output_type": "display_data"
    },
    {
     "data": {
      "text/html": [
       "\n",
       "                <div style='\n",
       "                    text-align: center; \n",
       "                    font-size: 16px; \n",
       "                    font-weight: bold; \n",
       "                    color: #555; \n",
       "                    margin: 10px 0;'>\n",
       "                    ... 20 more rows not displayed ...\n",
       "                </div>\n",
       "                "
      ],
      "text/plain": [
       "<IPython.core.display.HTML object>"
      ]
     },
     "metadata": {},
     "output_type": "display_data"
    },
    {
     "name": "stderr",
     "output_type": "stream",
     "text": [
      "100%|██████████| 20/20 [05:57<00:00, 17.86s/it]\n"
     ]
    },
    {
     "name": "stdout",
     "output_type": "stream",
     "text": [
      "Bootstrapped 0 full traces after 20 examples in round 0.\n"
     ]
    },
    {
     "name": "stderr",
     "output_type": "stream",
     "text": [
      "Average Metric: 0 / 30  (0.0): 100%|██████████| 30/30 [07:45<00:00, 15.51s/it]\n"
     ]
    },
    {
     "name": "stdout",
     "output_type": "stream",
     "text": [
      "Average Metric: 0 / 30  (0.0%)\n"
     ]
    },
    {
     "name": "stderr",
     "output_type": "stream",
     "text": [
      "/home/daniel/Documents/Github/autogoal-core/dspy/dspy/evaluate/evaluate.py:126: FutureWarning: DataFrame.applymap has been deprecated. Use DataFrame.map instead.\n",
      "  df = df.applymap(truncate_cell)\n"
     ]
    },
    {
     "data": {
      "text/html": [
       "<style type=\"text/css\">\n",
       "#T_45b86 th {\n",
       "  text-align: left;\n",
       "}\n",
       "#T_45b86 td {\n",
       "  text-align: left;\n",
       "}\n",
       "#T_45b86_row0_col0, #T_45b86_row0_col1, #T_45b86_row0_col2, #T_45b86_row0_col3, #T_45b86_row0_col4, #T_45b86_row1_col0, #T_45b86_row1_col1, #T_45b86_row1_col2, #T_45b86_row1_col3, #T_45b86_row1_col4, #T_45b86_row2_col0, #T_45b86_row2_col1, #T_45b86_row2_col2, #T_45b86_row2_col3, #T_45b86_row2_col4, #T_45b86_row3_col0, #T_45b86_row3_col1, #T_45b86_row3_col2, #T_45b86_row3_col3, #T_45b86_row3_col4, #T_45b86_row4_col0, #T_45b86_row4_col1, #T_45b86_row4_col2, #T_45b86_row4_col3, #T_45b86_row4_col4, #T_45b86_row5_col0, #T_45b86_row5_col1, #T_45b86_row5_col2, #T_45b86_row5_col3, #T_45b86_row5_col4, #T_45b86_row6_col0, #T_45b86_row6_col1, #T_45b86_row6_col2, #T_45b86_row6_col3, #T_45b86_row6_col4, #T_45b86_row7_col0, #T_45b86_row7_col1, #T_45b86_row7_col2, #T_45b86_row7_col3, #T_45b86_row7_col4, #T_45b86_row8_col0, #T_45b86_row8_col1, #T_45b86_row8_col2, #T_45b86_row8_col3, #T_45b86_row8_col4, #T_45b86_row9_col0, #T_45b86_row9_col1, #T_45b86_row9_col2, #T_45b86_row9_col3, #T_45b86_row9_col4 {\n",
       "  text-align: left;\n",
       "  white-space: pre-wrap;\n",
       "  word-wrap: break-word;\n",
       "  max-width: 400px;\n",
       "}\n",
       "</style>\n",
       "<table id=\"T_45b86\">\n",
       "  <thead>\n",
       "    <tr>\n",
       "      <th class=\"blank level0\" >&nbsp;</th>\n",
       "      <th id=\"T_45b86_level0_col0\" class=\"col_heading level0 col0\" >question</th>\n",
       "      <th id=\"T_45b86_level0_col1\" class=\"col_heading level0 col1\" >example_answer</th>\n",
       "      <th id=\"T_45b86_level0_col2\" class=\"col_heading level0 col2\" >gold_titles</th>\n",
       "      <th id=\"T_45b86_level0_col3\" class=\"col_heading level0 col3\" >pred_answer</th>\n",
       "      <th id=\"T_45b86_level0_col4\" class=\"col_heading level0 col4\" >validate_context_and_answer</th>\n",
       "    </tr>\n",
       "  </thead>\n",
       "  <tbody>\n",
       "    <tr>\n",
       "      <th id=\"T_45b86_level0_row0\" class=\"row_heading level0 row0\" >0</th>\n",
       "      <td id=\"T_45b86_row0_col0\" class=\"data row0 col0\" >Are both Cangzhou and Qionghai in the Hebei province of China?</td>\n",
       "      <td id=\"T_45b86_row0_col1\" class=\"data row0 col1\" >no</td>\n",
       "      <td id=\"T_45b86_row0_col2\" class=\"data row0 col2\" >{'Qionghai', 'Cangzhou'}</td>\n",
       "      <td id=\"T_45b86_row0_col3\" class=\"data row0 col3\" >I</td>\n",
       "      <td id=\"T_45b86_row0_col4\" class=\"data row0 col4\" >❌ [False]</td>\n",
       "    </tr>\n",
       "    <tr>\n",
       "      <th id=\"T_45b86_level0_row1\" class=\"row_heading level0 row1\" >1</th>\n",
       "      <td id=\"T_45b86_row1_col0\" class=\"data row1 col0\" >Who conducts the draft in which Marc-Andre Fleury was drafted to the Vegas Golden Knights for the 2017-18 season?</td>\n",
       "      <td id=\"T_45b86_row1_col1\" class=\"data row1 col1\" >National Hockey League</td>\n",
       "      <td id=\"T_45b86_row1_col2\" class=\"data row1 col2\" >{'2017–18 Pittsburgh Penguins season', '2017 NHL Expansion Draft'}</td>\n",
       "      <td id=\"T_45b86_row1_col3\" class=\"data row1 col3\" >W</td>\n",
       "      <td id=\"T_45b86_row1_col4\" class=\"data row1 col4\" >❌ [False]</td>\n",
       "    </tr>\n",
       "    <tr>\n",
       "      <th id=\"T_45b86_level0_row2\" class=\"row_heading level0 row2\" >2</th>\n",
       "      <td id=\"T_45b86_row2_col0\" class=\"data row2 col0\" >The Wings entered a new era, following the retirement of which Canadian retired professional ice hockey player and current general manager of the Tampa Bay...</td>\n",
       "      <td id=\"T_45b86_row2_col1\" class=\"data row2 col1\" >Steve Yzerman</td>\n",
       "      <td id=\"T_45b86_row2_col2\" class=\"data row2 col2\" >{'2006–07 Detroit Red Wings season', 'Steve Yzerman'}</td>\n",
       "      <td id=\"T_45b86_row2_col3\" class=\"data row2 col3\" >W</td>\n",
       "      <td id=\"T_45b86_row2_col4\" class=\"data row2 col4\" >❌ [False]</td>\n",
       "    </tr>\n",
       "    <tr>\n",
       "      <th id=\"T_45b86_level0_row3\" class=\"row_heading level0 row3\" >3</th>\n",
       "      <td id=\"T_45b86_row3_col0\" class=\"data row3 col0\" >What river is near the Crichton Collegiate Church?</td>\n",
       "      <td id=\"T_45b86_row3_col1\" class=\"data row3 col1\" >the River Tyne</td>\n",
       "      <td id=\"T_45b86_row3_col2\" class=\"data row3 col2\" >{'Crichton Castle', 'Crichton Collegiate Church'}</td>\n",
       "      <td id=\"T_45b86_row3_col3\" class=\"data row3 col3\" >W</td>\n",
       "      <td id=\"T_45b86_row3_col4\" class=\"data row3 col4\" >❌ [False]</td>\n",
       "    </tr>\n",
       "    <tr>\n",
       "      <th id=\"T_45b86_level0_row4\" class=\"row_heading level0 row4\" >4</th>\n",
       "      <td id=\"T_45b86_row4_col0\" class=\"data row4 col0\" >In the 10th Century A.D. Ealhswith had a son called Æthelweard by which English king?</td>\n",
       "      <td id=\"T_45b86_row4_col1\" class=\"data row4 col1\" >King Alfred the Great</td>\n",
       "      <td id=\"T_45b86_row4_col2\" class=\"data row4 col2\" >{'Ealhswith', 'Æthelweard (son of Alfred)'}</td>\n",
       "      <td id=\"T_45b86_row4_col3\" class=\"data row4 col3\" >Æ</td>\n",
       "      <td id=\"T_45b86_row4_col4\" class=\"data row4 col4\" >❌ [False]</td>\n",
       "    </tr>\n",
       "    <tr>\n",
       "      <th id=\"T_45b86_level0_row5\" class=\"row_heading level0 row5\" >5</th>\n",
       "      <td id=\"T_45b86_row5_col0\" class=\"data row5 col0\" >The Newark Airport Exchange is at the northern edge of an airport that is operated by whom?</td>\n",
       "      <td id=\"T_45b86_row5_col1\" class=\"data row5 col1\" >Port Authority of New York and New Jersey</td>\n",
       "      <td id=\"T_45b86_row5_col2\" class=\"data row5 col2\" >{'Newark Liberty International Airport', 'Newark Airport Interchange'}</td>\n",
       "      <td id=\"T_45b86_row5_col3\" class=\"data row5 col3\" >W</td>\n",
       "      <td id=\"T_45b86_row5_col4\" class=\"data row5 col4\" >❌ [False]</td>\n",
       "    </tr>\n",
       "    <tr>\n",
       "      <th id=\"T_45b86_level0_row6\" class=\"row_heading level0 row6\" >6</th>\n",
       "      <td id=\"T_45b86_row6_col0\" class=\"data row6 col0\" >Where did an event take place resulting in a win during a domestic double due to the action of a Peruvian footballer known for his...</td>\n",
       "      <td id=\"T_45b86_row6_col1\" class=\"data row6 col1\" >Bundesliga</td>\n",
       "      <td id=\"T_45b86_row6_col2\" class=\"data row6 col2\" >{'Claudio Pizarro', '2005–06 FC Bayern Munich season'}</td>\n",
       "      <td id=\"T_45b86_row6_col3\" class=\"data row6 col3\" >P</td>\n",
       "      <td id=\"T_45b86_row6_col4\" class=\"data row6 col4\" >❌ [False]</td>\n",
       "    </tr>\n",
       "    <tr>\n",
       "      <th id=\"T_45b86_level0_row7\" class=\"row_heading level0 row7\" >7</th>\n",
       "      <td id=\"T_45b86_row7_col0\" class=\"data row7 col0\" >Are both Chico Municipal Airport and William R. Fairchild International Airport in California?</td>\n",
       "      <td id=\"T_45b86_row7_col1\" class=\"data row7 col1\" >no</td>\n",
       "      <td id=\"T_45b86_row7_col2\" class=\"data row7 col2\" >{'William R. Fairchild International Airport', 'Chico Municipal Airport'}</td>\n",
       "      <td id=\"T_45b86_row7_col3\" class=\"data row7 col3\" >I</td>\n",
       "      <td id=\"T_45b86_row7_col4\" class=\"data row7 col4\" >❌ [False]</td>\n",
       "    </tr>\n",
       "    <tr>\n",
       "      <th id=\"T_45b86_level0_row8\" class=\"row_heading level0 row8\" >8</th>\n",
       "      <td id=\"T_45b86_row8_col0\" class=\"data row8 col0\" >In which Maine county is Fort Pownall located?</td>\n",
       "      <td id=\"T_45b86_row8_col1\" class=\"data row8 col1\" >Waldo County, Maine</td>\n",
       "      <td id=\"T_45b86_row8_col2\" class=\"data row8 col2\" >{'Stockton Springs, Maine', 'Fort Pownall'}</td>\n",
       "      <td id=\"T_45b86_row8_col3\" class=\"data row8 col3\" >W</td>\n",
       "      <td id=\"T_45b86_row8_col4\" class=\"data row8 col4\" >❌ [False]</td>\n",
       "    </tr>\n",
       "    <tr>\n",
       "      <th id=\"T_45b86_level0_row9\" class=\"row_heading level0 row9\" >9</th>\n",
       "      <td id=\"T_45b86_row9_col0\" class=\"data row9 col0\" >Which 90s rock band has more recently reformed, Gene or The Afghan Whigs?</td>\n",
       "      <td id=\"T_45b86_row9_col1\" class=\"data row9 col1\" >The Afghan Whigs</td>\n",
       "      <td id=\"T_45b86_row9_col2\" class=\"data row9 col2\" >{'Gene (band)', 'The Afghan Whigs'}</td>\n",
       "      <td id=\"T_45b86_row9_col3\" class=\"data row9 col3\" >W</td>\n",
       "      <td id=\"T_45b86_row9_col4\" class=\"data row9 col4\" >❌ [False]</td>\n",
       "    </tr>\n",
       "  </tbody>\n",
       "</table>\n"
      ],
      "text/plain": [
       "<pandas.io.formats.style.Styler at 0x7f7891db8640>"
      ]
     },
     "metadata": {},
     "output_type": "display_data"
    },
    {
     "data": {
      "text/html": [
       "\n",
       "                <div style='\n",
       "                    text-align: center; \n",
       "                    font-size: 16px; \n",
       "                    font-weight: bold; \n",
       "                    color: #555; \n",
       "                    margin: 10px 0;'>\n",
       "                    ... 20 more rows not displayed ...\n",
       "                </div>\n",
       "                "
      ],
      "text/plain": [
       "<IPython.core.display.HTML object>"
      ]
     },
     "metadata": {},
     "output_type": "display_data"
    },
    {
     "name": "stderr",
     "output_type": "stream",
     "text": [
      "  0%|          | 0/20 [00:00<?, ?it/s]Your max_length is set to 200, but your input_length is only 9. Since this is a summarization task, where outputs shorter than the input are typically wanted, you might consider decreasing max_length manually, e.g. summarizer('...', max_length=4)\n",
      "  5%|▌         | 1/20 [01:12<23:03, 72.82s/it]Your max_length is set to 200, but your input_length is only 23. Since this is a summarization task, where outputs shorter than the input are typically wanted, you might consider decreasing max_length manually, e.g. summarizer('...', max_length=11)\n",
      " 10%|█         | 2/20 [02:57<27:25, 91.43s/it]Your max_length is set to 200, but your input_length is only 26. Since this is a summarization task, where outputs shorter than the input are typically wanted, you might consider decreasing max_length manually, e.g. summarizer('...', max_length=13)\n",
      " 15%|█▌        | 3/20 [04:59<29:54, 105.58s/it]Your max_length is set to 200, but your input_length is only 15. Since this is a summarization task, where outputs shorter than the input are typically wanted, you might consider decreasing max_length manually, e.g. summarizer('...', max_length=7)\n",
      " 20%|██        | 4/20 [06:35<27:06, 101.64s/it]Your max_length is set to 200, but your input_length is only 18. Since this is a summarization task, where outputs shorter than the input are typically wanted, you might consider decreasing max_length manually, e.g. summarizer('...', max_length=9)\n",
      " 25%|██▌       | 5/20 [08:06<24:27, 97.80s/it] Your max_length is set to 200, but your input_length is only 18. Since this is a summarization task, where outputs shorter than the input are typically wanted, you might consider decreasing max_length manually, e.g. summarizer('...', max_length=9)\n",
      " 30%|███       | 6/20 [09:55<23:42, 101.61s/it]Your max_length is set to 200, but your input_length is only 21. Since this is a summarization task, where outputs shorter than the input are typically wanted, you might consider decreasing max_length manually, e.g. summarizer('...', max_length=10)\n",
      " 35%|███▌      | 7/20 [11:24<21:09, 97.66s/it] Your max_length is set to 200, but your input_length is only 34. Since this is a summarization task, where outputs shorter than the input are typically wanted, you might consider decreasing max_length manually, e.g. summarizer('...', max_length=17)\n",
      " 40%|████      | 8/20 [13:30<21:20, 106.73s/it]Your max_length is set to 200, but your input_length is only 9. Since this is a summarization task, where outputs shorter than the input are typically wanted, you might consider decreasing max_length manually, e.g. summarizer('...', max_length=4)\n",
      " 45%|████▌     | 9/20 [14:34<17:03, 93.08s/it] Your max_length is set to 200, but your input_length is only 17. Since this is a summarization task, where outputs shorter than the input are typically wanted, you might consider decreasing max_length manually, e.g. summarizer('...', max_length=8)\n",
      " 50%|█████     | 10/20 [16:19<16:08, 96.85s/it]Your max_length is set to 200, but your input_length is only 15. Since this is a summarization task, where outputs shorter than the input are typically wanted, you might consider decreasing max_length manually, e.g. summarizer('...', max_length=7)\n",
      " 55%|█████▌    | 11/20 [17:49<14:12, 94.73s/it]Your max_length is set to 200, but your input_length is only 27. Since this is a summarization task, where outputs shorter than the input are typically wanted, you might consider decreasing max_length manually, e.g. summarizer('...', max_length=13)\n",
      " 60%|██████    | 12/20 [19:17<12:22, 92.78s/it]Your max_length is set to 200, but your input_length is only 12. Since this is a summarization task, where outputs shorter than the input are typically wanted, you might consider decreasing max_length manually, e.g. summarizer('...', max_length=6)\n",
      " 65%|██████▌   | 13/20 [20:35<10:18, 88.30s/it]Your max_length is set to 200, but your input_length is only 21. Since this is a summarization task, where outputs shorter than the input are typically wanted, you might consider decreasing max_length manually, e.g. summarizer('...', max_length=10)\n",
      " 70%|███████   | 14/20 [22:20<09:19, 93.22s/it]Your max_length is set to 200, but your input_length is only 12. Since this is a summarization task, where outputs shorter than the input are typically wanted, you might consider decreasing max_length manually, e.g. summarizer('...', max_length=6)\n",
      " 75%|███████▌  | 15/20 [23:51<07:43, 92.71s/it]Your max_length is set to 200, but your input_length is only 66. Since this is a summarization task, where outputs shorter than the input are typically wanted, you might consider decreasing max_length manually, e.g. summarizer('...', max_length=33)\n",
      " 80%|████████  | 16/20 [25:45<06:36, 99.11s/it]Your max_length is set to 200, but your input_length is only 13. Since this is a summarization task, where outputs shorter than the input are typically wanted, you might consider decreasing max_length manually, e.g. summarizer('...', max_length=6)\n",
      " 85%|████████▌ | 17/20 [27:07<04:41, 93.93s/it]Your max_length is set to 200, but your input_length is only 26. Since this is a summarization task, where outputs shorter than the input are typically wanted, you might consider decreasing max_length manually, e.g. summarizer('...', max_length=13)\n",
      " 90%|█████████ | 18/20 [29:12<03:26, 103.28s/it]Your max_length is set to 200, but your input_length is only 15. Since this is a summarization task, where outputs shorter than the input are typically wanted, you might consider decreasing max_length manually, e.g. summarizer('...', max_length=7)\n",
      " 95%|█████████▌| 19/20 [30:54<01:42, 102.96s/it]Your max_length is set to 200, but your input_length is only 69. Since this is a summarization task, where outputs shorter than the input are typically wanted, you might consider decreasing max_length manually, e.g. summarizer('...', max_length=34)\n",
      "100%|██████████| 20/20 [33:48<00:00, 101.42s/it]\n"
     ]
    },
    {
     "name": "stdout",
     "output_type": "stream",
     "text": [
      "Bootstrapped 0 full traces after 20 examples in round 0.\n"
     ]
    },
    {
     "name": "stderr",
     "output_type": "stream",
     "text": [
      "  0%|          | 0/30 [00:00<?, ?it/s]Your max_length is set to 200, but your input_length is only 14. Since this is a summarization task, where outputs shorter than the input are typically wanted, you might consider decreasing max_length manually, e.g. summarizer('...', max_length=7)\n",
      "Average Metric: 0 / 1  (0.0):   3%|▎         | 1/30 [01:16<37:01, 76.60s/it]Your max_length is set to 200, but your input_length is only 9. Since this is a summarization task, where outputs shorter than the input are typically wanted, you might consider decreasing max_length manually, e.g. summarizer('...', max_length=4)\n",
      "Average Metric: 0 / 2  (0.0):   7%|▋         | 2/30 [02:59<42:54, 91.96s/it]Your max_length is set to 200, but your input_length is only 22. Since this is a summarization task, where outputs shorter than the input are typically wanted, you might consider decreasing max_length manually, e.g. summarizer('...', max_length=11)\n",
      "Average Metric: 0 / 3  (0.0):  10%|█         | 3/30 [04:29<41:02, 91.22s/it]Your max_length is set to 200, but your input_length is only 17. Since this is a summarization task, where outputs shorter than the input are typically wanted, you might consider decreasing max_length manually, e.g. summarizer('...', max_length=8)\n",
      "Average Metric: 0 / 4  (0.0):  13%|█▎        | 4/30 [05:55<38:33, 88.97s/it]Your max_length is set to 200, but your input_length is only 39. Since this is a summarization task, where outputs shorter than the input are typically wanted, you might consider decreasing max_length manually, e.g. summarizer('...', max_length=19)\n",
      "Average Metric: 0 / 5  (0.0):  17%|█▋        | 5/30 [07:36<38:59, 93.59s/it]Your max_length is set to 200, but your input_length is only 20. Since this is a summarization task, where outputs shorter than the input are typically wanted, you might consider decreasing max_length manually, e.g. summarizer('...', max_length=10)\n",
      "Average Metric: 0 / 6  (0.0):  20%|██        | 6/30 [08:48<34:29, 86.25s/it]Your max_length is set to 200, but your input_length is only 33. Since this is a summarization task, where outputs shorter than the input are typically wanted, you might consider decreasing max_length manually, e.g. summarizer('...', max_length=16)\n",
      "Average Metric: 0 / 7  (0.0):  23%|██▎       | 7/30 [11:05<39:23, 102.77s/it]Your max_length is set to 200, but your input_length is only 15. Since this is a summarization task, where outputs shorter than the input are typically wanted, you might consider decreasing max_length manually, e.g. summarizer('...', max_length=7)\n",
      "Average Metric: 0 / 8  (0.0):  27%|██▋       | 8/30 [12:49<37:48, 103.10s/it]Your max_length is set to 200, but your input_length is only 14. Since this is a summarization task, where outputs shorter than the input are typically wanted, you might consider decreasing max_length manually, e.g. summarizer('...', max_length=7)\n",
      "Average Metric: 0 / 9  (0.0):  30%|███       | 9/30 [14:17<34:22, 98.23s/it] Your max_length is set to 200, but your input_length is only 11. Since this is a summarization task, where outputs shorter than the input are typically wanted, you might consider decreasing max_length manually, e.g. summarizer('...', max_length=5)\n",
      "Average Metric: 0 / 10  (0.0):  33%|███▎      | 10/30 [15:23<29:29, 88.49s/it]Your max_length is set to 200, but your input_length is only 12. Since this is a summarization task, where outputs shorter than the input are typically wanted, you might consider decreasing max_length manually, e.g. summarizer('...', max_length=6)\n",
      "Average Metric: 0 / 11  (0.0):  37%|███▋      | 11/30 [16:51<27:59, 88.37s/it]Your max_length is set to 200, but your input_length is only 17. Since this is a summarization task, where outputs shorter than the input are typically wanted, you might consider decreasing max_length manually, e.g. summarizer('...', max_length=8)\n",
      "Average Metric: 0 / 12  (0.0):  40%|████      | 12/30 [18:39<28:17, 94.29s/it]Your max_length is set to 200, but your input_length is only 14. Since this is a summarization task, where outputs shorter than the input are typically wanted, you might consider decreasing max_length manually, e.g. summarizer('...', max_length=7)\n",
      "Average Metric: 0 / 13  (0.0):  43%|████▎     | 13/30 [20:11<26:28, 93.42s/it]Your max_length is set to 200, but your input_length is only 18. Since this is a summarization task, where outputs shorter than the input are typically wanted, you might consider decreasing max_length manually, e.g. summarizer('...', max_length=9)\n",
      "Average Metric: 0 / 14  (0.0):  47%|████▋     | 14/30 [22:17<27:32, 103.28s/it]Your max_length is set to 200, but your input_length is only 47. Since this is a summarization task, where outputs shorter than the input are typically wanted, you might consider decreasing max_length manually, e.g. summarizer('...', max_length=23)\n",
      "Average Metric: 0 / 15  (0.0):  50%|█████     | 15/30 [24:00<25:47, 103.19s/it]Your max_length is set to 200, but your input_length is only 14. Since this is a summarization task, where outputs shorter than the input are typically wanted, you might consider decreasing max_length manually, e.g. summarizer('...', max_length=7)\n",
      "Average Metric: 0 / 16  (0.0):  53%|█████▎    | 16/30 [25:32<23:17, 99.85s/it] Your max_length is set to 200, but your input_length is only 17. Since this is a summarization task, where outputs shorter than the input are typically wanted, you might consider decreasing max_length manually, e.g. summarizer('...', max_length=8)\n",
      "Average Metric: 0 / 17  (0.0):  57%|█████▋    | 17/30 [27:26<22:32, 104.07s/it]Your max_length is set to 200, but your input_length is only 30. Since this is a summarization task, where outputs shorter than the input are typically wanted, you might consider decreasing max_length manually, e.g. summarizer('...', max_length=15)\n",
      "Average Metric: 0 / 18  (0.0):  60%|██████    | 18/30 [29:11<20:51, 104.33s/it]Your max_length is set to 200, but your input_length is only 74. Since this is a summarization task, where outputs shorter than the input are typically wanted, you might consider decreasing max_length manually, e.g. summarizer('...', max_length=37)\n",
      "Average Metric: 0 / 19  (0.0):  63%|██████▎   | 19/30 [31:10<19:56, 108.76s/it]Your max_length is set to 200, but your input_length is only 24. Since this is a summarization task, where outputs shorter than the input are typically wanted, you might consider decreasing max_length manually, e.g. summarizer('...', max_length=12)\n",
      "Average Metric: 0 / 20  (0.0):  67%|██████▋   | 20/30 [32:55<17:56, 107.64s/it]Your max_length is set to 200, but your input_length is only 11. Since this is a summarization task, where outputs shorter than the input are typically wanted, you might consider decreasing max_length manually, e.g. summarizer('...', max_length=5)\n",
      "Average Metric: 0 / 21  (0.0):  70%|███████   | 21/30 [34:19<15:05, 100.62s/it]Your max_length is set to 200, but your input_length is only 16. Since this is a summarization task, where outputs shorter than the input are typically wanted, you might consider decreasing max_length manually, e.g. summarizer('...', max_length=8)\n",
      "Average Metric: 0 / 22  (0.0):  73%|███████▎  | 22/30 [35:43<12:45, 95.72s/it] Your max_length is set to 200, but your input_length is only 17. Since this is a summarization task, where outputs shorter than the input are typically wanted, you might consider decreasing max_length manually, e.g. summarizer('...', max_length=8)\n",
      "Average Metric: 0 / 23  (0.0):  77%|███████▋  | 23/30 [37:34<11:42, 100.35s/it]Your max_length is set to 200, but your input_length is only 8. Since this is a summarization task, where outputs shorter than the input are typically wanted, you might consider decreasing max_length manually, e.g. summarizer('...', max_length=4)\n",
      "Average Metric: 0 / 24  (0.0):  80%|████████  | 24/30 [38:39<08:57, 89.66s/it] Your max_length is set to 200, but your input_length is only 19. Since this is a summarization task, where outputs shorter than the input are typically wanted, you might consider decreasing max_length manually, e.g. summarizer('...', max_length=9)\n",
      "Average Metric: 0 / 25  (0.0):  83%|████████▎ | 25/30 [40:24<07:50, 94.09s/it]Your max_length is set to 200, but your input_length is only 22. Since this is a summarization task, where outputs shorter than the input are typically wanted, you might consider decreasing max_length manually, e.g. summarizer('...', max_length=11)\n",
      "Average Metric: 0 / 26  (0.0):  87%|████████▋ | 26/30 [42:36<07:02, 105.74s/it]Your max_length is set to 200, but your input_length is only 16. Since this is a summarization task, where outputs shorter than the input are typically wanted, you might consider decreasing max_length manually, e.g. summarizer('...', max_length=8)\n",
      "Average Metric: 0 / 27  (0.0):  90%|█████████ | 27/30 [44:04<05:01, 100.34s/it]Your max_length is set to 200, but your input_length is only 78. Since this is a summarization task, where outputs shorter than the input are typically wanted, you might consider decreasing max_length manually, e.g. summarizer('...', max_length=39)\n",
      "Average Metric: 0 / 28  (0.0):  93%|█████████▎| 28/30 [46:14<03:38, 109.20s/it]Your max_length is set to 200, but your input_length is only 18. Since this is a summarization task, where outputs shorter than the input are typically wanted, you might consider decreasing max_length manually, e.g. summarizer('...', max_length=9)\n",
      "Average Metric: 0 / 29  (0.0):  97%|█████████▋| 29/30 [47:59<01:47, 107.94s/it]Your max_length is set to 200, but your input_length is only 15. Since this is a summarization task, where outputs shorter than the input are typically wanted, you might consider decreasing max_length manually, e.g. summarizer('...', max_length=7)\n",
      "Average Metric: 0 / 30  (0.0): 100%|██████████| 30/30 [49:37<00:00, 99.26s/it] \n"
     ]
    },
    {
     "name": "stdout",
     "output_type": "stream",
     "text": [
      "Average Metric: 0 / 30  (0.0%)\n"
     ]
    },
    {
     "name": "stderr",
     "output_type": "stream",
     "text": [
      "/home/daniel/Documents/Github/autogoal-core/dspy/dspy/evaluate/evaluate.py:126: FutureWarning: DataFrame.applymap has been deprecated. Use DataFrame.map instead.\n",
      "  df = df.applymap(truncate_cell)\n"
     ]
    },
    {
     "data": {
      "text/html": [
       "<style type=\"text/css\">\n",
       "#T_8ceb3 th {\n",
       "  text-align: left;\n",
       "}\n",
       "#T_8ceb3 td {\n",
       "  text-align: left;\n",
       "}\n",
       "#T_8ceb3_row0_col0, #T_8ceb3_row0_col1, #T_8ceb3_row0_col2, #T_8ceb3_row0_col3, #T_8ceb3_row0_col4, #T_8ceb3_row1_col0, #T_8ceb3_row1_col1, #T_8ceb3_row1_col2, #T_8ceb3_row1_col3, #T_8ceb3_row1_col4, #T_8ceb3_row2_col0, #T_8ceb3_row2_col1, #T_8ceb3_row2_col2, #T_8ceb3_row2_col3, #T_8ceb3_row2_col4, #T_8ceb3_row3_col0, #T_8ceb3_row3_col1, #T_8ceb3_row3_col2, #T_8ceb3_row3_col3, #T_8ceb3_row3_col4, #T_8ceb3_row4_col0, #T_8ceb3_row4_col1, #T_8ceb3_row4_col2, #T_8ceb3_row4_col3, #T_8ceb3_row4_col4, #T_8ceb3_row5_col0, #T_8ceb3_row5_col1, #T_8ceb3_row5_col2, #T_8ceb3_row5_col3, #T_8ceb3_row5_col4, #T_8ceb3_row6_col0, #T_8ceb3_row6_col1, #T_8ceb3_row6_col2, #T_8ceb3_row6_col3, #T_8ceb3_row6_col4, #T_8ceb3_row7_col0, #T_8ceb3_row7_col1, #T_8ceb3_row7_col2, #T_8ceb3_row7_col3, #T_8ceb3_row7_col4, #T_8ceb3_row8_col0, #T_8ceb3_row8_col1, #T_8ceb3_row8_col2, #T_8ceb3_row8_col3, #T_8ceb3_row8_col4, #T_8ceb3_row9_col0, #T_8ceb3_row9_col1, #T_8ceb3_row9_col2, #T_8ceb3_row9_col3, #T_8ceb3_row9_col4 {\n",
       "  text-align: left;\n",
       "  white-space: pre-wrap;\n",
       "  word-wrap: break-word;\n",
       "  max-width: 400px;\n",
       "}\n",
       "</style>\n",
       "<table id=\"T_8ceb3\">\n",
       "  <thead>\n",
       "    <tr>\n",
       "      <th class=\"blank level0\" >&nbsp;</th>\n",
       "      <th id=\"T_8ceb3_level0_col0\" class=\"col_heading level0 col0\" >question</th>\n",
       "      <th id=\"T_8ceb3_level0_col1\" class=\"col_heading level0 col1\" >example_answer</th>\n",
       "      <th id=\"T_8ceb3_level0_col2\" class=\"col_heading level0 col2\" >gold_titles</th>\n",
       "      <th id=\"T_8ceb3_level0_col3\" class=\"col_heading level0 col3\" >pred_answer</th>\n",
       "      <th id=\"T_8ceb3_level0_col4\" class=\"col_heading level0 col4\" >validate_context_and_answer</th>\n",
       "    </tr>\n",
       "  </thead>\n",
       "  <tbody>\n",
       "    <tr>\n",
       "      <th id=\"T_8ceb3_level0_row0\" class=\"row_heading level0 row0\" >0</th>\n",
       "      <td id=\"T_8ceb3_row0_col0\" class=\"data row0 col0\" >Are both Cangzhou and Qionghai in the Hebei province of China?</td>\n",
       "      <td id=\"T_8ceb3_row0_col1\" class=\"data row0 col1\" >no</td>\n",
       "      <td id=\"T_8ceb3_row0_col2\" class=\"data row0 col2\" >{'Qionghai', 'Cangzhou'}</td>\n",
       "      <td id=\"T_8ceb3_row0_col3\" class=\"data row0 col3\" >In which Chinese province is Qionghai located?</td>\n",
       "      <td id=\"T_8ceb3_row0_col4\" class=\"data row0 col4\" >❌ [False]</td>\n",
       "    </tr>\n",
       "    <tr>\n",
       "      <th id=\"T_8ceb3_level0_row1\" class=\"row_heading level0 row1\" >1</th>\n",
       "      <td id=\"T_8ceb3_row1_col0\" class=\"data row1 col0\" >Who conducts the draft in which Marc-Andre Fleury was drafted to the Vegas Golden Knights for the 2017-18 season?</td>\n",
       "      <td id=\"T_8ceb3_row1_col1\" class=\"data row1 col1\" >National Hockey League</td>\n",
       "      <td id=\"T_8ceb3_row1_col2\" class=\"data row1 col2\" >{'2017–18 Pittsburgh Penguins season', '2017 NHL Expansion Draft'}</td>\n",
       "      <td id=\"T_8ceb3_row1_col3\" class=\"data row1 col3\" >What does NHL stand for, and how is it related to the topic of the text?</td>\n",
       "      <td id=\"T_8ceb3_row1_col4\" class=\"data row1 col4\" >❌ [False]</td>\n",
       "    </tr>\n",
       "    <tr>\n",
       "      <th id=\"T_8ceb3_level0_row2\" class=\"row_heading level0 row2\" >2</th>\n",
       "      <td id=\"T_8ceb3_row2_col0\" class=\"data row2 col0\" >The Wings entered a new era, following the retirement of which Canadian retired professional ice hockey player and current general manager of the Tampa Bay...</td>\n",
       "      <td id=\"T_8ceb3_row2_col1\" class=\"data row2 col1\" >Steve Yzerman</td>\n",
       "      <td id=\"T_8ceb3_row2_col2\" class=\"data row2 col2\" >{'2006–07 Detroit Red Wings season', 'Steve Yzerman'}</td>\n",
       "      <td id=\"T_8ceb3_row2_col3\" class=\"data row2 col3\" >What are some of the most significant themes and characters in Harper Lee's notable works, and how have they contributed to the evolution of literature?</td>\n",
       "      <td id=\"T_8ceb3_row2_col4\" class=\"data row2 col4\" >❌ [False]</td>\n",
       "    </tr>\n",
       "    <tr>\n",
       "      <th id=\"T_8ceb3_level0_row3\" class=\"row_heading level0 row3\" >3</th>\n",
       "      <td id=\"T_8ceb3_row3_col0\" class=\"data row3 col0\" >What river is near the Crichton Collegiate Church?</td>\n",
       "      <td id=\"T_8ceb3_row3_col1\" class=\"data row3 col1\" >the River Tyne</td>\n",
       "      <td id=\"T_8ceb3_row3_col2\" class=\"data row3 col2\" >{'Crichton Castle', 'Crichton Collegiate Church'}</td>\n",
       "      <td id=\"T_8ceb3_row3_col3\" class=\"data row3 col3\" >Where is River Esk located, and what is its historical or cultural significance?</td>\n",
       "      <td id=\"T_8ceb3_row3_col4\" class=\"data row3 col4\" >❌ [False]</td>\n",
       "    </tr>\n",
       "    <tr>\n",
       "      <th id=\"T_8ceb3_level0_row4\" class=\"row_heading level0 row4\" >4</th>\n",
       "      <td id=\"T_8ceb3_row4_col0\" class=\"data row4 col0\" >In the 10th Century A.D. Ealhswith had a son called Æthelweard by which English king?</td>\n",
       "      <td id=\"T_8ceb3_row4_col1\" class=\"data row4 col1\" >King Alfred the Great</td>\n",
       "      <td id=\"T_8ceb3_row4_col2\" class=\"data row4 col2\" >{'Ealhswith', 'Æthelweard (son of Alfred)'}</td>\n",
       "      <td id=\"T_8ceb3_row4_col3\" class=\"data row4 col3\" >What were some of the key contributions of Jawaharlal Nehru to India's independence movement, and how did his leadership as the first Prime Minister impact...</td>\n",
       "      <td id=\"T_8ceb3_row4_col4\" class=\"data row4 col4\" >❌ [False]</td>\n",
       "    </tr>\n",
       "    <tr>\n",
       "      <th id=\"T_8ceb3_level0_row5\" class=\"row_heading level0 row5\" >5</th>\n",
       "      <td id=\"T_8ceb3_row5_col0\" class=\"data row5 col0\" >The Newark Airport Exchange is at the northern edge of an airport that is operated by whom?</td>\n",
       "      <td id=\"T_8ceb3_row5_col1\" class=\"data row5 col1\" >Port Authority of New York and New Jersey</td>\n",
       "      <td id=\"T_8ceb3_row5_col2\" class=\"data row5 col2\" >{'Newark Liberty International Airport', 'Newark Airport Interchange'}</td>\n",
       "      <td id=\"T_8ceb3_row5_col3\" class=\"data row5 col3\" >What are the main responsibilities and locations covered by the Port Authority of New York and New Jersey?</td>\n",
       "      <td id=\"T_8ceb3_row5_col4\" class=\"data row5 col4\" >❌ [False]</td>\n",
       "    </tr>\n",
       "    <tr>\n",
       "      <th id=\"T_8ceb3_level0_row6\" class=\"row_heading level0 row6\" >6</th>\n",
       "      <td id=\"T_8ceb3_row6_col0\" class=\"data row6 col0\" >Where did an event take place resulting in a win during a domestic double due to the action of a Peruvian footballer known for his...</td>\n",
       "      <td id=\"T_8ceb3_row6_col1\" class=\"data row6 col1\" >Bundesliga</td>\n",
       "      <td id=\"T_8ceb3_row6_col2\" class=\"data row6 col2\" >{'Claudio Pizarro', '2005–06 FC Bayern Munich season'}</td>\n",
       "      <td id=\"T_8ceb3_row6_col3\" class=\"data row6 col3\" >What are some notable works and achievements of J.D. Salinger, the American writer known for his reclusive nature and influential literary contributions?</td>\n",
       "      <td id=\"T_8ceb3_row6_col4\" class=\"data row6 col4\" >❌ [False]</td>\n",
       "    </tr>\n",
       "    <tr>\n",
       "      <th id=\"T_8ceb3_level0_row7\" class=\"row_heading level0 row7\" >7</th>\n",
       "      <td id=\"T_8ceb3_row7_col0\" class=\"data row7 col0\" >Are both Chico Municipal Airport and William R. Fairchild International Airport in California?</td>\n",
       "      <td id=\"T_8ceb3_row7_col1\" class=\"data row7 col1\" >no</td>\n",
       "      <td id=\"T_8ceb3_row7_col2\" class=\"data row7 col2\" >{'William R. Fairchild International Airport', 'Chico Municipal Airport'}</td>\n",
       "      <td id=\"T_8ceb3_row7_col3\" class=\"data row7 col3\" >In what context was the word \"Yes\" used and what was being agreed upon or confirmed?</td>\n",
       "      <td id=\"T_8ceb3_row7_col4\" class=\"data row7 col4\" >❌ [False]</td>\n",
       "    </tr>\n",
       "    <tr>\n",
       "      <th id=\"T_8ceb3_level0_row8\" class=\"row_heading level0 row8\" >8</th>\n",
       "      <td id=\"T_8ceb3_row8_col0\" class=\"data row8 col0\" >In which Maine county is Fort Pownall located?</td>\n",
       "      <td id=\"T_8ceb3_row8_col1\" class=\"data row8 col1\" >Waldo County, Maine</td>\n",
       "      <td id=\"T_8ceb3_row8_col2\" class=\"data row8 col2\" >{'Stockton Springs, Maine', 'Fort Pownall'}</td>\n",
       "      <td id=\"T_8ceb3_row8_col3\" class=\"data row8 col3\" >Who or what is Hancock referring to in this context?</td>\n",
       "      <td id=\"T_8ceb3_row8_col4\" class=\"data row8 col4\" >❌ [False]</td>\n",
       "    </tr>\n",
       "    <tr>\n",
       "      <th id=\"T_8ceb3_level0_row9\" class=\"row_heading level0 row9\" >9</th>\n",
       "      <td id=\"T_8ceb3_row9_col0\" class=\"data row9 col0\" >Which 90s rock band has more recently reformed, Gene or The Afghan Whigs?</td>\n",
       "      <td id=\"T_8ceb3_row9_col1\" class=\"data row9 col1\" >The Afghan Whigs</td>\n",
       "      <td id=\"T_8ceb3_row9_col2\" class=\"data row9 col2\" >{'Gene (band)', 'The Afghan Whigs'}</td>\n",
       "      <td id=\"T_8ceb3_row9_col3\" class=\"data row9 col3\" >What is the musical genre of the Afghan Whigs?</td>\n",
       "      <td id=\"T_8ceb3_row9_col4\" class=\"data row9 col4\" >❌ [False]</td>\n",
       "    </tr>\n",
       "  </tbody>\n",
       "</table>\n"
      ],
      "text/plain": [
       "<pandas.io.formats.style.Styler at 0x7f75ef3ae830>"
      ]
     },
     "metadata": {},
     "output_type": "display_data"
    },
    {
     "data": {
      "text/html": [
       "\n",
       "                <div style='\n",
       "                    text-align: center; \n",
       "                    font-size: 16px; \n",
       "                    font-weight: bold; \n",
       "                    color: #555; \n",
       "                    margin: 10px 0;'>\n",
       "                    ... 20 more rows not displayed ...\n",
       "                </div>\n",
       "                "
      ],
      "text/plain": [
       "<IPython.core.display.HTML object>"
      ]
     },
     "metadata": {},
     "output_type": "display_data"
    },
    {
     "name": "stderr",
     "output_type": "stream",
     "text": [
      "100%|██████████| 20/20 [26:09<00:00, 78.47s/it]\n"
     ]
    },
    {
     "name": "stdout",
     "output_type": "stream",
     "text": [
      "Bootstrapped 0 full traces after 20 examples in round 0.\n"
     ]
    },
    {
     "name": "stderr",
     "output_type": "stream",
     "text": [
      "Average Metric: 0 / 30  (0.0): 100%|██████████| 30/30 [39:17<00:00, 78.58s/it]\n"
     ]
    },
    {
     "name": "stdout",
     "output_type": "stream",
     "text": [
      "Average Metric: 0 / 30  (0.0%)\n"
     ]
    },
    {
     "name": "stderr",
     "output_type": "stream",
     "text": [
      "/home/daniel/Documents/Github/autogoal-core/dspy/dspy/evaluate/evaluate.py:126: FutureWarning: DataFrame.applymap has been deprecated. Use DataFrame.map instead.\n",
      "  df = df.applymap(truncate_cell)\n"
     ]
    },
    {
     "data": {
      "text/html": [
       "<style type=\"text/css\">\n",
       "#T_89898 th {\n",
       "  text-align: left;\n",
       "}\n",
       "#T_89898 td {\n",
       "  text-align: left;\n",
       "}\n",
       "#T_89898_row0_col0, #T_89898_row0_col1, #T_89898_row0_col2, #T_89898_row0_col3, #T_89898_row0_col4, #T_89898_row1_col0, #T_89898_row1_col1, #T_89898_row1_col2, #T_89898_row1_col3, #T_89898_row1_col4, #T_89898_row2_col0, #T_89898_row2_col1, #T_89898_row2_col2, #T_89898_row2_col3, #T_89898_row2_col4, #T_89898_row3_col0, #T_89898_row3_col1, #T_89898_row3_col2, #T_89898_row3_col3, #T_89898_row3_col4, #T_89898_row4_col0, #T_89898_row4_col1, #T_89898_row4_col2, #T_89898_row4_col3, #T_89898_row4_col4, #T_89898_row5_col0, #T_89898_row5_col1, #T_89898_row5_col2, #T_89898_row5_col3, #T_89898_row5_col4, #T_89898_row6_col0, #T_89898_row6_col1, #T_89898_row6_col2, #T_89898_row6_col3, #T_89898_row6_col4, #T_89898_row7_col0, #T_89898_row7_col1, #T_89898_row7_col2, #T_89898_row7_col3, #T_89898_row7_col4, #T_89898_row8_col0, #T_89898_row8_col1, #T_89898_row8_col2, #T_89898_row8_col3, #T_89898_row8_col4, #T_89898_row9_col0, #T_89898_row9_col1, #T_89898_row9_col2, #T_89898_row9_col3, #T_89898_row9_col4 {\n",
       "  text-align: left;\n",
       "  white-space: pre-wrap;\n",
       "  word-wrap: break-word;\n",
       "  max-width: 400px;\n",
       "}\n",
       "</style>\n",
       "<table id=\"T_89898\">\n",
       "  <thead>\n",
       "    <tr>\n",
       "      <th class=\"blank level0\" >&nbsp;</th>\n",
       "      <th id=\"T_89898_level0_col0\" class=\"col_heading level0 col0\" >question</th>\n",
       "      <th id=\"T_89898_level0_col1\" class=\"col_heading level0 col1\" >example_answer</th>\n",
       "      <th id=\"T_89898_level0_col2\" class=\"col_heading level0 col2\" >gold_titles</th>\n",
       "      <th id=\"T_89898_level0_col3\" class=\"col_heading level0 col3\" >pred_answer</th>\n",
       "      <th id=\"T_89898_level0_col4\" class=\"col_heading level0 col4\" >validate_context_and_answer</th>\n",
       "    </tr>\n",
       "  </thead>\n",
       "  <tbody>\n",
       "    <tr>\n",
       "      <th id=\"T_89898_level0_row0\" class=\"row_heading level0 row0\" >0</th>\n",
       "      <td id=\"T_89898_row0_col0\" class=\"data row0 col0\" >Are both Cangzhou and Qionghai in the Hebei province of China?</td>\n",
       "      <td id=\"T_89898_row0_col1\" class=\"data row0 col1\" >no</td>\n",
       "      <td id=\"T_89898_row0_col2\" class=\"data row0 col2\" >{'Qionghai', 'Cangzhou'}</td>\n",
       "      <td id=\"T_89898_row0_col3\" class=\"data row0 col3\" >In which provinces are Cangzhou and Qionghai located?</td>\n",
       "      <td id=\"T_89898_row0_col4\" class=\"data row0 col4\" >❌ [False]</td>\n",
       "    </tr>\n",
       "    <tr>\n",
       "      <th id=\"T_89898_level0_row1\" class=\"row_heading level0 row1\" >1</th>\n",
       "      <td id=\"T_89898_row1_col0\" class=\"data row1 col0\" >Who conducts the draft in which Marc-Andre Fleury was drafted to the Vegas Golden Knights for the 2017-18 season?</td>\n",
       "      <td id=\"T_89898_row1_col1\" class=\"data row1 col1\" >National Hockey League</td>\n",
       "      <td id=\"T_89898_row1_col2\" class=\"data row1 col2\" >{'2017–18 Pittsburgh Penguins season', '2017 NHL Expansion Draft'}</td>\n",
       "      <td id=\"T_89898_row1_col3\" class=\"data row1 col3\" >What does NHL stand for in the context of this text?</td>\n",
       "      <td id=\"T_89898_row1_col4\" class=\"data row1 col4\" >❌ [False]</td>\n",
       "    </tr>\n",
       "    <tr>\n",
       "      <th id=\"T_89898_level0_row2\" class=\"row_heading level0 row2\" >2</th>\n",
       "      <td id=\"T_89898_row2_col0\" class=\"data row2 col0\" >The Wings entered a new era, following the retirement of which Canadian retired professional ice hockey player and current general manager of the Tampa Bay...</td>\n",
       "      <td id=\"T_89898_row2_col1\" class=\"data row2 col1\" >Steve Yzerman</td>\n",
       "      <td id=\"T_89898_row2_col2\" class=\"data row2 col2\" >{'2006–07 Detroit Red Wings season', 'Steve Yzerman'}</td>\n",
       "      <td id=\"T_89898_row2_col3\" class=\"data row2 col3\" >What are the main themes and characters in the text?</td>\n",
       "      <td id=\"T_89898_row2_col4\" class=\"data row2 col4\" >❌ [False]</td>\n",
       "    </tr>\n",
       "    <tr>\n",
       "      <th id=\"T_89898_level0_row3\" class=\"row_heading level0 row3\" >3</th>\n",
       "      <td id=\"T_89898_row3_col0\" class=\"data row3 col0\" >What river is near the Crichton Collegiate Church?</td>\n",
       "      <td id=\"T_89898_row3_col1\" class=\"data row3 col1\" >the River Tyne</td>\n",
       "      <td id=\"T_89898_row3_col2\" class=\"data row3 col2\" >{'Crichton Castle', 'Crichton Collegiate Church'}</td>\n",
       "      <td id=\"T_89898_row3_col3\" class=\"data row3 col3\" >What is the geographical location and significance of River Esk in this context?</td>\n",
       "      <td id=\"T_89898_row3_col4\" class=\"data row3 col4\" >❌ [False]</td>\n",
       "    </tr>\n",
       "    <tr>\n",
       "      <th id=\"T_89898_level0_row4\" class=\"row_heading level0 row4\" >4</th>\n",
       "      <td id=\"T_89898_row4_col0\" class=\"data row4 col0\" >In the 10th Century A.D. Ealhswith had a son called Æthelweard by which English king?</td>\n",
       "      <td id=\"T_89898_row4_col1\" class=\"data row4 col1\" >King Alfred the Great</td>\n",
       "      <td id=\"T_89898_row4_col2\" class=\"data row4 col2\" >{'Ealhswith', 'Æthelweard (son of Alfred)'}</td>\n",
       "      <td id=\"T_89898_row4_col3\" class=\"data row4 col3\" >Who was Jawaharlal Nehru and what was his importance in Indian history?</td>\n",
       "      <td id=\"T_89898_row4_col4\" class=\"data row4 col4\" >❌ [False]</td>\n",
       "    </tr>\n",
       "    <tr>\n",
       "      <th id=\"T_89898_level0_row5\" class=\"row_heading level0 row5\" >5</th>\n",
       "      <td id=\"T_89898_row5_col0\" class=\"data row5 col0\" >The Newark Airport Exchange is at the northern edge of an airport that is operated by whom?</td>\n",
       "      <td id=\"T_89898_row5_col1\" class=\"data row5 col1\" >Port Authority of New York and New Jersey</td>\n",
       "      <td id=\"T_89898_row5_col2\" class=\"data row5 col2\" >{'Newark Liberty International Airport', 'Newark Airport Interchange'}</td>\n",
       "      <td id=\"T_89898_row5_col3\" class=\"data row5 col3\" >What are the primary functions and areas of operation for the Port Authority of New York and New Jersey?</td>\n",
       "      <td id=\"T_89898_row5_col4\" class=\"data row5 col4\" >❌ [False]</td>\n",
       "    </tr>\n",
       "    <tr>\n",
       "      <th id=\"T_89898_level0_row6\" class=\"row_heading level0 row6\" >6</th>\n",
       "      <td id=\"T_89898_row6_col0\" class=\"data row6 col0\" >Where did an event take place resulting in a win during a domestic double due to the action of a Peruvian footballer known for his...</td>\n",
       "      <td id=\"T_89898_row6_col1\" class=\"data row6 col1\" >Bundesliga</td>\n",
       "      <td id=\"T_89898_row6_col2\" class=\"data row6 col2\" >{'Claudio Pizarro', '2005–06 FC Bayern Munich season'}</td>\n",
       "      <td id=\"T_89898_row6_col3\" class=\"data row6 col3\" >What are some of the specific issues that Holden Caulfield encounters during his journey through adolescence and life in New York City?</td>\n",
       "      <td id=\"T_89898_row6_col4\" class=\"data row6 col4\" >❌ [False]</td>\n",
       "    </tr>\n",
       "    <tr>\n",
       "      <th id=\"T_89898_level0_row7\" class=\"row_heading level0 row7\" >7</th>\n",
       "      <td id=\"T_89898_row7_col0\" class=\"data row7 col0\" >Are both Chico Municipal Airport and William R. Fairchild International Airport in California?</td>\n",
       "      <td id=\"T_89898_row7_col1\" class=\"data row7 col1\" >no</td>\n",
       "      <td id=\"T_89898_row7_col2\" class=\"data row7 col2\" >{'William R. Fairchild International Airport', 'Chico Municipal Airport'}</td>\n",
       "      <td id=\"T_89898_row7_col3\" class=\"data row7 col3\" >Can you provide more information about the context in which the word \"Yes\" is being used?</td>\n",
       "      <td id=\"T_89898_row7_col4\" class=\"data row7 col4\" >❌ [False]</td>\n",
       "    </tr>\n",
       "    <tr>\n",
       "      <th id=\"T_89898_level0_row8\" class=\"row_heading level0 row8\" >8</th>\n",
       "      <td id=\"T_89898_row8_col0\" class=\"data row8 col0\" >In which Maine county is Fort Pownall located?</td>\n",
       "      <td id=\"T_89898_row8_col1\" class=\"data row8 col1\" >Waldo County, Maine</td>\n",
       "      <td id=\"T_89898_row8_col2\" class=\"data row8 col2\" >{'Stockton Springs, Maine', 'Fort Pownall'}</td>\n",
       "      <td id=\"T_89898_row8_col3\" class=\"data row8 col3\" >In what context is Hancock referring to someone or something?</td>\n",
       "      <td id=\"T_89898_row8_col4\" class=\"data row8 col4\" >❌ [False]</td>\n",
       "    </tr>\n",
       "    <tr>\n",
       "      <th id=\"T_89898_level0_row9\" class=\"row_heading level0 row9\" >9</th>\n",
       "      <td id=\"T_89898_row9_col0\" class=\"data row9 col0\" >Which 90s rock band has more recently reformed, Gene or The Afghan Whigs?</td>\n",
       "      <td id=\"T_89898_row9_col1\" class=\"data row9 col1\" >The Afghan Whigs</td>\n",
       "      <td id=\"T_89898_row9_col2\" class=\"data row9 col2\" >{'Gene (band)', 'The Afghan Whigs'}</td>\n",
       "      <td id=\"T_89898_row9_col3\" class=\"data row9 col3\" >What genre of music does the Afghan Whigs play?</td>\n",
       "      <td id=\"T_89898_row9_col4\" class=\"data row9 col4\" >❌ [False]</td>\n",
       "    </tr>\n",
       "  </tbody>\n",
       "</table>\n"
      ],
      "text/plain": [
       "<pandas.io.formats.style.Styler at 0x7f75ef3ae350>"
      ]
     },
     "metadata": {},
     "output_type": "display_data"
    },
    {
     "data": {
      "text/html": [
       "\n",
       "                <div style='\n",
       "                    text-align: center; \n",
       "                    font-size: 16px; \n",
       "                    font-weight: bold; \n",
       "                    color: #555; \n",
       "                    margin: 10px 0;'>\n",
       "                    ... 20 more rows not displayed ...\n",
       "                </div>\n",
       "                "
      ],
      "text/plain": [
       "<IPython.core.display.HTML object>"
      ]
     },
     "metadata": {},
     "output_type": "display_data"
    },
    {
     "data": {
      "image/png": "[encoded data removed]",
      "text/plain": [
       "<Figure size 640x480 with 1 Axes>"
      ]
     },
     "metadata": {},
     "output_type": "display_data"
    }
   ],
   "source": [
    "dataset_description = \"HotpotQA is a question answering dataset featuring natural, multi-hop questions, with strong supervision for supporting facts to enable more explainable question answering systems.\"\n",
    "auto_ds.fit(dataset_description=dataset_description, trainset= trainset, examples_descriptions=example_descriptions)"
   ]
  },
  {
   "cell_type": "code",
   "execution_count": 7,
   "metadata": {},
   "outputs": [
    {
     "ename": "NameError",
     "evalue": "name 'embeddings' is not defined",
     "output_type": "error",
     "traceback": [
      "\u001b[0;31m---------------------------------------------------------------------------\u001b[0m",
      "\u001b[0;31mNameError\u001b[0m                                 Traceback (most recent call last)",
      "\u001b[1;32m/home/daniel/Documents/Github/autogoal-core/auto_dspy/test_notebook.ipynb Cell 7\u001b[0m line \u001b[0;36m1\n\u001b[0;32m----> <a href='vscode-notebook-cell:/home/daniel/Documents/Github/autogoal-core/auto_dspy/test_notebook.ipynb#W6sZmlsZQ%3D%3D?line=0'>1</a>\u001b[0m embeddings\n",
      "\u001b[0;31mNameError\u001b[0m: name 'embeddings' is not defined"
     ]
    }
   ],
   "source": [
    "embeddings"
   ]
  },
  {
   "cell_type": "code",
   "execution_count": null,
   "metadata": {},
   "outputs": [],
   "source": [
    "import matplotlib.pyplot as plt"
   ]
  },
  {
   "cell_type": "code",
   "execution_count": null,
   "metadata": {},
   "outputs": [
    {
     "data": {
      "image/png": "[encoded data removed]",
      "text/plain": [
       "<Figure size 640x480 with 2 Axes>"
      ]
     },
     "metadata": {},
     "output_type": "display_data"
    }
   ],
   "source": [
    "import networkx as nx\n",
    "G = nx.petersen_graph()\n",
    "subax1 = plt.subplot(121)\n",
    "nx.draw(G, with_labels=True, font_weight='bold')\n",
    "subax2 = plt.subplot(122)\n",
    "nx.draw_shell(G, with_labels=True, font_weight='bold')"
   ]
  },
  {
   "cell_type": "code",
   "execution_count": null,
   "metadata": {},
   "outputs": [
    {
     "data": {
      "text/plain": [
       "'${question}'"
      ]
     },
     "execution_count": 9,
     "metadata": {},
     "output_type": "execute_result"
    }
   ],
   "source": [
    "BasicQA.kwargs['question'].desc"
   ]
  },
  {
   "cell_type": "code",
   "execution_count": null,
   "metadata": {},
   "outputs": [
    {
     "ename": "ImportError",
     "evalue": "FlashAttention2 has been toggled on, but it cannot be used due to the following error: the package flash_attn seems to be not installed. Please refer to the documentation of https://huggingface.co/docs/transformers/perf_infer_gpu_one#flashattention-2 to install Flash Attention 2.",
     "output_type": "error",
     "traceback": [
      "\u001b[0;31m---------------------------------------------------------------------------\u001b[0m",
      "\u001b[0;31mImportError\u001b[0m                               Traceback (most recent call last)",
      "\u001b[1;32m/home/daniel/Documents/Github/autogoal-core/auto_dspy/test_notebook.ipynb Cell 11\u001b[0m line \u001b[0;36m1\n\u001b[1;32m      <a href='vscode-notebook-cell:/home/daniel/Documents/Github/autogoal-core/auto_dspy/test_notebook.ipynb#X13sZmlsZQ%3D%3D?line=2'>3</a>\u001b[0m \u001b[39mfrom\u001b[39;00m \u001b[39mtransformers\u001b[39;00m \u001b[39mimport\u001b[39;00m AwqConfig, AutoModelForCausalLM\n\u001b[1;32m      <a href='vscode-notebook-cell:/home/daniel/Documents/Github/autogoal-core/auto_dspy/test_notebook.ipynb#X13sZmlsZQ%3D%3D?line=3'>4</a>\u001b[0m \u001b[39m# quantization_config = AwqConfig(\u001b[39;00m\n\u001b[1;32m      <a href='vscode-notebook-cell:/home/daniel/Documents/Github/autogoal-core/auto_dspy/test_notebook.ipynb#X13sZmlsZQ%3D%3D?line=4'>5</a>\u001b[0m \u001b[39m#     bits=4,\u001b[39;00m\n\u001b[1;32m      <a href='vscode-notebook-cell:/home/daniel/Documents/Github/autogoal-core/auto_dspy/test_notebook.ipynb#X13sZmlsZQ%3D%3D?line=5'>6</a>\u001b[0m \u001b[39m#     fuse_max_seq_len=512,\u001b[39;00m\n\u001b[0;32m   (...)\u001b[0m\n\u001b[1;32m     <a href='vscode-notebook-cell:/home/daniel/Documents/Github/autogoal-core/auto_dspy/test_notebook.ipynb#X13sZmlsZQ%3D%3D?line=15'>16</a>\u001b[0m \u001b[39m# )\u001b[39;00m\n\u001b[1;32m     <a href='vscode-notebook-cell:/home/daniel/Documents/Github/autogoal-core/auto_dspy/test_notebook.ipynb#X13sZmlsZQ%3D%3D?line=16'>17</a>\u001b[0m \u001b[39m# from zmq import device\u001b[39;00m\n\u001b[0;32m---> <a href='vscode-notebook-cell:/home/daniel/Documents/Github/autogoal-core/auto_dspy/test_notebook.ipynb#X13sZmlsZQ%3D%3D?line=18'>19</a>\u001b[0m model \u001b[39m=\u001b[39m outlines\u001b[39m.\u001b[39;49mmodels\u001b[39m.\u001b[39;49mtransformers(\u001b[39m\"\u001b[39;49m\u001b[39mTheBloke/Mistral-7B-OpenOrca-AWQ\u001b[39;49m\u001b[39m\"\u001b[39;49m, device\u001b[39m=\u001b[39;49m\u001b[39m\"\u001b[39;49m\u001b[39mcuda\u001b[39;49m\u001b[39m\"\u001b[39;49m, model_kwargs\u001b[39m=\u001b[39;49m{\u001b[39m\"\u001b[39;49m\u001b[39mattn_implementation\u001b[39;49m\u001b[39m\"\u001b[39;49m:\u001b[39m\"\u001b[39;49m\u001b[39mflash_attention_2\u001b[39;49m\u001b[39m\"\u001b[39;49m})\n",
      "File \u001b[0;32m~/miniconda3/envs/ai/lib/python3.10/site-packages/outlines/models/transformers.py:220\u001b[0m, in \u001b[0;36mtransformers\u001b[0;34m(model_name, device, model_kwargs, tokenizer_kwargs)\u001b[0m\n\u001b[1;32m    217\u001b[0m \u001b[39mif\u001b[39;00m device \u001b[39mis\u001b[39;00m \u001b[39mnot\u001b[39;00m \u001b[39mNone\u001b[39;00m:\n\u001b[1;32m    218\u001b[0m     model_kwargs[\u001b[39m\"\u001b[39m\u001b[39mdevice_map\u001b[39m\u001b[39m\"\u001b[39m] \u001b[39m=\u001b[39m device\n\u001b[0;32m--> 220\u001b[0m model \u001b[39m=\u001b[39m AutoModelForCausalLM\u001b[39m.\u001b[39;49mfrom_pretrained(model_name, \u001b[39m*\u001b[39;49m\u001b[39m*\u001b[39;49mmodel_kwargs)\n\u001b[1;32m    221\u001b[0m tokenizer \u001b[39m=\u001b[39m TransformerTokenizer(model_name, \u001b[39m*\u001b[39m\u001b[39m*\u001b[39mtokenizer_kwargs)\n\u001b[1;32m    223\u001b[0m \u001b[39mreturn\u001b[39;00m Transformer(model, tokenizer)\n",
      "File \u001b[0;32m~/miniconda3/envs/ai/lib/python3.10/site-packages/transformers/models/auto/auto_factory.py:566\u001b[0m, in \u001b[0;36m_BaseAutoModelClass.from_pretrained\u001b[0;34m(cls, pretrained_model_name_or_path, *model_args, **kwargs)\u001b[0m\n\u001b[1;32m    564\u001b[0m \u001b[39melif\u001b[39;00m \u001b[39mtype\u001b[39m(config) \u001b[39min\u001b[39;00m \u001b[39mcls\u001b[39m\u001b[39m.\u001b[39m_model_mapping\u001b[39m.\u001b[39mkeys():\n\u001b[1;32m    565\u001b[0m     model_class \u001b[39m=\u001b[39m _get_model_class(config, \u001b[39mcls\u001b[39m\u001b[39m.\u001b[39m_model_mapping)\n\u001b[0;32m--> 566\u001b[0m     \u001b[39mreturn\u001b[39;00m model_class\u001b[39m.\u001b[39;49mfrom_pretrained(\n\u001b[1;32m    567\u001b[0m         pretrained_model_name_or_path, \u001b[39m*\u001b[39;49mmodel_args, config\u001b[39m=\u001b[39;49mconfig, \u001b[39m*\u001b[39;49m\u001b[39m*\u001b[39;49mhub_kwargs, \u001b[39m*\u001b[39;49m\u001b[39m*\u001b[39;49mkwargs\n\u001b[1;32m    568\u001b[0m     )\n\u001b[1;32m    569\u001b[0m \u001b[39mraise\u001b[39;00m \u001b[39mValueError\u001b[39;00m(\n\u001b[1;32m    570\u001b[0m     \u001b[39mf\u001b[39m\u001b[39m\"\u001b[39m\u001b[39mUnrecognized configuration class \u001b[39m\u001b[39m{\u001b[39;00mconfig\u001b[39m.\u001b[39m\u001b[39m__class__\u001b[39m\u001b[39m}\u001b[39;00m\u001b[39m for this kind of AutoModel: \u001b[39m\u001b[39m{\u001b[39;00m\u001b[39mcls\u001b[39m\u001b[39m.\u001b[39m\u001b[39m__name__\u001b[39m\u001b[39m}\u001b[39;00m\u001b[39m.\u001b[39m\u001b[39m\\n\u001b[39;00m\u001b[39m\"\u001b[39m\n\u001b[1;32m    571\u001b[0m     \u001b[39mf\u001b[39m\u001b[39m\"\u001b[39m\u001b[39mModel type should be one of \u001b[39m\u001b[39m{\u001b[39;00m\u001b[39m'\u001b[39m\u001b[39m, \u001b[39m\u001b[39m'\u001b[39m\u001b[39m.\u001b[39mjoin(c\u001b[39m.\u001b[39m\u001b[39m__name__\u001b[39m\u001b[39m \u001b[39m\u001b[39mfor\u001b[39;00m\u001b[39m \u001b[39mc\u001b[39m \u001b[39m\u001b[39min\u001b[39;00m\u001b[39m \u001b[39m\u001b[39mcls\u001b[39m\u001b[39m.\u001b[39m_model_mapping\u001b[39m.\u001b[39mkeys())\u001b[39m}\u001b[39;00m\u001b[39m.\u001b[39m\u001b[39m\"\u001b[39m\n\u001b[1;32m    572\u001b[0m )\n",
      "File \u001b[0;32m~/miniconda3/envs/ai/lib/python3.10/site-packages/transformers/modeling_utils.py:3456\u001b[0m, in \u001b[0;36mPreTrainedModel.from_pretrained\u001b[0;34m(cls, pretrained_model_name_or_path, config, cache_dir, ignore_mismatched_sizes, force_download, local_files_only, token, revision, use_safetensors, *model_args, **kwargs)\u001b[0m\n\u001b[1;32m   3453\u001b[0m     init_contexts\u001b[39m.\u001b[39mappend(init_empty_weights())\n\u001b[1;32m   3455\u001b[0m config \u001b[39m=\u001b[39m copy\u001b[39m.\u001b[39mdeepcopy(config)  \u001b[39m# We do not want to modify the config inplace in from_pretrained.\u001b[39;00m\n\u001b[0;32m-> 3456\u001b[0m config \u001b[39m=\u001b[39m \u001b[39mcls\u001b[39;49m\u001b[39m.\u001b[39;49m_autoset_attn_implementation(\n\u001b[1;32m   3457\u001b[0m     config, use_flash_attention_2\u001b[39m=\u001b[39;49muse_flash_attention_2, torch_dtype\u001b[39m=\u001b[39;49mtorch_dtype, device_map\u001b[39m=\u001b[39;49mdevice_map\n\u001b[1;32m   3458\u001b[0m )\n\u001b[1;32m   3460\u001b[0m \u001b[39mwith\u001b[39;00m ContextManagers(init_contexts):\n\u001b[1;32m   3461\u001b[0m     \u001b[39m# Let's make sure we don't run the init function of buffer modules\u001b[39;00m\n\u001b[1;32m   3462\u001b[0m     model \u001b[39m=\u001b[39m \u001b[39mcls\u001b[39m(config, \u001b[39m*\u001b[39mmodel_args, \u001b[39m*\u001b[39m\u001b[39m*\u001b[39mmodel_kwargs)\n",
      "File \u001b[0;32m~/miniconda3/envs/ai/lib/python3.10/site-packages/transformers/modeling_utils.py:1302\u001b[0m, in \u001b[0;36mPreTrainedModel._autoset_attn_implementation\u001b[0;34m(cls, config, use_flash_attention_2, torch_dtype, device_map, check_device_map)\u001b[0m\n\u001b[1;32m   1299\u001b[0m     config\u001b[39m.\u001b[39m_attn_implementation \u001b[39m=\u001b[39m \u001b[39m\"\u001b[39m\u001b[39mflash_attention_2\u001b[39m\u001b[39m\"\u001b[39m\n\u001b[1;32m   1301\u001b[0m \u001b[39mif\u001b[39;00m config\u001b[39m.\u001b[39m_attn_implementation \u001b[39m==\u001b[39m \u001b[39m\"\u001b[39m\u001b[39mflash_attention_2\u001b[39m\u001b[39m\"\u001b[39m:\n\u001b[0;32m-> 1302\u001b[0m     \u001b[39mcls\u001b[39;49m\u001b[39m.\u001b[39;49m_check_and_enable_flash_attn_2(\n\u001b[1;32m   1303\u001b[0m         config,\n\u001b[1;32m   1304\u001b[0m         torch_dtype\u001b[39m=\u001b[39;49mtorch_dtype,\n\u001b[1;32m   1305\u001b[0m         device_map\u001b[39m=\u001b[39;49mdevice_map,\n\u001b[1;32m   1306\u001b[0m         hard_check_only\u001b[39m=\u001b[39;49m\u001b[39mFalse\u001b[39;49;00m,\n\u001b[1;32m   1307\u001b[0m         check_device_map\u001b[39m=\u001b[39;49mcheck_device_map,\n\u001b[1;32m   1308\u001b[0m     )\n\u001b[1;32m   1309\u001b[0m \u001b[39melif\u001b[39;00m requested_attn_implementation \u001b[39min\u001b[39;00m [\u001b[39mNone\u001b[39;00m, \u001b[39m\"\u001b[39m\u001b[39msdpa\u001b[39m\u001b[39m\"\u001b[39m]:\n\u001b[1;32m   1310\u001b[0m     \u001b[39m# use_flash_attention_2 takes priority over SDPA, hence SDPA treated in this elif.\u001b[39;00m\n\u001b[1;32m   1311\u001b[0m     config \u001b[39m=\u001b[39m \u001b[39mcls\u001b[39m\u001b[39m.\u001b[39m_check_and_enable_sdpa(\n\u001b[1;32m   1312\u001b[0m         config, hard_check_only\u001b[39m=\u001b[39m\u001b[39mFalse\u001b[39;00m \u001b[39mif\u001b[39;00m requested_attn_implementation \u001b[39mis\u001b[39;00m \u001b[39mNone\u001b[39;00m \u001b[39melse\u001b[39;00m \u001b[39mTrue\u001b[39;00m\n\u001b[1;32m   1313\u001b[0m     )\n",
      "File \u001b[0;32m~/miniconda3/envs/ai/lib/python3.10/site-packages/transformers/modeling_utils.py:1392\u001b[0m, in \u001b[0;36mPreTrainedModel._check_and_enable_flash_attn_2\u001b[0;34m(cls, config, torch_dtype, device_map, check_device_map, hard_check_only)\u001b[0m\n\u001b[1;32m   1389\u001b[0m install_message \u001b[39m=\u001b[39m \u001b[39m\"\u001b[39m\u001b[39mPlease refer to the documentation of https://huggingface.co/docs/transformers/perf_infer_gpu_one#flashattention-2 to install Flash Attention 2.\u001b[39m\u001b[39m\"\u001b[39m\n\u001b[1;32m   1391\u001b[0m \u001b[39mif\u001b[39;00m importlib\u001b[39m.\u001b[39mutil\u001b[39m.\u001b[39mfind_spec(\u001b[39m\"\u001b[39m\u001b[39mflash_attn\u001b[39m\u001b[39m\"\u001b[39m) \u001b[39mis\u001b[39;00m \u001b[39mNone\u001b[39;00m:\n\u001b[0;32m-> 1392\u001b[0m     \u001b[39mraise\u001b[39;00m \u001b[39mImportError\u001b[39;00m(\u001b[39mf\u001b[39m\u001b[39m\"\u001b[39m\u001b[39m{\u001b[39;00mpreface\u001b[39m}\u001b[39;00m\u001b[39m the package flash_attn seems to be not installed. \u001b[39m\u001b[39m{\u001b[39;00minstall_message\u001b[39m}\u001b[39;00m\u001b[39m\"\u001b[39m)\n\u001b[1;32m   1394\u001b[0m flash_attention_version \u001b[39m=\u001b[39m version\u001b[39m.\u001b[39mparse(importlib\u001b[39m.\u001b[39mmetadata\u001b[39m.\u001b[39mversion(\u001b[39m\"\u001b[39m\u001b[39mflash_attn\u001b[39m\u001b[39m\"\u001b[39m))\n\u001b[1;32m   1395\u001b[0m \u001b[39mif\u001b[39;00m torch\u001b[39m.\u001b[39mversion\u001b[39m.\u001b[39mcuda:\n",
      "\u001b[0;31mImportError\u001b[0m: FlashAttention2 has been toggled on, but it cannot be used due to the following error: the package flash_attn seems to be not installed. Please refer to the documentation of https://huggingface.co/docs/transformers/perf_infer_gpu_one#flashattention-2 to install Flash Attention 2."
     ]
    }
   ],
   "source": [
    "import outlines\n",
    "from outlines.models.openai import OpenAIConfig\n",
    "from transformers import AwqConfig, AutoModelForCausalLM\n",
    "# quantization_config = AwqConfig(\n",
    "#     bits=4,\n",
    "#     fuse_max_seq_len=512,\n",
    "#     modules_to_fuse={\n",
    "#         \"attention\": [\"q_proj\", \"k_proj\", \"v_proj\", \"o_proj\"],\n",
    "#         \"layernorm\": [\"ln1\", \"ln2\", \"norm\"],\n",
    "#         \"mlp\": [\"gate_proj\", \"up_proj\", \"down_proj\"],\n",
    "#         \"use_alibi\": False,\n",
    "#         \"num_attention_heads\": 56,\n",
    "#         \"num_key_value_heads\": 8,\n",
    "#         \"hidden_size\": 7168\n",
    "#     }\n",
    "# )\n",
    "# from zmq import device\n",
    "\n",
    "model = outlines.models.transformers(\"TheBloke/Mistral-7B-OpenOrca-AWQ\", device=\"cuda\", model_kwargs={\"attn_implementation\":\"flash_attention_2\"})"
   ]
  },
  {
   "cell_type": "code",
   "execution_count": null,
   "metadata": {},
   "outputs": [
    {
     "ename": "NameError",
     "evalue": "name 'outlines' is not defined",
     "output_type": "error",
     "traceback": [
      "\u001b[0;31m---------------------------------------------------------------------------\u001b[0m",
      "\u001b[0;31mNameError\u001b[0m                                 Traceback (most recent call last)",
      "\u001b[1;32m/home/daniel/Documents/Github/autogoal-core/auto_dspy/test_notebook.ipynb Cell 12\u001b[0m line \u001b[0;36m3\n\u001b[1;32m      <a href='vscode-notebook-cell:/home/daniel/Documents/Github/autogoal-core/auto_dspy/test_notebook.ipynb#X14sZmlsZQ%3D%3D?line=0'>1</a>\u001b[0m schema \u001b[39m=\u001b[39m \u001b[39m'''\u001b[39m\u001b[39m{\u001b[39m\n\u001b[1;32m      <a href='vscode-notebook-cell:/home/daniel/Documents/Github/autogoal-core/auto_dspy/test_notebook.ipynb#X14sZmlsZQ%3D%3D?line=1'>2</a>\u001b[0m \u001b[39m    \u001b[39m\u001b[39m\"\u001b[39m\u001b[39mtitle\u001b[39m\u001b[39m\"\u001b[39m\u001b[39m: \u001b[39m\u001b[39m\"\u001b[39m\u001b[39mCharacter\u001b[39m\u001b[39m\"\u001b[39m\u001b[39m,\u001b[39m\n\u001b[1;32m      <a href='vscode-notebook-cell:/home/daniel/Documents/Github/autogoal-core/auto_dspy/test_notebook.ipynb#X14sZmlsZQ%3D%3D?line=2'>3</a>\u001b[0m \u001b[39m    \u001b[39m\u001b[39m\"\u001b[39m\u001b[39mtype\u001b[39m\u001b[39m\"\u001b[39m\u001b[39m: \u001b[39m\u001b[39m\"\u001b[39m\u001b[39mobject\u001b[39m\u001b[39m\"\u001b[39m\u001b[39m,\u001b[39m\n\u001b[0;32m   (...)\u001b[0m\n\u001b[1;32m     <a href='vscode-notebook-cell:/home/daniel/Documents/Github/autogoal-core/auto_dspy/test_notebook.ipynb#X14sZmlsZQ%3D%3D?line=34'>35</a>\u001b[0m \u001b[39m    }\u001b[39m\n\u001b[1;32m     <a href='vscode-notebook-cell:/home/daniel/Documents/Github/autogoal-core/auto_dspy/test_notebook.ipynb#X14sZmlsZQ%3D%3D?line=35'>36</a>\u001b[0m \u001b[39m}\u001b[39m\u001b[39m'''\u001b[39m\n\u001b[0;32m---> <a href='vscode-notebook-cell:/home/daniel/Documents/Github/autogoal-core/auto_dspy/test_notebook.ipynb#X14sZmlsZQ%3D%3D?line=37'>38</a>\u001b[0m generator \u001b[39m=\u001b[39m outlines\u001b[39m.\u001b[39mgenerate\u001b[39m.\u001b[39mjson(model, schema)\n\u001b[1;32m     <a href='vscode-notebook-cell:/home/daniel/Documents/Github/autogoal-core/auto_dspy/test_notebook.ipynb#X14sZmlsZQ%3D%3D?line=38'>39</a>\u001b[0m sequence \u001b[39m=\u001b[39m generator(\u001b[39m\"\u001b[39m\u001b[39mGive me a character description\u001b[39m\u001b[39m\"\u001b[39m, temperature\u001b[39m=\u001b[39m\u001b[39m0.0\u001b[39m)\n",
      "\u001b[0;31mNameError\u001b[0m: name 'outlines' is not defined"
     ]
    }
   ],
   "source": [
    "schema = '''{\n",
    "    \"title\": \"Character\",\n",
    "    \"type\": \"object\",\n",
    "    \"properties\": {\n",
    "        \"name\": {\n",
    "            \"title\": \"Name\",\n",
    "            \"maxLength\": 10,\n",
    "            \"type\": \"string\"\n",
    "        },\n",
    "        \"age\": {\n",
    "            \"title\": \"Age\",\n",
    "            \"type\": \"integer\"\n",
    "        },\n",
    "        \"armor\": {\"$ref\": \"#/definitions/Armor\"},\n",
    "        \"weapon\": {\"$ref\": \"#/definitions/Weapon\"},\n",
    "        \"strength\": {\n",
    "            \"title\": \"Strength\",\n",
    "            \"type\": \"integer\"\n",
    "        }\n",
    "    },\n",
    "    \"required\": [\"name\", \"age\", \"armor\", \"weapon\", \"strength\"],\n",
    "    \"definitions\": {\n",
    "        \"Armor\": {\n",
    "            \"title\": \"Armor\",\n",
    "            \"description\": \"An enumeration.\",\n",
    "            \"enum\": [\"leather\", \"chainmail\", \"plate\"],\n",
    "            \"type\": \"string\"\n",
    "        },\n",
    "        \"Weapon\": {\n",
    "            \"title\": \"Weapon\",\n",
    "            \"description\": \"An enumeration.\",\n",
    "            \"enum\": [\"sword\", \"axe\", \"mace\", \"spear\", \"bow\", \"crossbow\"],\n",
    "            \"type\": \"string\"\n",
    "        }\n",
    "    }\n",
    "}'''\n",
    "\n",
    "generator = outlines.generate.json(model, schema)\n",
    "sequence = generator(\"Give me a character description\", temperature=0.0)"
   ]
  },
  {
   "cell_type": "code",
   "execution_count": null,
   "metadata": {},
   "outputs": [
    {
     "ename": "ValueError",
     "evalue": "Cannot parse schema {'$defs': {'Armor': {'enum': ['leather', 'chainmail', 'plate'], 'title': 'Armor', 'type': 'string'}, 'Weapon': {'enum': ['sword', 'axe', 'mace', 'spear', 'bow', 'crossbow'], 'title': 'Weapon', 'type': 'string'}}, 'properties': {'name': {'title': 'Name', 'type': 'string'}, 'age': {'title': 'Age', 'type': 'integer'}, 'armor': {'$ref': '#/$defs/Armor'}, 'weapon': {'$ref': '#/$defs/Weapon'}, 'strength': {'title': 'Strength', 'type': 'integer'}}, 'required': ['name', 'age', 'armor', 'weapon', 'strength'], 'title': 'Character', 'type': 'object'}. The schema must be either a Pydantic object, a function or a string that contains the JSON Schema specification",
     "output_type": "error",
     "traceback": [
      "\u001b[0;31m---------------------------------------------------------------------------\u001b[0m",
      "\u001b[0;31mValueError\u001b[0m                                Traceback (most recent call last)",
      "\u001b[1;32m/home/daniel/Documents/Github/autogoal-core/auto_dspy/test_notebook.ipynb Cell 13\u001b[0m line \u001b[0;36m2\n\u001b[1;32m     <a href='vscode-notebook-cell:/home/daniel/Documents/Github/autogoal-core/auto_dspy/test_notebook.ipynb#X22sZmlsZQ%3D%3D?line=24'>25</a>\u001b[0m     strength: \u001b[39mint\u001b[39m\n\u001b[1;32m     <a href='vscode-notebook-cell:/home/daniel/Documents/Github/autogoal-core/auto_dspy/test_notebook.ipynb#X22sZmlsZQ%3D%3D?line=26'>27</a>\u001b[0m schema \u001b[39m=\u001b[39m Character\u001b[39m.\u001b[39mmodel_json_schema()\n\u001b[0;32m---> <a href='vscode-notebook-cell:/home/daniel/Documents/Github/autogoal-core/auto_dspy/test_notebook.ipynb#X22sZmlsZQ%3D%3D?line=28'>29</a>\u001b[0m generator \u001b[39m=\u001b[39m outlines\u001b[39m.\u001b[39;49mgenerate\u001b[39m.\u001b[39;49mjson(model, schema)\n\u001b[1;32m     <a href='vscode-notebook-cell:/home/daniel/Documents/Github/autogoal-core/auto_dspy/test_notebook.ipynb#X22sZmlsZQ%3D%3D?line=29'>30</a>\u001b[0m sequence \u001b[39m=\u001b[39m generator(\u001b[39m\"\u001b[39m\u001b[39mGive me a character description\u001b[39m\u001b[39m\"\u001b[39m)\n\u001b[1;32m     <a href='vscode-notebook-cell:/home/daniel/Documents/Github/autogoal-core/auto_dspy/test_notebook.ipynb#X22sZmlsZQ%3D%3D?line=30'>31</a>\u001b[0m sequence\n",
      "File \u001b[0;32m~/miniconda3/envs/ai/lib/python3.10/site-packages/outlines/generate/api.py:252\u001b[0m, in \u001b[0;36mjson\u001b[0;34m(model, schema_object, max_tokens, sampler)\u001b[0m\n\u001b[1;32m    250\u001b[0m     generator\u001b[39m.\u001b[39mformat_sequence \u001b[39m=\u001b[39m \u001b[39mlambda\u001b[39;00m x: pyjson\u001b[39m.\u001b[39mloads(x)\n\u001b[1;32m    251\u001b[0m \u001b[39melse\u001b[39;00m:\n\u001b[0;32m--> 252\u001b[0m     \u001b[39mraise\u001b[39;00m \u001b[39mValueError\u001b[39;00m(\n\u001b[1;32m    253\u001b[0m         \u001b[39mf\u001b[39m\u001b[39m\"\u001b[39m\u001b[39mCannot parse schema \u001b[39m\u001b[39m{\u001b[39;00mschema_object\u001b[39m}\u001b[39;00m\u001b[39m. The schema must be either \u001b[39m\u001b[39m\"\u001b[39m\n\u001b[1;32m    254\u001b[0m         \u001b[39m+\u001b[39m \u001b[39m\"\u001b[39m\u001b[39ma Pydantic object, a function or a string that contains the JSON \u001b[39m\u001b[39m\"\u001b[39m\n\u001b[1;32m    255\u001b[0m         \u001b[39m+\u001b[39m \u001b[39m\"\u001b[39m\u001b[39mSchema specification\u001b[39m\u001b[39m\"\u001b[39m\n\u001b[1;32m    256\u001b[0m     )\n\u001b[1;32m    258\u001b[0m \u001b[39mreturn\u001b[39;00m generator\n",
      "\u001b[0;31mValueError\u001b[0m: Cannot parse schema {'$defs': {'Armor': {'enum': ['leather', 'chainmail', 'plate'], 'title': 'Armor', 'type': 'string'}, 'Weapon': {'enum': ['sword', 'axe', 'mace', 'spear', 'bow', 'crossbow'], 'title': 'Weapon', 'type': 'string'}}, 'properties': {'name': {'title': 'Name', 'type': 'string'}, 'age': {'title': 'Age', 'type': 'integer'}, 'armor': {'$ref': '#/$defs/Armor'}, 'weapon': {'$ref': '#/$defs/Weapon'}, 'strength': {'title': 'Strength', 'type': 'integer'}}, 'required': ['name', 'age', 'armor', 'weapon', 'strength'], 'title': 'Character', 'type': 'object'}. The schema must be either a Pydantic object, a function or a string that contains the JSON Schema specification"
     ]
    }
   ],
   "source": [
    "from pydantic import BaseModel\n",
    "from enum import Enum\n",
    "from pydantic import BaseModel, constr\n",
    "\n",
    "\n",
    "class Weapon(str, Enum):\n",
    "    sword = \"sword\"\n",
    "    axe = \"axe\"\n",
    "    mace = \"mace\"\n",
    "    spear = \"spear\"\n",
    "    bow = \"bow\"\n",
    "    crossbow = \"crossbow\"\n",
    "\n",
    "\n",
    "class Armor(str, Enum):\n",
    "    leather = \"leather\"\n",
    "    chainmail = \"chainmail\"\n",
    "    plate = \"plate\"\n",
    "\n",
    "class Character(BaseModel):\n",
    "    name: str\n",
    "    age: int\n",
    "    armor: Armor\n",
    "    weapon: Weapon\n",
    "    strength: int\n",
    "\n",
    "schema = Character.model_json_schema()\n",
    "\n",
    "generator = outlines.generate.json(model, schema)\n",
    "sequence = generator(\"Give me a character description\")\n",
    "sequence\n"
   ]
  },
  {
   "cell_type": "code",
   "execution_count": null,
   "metadata": {},
   "outputs": [],
   "source": [
    "examples = [\n",
    "    (\"The food was digusting\", \"Negative\"),\n",
    "    (\"We had a fantastic night\", \"Positive\"),\n",
    "    (\"Recommended\", \"Positive\"),\n",
    "    (\"The waiter was rude\", \"Negative\")\n",
    "]\n",
    "\n",
    "@outlines.prompt\n",
    "def labelling(to_label, examples):\n",
    "    \"\"\"You are a sentiment-labelling assistant.\n",
    "\n",
    "    {% for example in examples %}\n",
    "    {{ example[0] }} // {{ example[1] }}\n",
    "    {% endfor %}\n",
    "    {{ to_label }} //\n",
    "    \"\"\"\n",
    "\n",
    "@outlines.prompt\n",
    "def example(name):\n",
    "    \"\"\"Give me a character description with the name: {{name}}\"\"\"\n",
    "\n",
    "prompt = example('Richard')\n",
    "# answer = outlines.generate.text(model)(prompt)\n",
    "sequence = generator(prompt)"
   ]
  },
  {
   "cell_type": "code",
   "execution_count": null,
   "metadata": {},
   "outputs": [],
   "source": [
    "prompt = \"\"\"You are a sentiment-labelling assistant.\n",
    "Is the following review positive or negative?\n",
    "\n",
    "Review: This restaurant is just awesome!\n",
    "\"\"\"\n",
    "answer = outlines.generate.choice(model, [\"Positive\", \"Negative\"])(prompt)"
   ]
  },
  {
   "cell_type": "code",
   "execution_count": null,
   "metadata": {},
   "outputs": [
    {
     "data": {
      "text/plain": [
       "'Positive'"
      ]
     },
     "execution_count": 12,
     "metadata": {},
     "output_type": "execute_result"
    }
   ],
   "source": [
    "answer"
   ]
  },
  {
   "cell_type": "code",
   "execution_count": null,
   "metadata": {},
   "outputs": [],
   "source": []
  }
 ],
 "metadata": {
  "kernelspec": {
   "display_name": "ai",
   "language": "python",
   "name": "python3"
  },
  "language_info": {
   "codemirror_mode": {
    "name": "ipython",
    "version": 3
   },
   "file_extension": ".py",
   "mimetype": "text/x-python",
   "name": "python",
   "nbconvert_exporter": "python",
   "pygments_lexer": "ipython3",
   "version": "3.10.13"
  }
 },
 "nbformat": 4,
 "nbformat_minor": 2
}
